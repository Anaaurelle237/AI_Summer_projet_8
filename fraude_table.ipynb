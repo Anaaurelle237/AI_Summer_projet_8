{
 "cells": [
  {
   "cell_type": "code",
   "execution_count": null,
   "id": "e3133cb8-91be-4dfa-8e51-3f0915af32b4",
   "metadata": {},
   "outputs": [],
   "source": [
    "#importation des bibliothèques \n",
    "import pandas as pd\n",
    "from faker import Faker \n",
    "import random \n",
    "import numpy as np \n",
    "#initialisation de faker \n",
    "fake = Faker()\n",
    "fake = Faker(\"fr_FR\")"
   ]
  },
  {
   "cell_type": "code",
   "execution_count": null,
   "id": "c1032aa4-32fc-4541-b630-a56ed7c99134",
   "metadata": {},
   "outputs": [],
   "source": [
    "#génération des données\n",
    "nb= 1000 # nombres de données à générer \n",
    "Data = {\n",
    "    \"Case_id\":[fake.pyint(min_value=1, max_value=10000) for i in range(nb)],\n",
    "    \"Transation_Id\":[fake.pyint(min_value=1, max_value=10000) for i in range(nb)],\n",
    "    \"Customer_Id\":[fake.pyint(min_value=1, max_value=10000) for i in range(nb)],\n",
    "    \"Type_Fraud\":[fake.random_element([\"dentity theft\",\" account takeover\"]) for i in range(nb)],\n",
    "    \"Resolution_statut\":[fake.random_element([\"pending\",\" resolved\"]) for i  in range(nb)],\n",
    "    \"Detection_Date\":[fake.date_between(start_date=\"-1y\",end_date=\"today\") for i in range(nb)],\n",
    "    \"Comments_Fraud\":[fake.text(500) for _ in range(nb)],\n",
    "        \n",
    "}"
   ]
  },
  {
   "cell_type": "code",
   "execution_count": null,
   "id": "f4d1c2b1-3075-4ae6-8ae0-58a52f8fb939",
   "metadata": {},
   "outputs": [],
   "source": [
    "#impression DataFrame\n",
    "df = pd.DataFrame(Data)    \n",
    "print(df)    \n",
    "df.to_csv(\"Frause_Casse.csv\", index=False)\n"
   ]
  }
 ],
 "metadata": {
  "kernelspec": {
   "display_name": "Python 3 (ipykernel)",
   "language": "python",
   "name": "python3"
  },
  "language_info": {
   "codemirror_mode": {
    "name": "ipython",
    "version": 3
   },
   "file_extension": ".py",
   "mimetype": "text/x-python",
   "name": "python",
   "nbconvert_exporter": "python",
   "pygments_lexer": "ipython3",
   "version": "3.12.4"
  }
 },
 "nbformat": 4,
 "nbformat_minor": 5
}
