{
 "cells": [
  {
   "cell_type": "markdown",
   "metadata": {},
   "source": [
    "# Import libraries"
   ]
  },
  {
   "cell_type": "code",
   "execution_count": null,
   "metadata": {},
   "outputs": [],
   "source": [
    "# ! pip install faker "
   ]
  },
  {
   "cell_type": "code",
   "execution_count": null,
   "metadata": {},
   "outputs": [],
   "source": [
    "import pandas as pd\n",
    "import numpy as np\n",
    "import random\n",
    "from faker import Faker\n",
    "from datetime import datetime, timedelta\n",
    "from uuid import uuid4\n",
    "from tqdm import tqdm\n",
    "from random import randint, uniform\n",
    "from faker.providers import BaseProvider\n",
    "import warnings\n",
    "warnings.simplefilter('ignore')"
   ]
  },
  {
   "cell_type": "code",
   "execution_count": null,
   "metadata": {},
   "outputs": [],
   "source": [
    "fake = Faker()\n",
    "start_date = datetime.strptime(\"2005-01-01\", \"%Y-%m-%d\")\n",
    "end_date = datetime.strptime(\"2023-12-31\", \"%Y-%m-%d\")"
   ]
  },
  {
   "cell_type": "code",
   "execution_count": null,
   "metadata": {},
   "outputs": [],
   "source": [
    "def generate_random_id():\n",
    "    return(uuid4().hex)"
   ]
  },
  {
   "cell_type": "markdown",
   "metadata": {},
   "source": [
    "# Data generation"
   ]
  },
  {
   "cell_type": "markdown",
   "metadata": {},
   "source": [
    "## Region"
   ]
  },
  {
   "cell_type": "code",
   "execution_count": 38,
   "metadata": {},
   "outputs": [
    {
     "name": "stdout",
     "output_type": "stream",
     "text": [
      "3\n",
      "(102, 11)\n"
     ]
    },
    {
     "data": {
      "text/html": [
       "<div>\n",
       "<style scoped>\n",
       "    .dataframe tbody tr th:only-of-type {\n",
       "        vertical-align: middle;\n",
       "    }\n",
       "\n",
       "    .dataframe tbody tr th {\n",
       "        vertical-align: top;\n",
       "    }\n",
       "\n",
       "    .dataframe thead th {\n",
       "        text-align: right;\n",
       "    }\n",
       "</style>\n",
       "<table border=\"1\" class=\"dataframe\">\n",
       "  <thead>\n",
       "    <tr style=\"text-align: right;\">\n",
       "      <th></th>\n",
       "      <th>city</th>\n",
       "      <th>city_ascii</th>\n",
       "      <th>lat</th>\n",
       "      <th>lng</th>\n",
       "      <th>country</th>\n",
       "      <th>iso2</th>\n",
       "      <th>iso3</th>\n",
       "      <th>admin_name</th>\n",
       "      <th>capital</th>\n",
       "      <th>population</th>\n",
       "      <th>id</th>\n",
       "    </tr>\n",
       "  </thead>\n",
       "  <tbody>\n",
       "    <tr>\n",
       "      <th>97</th>\n",
       "      <td>Douala</td>\n",
       "      <td>Douala</td>\n",
       "      <td>4.0500</td>\n",
       "      <td>9.7000</td>\n",
       "      <td>Cameroon</td>\n",
       "      <td>CM</td>\n",
       "      <td>CMR</td>\n",
       "      <td>Littoral</td>\n",
       "      <td>admin</td>\n",
       "      <td>5768400.0</td>\n",
       "      <td>1120494607</td>\n",
       "    </tr>\n",
       "    <tr>\n",
       "      <th>333</th>\n",
       "      <td>Yaoundé</td>\n",
       "      <td>Yaounde</td>\n",
       "      <td>3.8667</td>\n",
       "      <td>11.5167</td>\n",
       "      <td>Cameroon</td>\n",
       "      <td>CM</td>\n",
       "      <td>CMR</td>\n",
       "      <td>Centre</td>\n",
       "      <td>primary</td>\n",
       "      <td>2440462.0</td>\n",
       "      <td>1120298240</td>\n",
       "    </tr>\n",
       "    <tr>\n",
       "      <th>417</th>\n",
       "      <td>Bamenda</td>\n",
       "      <td>Bamenda</td>\n",
       "      <td>5.9614</td>\n",
       "      <td>10.1517</td>\n",
       "      <td>Cameroon</td>\n",
       "      <td>CM</td>\n",
       "      <td>CMR</td>\n",
       "      <td>North-West</td>\n",
       "      <td>admin</td>\n",
       "      <td>2000000.0</td>\n",
       "      <td>1120909610</td>\n",
       "    </tr>\n",
       "    <tr>\n",
       "      <th>1249</th>\n",
       "      <td>Garoua</td>\n",
       "      <td>Garoua</td>\n",
       "      <td>9.3000</td>\n",
       "      <td>13.4000</td>\n",
       "      <td>Cameroon</td>\n",
       "      <td>CM</td>\n",
       "      <td>CMR</td>\n",
       "      <td>Nord</td>\n",
       "      <td>admin</td>\n",
       "      <td>600000.0</td>\n",
       "      <td>1120803808</td>\n",
       "    </tr>\n",
       "    <tr>\n",
       "      <th>1250</th>\n",
       "      <td>Bafoussam</td>\n",
       "      <td>Bafoussam</td>\n",
       "      <td>5.4667</td>\n",
       "      <td>10.4167</td>\n",
       "      <td>Cameroon</td>\n",
       "      <td>CM</td>\n",
       "      <td>CMR</td>\n",
       "      <td>Ouest</td>\n",
       "      <td>admin</td>\n",
       "      <td>600000.0</td>\n",
       "      <td>1120435460</td>\n",
       "    </tr>\n",
       "  </tbody>\n",
       "</table>\n",
       "</div>"
      ],
      "text/plain": [
       "           city city_ascii     lat      lng   country iso2 iso3  admin_name  \\\n",
       "97       Douala     Douala  4.0500   9.7000  Cameroon   CM  CMR    Littoral   \n",
       "333     Yaoundé    Yaounde  3.8667  11.5167  Cameroon   CM  CMR      Centre   \n",
       "417     Bamenda    Bamenda  5.9614  10.1517  Cameroon   CM  CMR  North-West   \n",
       "1249     Garoua     Garoua  9.3000  13.4000  Cameroon   CM  CMR        Nord   \n",
       "1250  Bafoussam  Bafoussam  5.4667  10.4167  Cameroon   CM  CMR       Ouest   \n",
       "\n",
       "      capital  population          id  \n",
       "97      admin   5768400.0  1120494607  \n",
       "333   primary   2440462.0  1120298240  \n",
       "417     admin   2000000.0  1120909610  \n",
       "1249    admin    600000.0  1120803808  \n",
       "1250    admin    600000.0  1120435460  "
      ]
     },
     "execution_count": 38,
     "metadata": {},
     "output_type": "execute_result"
    }
   ],
   "source": [
    "world = pd.read_csv(\"../Data/worldcities.csv\")\n",
    "cameroon_cities = world[world['country']=='Cameroon']\n",
    "gabon_cities = world[world['country']=='Gabon'].iloc[:5]\n",
    "nigeria_cities = world[world['country']=='Nigeria'].iloc[:10]\n",
    "cities = pd.concat([cameroon_cities, gabon_cities] , ignore_index=True)\n",
    "cities = pd.concat([cities, nigeria_cities], ignore_index=True)\n",
    "print(cities.country.nunique())\n",
    "print(cities.shape)\n",
    "cities.head()\n",
    "\n",
    "\n",
    "cities.to_csv('../Data/Train/regions.csv', index=False)"
   ]
  },
  {
   "cell_type": "markdown",
   "metadata": {},
   "source": [
    "#### city repartition"
   ]
  },
  {
   "cell_type": "code",
   "execution_count": null,
   "metadata": {},
   "outputs": [],
   "source": [
    "# les villes les plus peuplés doivent avoir le plus de transaction\n",
    "\n",
    "city_top5 = cameroon_cities.head(5)\n",
    "city_top10 = cameroon_cities.head(10)"
   ]
  },
  {
   "cell_type": "markdown",
   "metadata": {},
   "source": [
    "## Customer data"
   ]
  },
  {
   "cell_type": "code",
   "execution_count": null,
   "metadata": {},
   "outputs": [],
   "source": [
    "from random import randint, uniform\n",
    "from faker.providers import BaseProvider\n",
    "\n",
    "class CameroonPhoneProvider(BaseProvider):\n",
    "    def phone_number(self):\n",
    "        \"\"\"Generates a fake Cameroon phone number in a random format.\"\"\"\n",
    "        formats = [\n",
    "            \"+237 65ABCDEFG\",\n",
    "            \"+237 67ABCDEFG\",\n",
    "            \"+237 68ABCDEFG\",\n",
    "            \"+237 69ABCDEFG\",\n",
    "        ]\n",
    "        format_str = formats[randint(0, len(formats) - 1)]\n",
    "        phone_number = format_str.replace(\"A\", str(randint(0, 9)))\n",
    "        phone_number = phone_number.replace(\"B\", str(randint(0, 9)))\n",
    "        phone_number = phone_number.replace(\"C\", str(randint(0, 9)))\n",
    "        phone_number = phone_number.replace(\"D\", str(randint(0, 9)))\n",
    "        phone_number = phone_number.replace(\"E\", str(randint(0, 9)))\n",
    "        phone_number = phone_number.replace(\"F\", str(randint(0, 9)))\n",
    "        phone_number = phone_number.replace(\"G\", str(randint(0, 9)))\n",
    "        return phone_number\n",
    "\n",
    "fake = Faker()\n",
    "fake.add_provider(CameroonPhoneProvider)\n",
    "\n",
    "cam_phone_number = fake.phone_number()\n",
    "print(cam_phone_number)"
   ]
  },
  {
   "cell_type": "code",
   "execution_count": null,
   "metadata": {},
   "outputs": [],
   "source": [
    "# création de la première partie du dataFrame avant d'ajouter la répartition selon les villes\n",
    "customers_list = []\n",
    "for i in tqdm(range(10000)):\n",
    "    first_name = fake.first_name()\n",
    "    last_name = fake.last_name()\n",
    "    domain = fake.domain_name()\n",
    "    email = f\"{first_name}.{last_name}@{domain}\"\n",
    "    phone_number = cam_phone_number\n",
    "    registration_date = fake.date_between(start_date, end_date)\n",
    "    date_of_birth = fake.date_of_birth(minimum_age=30, maximum_age=75)\n",
    "    address = fake.address()\n",
    "\n",
    "    data_dict = {\n",
    "        'customer_id' :generate_random_id(), \n",
    "        'first_name': first_name, \n",
    "        'last_name': last_name,\n",
    "        'email': email,\n",
    "        'phone_number': phone_number,\n",
    "        'registration_date': registration_date,\n",
    "        'date_of_birth' : date_of_birth,\n",
    "        'address': address,\n",
    "        }\n",
    "    customers_list.append(data_dict)\n",
    "customer_df = pd.DataFrame(customers_list)\n",
    "print(customer_df.shape)"
   ]
  },
  {
   "cell_type": "code",
   "execution_count": null,
   "metadata": {},
   "outputs": [],
   "source": [
    "# scinder le df pour attribuer le plus de population aux grandes villes\n",
    "customer_df_1 = customer_df.iloc[:4000]\n",
    "customer_df_2 = customer_df.iloc[4000:7000].reset_index().drop(columns=\"index\")\n",
    "customer_df_3 = customer_df.iloc[7000:].reset_index().drop(columns=\"index\")"
   ]
  },
  {
   "cell_type": "code",
   "execution_count": null,
   "metadata": {},
   "outputs": [],
   "source": [
    "city_1_list = []\n",
    "for cust in customer_df_1.iterrows():\n",
    "    city_1 = random.choice(list(city_top5.city))\n",
    "    city_1_dict = {\n",
    "        'city': city_1,\n",
    "        'region' : cameroon_cities[cameroon_cities.city == city_1]['admin_name'].iloc[0]\n",
    "    }\n",
    "    city_1_list.append(city_1_dict)\n",
    "customer_df_1[[\"city\", \"region\"]] = pd.DataFrame(city_1_list)\n",
    "customer_df_1.head()\n"
   ]
  },
  {
   "cell_type": "code",
   "execution_count": null,
   "metadata": {},
   "outputs": [],
   "source": [
    "city_2_list = []\n",
    "for cust in customer_df_2.iterrows():\n",
    "    city_2 = random.choice(list(city_top5.city))\n",
    "    city_2_dict = {\n",
    "        'city': city_2,\n",
    "        'region' : cameroon_cities[cameroon_cities.city == city_2]['admin_name'].iloc[0]\n",
    "    }\n",
    "    city_2_list.append(city_2_dict)\n",
    "customer_df_2[[\"city\", \"region\"]] = pd.DataFrame(city_2_list)\n",
    "customer_df_2.head()"
   ]
  },
  {
   "cell_type": "code",
   "execution_count": null,
   "metadata": {},
   "outputs": [],
   "source": [
    "city_3_list = []\n",
    "for cust in customer_df_3.iterrows():\n",
    "    city_3 = random.choice(list(cities.city))\n",
    "    city_3_dict = {\n",
    "        'city': city_3,\n",
    "        'region' : cities[cities.city == city_3]['admin_name'].iloc[0]\n",
    "    }\n",
    "    city_3_list.append(city_3_dict)\n",
    "customer_df_3[[\"city\", \"region\"]] = pd.DataFrame(city_3_list)\n",
    "customer_df_3.head()"
   ]
  },
  {
   "cell_type": "code",
   "execution_count": null,
   "metadata": {},
   "outputs": [],
   "source": [
    "customer_df_final = pd.concat([customer_df_1, customer_df_2, customer_df_3], axis=0)\n",
    "customer_df_final.head()"
   ]
  },
  {
   "cell_type": "code",
   "execution_count": null,
   "metadata": {},
   "outputs": [],
   "source": [
    "customer_df_final.to_csv('../Data/Train/customers.csv', index=False)"
   ]
  },
  {
   "cell_type": "markdown",
   "metadata": {},
   "source": [
    "## Device data"
   ]
  },
  {
   "cell_type": "code",
   "execution_count": null,
   "metadata": {
    "scrolled": true
   },
   "outputs": [],
   "source": [
    "\n",
    "#creation de id\n",
    "\n",
    "def create_id():\n",
    "    return str(uuid4())\n",
    "\n",
    "#creation des types d'appareils\n",
    "def generate_device_type():\n",
    "    return random.choice(['mobile', 'tablette'])\n",
    "\n",
    "#creation des os\n",
    "\n",
    "def generate_os():\n",
    "    return random.choice(['android', 'ios', 'mac', 'windows', 'linux'])\n",
    "\n",
    "#creation des fabricants\n",
    "manufacturer_and_model={\n",
    "                        'dell':['XPS 13', 'INSPIRON 15', 'LATITUDE 7410', 'PRECISION 5550'],\n",
    "                        'HP': ['spectre x360', 'envy 13', 'pavillon 15', 'OMEN 15'],\n",
    "                        'LG': ['spectre x3670', 'envy45','Gram 17', 'Wing 5G', ' NanoCell TV'],\n",
    "                        'SONY':['Xperia 1 III', 'Xperia 5 II', 'Bravia OLDE', 'VAIO SX14'],\n",
    "                        'Apple':['iphone 13', 'ipad pro', 'iphone Xr'],\n",
    "                        'Sharp':['Aquos R6', 'aquos sense 5g', ' dynabook v8']\n",
    "                        }\n",
    "#def generate_manufacturer():\n",
    "    #return random.choices(['dell', 'hp', 'lg', 'sony', 'apple', 'sharp', 'lenovo', 'acer', 'tecno','itel', 'huawei', 'samsung', 'google'])\n",
    "\n",
    "#creation des modeles\n",
    "\n",
    "def generate_model(type):\n",
    "    return random.choice(manufacturer_and_model[type])\n",
    "\n",
    "#creation de la table devices\n",
    "\n",
    "def create_devices_table(lenght= 100000):\n",
    "\n",
    "    devices= pd.DataFrame()\n",
    "\n",
    "    # les listes\n",
    "    device_id_list=[]\n",
    "    devices_type_list=[]\n",
    "    devices_manufacturer_list=[]\n",
    "    devices_model_list=[]\n",
    "    devices_last_used_list=[]\n",
    "    devices_os_list=[]\n",
    "\n",
    "    #generer les valeurs\n",
    "    for i in tqdm(range(lenght)):\n",
    "        devices_id=create_id()\n",
    "        devices_type= generate_device_type()\n",
    "        devices_last_used= fake.date_time_between(start_date= '-5y', end_date='now')\n",
    "        devices_os= generate_os()\n",
    "        devices_manufacturer= random.choice(list(manufacturer_and_model.keys()))\n",
    "        devices_model= generate_model(devices_manufacturer)\n",
    "\n",
    "        #ajout dans les listes\n",
    "        device_id_list.append(devices_id)\n",
    "        devices_type_list.append(devices_type)\n",
    "        devices_model_list.append( devices_model)\n",
    "        devices_manufacturer_list.append( devices_manufacturer)\n",
    "        devices_last_used_list.append(devices_last_used)\n",
    "        devices_os_list.append(devices_os)\n",
    "        \n",
    "     #assigner aux colonnes de la table devices\n",
    "    devices['device_id']= device_id_list\n",
    "    devices['device_type']= devices_type_list\n",
    "    devices['os']= devices_os_list\n",
    "    devices['manufacturer']= devices_manufacturer_list\n",
    "    devices['model']= devices_model_list\n",
    "    devices['last_used']= devices_last_used_list\n",
    "\n",
    "    return devices\n",
    "\n",
    "devices= create_devices_table()\n",
    "devices"
   ]
  },
  {
   "cell_type": "code",
   "execution_count": null,
   "metadata": {},
   "outputs": [],
   "source": [
    "devices.to_csv('../Data/Train/devices.csv', index=False)"
   ]
  },
  {
   "cell_type": "markdown",
   "metadata": {},
   "source": [
    "## Transaction data"
   ]
  },
  {
   "cell_type": "code",
   "execution_count": null,
   "metadata": {},
   "outputs": [],
   "source": [
    "location_list = list(cities.city)\n",
    "transaction_list=[]\n",
    "customer_id_list = list(customer_df_final[\"customer_id\"])\n",
    "\n",
    "def is_fraud_trans(status):\n",
    "    if status == \"échouée\":\n",
    "        return 1\n",
    "    # elif (amount >= 9500000 and transaction_type in [\"depôt\", \"transfert\"]) or (amount >= 10000000 and transaction_type == \"retrait\"):\n",
    "    #     return 1\n",
    "    else:\n",
    "        return 0\n",
    "\n",
    "for i in tqdm(range(100000)):\n",
    "    transaction_id = generate_random_id()\n",
    "    customer_id = random.choice(customer_id_list)\n",
    "    transaction_type = random.choices([\"retrait\", \"depôt\", \"transfert\"], weights=[0.25, 0.5, 0.25])[0] # liste pondérée\n",
    "    # amount = uniform(100, 10000000)\n",
    "    transaction_date = fake.date_between(start_date, end_date)\n",
    "    device_id = random.choice(list(devices[\"device_id\"]))\n",
    "    choices = [\"échouée\", \"réussie\"]\n",
    "    poids = [0.1, 0.9]\n",
    "    status = random.choices(choices, weights=poids)[0] # liste pondérée\n",
    "\n",
    "    transaction_dict = {\n",
    "        \"transaction_id\": transaction_id,\n",
    "        \"customer_id\": customer_id,\n",
    "        \"device_id\": device_id,\n",
    "        \"transaction_type\": transaction_type,\n",
    "        # \"amount\": amount,\n",
    "        \"transaction_date\": transaction_date,\n",
    "        \"status\": status,\n",
    "        \"is_fraud\": is_fraud_trans(status)\n",
    "    }\n",
    "\n",
    "    transaction_list.append(transaction_dict)\n",
    "\n",
    "transaction_df = pd.DataFrame(transaction_list)\n",
    "print(transaction_df.shape)\n",
    "transaction_df.head()"
   ]
  },
  {
   "cell_type": "code",
   "execution_count": null,
   "metadata": {},
   "outputs": [],
   "source": [
    "transaction_df_1 = transaction_df.iloc[:40000]\n",
    "transaction_df_2 = transaction_df.iloc[40000:70000].reset_index().drop(columns=\"index\")\n",
    "transaction_df_3 = transaction_df.iloc[70000:].reset_index().drop(columns=\"index\")"
   ]
  },
  {
   "cell_type": "code",
   "execution_count": null,
   "metadata": {},
   "outputs": [],
   "source": [
    "location_1_list = []\n",
    "for trans in transaction_df_1.iterrows():\n",
    "    location_1 = random.choice(list(city_top5.city))\n",
    "    location_1_dict = {\n",
    "        'location': location_1,\n",
    "    }\n",
    "    location_1_list.append(location_1_dict)\n",
    "transaction_df_1[[\"location\"]] = pd.DataFrame(location_1_list)\n",
    "print(transaction_df_1.isna().sum())\n",
    "print(\"\\n------------------------------------------------\\n\")\n"
   ]
  },
  {
   "cell_type": "code",
   "execution_count": null,
   "metadata": {},
   "outputs": [],
   "source": [
    "location_2_list = []\n",
    "for trans in transaction_df_2.iterrows():\n",
    "    location_2 = random.choice(list(city_top10.city))\n",
    "    location_2_dict = {\n",
    "        'location': location_2,\n",
    "    }\n",
    "    location_2_list.append(location_2_dict)\n",
    "transaction_df_2[[\"location\"]] = pd.DataFrame(location_2_list)\n",
    "print(transaction_df_2.isna().sum())\n",
    "print(\"\\n------------------------------------------------\\n\")"
   ]
  },
  {
   "cell_type": "code",
   "execution_count": null,
   "metadata": {},
   "outputs": [],
   "source": [
    "location_3_list = []\n",
    "for trans in transaction_df_3.iterrows():\n",
    "    location_3 = random.choice(list(cities.city))\n",
    "    location_3_dict = {\n",
    "        'location': location_3,\n",
    "    }\n",
    "    location_3_list.append(location_3_dict)\n",
    "transaction_df_3[[\"location\"]] = pd.DataFrame(location_3_list)\n",
    "print(transaction_df_3.isna().sum())\n",
    "print(\"\\n------------------------------------------------\\n\")"
   ]
  },
  {
   "cell_type": "code",
   "execution_count": null,
   "metadata": {},
   "outputs": [],
   "source": [
    "transaction_df_final = pd.concat([transaction_df_1, transaction_df_2, transaction_df_3])\n",
    "transaction_df_final.shape "
   ]
  },
  {
   "cell_type": "code",
   "execution_count": null,
   "metadata": {},
   "outputs": [],
   "source": [
    "transaction_df_final.isna().sum()"
   ]
  },
  {
   "cell_type": "markdown",
   "metadata": {},
   "source": [
    "#### location_fraud"
   ]
  },
  {
   "cell_type": "code",
   "execution_count": null,
   "metadata": {},
   "outputs": [],
   "source": [
    "is_fraud_list = []\n",
    "for transaction in tqdm(transaction_df_final.iterrows()):\n",
    "    if transaction[1]['location'] not in list(cameroon_cities.city):\n",
    "        is_fraud_list.append({'is_fraud':1})\n",
    "    else:\n",
    "        is_fraud_list.append({'is_fraud':transaction[1]['is_fraud']})\n",
    "transaction_df_final[['is_fraud']] = pd.DataFrame(is_fraud_list)\n",
    "transaction_df_final.head()"
   ]
  },
  {
   "cell_type": "markdown",
   "metadata": {},
   "source": [
    "### device_fraud"
   ]
  },
  {
   "cell_type": "code",
   "execution_count": null,
   "metadata": {},
   "outputs": [],
   "source": [
    "selection = pd.DataFrame(transaction_df_final.device_id.value_counts()>=3).reset_index()\n",
    "device_fraud = list(selection[selection['count']].device_id)\n",
    "is_fraud_list = []\n",
    "for transaction in tqdm(transaction_df_final.iterrows()):\n",
    "    if transaction[1]['device_id'] in device_fraud:\n",
    "        is_fraud_list.append({'is_fraud':1})\n",
    "    else:\n",
    "        is_fraud_list.append({'is_fraud':transaction[1]['is_fraud']})\n",
    "transaction_df_final[['is_fraud']] = pd.DataFrame(is_fraud_list)\n",
    "transaction_df_final.head()"
   ]
  },
  {
   "cell_type": "code",
   "execution_count": null,
   "metadata": {},
   "outputs": [],
   "source": [
    "lignes = transaction_df_final.to_numpy().tolist()\n",
    "random.shuffle(lignes)\n",
    "lignes[:5]"
   ]
  },
  {
   "cell_type": "code",
   "execution_count": null,
   "metadata": {},
   "outputs": [],
   "source": [
    "df = pd.DataFrame(lignes, columns=transaction_df_final.columns)\n",
    "transaction_df_1 = df.iloc[:70000]\n",
    "transaction_df_2 = df.iloc[70000:95000].reset_index().drop(columns=\"index\")\n",
    "transaction_df_3 = df.iloc[95000:].reset_index().drop(columns=\"index\")\n",
    "\n",
    "list_transac_1 = []\n",
    "for transac in transaction_df_1.iterrows():\n",
    "    list_transac_1.append(uniform(100, 100000))\n",
    "transaction_df_1[\"amount\"] = list_transac_1\n",
    "\n",
    "list_transac_2 = []\n",
    "for transac in transaction_df_2.iterrows():\n",
    "    list_transac_2.append(uniform(100000, 1000000))\n",
    "transaction_df_2[\"amount\"] = list_transac_2\n",
    "\n",
    "list_transac_3 = []\n",
    "for transac in transaction_df_3.iterrows():\n",
    "    list_transac_3.append(uniform(1000000, 10000000))\n",
    "transaction_df_3[\"amount\"] = list_transac_3"
   ]
  },
  {
   "cell_type": "code",
   "execution_count": null,
   "metadata": {},
   "outputs": [],
   "source": [
    "transaction_df_final = pd.concat([transaction_df_1, transaction_df_2, transaction_df_3])\n",
    "transaction_df_final.head()"
   ]
  },
  {
   "cell_type": "code",
   "execution_count": null,
   "metadata": {},
   "outputs": [],
   "source": [
    "is_fraud_list = []\n",
    "for transaction in tqdm(transaction_df_final.iterrows()):\n",
    "    if transaction[1]['amount'] >= 7000000:\n",
    "        is_fraud_list.append({'is_fraud':1})\n",
    "    else:\n",
    "        is_fraud_list.append({'is_fraud':transaction[1]['is_fraud']})\n",
    "transaction_df_final[['is_fraud']] = pd.DataFrame(is_fraud_list)\n",
    "transaction_df_final.head()"
   ]
  },
  {
   "cell_type": "code",
   "execution_count": null,
   "metadata": {},
   "outputs": [],
   "source": [
    "transaction_df_final.is_fraud.value_counts()"
   ]
  },
  {
   "cell_type": "code",
   "execution_count": null,
   "metadata": {},
   "outputs": [],
   "source": [
    "import seaborn as sns\n",
    "sns.countplot(transaction_df_final, x='is_fraud')"
   ]
  },
  {
   "cell_type": "code",
   "execution_count": null,
   "metadata": {},
   "outputs": [],
   "source": [
    "transaction_df_final.to_csv('../Data/Train/transactions.csv', index=False)"
   ]
  },
  {
   "cell_type": "markdown",
   "metadata": {},
   "source": [
    "## Transaction history data"
   ]
  },
  {
   "cell_type": "code",
   "execution_count": null,
   "metadata": {},
   "outputs": [],
   "source": [
    "transaction_history_list = []\n",
    "\n",
    "for i, transaction in tqdm(transaction_df_final.iterrows()):\n",
    "    history_id = generate_random_id()\n",
    "    customer_id = transaction.customer_id\n",
    "    transaction_id = transaction.transaction_id\n",
    "    previous_balance = transaction.amount + uniform(0, 10000000)\n",
    "\n",
    "    if transaction.transaction_type == \"depôt\":\n",
    "        new_balance = previous_balance + transaction.amount\n",
    "    else:\n",
    "        new_balance = previous_balance - transaction.amount\n",
    "        \n",
    "    transaction_date = transaction.transaction_date\n",
    "\n",
    "    transaction_history_dict = {\n",
    "        \"history_id\" : history_id,\n",
    "        \"customer_id\" : customer_id,\n",
    "        \"transaction_id\" : transaction_id,\n",
    "        \"previous_balance\" : previous_balance,\n",
    "        \"new_balance\" : new_balance,\n",
    "        \"transaction_date\": transaction_date\n",
    "    }\n",
    "    transaction_history_list.append(transaction_history_dict)\n",
    "\n",
    "transaction_history_df = pd.DataFrame(transaction_history_list)\n",
    "print(transaction_history_df.shape)\n",
    "transaction_history_df.head()"
   ]
  },
  {
   "cell_type": "code",
   "execution_count": null,
   "metadata": {},
   "outputs": [],
   "source": [
    "transaction_history_df.to_csv('../Data/Train/transaction_history.csv', index=False)"
   ]
  },
  {
   "cell_type": "markdown",
   "metadata": {},
   "source": [
    "## Transaction pattern data"
   ]
  },
  {
   "cell_type": "code",
   "execution_count": null,
   "metadata": {},
   "outputs": [],
   "source": [
    "customer_id_list = customer_df[\"customer_id\"]\n",
    "print(customer_id_list)"
   ]
  },
  {
   "cell_type": "code",
   "execution_count": null,
   "metadata": {},
   "outputs": [],
   "source": [
    "import numpy as np\n",
    "import pandas as  pd \n",
    "import random\n",
    "from faker import Faker\n",
    "from uuid import uuid4\n",
    "from tqdm import tqdm\n",
    "\n",
    "faker= Faker()\n",
    "\n",
    "# Fonction pour générer un identifiant unique\n",
    "def create_id():\n",
    "    return str(uuid4())\n",
    "\n",
    "# Fonction pour générer un montant moyen aléatoire\n",
    "def generate_average_amount():\n",
    "    return round(random.uniform(5.0, 1000.0), 2)\n",
    "\n",
    "# Fonction pour générer une fréquence de transactions aléatoire\n",
    "def generate_frequency():\n",
    "    return random.randint(1, 30)\n",
    "\n",
    "# Fonction pour générer une localisation fréquente aléatoire\n",
    "def generate_most_common_location():\n",
    "    return faker.city()\n",
    "\n",
    "# Fonction pour générer un appareil le plus utilisé aléatoire\n",
    "def generate_most_common_device():\n",
    "    return random.choice(['mobile', 'tablette'])\n",
    "\n",
    "# Fonction pour créer une table de transaction patterns\n",
    "def create_transaction_patterns_table(length=100000):\n",
    "\n",
    "    transaction_patterns = pd.DataFrame()\n",
    "\n",
    "    # Les listes\n",
    "    pattern_id_list = []\n",
    "    customer_id_list = customer_df[\"customer_id\"].tolist()\n",
    "    average_amount_list = []\n",
    "    frequency_list = []\n",
    "    most_common_location_list = []\n",
    "    most_common_device_list = []\n",
    "    foreign_key_list=[]  # liste des cles etrangeres qui seront aleatoirement choisies\n",
    "\n",
    "    # Générer les valeurs\n",
    "    for i in tqdm(range(length)):\n",
    "        pattern_id = create_id()\n",
    "        customer_id = random.choice(customer_id_list) \n",
    "        average_amount = generate_average_amount()\n",
    "        frequency = generate_frequency()\n",
    "        most_common_location = generate_most_common_location()\n",
    "        most_common_device = generate_most_common_device()\n",
    "\n",
    "        # Ajouter dans les listes\n",
    "        pattern_id_list.append(pattern_id)\n",
    "        foreign_key_list.append(customer_id)\n",
    "        average_amount_list.append(average_amount)\n",
    "        frequency_list.append(frequency)\n",
    "        most_common_location_list.append(most_common_location)\n",
    "        most_common_device_list.append(most_common_device)\n",
    "    \n",
    "    # Assigner aux colonnes de la table transaction patterns (en dehors de la boucle)\n",
    "    transaction_patterns['pattern_id'] = pattern_id_list\n",
    "    transaction_patterns['customer_id'] = foreign_key_list\n",
    "    transaction_patterns['average_amount'] = average_amount_list\n",
    "    transaction_patterns['frequency'] = frequency_list\n",
    "    transaction_patterns['most_common_location'] = most_common_location_list\n",
    "    transaction_patterns['most_common_device'] = most_common_device_list\n",
    "\n",
    "    return transaction_patterns\n",
    "\n",
    "# Créer une table de transaction patterns\n",
    "transaction_patterns = create_transaction_patterns_table()\n",
    "\n",
    "# Afficher les premières lignes de la table transaction patterns\n",
    "transaction_patterns\n"
   ]
  },
  {
   "cell_type": "code",
   "execution_count": null,
   "metadata": {},
   "outputs": [],
   "source": [
    "transaction_patterns.to_csv('../Data/Train/transaction_patterns.csv', index=False)"
   ]
  },
  {
   "cell_type": "markdown",
   "metadata": {},
   "source": [
    "## alerts data"
   ]
  },
  {
   "cell_type": "code",
   "execution_count": null,
   "metadata": {},
   "outputs": [],
   "source": [
    "# Fonction pour générer un identifiant unique\n",
    "def create_id():\n",
    "    return str(uuid4())\n",
    "\n",
    "# Fonction pour générer une date et heure aléatoire\n",
    "def generate_alert_date():\n",
    "    return faker.date_time_between(start_date='-5y', end_date='now')\n",
    "\n",
    "# Fonction pour générer un type d'alerte aléatoire\n",
    "def generate_alert_type():\n",
    "    return random.choice(['suspicious activity', 'large transaction'])\n",
    "\n",
    "# Fonction pour générer un statut d'alerte aléatoire\n",
    "def generate_alert_status():\n",
    "    return random.choice(['open', 'closed'])\n",
    "\n",
    "# Fonction pour générer une description d'alerte aléatoire\n",
    "def generate_description():\n",
    "    return faker.text(max_nb_chars=250)\n",
    "\n",
    "# Fonction pour créer une table d'alertes\n",
    "def create_alerts_table(length=100):\n",
    "\n",
    "    alerts = pd.DataFrame()\n",
    "\n",
    "    # Les listes\n",
    "    alert_id_list = []\n",
    "    transaction_id_list = transaction_df[\"customer_id\"].tolist()\n",
    "    alert_date_list = []\n",
    "    alert_type_list = []\n",
    "    alert_status_list = []\n",
    "    description_list = []\n",
    "    foreign_key_alerts_list=[]\n",
    "\n",
    "    # Générer les valeurs\n",
    "    for i in tqdm(range(length)):\n",
    "        alert_id = create_id()\n",
    "        transaction_id = random.choice(transaction_id_list) # Remplacer par un identifiant de transaction réel si disponible\n",
    "        alert_date = generate_alert_date()\n",
    "        alert_type = generate_alert_type()\n",
    "        alert_status = generate_alert_status()\n",
    "        description = generate_description()\n",
    "\n",
    "        # Ajouter dans les listes\n",
    "        alert_id_list.append(alert_id)\n",
    "        foreign_key_alerts_list.append(transaction_id)\n",
    "        alert_date_list.append(alert_date)\n",
    "        alert_type_list.append(alert_type)\n",
    "        alert_status_list.append(alert_status)\n",
    "        description_list.append(description)\n",
    "    \n",
    "    # Assigner aux colonnes de la table alerts (en dehors de la boucle)\n",
    "    alerts['alert_id'] = alert_id_list\n",
    "    alerts['transaction_id'] = foreign_key_alerts_list\n",
    "    alerts['alert_date'] = alert_date_list\n",
    "    alerts['alert_type'] = alert_type_list\n",
    "    alerts['alert_status'] = alert_status_list\n",
    "    alerts['description'] = description_list\n",
    "\n",
    "    return alerts\n",
    "\n",
    "# Créer une table d'alertes\n",
    "alerts = create_alerts_table()\n",
    "\n",
    "# Afficher les premières lignes de la table alerts\n",
    "alerts"
   ]
  },
  {
   "cell_type": "code",
   "execution_count": null,
   "metadata": {},
   "outputs": [],
   "source": [
    "alerts.to_csv('../Data/Train/alerts.csv', index=False)"
   ]
  },
  {
   "cell_type": "markdown",
   "metadata": {},
   "source": [
    "## fraude_cases data "
   ]
  },
  {
   "cell_type": "code",
   "execution_count": null,
   "metadata": {},
   "outputs": [],
   "source": [
    "from tqdm import tqdm\n",
    "import pandas as pd\n",
    "import numpy as np\n",
    "import random\n",
    "import uuid \n",
    "from faker import Faker\n",
    "from datetime import datetime, timedelta\n"
   ]
  },
  {
   "cell_type": "code",
   "execution_count": null,
   "metadata": {},
   "outputs": [],
   "source": [
    "\n",
    "\n",
    "def generate_ID():\n",
    "  return str(uuid.uuid1())\n",
    "\n",
    "\n",
    "    \n",
    "transaction_id_list = transaction_df[\"transaction_id\"].tolist()\n",
    "customer_id_list = customer_df[\"customer_id\"].tolist()\n",
    "                         \n",
    "    \n",
    "    \n"
   ]
  },
  {
   "cell_type": "code",
   "execution_count": null,
   "metadata": {},
   "outputs": [],
   "source": [
    "nb = 1000\n",
    "generate_id_case = [generate_ID() for i in tqdm(range(nb))]\n",
    "generate_id_transaction = [random.choice([transaction_id_list]) for i in tqdm(range(nb))]\n",
    "generate_id_customer = [random.choice(customer_id_list) for i in tqdm(range(nb))]\n",
    "\n",
    "#generation des données \n",
    "Data = {\n",
    "  \"case_id\" : generate_id_case,\n",
    "  \"transaction_id\" : generate_id_transaction,\n",
    "  \"customer_id\" : generate_id_customer,\n",
    "  \"fraud_type\" :[random.choice([\"identity theft\",\" account takeover\"]) for i in tqdm(range(nb))],\n",
    "  \"detection_Date\" : [fake.date_between(start_date, end_date) for i in tqdm(range(nb))],\n",
    "  \"resolution_status\" : [random.choice([\"pending\", \"resolved\"]) for i in tqdm(range(nb))],\n",
    "  \"comment_fraud\" : [ fake.text(50) for i in tqdm(range(nb))],\n",
    "}\n"
   ]
  },
  {
   "cell_type": "code",
   "execution_count": null,
   "metadata": {},
   "outputs": [],
   "source": [
    "fraud_df = pd.DataFrame(Data)\n",
    "print(fraud_df.shape)\n",
    "fraud_df.head()\n"
   ]
  },
  {
   "cell_type": "markdown",
   "metadata": {},
   "source": [
    "## regions data"
   ]
  },
  {
   "cell_type": "code",
   "execution_count": 37,
   "metadata": {},
   "outputs": [
    {
     "name": "stderr",
     "output_type": "stream",
     "text": [
      "C:\\Users\\hp\\AppData\\Local\\Temp\\ipykernel_14552\\3000205507.py:7: SettingWithCopyWarning: \n",
      "A value is trying to be set on a copy of a slice from a DataFrame\n",
      "\n",
      "See the caveats in the documentation: https://pandas.pydata.org/pandas-docs/stable/user_guide/indexing.html#returning-a-view-versus-a-copy\n",
      "  region_data.rename(columns={'id':'region_id', 'city':'region_name' }, inplace=True)\n",
      "C:\\Users\\hp\\AppData\\Local\\Temp\\ipykernel_14552\\3000205507.py:8: SettingWithCopyWarning: \n",
      "A value is trying to be set on a copy of a slice from a DataFrame.\n",
      "Try using .loc[row_indexer,col_indexer] = value instead\n",
      "\n",
      "See the caveats in the documentation: https://pandas.pydata.org/pandas-docs/stable/user_guide/indexing.html#returning-a-view-versus-a-copy\n",
      "  region_data.region_id =region_data.region_id.apply(lambda x : str(uuid4()))\n"
     ]
    }
   ],
   "source": []
  },
  {
   "cell_type": "code",
   "execution_count": null,
   "metadata": {},
   "outputs": [],
   "source": []
  }
 ],
 "metadata": {
  "kernelspec": {
   "display_name": "Python 3 (ipykernel)",
   "language": "python",
   "name": "python3"
  },
  "language_info": {
   "codemirror_mode": {
    "name": "ipython",
    "version": 3
   },
   "file_extension": ".py",
   "mimetype": "text/x-python",
   "name": "python",
   "nbconvert_exporter": "python",
   "pygments_lexer": "ipython3",
   "version": "3.10.7"
  }
 },
 "nbformat": 4,
 "nbformat_minor": 4
}
