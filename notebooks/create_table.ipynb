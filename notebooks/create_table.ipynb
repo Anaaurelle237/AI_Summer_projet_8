{
 "cells": [
  {
   "cell_type": "markdown",
   "metadata": {},
   "source": [
    "# Import libraries"
   ]
  },
  {
   "cell_type": "code",
   "execution_count": null,
   "metadata": {},
   "outputs": [],
   "source": []
  },
  {
   "cell_type": "code",
   "execution_count": null,
   "metadata": {},
   "outputs": [],
   "source": [
    "# ! pip install faker"
   ]
  },
  {
   "cell_type": "code",
   "execution_count": null,
   "metadata": {},
   "outputs": [],
   "source": [
    "import pandas as pd\n",
    "import numpy as np\n",
    "import random\n",
    "\n",
    "from faker import Faker\n",
    "from datetime import datetime, timedelta\n",
    "from uuid import uuid4\n",
    "from tqdm import tqdm\n",
    "from random import randint, uniform\n",
    "from faker.providers import BaseProvider\n",
    "import seaborn as sns\n",
    "from random import randint, uniform\n",
    "from faker.providers import BaseProvider\n",
    "import matplotlib.pyplot as plt "
   ]
  },
  {
   "cell_type": "code",
   "execution_count": null,
   "metadata": {},
   "outputs": [],
   "source": [
    "faker = Faker()\n",
    "start_date = datetime.strptime(\"2005-01-01\", \"%Y-%m-%d\")\n",
    "end_date = datetime.strptime(\"2023-12-31\", \"%Y-%m-%d\")"
   ]
  },
  {
   "cell_type": "code",
   "execution_count": null,
   "metadata": {},
   "outputs": [],
   "source": [
    "def generate_random_id():\n",
    "    return(uuid4().hex)"
   ]
  },
  {
   "cell_type": "markdown",
   "metadata": {},
   "source": [
    "# Data generation"
   ]
  },
  {
   "cell_type": "code",
   "execution_count": null,
   "metadata": {},
   "outputs": [],
   "source": [
    "world = pd.read_csv(\"../Data/worldcities.csv\")\n",
    "cameroon_cities = world[world['country']=='Cameroon']\n",
    "gabon_cities = world[world['country']=='Gabon'].iloc[:5]\n",
    "nigeria_cities = world[world['country']=='Nigeria'].iloc[:10]\n",
    "cities = pd.concat([cameroon_cities, gabon_cities] , ignore_index=True)\n",
    "cities = pd.concat([cities, nigeria_cities], ignore_index=True)\n",
    "print(cities.country.nunique())\n",
    "print(cities.shape)\n",
    "cities.head()"
   ]
  },
  {
   "cell_type": "markdown",
   "metadata": {},
   "source": [
    "### city repartition\n"
   ]
  },
  {
   "cell_type": "code",
   "execution_count": null,
   "metadata": {},
   "outputs": [],
   "source": [
    "# les villes les plus peuplés doivent avoir le plus de transaction\n",
    "\n",
    "city_top5 = cameroon_cities.head(5)\n",
    "city_top10 = cameroon_cities.head(10)"
   ]
  },
  {
   "cell_type": "markdown",
   "metadata": {},
   "source": [
    "# Region\n"
   ]
  },
  {
   "cell_type": "code",
   "execution_count": null,
   "metadata": {},
   "outputs": [],
   "source": [
    "def create_id():\n",
    "    return uuid4\n",
    "\n",
    "\n",
    "country_and_regions={\n",
    "                        'cameroun':['centre', 'ouest', 'sud', 'est'],\n",
    "                        'USA': ['indiana', 'kentucky', 'new york', 'ohio', 'alaska'],\n",
    "                        'france': ['occitanie', 'ile-de-france','Nouvelle-Aquitaine'],\n",
    "                        'canada':['ontario', 'quebec', 'alberta',]\n",
    "                        }\n",
    "    \n",
    "def create_region(country_name):\n",
    "    return random.choice(country_and_regions[country_name])\n",
    "\n",
    "print(create_region('france'))"
   ]
  },
  {
   "cell_type": "code",
   "execution_count": null,
   "metadata": {},
   "outputs": [],
   "source": [
    "def create_regions_table(lenght=10):\n",
    "\n",
    "    regions=pd.DataFrame()\n",
    "\n",
    "\n",
    "    region_id_list=[]\n",
    "    region_name_list=[]\n",
    "    country_list=[]\n",
    "\n",
    "    for i in tqdm(range(lenght)):\n",
    "\n",
    "        region_id= create_id()\n",
    "        country= random.choice(list(country_and_regions.keys()))\n",
    "        region_name= create_region(country)\n",
    "\n",
    "        region_id_list.append(region_id)\n",
    "        country_list.append(country)\n",
    "        region_name_list.append(region_name)\n",
    "\n",
    "\n",
    "    regions['region_id']=region_id_list\n",
    "    regions['region_name']=region_name_list\n",
    "    regions['country']=country_list\n",
    "\n",
    "    return regions\n",
    "\n",
    "regions= create_regions_table()\n",
    "regions"
   ]
  },
  {
   "cell_type": "code",
   "execution_count": null,
   "metadata": {},
   "outputs": [],
   "source": [
    "regions.to_csv('../Data/Train/regions.csv', index=False)"
   ]
  },
  {
   "cell_type": "markdown",
   "metadata": {},
   "source": [
    "## Customer data"
   ]
  },
  {
   "cell_type": "code",
   "execution_count": null,
   "metadata": {},
   "outputs": [],
   "source": [
    "\n",
    "\n",
    "class CameroonPhoneProvider(BaseProvider):\n",
    "    def phone_number(self):\n",
    "        \"\"\"Generates a faker Cameroon phone number in a random format.\"\"\"\n",
    "        formats = [\n",
    "            \"+237 65ABCDEFG\",\n",
    "            \"+237 67ABCDEFG\",\n",
    "            \"+237 68ABCDEFG\",\n",
    "            \"+237 69ABCDEFG\",\n",
    "        ]\n",
    "        format_str = formats[randint(0, len(formats) - 1)]\n",
    "        phone_number = format_str.replace(\"A\", str(randint(0, 9)))\n",
    "        phone_number = phone_number.replace(\"B\", str(randint(0, 9)))\n",
    "        phone_number = phone_number.replace(\"C\", str(randint(0, 9)))\n",
    "        phone_number = phone_number.replace(\"D\", str(randint(0, 9)))\n",
    "        phone_number = phone_number.replace(\"E\", str(randint(0, 9)))\n",
    "        phone_number = phone_number.replace(\"F\", str(randint(0, 9)))\n",
    "        phone_number = phone_number.replace(\"G\", str(randint(0, 9)))\n",
    "        return phone_number\n",
    "\n",
    "faker.add_provider(CameroonPhoneProvider)\n",
    "\n",
    "cam_phone_number = faker.phone_number()\n"
   ]
  },
  {
   "cell_type": "code",
   "execution_count": null,
   "metadata": {},
   "outputs": [],
   "source": [
    "customers_list = []\n",
    "for i in tqdm(range(10000)):\n",
    "    first_name = faker.first_name()\n",
    "    last_name = faker.last_name()\n",
    "    domain = faker.domain_name()\n",
    "    email = f\"{first_name.upper()}.{last_name.upper()}@{domain}\"\n",
    "    phone_number = cam_phone_number\n",
    "    registration_date = faker.date_between(start_date, end_date)\n",
    "    date_of_birth = faker.date_of_birth(minimum_age=30, maximum_age=75)\n",
    "    address = faker.address()\n",
    "    city = random.choice([\"Yaoundé\", \"Douala\", \"Bafoussam\", \"Dschang\", \"Garoua\", \"Maroua\", \"Bamenda\", \"Ngaoundéré\", \"Nkongsamba\", \"Limbe\", \"Bertoua\", \"Mbouda\", \"Guider\",\"Foumban\", \"Tibati\", \"Buea\", \"Kumba\", \"Kribi\", \"Loum\", \"Nkambe\",\"Bangangté\", \"Baham\", \"Ndikiniméki\", \"Wum\", \"Batouri\", \"Yokadouma\", \"Mindif\", \"Meigang\", \"Abong-Mbang\", \"Bertoua\", \"Bogo\", \"Dir\", \"Poli\", \"Mbouda\", \"Bakoum\", \"Ngaoundal\", \"Figuil\", \"Mayo-Darlé\", \"Mayo-Rey\", \"Betaré-Oya\", \"Guidiguis\", \"Minjibir\", \"Mbankomo\", \"Ntui\", \"Mengang\", \"Akonolinga\", \"Ebolowa\", \"Abé\", \"Sangmélima\", \"Oveng\", \"Bipindi\", \"Meyomessé\",])\n",
    "    region = random.choice([\"Nord\", \"Sud\", \"Est\", \"Ouest\", \"Centre\", \"Littoral\", \"Adamaoua\", \"Nord-ouest\", \"Sud-ouest\", \"Extrème-nord\"])\n",
    "\n",
    "    date_dict = {\n",
    "        'customer_id' :generate_random_id(), \n",
    "        'first_name': first_name, \n",
    "        'last_name': last_name,\n",
    "        'email': email,\n",
    "        'phone_number': phone_number,\n",
    "        'registration_date': registration_date,\n",
    "        'date_of_birth' : date_of_birth,\n",
    "        'address': address,\n",
    "        'city': city,\n",
    "        'region' : region\n",
    "        }\n",
    "    customers_list.append(date_dict)\n",
    "customer_df = pd.DataFrame(customers_list)\n",
    "print(customer_df.shape)\n",
    "customer_df.head()"
   ]
  },
  {
   "cell_type": "code",
   "execution_count": null,
   "metadata": {},
   "outputs": [],
   "source": [
    "customer_df.to_csv('../Data/Train/customers.csv', index=False)"
   ]
  },
  {
   "cell_type": "markdown",
   "metadata": {},
   "source": [
    "## Device data"
   ]
  },
  {
   "cell_type": "code",
   "execution_count": null,
   "metadata": {
    "scrolled": true
   },
   "outputs": [],
   "source": [
    "\n",
    "#creation de id\n",
    "\n",
    "def create_id():\n",
    "    return str(uuid4())\n",
    "\n",
    "#creation des types d'appareils\n",
    "def generate_device_type():\n",
    "    return random.choice(['mobile', 'tablette', 'cellulaire'])\n",
    "\n",
    "#creation des os\n",
    "\n",
    "def generate_os():\n",
    "    return random.choice(['android', 'ios', 'mac', 'windows', 'linux'])\n",
    "\n",
    "#creation des fabricants\n",
    "manufacturer_and_model={\n",
    "                        'dell':['XPS 13', 'INSPIRON 15', 'LATITUDE 7410', 'PRECISION 5550'],\n",
    "                        'HP': ['spectre x360', 'envy 13', 'pavillon 15', 'OMEN 15'],\n",
    "                        'LG': ['spectre x3670', 'envy45','Gram 17', 'Wing 5G', ' NanoCell TV'],\n",
    "                        'SONY':['Xperia 1 III', 'Xperia 5 II', 'Bravia OLDE', 'VAIO SX14'],\n",
    "                        'Apple':['iphone 13', 'ipad pro', 'iphone Xr'],\n",
    "                        'Sharp':['Aquos R6', 'aquos sense 5g', ' dynabook v8']\n",
    "                        }\n",
    "#def generate_manufacturer():\n",
    "    #return random.choices(['dell', 'hp', 'lg', 'sony', 'apple', 'sharp', 'lenovo', 'acer', 'tecno','itel', 'huawei', 'samsung', 'google'])\n",
    "\n",
    "#creation des modeles\n",
    "\n",
    "def generate_model(type):\n",
    "    return random.choice(manufacturer_and_model[type])\n",
    "\n",
    "#creation de la table devices\n",
    "\n",
    "def create_devices_table(lenght= 100000):\n",
    "\n",
    "    devices= pd.DataFrame()\n",
    "\n",
    "    # les listes\n",
    "    device_id_list=[]\n",
    "    devices_type_list=[]\n",
    "    devices_manufacturer_list=[]\n",
    "    devices_model_list=[]\n",
    "    devices_last_used_list=[]\n",
    "    devices_os_list=[]\n",
    "\n",
    "    #generer les valeurs\n",
    "    for i in tqdm(range(lenght)):\n",
    "        devices_id=create_id()\n",
    "        devices_type= generate_device_type()\n",
    "        devices_last_used= faker.date_time_between(start_date= '-5y', end_date='now')\n",
    "        devices_os= generate_os()\n",
    "        devices_manufacturer= random.choice(list(manufacturer_and_model.keys()))\n",
    "        devices_model= generate_model(devices_manufacturer)\n",
    "\n",
    "        #ajout dans les listes\n",
    "        device_id_list.append(devices_id)\n",
    "        devices_type_list.append(devices_type)\n",
    "        devices_model_list.append( devices_model)\n",
    "        devices_manufacturer_list.append( devices_manufacturer)\n",
    "        devices_last_used_list.append(devices_last_used)\n",
    "        devices_os_list.append(devices_os)\n",
    "        \n",
    "     #assigner aux colonnes de la table devices\n",
    "    devices['device_id']= device_id_list\n",
    "    devices['device_type']= devices_type_list\n",
    "    devices['os']= devices_os_list\n",
    "    devices['manufacturer']= devices_manufacturer_list\n",
    "    devices['model']= devices_model_list\n",
    "    devices['last_used']= devices_last_used_list\n",
    "\n",
    "    return devices\n",
    "\n",
    "devices= create_devices_table()\n",
    "devices"
   ]
  },
  {
   "cell_type": "code",
   "execution_count": null,
   "metadata": {},
   "outputs": [],
   "source": [
    "devices.to_csv('../Data/Train/devices.csv',index=False)"
   ]
  },
  {
   "cell_type": "markdown",
   "metadata": {},
   "source": [
    "## Transaction data"
   ]
  },
  {
   "cell_type": "code",
   "execution_count": null,
   "metadata": {},
   "outputs": [],
   "source": [
    "transaction_list=[]\n",
    "customer_id_list = customer_df[\"customer_id\"].tolist()\n",
    "\n",
    "\n",
    "for i in tqdm(range(100000)):\n",
    "    transaction_id = generate_random_id()\n",
    "    customer_id = random.choice(customer_id_list)\n",
    "    transaction_type = random.choice([\"retrait\", \"depôt\", \"transfert\"])\n",
    "    amount = uniform(100, 10000000)\n",
    "    transaction_date = faker.date_between(start_date, end_date)\n",
    "    location = faker.address()\n",
    "    device_id = random.choice(devices[\"device_id\"].tolist())\n",
    "    status = random.choice([\"échouée\", \"réussie\"])\n",
    "    is_fraud = random.choice([0,1])\n",
    "\n",
    "    transaction_dict = {\n",
    "        \"transaction_id\": transaction_id,\n",
    "        \"customer_id\": customer_id,\n",
    "        \"transaction_type\": transaction_type,\n",
    "        \"amount\": amount,\n",
    "        \"transaction_date\": transaction_date,\n",
    "        \"location\": location,\n",
    "        \"device_id\": device_id,\n",
    "        \"status\": status,\n",
    "        \"is_fraud\": is_fraud\n",
    "    }\n",
    "\n",
    "    transaction_list.append(transaction_dict)\n",
    "\n",
    "transaction_df = pd.DataFrame(transaction_list)\n",
    "print(transaction_df.shape)\n",
    "transaction_df.head()"
   ]
  },
  {
   "cell_type": "code",
   "execution_count": null,
   "metadata": {},
   "outputs": [],
   "source": [
    "transaction_df.to_csv('../Data/Train/transactions.csv',index=False)"
   ]
  },
  {
   "cell_type": "markdown",
   "metadata": {},
   "source": [
    "## Transaction history data"
   ]
  },
  {
   "cell_type": "code",
   "execution_count": null,
   "metadata": {},
   "outputs": [],
   "source": [
    "transaction_history_list = []\n",
    "\n",
    "for i, transaction in transaction_df.iterrows():\n",
    "    history_id = generate_random_id()\n",
    "    customer_id = transaction.customer_id\n",
    "    transaction_id = transaction.transaction_id\n",
    "    previous_balance = transaction.amount + uniform(0, 10000000)\n",
    "\n",
    "    if transaction.transaction_type == \"depôt\":\n",
    "        new_balance = previous_balance + transaction.amount\n",
    "    else:\n",
    "        new_balance = previous_balance - transaction.amount\n",
    "        \n",
    "    transaction_date = transaction.transaction_date\n",
    "\n",
    "    transaction_history_dict = {\n",
    "        \"history_id\" : history_id,\n",
    "        \"customer_id\" : customer_id,\n",
    "        \"transaction_id\" : transaction_id,\n",
    "        \"previous_balance\" : previous_balance,\n",
    "        \"new_balance\" : new_balance,\n",
    "        \"transaction_date\": transaction_date\n",
    "    }\n",
    "    transaction_history_list.append(transaction_history_dict)\n",
    "\n",
    "transaction_history_df = pd.DataFrame(transaction_history_list)\n",
    "print(transaction_history_df.shape)\n",
    "transaction_history_df.head()"
   ]
  },
  {
   "cell_type": "code",
   "execution_count": null,
   "metadata": {},
   "outputs": [],
   "source": [
    "transaction_history_df.to_csv('../Data/Train/transaction_history.csv',index=False)"
   ]
  },
  {
   "cell_type": "markdown",
   "metadata": {},
   "source": [
    "## Transaction pattern data"
   ]
  },
  {
   "cell_type": "code",
   "execution_count": null,
   "metadata": {},
   "outputs": [],
   "source": [
    "customer_id_list = customer_df[\"customer_id\"]\n",
    "print(customer_id_list)"
   ]
  },
  {
   "cell_type": "code",
   "execution_count": null,
   "metadata": {},
   "outputs": [],
   "source": [
    "# Fonction pour générer un identifiant unique\n",
    "def create_id():\n",
    "    return str(uuid4())\n",
    "\n",
    "# Fonction pour générer un montant moyen aléatoire\n",
    "def generate_average_amount():\n",
    "    return round(random.uniform(5.0, 1000.0), 2)\n",
    "\n",
    "# Fonction pour générer une fréquence de transactions aléatoire\n",
    "def generate_frequency():\n",
    "    return random.randint(1, 30)\n",
    "\n",
    "# Fonction pour générer une localisation fréquente aléatoire\n",
    "def generate_most_common_location():\n",
    "    return faker.city()\n",
    "\n",
    "# Fonction pour générer un appareil le plus utilisé aléatoire\n",
    "def generate_most_common_device():\n",
    "    return random.choice(['mobile', 'tablette'])\n",
    "\n",
    "# Fonction pour créer une table de transaction patterns\n",
    "def create_transaction_patterns_table(length=100000):\n",
    "\n",
    "    transaction_patterns = pd.DataFrame()\n",
    "\n",
    "    # Les listes\n",
    "    pattern_id_list = []\n",
    "    customer_id_list = customer_df[\"customer_id\"].tolist()\n",
    "    average_amount_list = []\n",
    "    frequency_list = []\n",
    "    most_common_location_list = []\n",
    "    most_common_device_list = []\n",
    "    foreign_key_list=[]  # liste des cles etrangeres qui seront aleatoirement choisies\n",
    "\n",
    "    # Générer les valeurs\n",
    "    for i in tqdm(range(length)):\n",
    "        pattern_id = create_id()\n",
    "        customer_id = random.choice(customer_id_list) \n",
    "        average_amount = generate_average_amount()\n",
    "        frequency = generate_frequency()\n",
    "        most_common_location = generate_most_common_location()\n",
    "        most_common_device = generate_most_common_device()\n",
    "\n",
    "        # Ajouter dans les listes\n",
    "        pattern_id_list.append(pattern_id)\n",
    "        foreign_key_list.append(customer_id)\n",
    "        average_amount_list.append(average_amount)\n",
    "        frequency_list.append(frequency)\n",
    "        most_common_location_list.append(most_common_location)\n",
    "        most_common_device_list.append(most_common_device)\n",
    "    \n",
    "    # Assigner aux colonnes de la table transaction patterns (en dehors de la boucle)\n",
    "    transaction_patterns['pattern_id'] = pattern_id_list\n",
    "    transaction_patterns['customer_id'] = foreign_key_list\n",
    "    transaction_patterns['average_amount'] = average_amount_list\n",
    "    transaction_patterns['frequency'] = frequency_list\n",
    "    transaction_patterns['most_common_location'] = most_common_location_list\n",
    "    transaction_patterns['most_common_device'] = most_common_device_list\n",
    "\n",
    "    return transaction_patterns\n",
    "\n",
    "# Créer une table de transaction patterns\n",
    "transaction_patterns = create_transaction_patterns_table()\n",
    "\n",
    "# Afficher les premières lignes de la table transaction patterns\n",
    "transaction_patterns\n"
   ]
  },
  {
   "cell_type": "code",
   "execution_count": null,
   "metadata": {},
   "outputs": [],
   "source": [
    "transaction_patterns.to_csv('../Data/Train/transaction_patterns.csv',index=False)"
   ]
  },
  {
   "cell_type": "markdown",
   "metadata": {},
   "source": [
    "## alerts data"
   ]
  },
  {
   "cell_type": "code",
   "execution_count": null,
   "metadata": {},
   "outputs": [],
   "source": [
    "# Fonction pour générer un identifiant unique\n",
    "def create_id():\n",
    "    return str(uuid4())\n",
    "\n",
    "# Fonction pour générer une date et heure aléatoire\n",
    "def generate_alert_date():\n",
    "    return faker.date_time_between(start_date='-5y', end_date='now')\n",
    "\n",
    "# Fonction pour générer un type d'alerte aléatoire\n",
    "def generate_alert_type():\n",
    "    return random.choice(['suspicious activity', 'large transaction'])\n",
    "\n",
    "# Fonction pour générer un statut d'alerte aléatoire\n",
    "def generate_alert_status():\n",
    "    return random.choice(['open', 'closed'])\n",
    "\n",
    "# Fonction pour générer une description d'alerte aléatoire\n",
    "def generate_description():\n",
    "    return faker.text(max_nb_chars=250)\n",
    "\n",
    "# Fonction pour créer une table d'alertes\n",
    "def create_alerts_table(length=100):\n",
    "\n",
    "    alerts = pd.DataFrame()\n",
    "\n",
    "    # Les listes\n",
    "    alert_id_list = []\n",
    "    transaction_id_list = transaction_df[\"customer_id\"].tolist()\n",
    "    alert_date_list = []\n",
    "    alert_type_list = []\n",
    "    alert_status_list = []\n",
    "    description_list = []\n",
    "    foreign_key_alerts_list=[]\n",
    "\n",
    "    # Générer les valeurs\n",
    "    for i in tqdm(range(length)):\n",
    "        alert_id = create_id()\n",
    "        transaction_id = random.choice(transaction_id_list) # Remplacer par un identifiant de transaction réel si disponible\n",
    "        alert_date = generate_alert_date()\n",
    "        alert_type = generate_alert_type()\n",
    "        alert_status = generate_alert_status()\n",
    "        description = generate_description()\n",
    "\n",
    "        # Ajouter dans les listes\n",
    "        alert_id_list.append(alert_id)\n",
    "        foreign_key_alerts_list.append(transaction_id)\n",
    "        alert_date_list.append(alert_date)\n",
    "        alert_type_list.append(alert_type)\n",
    "        alert_status_list.append(alert_status)\n",
    "        description_list.append(description)\n",
    "    \n",
    "    # Assigner aux colonnes de la table alerts (en dehors de la boucle)\n",
    "    alerts['alert_id'] = alert_id_list\n",
    "    alerts['transaction_id'] = foreign_key_alerts_list\n",
    "    alerts['alert_date'] = alert_date_list\n",
    "    alerts['alert_type'] = alert_type_list\n",
    "    alerts['alert_status'] = alert_status_list\n",
    "    alerts['description'] = description_list\n",
    "\n",
    "    return alerts\n",
    "\n",
    "# Créer une table d'alertes\n",
    "alerts = create_alerts_table()\n",
    "\n",
    "# Afficher les premières lignes de la table alerts\n",
    "alerts"
   ]
  },
  {
   "cell_type": "code",
   "execution_count": null,
   "metadata": {},
   "outputs": [],
   "source": [
    "alerts.to_csv('../Data/Train/alerts.csv',index=False)"
   ]
  },
  {
   "cell_type": "markdown",
   "metadata": {},
   "source": [
    "## fraude_cases data "
   ]
  },
  {
   "cell_type": "code",
   "execution_count": null,
   "metadata": {},
   "outputs": [],
   "source": [
    "def create_id():\n",
    "    return uuid4\n",
    "\n",
    "def fraud_type():\n",
    "    return random.choice([\"identity theft\", \"account takeover\"])"
   ]
  },
  {
   "cell_type": "code",
   "execution_count": null,
   "metadata": {},
   "outputs": [],
   "source": [
    "def create_fraud_cases_table(length=1000):\n",
    "    \n",
    "    fraud_cases=pd.DataFrame()\n",
    "\n",
    "    case_id_list=[]\n",
    "    transaction_id_list=transaction_df[\"transaction_id\"].tolist()\n",
    "    customer_id_list=customer_df[\"customer_id\"].tolist()\n",
    "    fraud_type_list=[]\n",
    "    detection_date_list=[]\n",
    "    resolution_status_list=[]\n",
    "    comments_list=[]\n",
    "\n",
    "\n",
    "    for i in tqdm(range(length)):\n",
    "        case_id= create_id()\n",
    "        transaction_id= random.choice(transaction_id_list)\n",
    "        customer_id= random.choice(customer_id_list)\n",
    "        fraude_type= fraud_type()\n",
    "        detection_date= faker.date_time_between(start_date, end_date)\n",
    "        resolution_status= random.choice([\"pending\", \"resolved\"])\n",
    "        comments= faker.text(max_nb_chars= 500)\n",
    "\n",
    "        \n",
    "        case_id_list.append(case_id)\n",
    "        fraud_type_list.append(fraude_type)\n",
    "        detection_date_list.append(detection_date)\n",
    "        resolution_status_list.append(resolution_status)\n",
    "        comments_list.append(comments)\n",
    "\n",
    "\n",
    "    fraud_cases[\"case_id\"]=case_id_list\n",
    "    fraud_cases[\"transaction_id\"]=transaction_id\n",
    "    fraud_cases[\"customer_id\"]=customer_id\n",
    "    fraud_cases[\"fraud_type\"]=fraud_type_list\n",
    "    fraud_cases[\"detection_date\"]=detection_date_list\n",
    "    fraud_cases[\"resolution_status\"]=resolution_status_list\n",
    "    fraud_cases[\"comments\"]=comments_list\n",
    "\n",
    "    return fraud_cases\n",
    "\n",
    "fraud_cases= create_fraud_cases_table()\n",
    "fraud_cases\n"
   ]
  },
  {
   "cell_type": "code",
   "execution_count": null,
   "metadata": {},
   "outputs": [],
   "source": [
    "fraud_cases.to_csv('../Data/Train/fraud_cases.csv', index=False)"
   ]
  },
  {
   "cell_type": "markdown",
   "metadata": {},
   "source": [
    "## UPDATE TRANSACTIONS DATA"
   ]
  },
  {
   "cell_type": "code",
   "execution_count": null,
   "metadata": {},
   "outputs": [],
   "source": []
  },
  {
   "cell_type": "code",
   "execution_count": null,
   "metadata": {},
   "outputs": [],
   "source": [
    "\n",
    "transaction_list=[]\n",
    "customer_id_list = customer_df[\"customer_id\"]\n",
    "\n",
    "# ---------------------------------------------------------------------------------------------------------------------\n",
    "\n",
    "start_date = datetime(2018, 1, 1)\n",
    "end_date = datetime(2024, 1, 1)\n",
    "\n",
    "trend_factor = 1.0001\n",
    "seasonal_amplitude = 0.3\n",
    "seasonal_period = 365 \n",
    "# ---------------------------------------------------------------------------------------------------------------------\n",
    "\n",
    "\n",
    "for i in tqdm(range(100000)):\n",
    "    transaction_id = generate_random_id()\n",
    "    customer_id = random.choice(customer_id_list)\n",
    "    transaction_type = random.choice([\"retrait\", \"depôt\", \"transfert\"])\n",
    "# ---------------------------------------------------------------------------------------------------------------------\n",
    "    # Calcul de la date de la transaction\n",
    "    days_between = (end_date - start_date).days\n",
    "    transaction_date = start_date + timedelta(days=random.randint(0, days_between))\n",
    "    \n",
    "    # Calcul de la tendance\n",
    "    days_since_start = (transaction_date - start_date).days\n",
    "    trend = trend_factor ** days_since_start\n",
    "    \n",
    "    # Calcul de la saisonnalité\n",
    "    seasonal_effect = 1 + seasonal_amplitude * np.sin(2 * np.pi * days_since_start / seasonal_period)\n",
    "    \n",
    "    # Montant ajusté par la tendance et la saisonnalité\n",
    "    base_amount = random.uniform(100, 10000000)\n",
    "    amount = base_amount * trend * seasonal_effect\n",
    "    \n",
    "# ---------------------------------------------------------------------------------------------------------------------\n",
    "\n",
    "    location = faker.address()\n",
    "    device_id = random.choice(devices[\"device_id\"])\n",
    "    status = random.choice([\"échouée\", \"réussie\"])\n",
    "    is_fraud = random.choice([0,1])\n",
    "\n",
    "    transaction_dict = {\n",
    "        \"transaction_id\": transaction_id,\n",
    "        \"customer_id\": customer_id,\n",
    "        \"transaction_type\": transaction_type,\n",
    "        \"amount\": amount,\n",
    "        \"transaction_date\": transaction_date,\n",
    "        \"location\": location,\n",
    "        \"device_id\": device_id,\n",
    "        \"status\": status,\n",
    "        \"is_fraud\": is_fraud\n",
    "    }\n",
    "\n",
    "    transaction_list.append(transaction_dict)\n",
    "\n",
    "transaction_df = pd.DataFrame(transaction_list)\n",
    "print(transaction_df.shape)\n",
    "transaction_df.head()"
   ]
  },
  {
   "cell_type": "code",
   "execution_count": null,
   "metadata": {},
   "outputs": [],
   "source": [
    "plt.figure(figsize=(12, 6))\n",
    "\n",
    "# Tracer les montants des transactions au fil du temps\n",
    "sns.lineplot(x='transaction_date', y='amount', data=transaction_df, ci=None)\n",
    "plt.title('Montants des Transactions au Fil du Temps')\n",
    "plt.xlabel('Date de la Transaction')\n",
    "plt.ylabel('Montant de la Transaction')\n",
    "plt.xticks(rotation=45)\n",
    "plt.show()"
   ]
  },
  {
   "cell_type": "code",
   "execution_count": null,
   "metadata": {},
   "outputs": [],
   "source": []
  }
 ],
 "metadata": {
  "kernelspec": {
   "display_name": "Python 3 (ipykernel)",
   "language": "python",
   "name": "python3"
  },
  "language_info": {
   "codemirror_mode": {
    "name": "ipython",
    "version": 3
   },
   "file_extension": ".py",
   "mimetype": "text/x-python",
   "name": "python",
   "nbconvert_exporter": "python",
   "pygments_lexer": "ipython3",
   "version": "3.11.0"
  }
 },
 "nbformat": 4,
 "nbformat_minor": 4
}
