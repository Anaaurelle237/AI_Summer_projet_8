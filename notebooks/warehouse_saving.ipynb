{
 "cells": [
  {
   "cell_type": "code",
   "execution_count": 1,
   "metadata": {},
   "outputs": [],
   "source": [
    "import pandas as pd \n",
    "from tqdm import tqdm \n",
    "import sqlite3 \n",
    "import os \n",
    "from glob import glob "
   ]
  },
  {
   "cell_type": "code",
   "execution_count": 2,
   "metadata": {},
   "outputs": [],
   "source": [
    "# ! pip install sqlite"
   ]
  },
  {
   "cell_type": "code",
   "execution_count": 3,
   "metadata": {},
   "outputs": [
    {
     "data": {
      "text/html": [
       "<div>\n",
       "<style scoped>\n",
       "    .dataframe tbody tr th:only-of-type {\n",
       "        vertical-align: middle;\n",
       "    }\n",
       "\n",
       "    .dataframe tbody tr th {\n",
       "        vertical-align: top;\n",
       "    }\n",
       "\n",
       "    .dataframe thead th {\n",
       "        text-align: right;\n",
       "    }\n",
       "</style>\n",
       "<table border=\"1\" class=\"dataframe\">\n",
       "  <thead>\n",
       "    <tr style=\"text-align: right;\">\n",
       "      <th></th>\n",
       "      <th>device_id</th>\n",
       "      <th>device_type</th>\n",
       "      <th>os</th>\n",
       "      <th>manufacturer</th>\n",
       "      <th>model</th>\n",
       "      <th>last_used</th>\n",
       "    </tr>\n",
       "  </thead>\n",
       "  <tbody>\n",
       "    <tr>\n",
       "      <th>0</th>\n",
       "      <td>31d420fd-2297-42c3-800c-0e997b9f2524</td>\n",
       "      <td>mobile</td>\n",
       "      <td>ios</td>\n",
       "      <td>Apple</td>\n",
       "      <td>iphone Xr</td>\n",
       "      <td>2021-02-25 19:16:08</td>\n",
       "    </tr>\n",
       "    <tr>\n",
       "      <th>1</th>\n",
       "      <td>37dc5ba9-c5bf-45b9-b122-ab13ca8b16cc</td>\n",
       "      <td>mobile</td>\n",
       "      <td>mac</td>\n",
       "      <td>SONY</td>\n",
       "      <td>Xperia 5 II</td>\n",
       "      <td>2022-01-29 04:11:27</td>\n",
       "    </tr>\n",
       "    <tr>\n",
       "      <th>2</th>\n",
       "      <td>66949cd2-042c-498a-8a50-175d581994ca</td>\n",
       "      <td>tablette</td>\n",
       "      <td>android</td>\n",
       "      <td>Sharp</td>\n",
       "      <td>aquos sense 5g</td>\n",
       "      <td>2020-08-15 00:34:29</td>\n",
       "    </tr>\n",
       "    <tr>\n",
       "      <th>3</th>\n",
       "      <td>0bcd3758-5ea7-4c6d-be42-83d527413899</td>\n",
       "      <td>tablette</td>\n",
       "      <td>mac</td>\n",
       "      <td>SONY</td>\n",
       "      <td>Xperia 5 II</td>\n",
       "      <td>2020-07-10 20:43:42</td>\n",
       "    </tr>\n",
       "    <tr>\n",
       "      <th>4</th>\n",
       "      <td>a4407a5b-0052-4e23-adc1-7360aafe1b47</td>\n",
       "      <td>mobile</td>\n",
       "      <td>android</td>\n",
       "      <td>dell</td>\n",
       "      <td>XPS 13</td>\n",
       "      <td>2020-03-09 14:37:24</td>\n",
       "    </tr>\n",
       "    <tr>\n",
       "      <th>...</th>\n",
       "      <td>...</td>\n",
       "      <td>...</td>\n",
       "      <td>...</td>\n",
       "      <td>...</td>\n",
       "      <td>...</td>\n",
       "      <td>...</td>\n",
       "    </tr>\n",
       "    <tr>\n",
       "      <th>99995</th>\n",
       "      <td>c35a30c0-0edf-4bb2-a468-da52b444b5a2</td>\n",
       "      <td>mobile</td>\n",
       "      <td>windows</td>\n",
       "      <td>LG</td>\n",
       "      <td>NanoCell TV</td>\n",
       "      <td>2023-02-04 13:33:30</td>\n",
       "    </tr>\n",
       "    <tr>\n",
       "      <th>99996</th>\n",
       "      <td>3e403a64-49d4-4ad7-b803-ab0fc5a18f5c</td>\n",
       "      <td>tablette</td>\n",
       "      <td>linux</td>\n",
       "      <td>SONY</td>\n",
       "      <td>Xperia 5 II</td>\n",
       "      <td>2021-09-13 06:50:05</td>\n",
       "    </tr>\n",
       "    <tr>\n",
       "      <th>99997</th>\n",
       "      <td>79263a93-5919-4ef9-a6b1-1903e36ee3b9</td>\n",
       "      <td>mobile</td>\n",
       "      <td>android</td>\n",
       "      <td>dell</td>\n",
       "      <td>XPS 13</td>\n",
       "      <td>2023-10-04 07:56:37</td>\n",
       "    </tr>\n",
       "    <tr>\n",
       "      <th>99998</th>\n",
       "      <td>2e0757e8-b86c-4358-9e13-9d156c83aaf3</td>\n",
       "      <td>tablette</td>\n",
       "      <td>linux</td>\n",
       "      <td>HP</td>\n",
       "      <td>spectre x360</td>\n",
       "      <td>2022-08-05 10:09:11</td>\n",
       "    </tr>\n",
       "    <tr>\n",
       "      <th>99999</th>\n",
       "      <td>90576954-2f36-42e4-9ea2-f750086fc4d7</td>\n",
       "      <td>tablette</td>\n",
       "      <td>android</td>\n",
       "      <td>Sharp</td>\n",
       "      <td>dynabook v8</td>\n",
       "      <td>2020-12-09 19:02:26</td>\n",
       "    </tr>\n",
       "  </tbody>\n",
       "</table>\n",
       "<p>100000 rows × 6 columns</p>\n",
       "</div>"
      ],
      "text/plain": [
       "                                  device_id device_type       os manufacturer  \\\n",
       "0      31d420fd-2297-42c3-800c-0e997b9f2524      mobile      ios        Apple   \n",
       "1      37dc5ba9-c5bf-45b9-b122-ab13ca8b16cc      mobile      mac         SONY   \n",
       "2      66949cd2-042c-498a-8a50-175d581994ca    tablette  android        Sharp   \n",
       "3      0bcd3758-5ea7-4c6d-be42-83d527413899    tablette      mac         SONY   \n",
       "4      a4407a5b-0052-4e23-adc1-7360aafe1b47      mobile  android         dell   \n",
       "...                                     ...         ...      ...          ...   \n",
       "99995  c35a30c0-0edf-4bb2-a468-da52b444b5a2      mobile  windows           LG   \n",
       "99996  3e403a64-49d4-4ad7-b803-ab0fc5a18f5c    tablette    linux         SONY   \n",
       "99997  79263a93-5919-4ef9-a6b1-1903e36ee3b9      mobile  android         dell   \n",
       "99998  2e0757e8-b86c-4358-9e13-9d156c83aaf3    tablette    linux           HP   \n",
       "99999  90576954-2f36-42e4-9ea2-f750086fc4d7    tablette  android        Sharp   \n",
       "\n",
       "                model            last_used  \n",
       "0           iphone Xr  2021-02-25 19:16:08  \n",
       "1         Xperia 5 II  2022-01-29 04:11:27  \n",
       "2      aquos sense 5g  2020-08-15 00:34:29  \n",
       "3         Xperia 5 II  2020-07-10 20:43:42  \n",
       "4              XPS 13  2020-03-09 14:37:24  \n",
       "...               ...                  ...  \n",
       "99995     NanoCell TV  2023-02-04 13:33:30  \n",
       "99996     Xperia 5 II  2021-09-13 06:50:05  \n",
       "99997          XPS 13  2023-10-04 07:56:37  \n",
       "99998    spectre x360  2022-08-05 10:09:11  \n",
       "99999     dynabook v8  2020-12-09 19:02:26  \n",
       "\n",
       "[100000 rows x 6 columns]"
      ]
     },
     "execution_count": 3,
     "metadata": {},
     "output_type": "execute_result"
    }
   ],
   "source": [
    "# charger mes donnees\n",
    "\n",
    "data = pd.read_csv('../Data/Train/devices.csv')\n",
    "data"
   ]
  },
  {
   "cell_type": "markdown",
   "metadata": {},
   "source": [
    "# creation de la  connection avec  la base de donnee sqlite"
   ]
  },
  {
   "cell_type": "markdown",
   "metadata": {},
   "source": [
    "#####  IL EST IMPORTANT D'AVOIR LA BASE DE DONNE  fraude_detection_warehouse.db OU D'EN CREE UNE AVEC CE NOM \n"
   ]
  },
  {
   "cell_type": "code",
   "execution_count": 4,
   "metadata": {},
   "outputs": [
    {
     "data": {
      "text/plain": [
       "<sqlite3.Connection at 0x1e3f5caef20>"
      ]
     },
     "execution_count": 4,
     "metadata": {},
     "output_type": "execute_result"
    }
   ],
   "source": [
    "conn = sqlite3.connect('../Data/db/fraude_detection_warehouse.db')\n",
    "conn"
   ]
  },
  {
   "cell_type": "code",
   "execution_count": 5,
   "metadata": {},
   "outputs": [
    {
     "data": {
      "text/html": [
       "<div>\n",
       "<style scoped>\n",
       "    .dataframe tbody tr th:only-of-type {\n",
       "        vertical-align: middle;\n",
       "    }\n",
       "\n",
       "    .dataframe tbody tr th {\n",
       "        vertical-align: top;\n",
       "    }\n",
       "\n",
       "    .dataframe thead th {\n",
       "        text-align: right;\n",
       "    }\n",
       "</style>\n",
       "<table border=\"1\" class=\"dataframe\">\n",
       "  <thead>\n",
       "    <tr style=\"text-align: right;\">\n",
       "      <th></th>\n",
       "      <th>device_id</th>\n",
       "      <th>device_type</th>\n",
       "      <th>os</th>\n",
       "      <th>manufacturer</th>\n",
       "      <th>model</th>\n",
       "      <th>last_used</th>\n",
       "    </tr>\n",
       "  </thead>\n",
       "  <tbody>\n",
       "    <tr>\n",
       "      <th>0</th>\n",
       "      <td>31d420fd-2297-42c3-800c-0e997b9f2524</td>\n",
       "      <td>mobile</td>\n",
       "      <td>ios</td>\n",
       "      <td>Apple</td>\n",
       "      <td>iphone Xr</td>\n",
       "      <td>2021-02-25 19:16:08</td>\n",
       "    </tr>\n",
       "    <tr>\n",
       "      <th>1</th>\n",
       "      <td>37dc5ba9-c5bf-45b9-b122-ab13ca8b16cc</td>\n",
       "      <td>mobile</td>\n",
       "      <td>mac</td>\n",
       "      <td>SONY</td>\n",
       "      <td>Xperia 5 II</td>\n",
       "      <td>2022-01-29 04:11:27</td>\n",
       "    </tr>\n",
       "    <tr>\n",
       "      <th>2</th>\n",
       "      <td>66949cd2-042c-498a-8a50-175d581994ca</td>\n",
       "      <td>tablette</td>\n",
       "      <td>android</td>\n",
       "      <td>Sharp</td>\n",
       "      <td>aquos sense 5g</td>\n",
       "      <td>2020-08-15 00:34:29</td>\n",
       "    </tr>\n",
       "    <tr>\n",
       "      <th>3</th>\n",
       "      <td>0bcd3758-5ea7-4c6d-be42-83d527413899</td>\n",
       "      <td>tablette</td>\n",
       "      <td>mac</td>\n",
       "      <td>SONY</td>\n",
       "      <td>Xperia 5 II</td>\n",
       "      <td>2020-07-10 20:43:42</td>\n",
       "    </tr>\n",
       "    <tr>\n",
       "      <th>4</th>\n",
       "      <td>a4407a5b-0052-4e23-adc1-7360aafe1b47</td>\n",
       "      <td>mobile</td>\n",
       "      <td>android</td>\n",
       "      <td>dell</td>\n",
       "      <td>XPS 13</td>\n",
       "      <td>2020-03-09 14:37:24</td>\n",
       "    </tr>\n",
       "    <tr>\n",
       "      <th>...</th>\n",
       "      <td>...</td>\n",
       "      <td>...</td>\n",
       "      <td>...</td>\n",
       "      <td>...</td>\n",
       "      <td>...</td>\n",
       "      <td>...</td>\n",
       "    </tr>\n",
       "    <tr>\n",
       "      <th>99995</th>\n",
       "      <td>c35a30c0-0edf-4bb2-a468-da52b444b5a2</td>\n",
       "      <td>mobile</td>\n",
       "      <td>windows</td>\n",
       "      <td>LG</td>\n",
       "      <td>NanoCell TV</td>\n",
       "      <td>2023-02-04 13:33:30</td>\n",
       "    </tr>\n",
       "    <tr>\n",
       "      <th>99996</th>\n",
       "      <td>3e403a64-49d4-4ad7-b803-ab0fc5a18f5c</td>\n",
       "      <td>tablette</td>\n",
       "      <td>linux</td>\n",
       "      <td>SONY</td>\n",
       "      <td>Xperia 5 II</td>\n",
       "      <td>2021-09-13 06:50:05</td>\n",
       "    </tr>\n",
       "    <tr>\n",
       "      <th>99997</th>\n",
       "      <td>79263a93-5919-4ef9-a6b1-1903e36ee3b9</td>\n",
       "      <td>mobile</td>\n",
       "      <td>android</td>\n",
       "      <td>dell</td>\n",
       "      <td>XPS 13</td>\n",
       "      <td>2023-10-04 07:56:37</td>\n",
       "    </tr>\n",
       "    <tr>\n",
       "      <th>99998</th>\n",
       "      <td>2e0757e8-b86c-4358-9e13-9d156c83aaf3</td>\n",
       "      <td>tablette</td>\n",
       "      <td>linux</td>\n",
       "      <td>HP</td>\n",
       "      <td>spectre x360</td>\n",
       "      <td>2022-08-05 10:09:11</td>\n",
       "    </tr>\n",
       "    <tr>\n",
       "      <th>99999</th>\n",
       "      <td>90576954-2f36-42e4-9ea2-f750086fc4d7</td>\n",
       "      <td>tablette</td>\n",
       "      <td>android</td>\n",
       "      <td>Sharp</td>\n",
       "      <td>dynabook v8</td>\n",
       "      <td>2020-12-09 19:02:26</td>\n",
       "    </tr>\n",
       "  </tbody>\n",
       "</table>\n",
       "<p>100000 rows × 6 columns</p>\n",
       "</div>"
      ],
      "text/plain": [
       "                                  device_id device_type       os manufacturer  \\\n",
       "0      31d420fd-2297-42c3-800c-0e997b9f2524      mobile      ios        Apple   \n",
       "1      37dc5ba9-c5bf-45b9-b122-ab13ca8b16cc      mobile      mac         SONY   \n",
       "2      66949cd2-042c-498a-8a50-175d581994ca    tablette  android        Sharp   \n",
       "3      0bcd3758-5ea7-4c6d-be42-83d527413899    tablette      mac         SONY   \n",
       "4      a4407a5b-0052-4e23-adc1-7360aafe1b47      mobile  android         dell   \n",
       "...                                     ...         ...      ...          ...   \n",
       "99995  c35a30c0-0edf-4bb2-a468-da52b444b5a2      mobile  windows           LG   \n",
       "99996  3e403a64-49d4-4ad7-b803-ab0fc5a18f5c    tablette    linux         SONY   \n",
       "99997  79263a93-5919-4ef9-a6b1-1903e36ee3b9      mobile  android         dell   \n",
       "99998  2e0757e8-b86c-4358-9e13-9d156c83aaf3    tablette    linux           HP   \n",
       "99999  90576954-2f36-42e4-9ea2-f750086fc4d7    tablette  android        Sharp   \n",
       "\n",
       "                model            last_used  \n",
       "0           iphone Xr  2021-02-25 19:16:08  \n",
       "1         Xperia 5 II  2022-01-29 04:11:27  \n",
       "2      aquos sense 5g  2020-08-15 00:34:29  \n",
       "3         Xperia 5 II  2020-07-10 20:43:42  \n",
       "4              XPS 13  2020-03-09 14:37:24  \n",
       "...               ...                  ...  \n",
       "99995     NanoCell TV  2023-02-04 13:33:30  \n",
       "99996     Xperia 5 II  2021-09-13 06:50:05  \n",
       "99997          XPS 13  2023-10-04 07:56:37  \n",
       "99998    spectre x360  2022-08-05 10:09:11  \n",
       "99999     dynabook v8  2020-12-09 19:02:26  \n",
       "\n",
       "[100000 rows x 6 columns]"
      ]
     },
     "execution_count": 5,
     "metadata": {},
     "output_type": "execute_result"
    }
   ],
   "source": [
    "data"
   ]
  },
  {
   "cell_type": "code",
   "execution_count": null,
   "metadata": {},
   "outputs": [],
   "source": []
  },
  {
   "cell_type": "code",
   "execution_count": 6,
   "metadata": {},
   "outputs": [
    {
     "data": {
      "text/plain": [
       "100000"
      ]
     },
     "execution_count": 6,
     "metadata": {},
     "output_type": "execute_result"
    }
   ],
   "source": [
    "#savegarde des data dans la base de donnee\n",
    "data.to_sql('devices',conn, if_exists='replace', index=False )"
   ]
  },
  {
   "cell_type": "code",
   "execution_count": 7,
   "metadata": {},
   "outputs": [
    {
     "data": {
      "text/html": [
       "<div>\n",
       "<style scoped>\n",
       "    .dataframe tbody tr th:only-of-type {\n",
       "        vertical-align: middle;\n",
       "    }\n",
       "\n",
       "    .dataframe tbody tr th {\n",
       "        vertical-align: top;\n",
       "    }\n",
       "\n",
       "    .dataframe thead th {\n",
       "        text-align: right;\n",
       "    }\n",
       "</style>\n",
       "<table border=\"1\" class=\"dataframe\">\n",
       "  <thead>\n",
       "    <tr style=\"text-align: right;\">\n",
       "      <th></th>\n",
       "      <th>device_id</th>\n",
       "      <th>device_type</th>\n",
       "      <th>os</th>\n",
       "      <th>manufacturer</th>\n",
       "      <th>model</th>\n",
       "      <th>last_used</th>\n",
       "    </tr>\n",
       "  </thead>\n",
       "  <tbody>\n",
       "    <tr>\n",
       "      <th>0</th>\n",
       "      <td>31d420fd-2297-42c3-800c-0e997b9f2524</td>\n",
       "      <td>mobile</td>\n",
       "      <td>ios</td>\n",
       "      <td>Apple</td>\n",
       "      <td>iphone Xr</td>\n",
       "      <td>2021-02-25 19:16:08</td>\n",
       "    </tr>\n",
       "    <tr>\n",
       "      <th>1</th>\n",
       "      <td>37dc5ba9-c5bf-45b9-b122-ab13ca8b16cc</td>\n",
       "      <td>mobile</td>\n",
       "      <td>mac</td>\n",
       "      <td>SONY</td>\n",
       "      <td>Xperia 5 II</td>\n",
       "      <td>2022-01-29 04:11:27</td>\n",
       "    </tr>\n",
       "    <tr>\n",
       "      <th>4</th>\n",
       "      <td>a4407a5b-0052-4e23-adc1-7360aafe1b47</td>\n",
       "      <td>mobile</td>\n",
       "      <td>android</td>\n",
       "      <td>dell</td>\n",
       "      <td>XPS 13</td>\n",
       "      <td>2020-03-09 14:37:24</td>\n",
       "    </tr>\n",
       "    <tr>\n",
       "      <th>5</th>\n",
       "      <td>a3b5af3c-3c1a-4162-b031-61d8ee961937</td>\n",
       "      <td>mobile</td>\n",
       "      <td>linux</td>\n",
       "      <td>Sharp</td>\n",
       "      <td>dynabook v8</td>\n",
       "      <td>2020-07-18 23:44:47</td>\n",
       "    </tr>\n",
       "    <tr>\n",
       "      <th>7</th>\n",
       "      <td>ec89211f-f96a-4350-aba1-939d5fbc4d1e</td>\n",
       "      <td>mobile</td>\n",
       "      <td>windows</td>\n",
       "      <td>SONY</td>\n",
       "      <td>Bravia OLDE</td>\n",
       "      <td>2023-06-26 17:05:04</td>\n",
       "    </tr>\n",
       "    <tr>\n",
       "      <th>...</th>\n",
       "      <td>...</td>\n",
       "      <td>...</td>\n",
       "      <td>...</td>\n",
       "      <td>...</td>\n",
       "      <td>...</td>\n",
       "      <td>...</td>\n",
       "    </tr>\n",
       "    <tr>\n",
       "      <th>99989</th>\n",
       "      <td>3e1aa5dc-f2f9-40f4-b6c1-a9657150e41d</td>\n",
       "      <td>mobile</td>\n",
       "      <td>android</td>\n",
       "      <td>dell</td>\n",
       "      <td>INSPIRON 15</td>\n",
       "      <td>2024-05-22 04:06:38</td>\n",
       "    </tr>\n",
       "    <tr>\n",
       "      <th>99992</th>\n",
       "      <td>9aafdd92-72d8-4373-a524-f03a5b784b33</td>\n",
       "      <td>mobile</td>\n",
       "      <td>android</td>\n",
       "      <td>dell</td>\n",
       "      <td>LATITUDE 7410</td>\n",
       "      <td>2022-06-05 11:56:55</td>\n",
       "    </tr>\n",
       "    <tr>\n",
       "      <th>99993</th>\n",
       "      <td>ae496b30-6070-43ce-89d4-1c74d65528bb</td>\n",
       "      <td>mobile</td>\n",
       "      <td>ios</td>\n",
       "      <td>HP</td>\n",
       "      <td>pavillon 15</td>\n",
       "      <td>2022-09-07 21:03:20</td>\n",
       "    </tr>\n",
       "    <tr>\n",
       "      <th>99995</th>\n",
       "      <td>c35a30c0-0edf-4bb2-a468-da52b444b5a2</td>\n",
       "      <td>mobile</td>\n",
       "      <td>windows</td>\n",
       "      <td>LG</td>\n",
       "      <td>NanoCell TV</td>\n",
       "      <td>2023-02-04 13:33:30</td>\n",
       "    </tr>\n",
       "    <tr>\n",
       "      <th>99997</th>\n",
       "      <td>79263a93-5919-4ef9-a6b1-1903e36ee3b9</td>\n",
       "      <td>mobile</td>\n",
       "      <td>android</td>\n",
       "      <td>dell</td>\n",
       "      <td>XPS 13</td>\n",
       "      <td>2023-10-04 07:56:37</td>\n",
       "    </tr>\n",
       "  </tbody>\n",
       "</table>\n",
       "<p>49929 rows × 6 columns</p>\n",
       "</div>"
      ],
      "text/plain": [
       "                                  device_id device_type       os manufacturer  \\\n",
       "0      31d420fd-2297-42c3-800c-0e997b9f2524      mobile      ios        Apple   \n",
       "1      37dc5ba9-c5bf-45b9-b122-ab13ca8b16cc      mobile      mac         SONY   \n",
       "4      a4407a5b-0052-4e23-adc1-7360aafe1b47      mobile  android         dell   \n",
       "5      a3b5af3c-3c1a-4162-b031-61d8ee961937      mobile    linux        Sharp   \n",
       "7      ec89211f-f96a-4350-aba1-939d5fbc4d1e      mobile  windows         SONY   \n",
       "...                                     ...         ...      ...          ...   \n",
       "99989  3e1aa5dc-f2f9-40f4-b6c1-a9657150e41d      mobile  android         dell   \n",
       "99992  9aafdd92-72d8-4373-a524-f03a5b784b33      mobile  android         dell   \n",
       "99993  ae496b30-6070-43ce-89d4-1c74d65528bb      mobile      ios           HP   \n",
       "99995  c35a30c0-0edf-4bb2-a468-da52b444b5a2      mobile  windows           LG   \n",
       "99997  79263a93-5919-4ef9-a6b1-1903e36ee3b9      mobile  android         dell   \n",
       "\n",
       "               model            last_used  \n",
       "0          iphone Xr  2021-02-25 19:16:08  \n",
       "1        Xperia 5 II  2022-01-29 04:11:27  \n",
       "4             XPS 13  2020-03-09 14:37:24  \n",
       "5        dynabook v8  2020-07-18 23:44:47  \n",
       "7        Bravia OLDE  2023-06-26 17:05:04  \n",
       "...              ...                  ...  \n",
       "99989    INSPIRON 15  2024-05-22 04:06:38  \n",
       "99992  LATITUDE 7410  2022-06-05 11:56:55  \n",
       "99993    pavillon 15  2022-09-07 21:03:20  \n",
       "99995    NanoCell TV  2023-02-04 13:33:30  \n",
       "99997         XPS 13  2023-10-04 07:56:37  \n",
       "\n",
       "[49929 rows x 6 columns]"
      ]
     },
     "execution_count": 7,
     "metadata": {},
     "output_type": "execute_result"
    }
   ],
   "source": [
    "\n",
    "# filtrage en pandas  pour afficher tous les devices de type mobile \n",
    "data[data.device_type=='mobile']"
   ]
  },
  {
   "cell_type": "code",
   "execution_count": null,
   "metadata": {},
   "outputs": [],
   "source": []
  },
  {
   "cell_type": "code",
   "execution_count": 8,
   "metadata": {},
   "outputs": [],
   "source": [
    "# filtrage en SQL  pour afficher tous les devices de type mobile \n",
    "query = \"\"\" \n",
    "SELECT * FROM  devices\n",
    "WHERE device_type= 'mobile'\n",
    "\n",
    "\"\"\""
   ]
  },
  {
   "cell_type": "code",
   "execution_count": 9,
   "metadata": {},
   "outputs": [],
   "source": [
    "# excution du filtrage \n",
    "\n",
    "query_data = pd.read_sql(query , conn )"
   ]
  },
  {
   "cell_type": "code",
   "execution_count": 10,
   "metadata": {},
   "outputs": [
    {
     "data": {
      "text/html": [
       "<div>\n",
       "<style scoped>\n",
       "    .dataframe tbody tr th:only-of-type {\n",
       "        vertical-align: middle;\n",
       "    }\n",
       "\n",
       "    .dataframe tbody tr th {\n",
       "        vertical-align: top;\n",
       "    }\n",
       "\n",
       "    .dataframe thead th {\n",
       "        text-align: right;\n",
       "    }\n",
       "</style>\n",
       "<table border=\"1\" class=\"dataframe\">\n",
       "  <thead>\n",
       "    <tr style=\"text-align: right;\">\n",
       "      <th></th>\n",
       "      <th>device_id</th>\n",
       "      <th>device_type</th>\n",
       "      <th>os</th>\n",
       "      <th>manufacturer</th>\n",
       "      <th>model</th>\n",
       "      <th>last_used</th>\n",
       "    </tr>\n",
       "  </thead>\n",
       "  <tbody>\n",
       "    <tr>\n",
       "      <th>0</th>\n",
       "      <td>31d420fd-2297-42c3-800c-0e997b9f2524</td>\n",
       "      <td>mobile</td>\n",
       "      <td>ios</td>\n",
       "      <td>Apple</td>\n",
       "      <td>iphone Xr</td>\n",
       "      <td>2021-02-25 19:16:08</td>\n",
       "    </tr>\n",
       "    <tr>\n",
       "      <th>1</th>\n",
       "      <td>37dc5ba9-c5bf-45b9-b122-ab13ca8b16cc</td>\n",
       "      <td>mobile</td>\n",
       "      <td>mac</td>\n",
       "      <td>SONY</td>\n",
       "      <td>Xperia 5 II</td>\n",
       "      <td>2022-01-29 04:11:27</td>\n",
       "    </tr>\n",
       "    <tr>\n",
       "      <th>2</th>\n",
       "      <td>a4407a5b-0052-4e23-adc1-7360aafe1b47</td>\n",
       "      <td>mobile</td>\n",
       "      <td>android</td>\n",
       "      <td>dell</td>\n",
       "      <td>XPS 13</td>\n",
       "      <td>2020-03-09 14:37:24</td>\n",
       "    </tr>\n",
       "    <tr>\n",
       "      <th>3</th>\n",
       "      <td>a3b5af3c-3c1a-4162-b031-61d8ee961937</td>\n",
       "      <td>mobile</td>\n",
       "      <td>linux</td>\n",
       "      <td>Sharp</td>\n",
       "      <td>dynabook v8</td>\n",
       "      <td>2020-07-18 23:44:47</td>\n",
       "    </tr>\n",
       "    <tr>\n",
       "      <th>4</th>\n",
       "      <td>ec89211f-f96a-4350-aba1-939d5fbc4d1e</td>\n",
       "      <td>mobile</td>\n",
       "      <td>windows</td>\n",
       "      <td>SONY</td>\n",
       "      <td>Bravia OLDE</td>\n",
       "      <td>2023-06-26 17:05:04</td>\n",
       "    </tr>\n",
       "    <tr>\n",
       "      <th>...</th>\n",
       "      <td>...</td>\n",
       "      <td>...</td>\n",
       "      <td>...</td>\n",
       "      <td>...</td>\n",
       "      <td>...</td>\n",
       "      <td>...</td>\n",
       "    </tr>\n",
       "    <tr>\n",
       "      <th>49924</th>\n",
       "      <td>3e1aa5dc-f2f9-40f4-b6c1-a9657150e41d</td>\n",
       "      <td>mobile</td>\n",
       "      <td>android</td>\n",
       "      <td>dell</td>\n",
       "      <td>INSPIRON 15</td>\n",
       "      <td>2024-05-22 04:06:38</td>\n",
       "    </tr>\n",
       "    <tr>\n",
       "      <th>49925</th>\n",
       "      <td>9aafdd92-72d8-4373-a524-f03a5b784b33</td>\n",
       "      <td>mobile</td>\n",
       "      <td>android</td>\n",
       "      <td>dell</td>\n",
       "      <td>LATITUDE 7410</td>\n",
       "      <td>2022-06-05 11:56:55</td>\n",
       "    </tr>\n",
       "    <tr>\n",
       "      <th>49926</th>\n",
       "      <td>ae496b30-6070-43ce-89d4-1c74d65528bb</td>\n",
       "      <td>mobile</td>\n",
       "      <td>ios</td>\n",
       "      <td>HP</td>\n",
       "      <td>pavillon 15</td>\n",
       "      <td>2022-09-07 21:03:20</td>\n",
       "    </tr>\n",
       "    <tr>\n",
       "      <th>49927</th>\n",
       "      <td>c35a30c0-0edf-4bb2-a468-da52b444b5a2</td>\n",
       "      <td>mobile</td>\n",
       "      <td>windows</td>\n",
       "      <td>LG</td>\n",
       "      <td>NanoCell TV</td>\n",
       "      <td>2023-02-04 13:33:30</td>\n",
       "    </tr>\n",
       "    <tr>\n",
       "      <th>49928</th>\n",
       "      <td>79263a93-5919-4ef9-a6b1-1903e36ee3b9</td>\n",
       "      <td>mobile</td>\n",
       "      <td>android</td>\n",
       "      <td>dell</td>\n",
       "      <td>XPS 13</td>\n",
       "      <td>2023-10-04 07:56:37</td>\n",
       "    </tr>\n",
       "  </tbody>\n",
       "</table>\n",
       "<p>49929 rows × 6 columns</p>\n",
       "</div>"
      ],
      "text/plain": [
       "                                  device_id device_type       os manufacturer  \\\n",
       "0      31d420fd-2297-42c3-800c-0e997b9f2524      mobile      ios        Apple   \n",
       "1      37dc5ba9-c5bf-45b9-b122-ab13ca8b16cc      mobile      mac         SONY   \n",
       "2      a4407a5b-0052-4e23-adc1-7360aafe1b47      mobile  android         dell   \n",
       "3      a3b5af3c-3c1a-4162-b031-61d8ee961937      mobile    linux        Sharp   \n",
       "4      ec89211f-f96a-4350-aba1-939d5fbc4d1e      mobile  windows         SONY   \n",
       "...                                     ...         ...      ...          ...   \n",
       "49924  3e1aa5dc-f2f9-40f4-b6c1-a9657150e41d      mobile  android         dell   \n",
       "49925  9aafdd92-72d8-4373-a524-f03a5b784b33      mobile  android         dell   \n",
       "49926  ae496b30-6070-43ce-89d4-1c74d65528bb      mobile      ios           HP   \n",
       "49927  c35a30c0-0edf-4bb2-a468-da52b444b5a2      mobile  windows           LG   \n",
       "49928  79263a93-5919-4ef9-a6b1-1903e36ee3b9      mobile  android         dell   \n",
       "\n",
       "               model            last_used  \n",
       "0          iphone Xr  2021-02-25 19:16:08  \n",
       "1        Xperia 5 II  2022-01-29 04:11:27  \n",
       "2             XPS 13  2020-03-09 14:37:24  \n",
       "3        dynabook v8  2020-07-18 23:44:47  \n",
       "4        Bravia OLDE  2023-06-26 17:05:04  \n",
       "...              ...                  ...  \n",
       "49924    INSPIRON 15  2024-05-22 04:06:38  \n",
       "49925  LATITUDE 7410  2022-06-05 11:56:55  \n",
       "49926    pavillon 15  2022-09-07 21:03:20  \n",
       "49927    NanoCell TV  2023-02-04 13:33:30  \n",
       "49928         XPS 13  2023-10-04 07:56:37  \n",
       "\n",
       "[49929 rows x 6 columns]"
      ]
     },
     "execution_count": 10,
     "metadata": {},
     "output_type": "execute_result"
    }
   ],
   "source": [
    "# affichage du filtrage \n",
    "\n",
    "query_data"
   ]
  },
  {
   "cell_type": "markdown",
   "metadata": {},
   "source": [
    "### SAVE ALL DATA "
   ]
  },
  {
   "cell_type": "code",
   "execution_count": 11,
   "metadata": {},
   "outputs": [],
   "source": [
    "## LISTER TOUS LES FICHIERS DATA DISPONIBLE "
   ]
  },
  {
   "cell_type": "code",
   "execution_count": 12,
   "metadata": {},
   "outputs": [
    {
     "data": {
      "text/plain": [
       "['../Data/Train\\\\alerts.csv',\n",
       " '../Data/Train\\\\customers.csv',\n",
       " '../Data/Train\\\\devices.csv',\n",
       " '../Data/Train\\\\transactions.csv',\n",
       " '../Data/Train\\\\transaction_history.csv',\n",
       " '../Data/Train\\\\transaction_patterns.csv']"
      ]
     },
     "execution_count": 12,
     "metadata": {},
     "output_type": "execute_result"
    }
   ],
   "source": [
    "list_data = glob('../Data/Train/*')\n",
    "list_data"
   ]
  },
  {
   "cell_type": "code",
   "execution_count": null,
   "metadata": {},
   "outputs": [],
   "source": []
  },
  {
   "cell_type": "code",
   "execution_count": 13,
   "metadata": {},
   "outputs": [
    {
     "data": {
      "text/plain": [
       "'alerts'"
      ]
     },
     "execution_count": 13,
     "metadata": {},
     "output_type": "execute_result"
    }
   ],
   "source": [
    "## separation du nom du fichier\n",
    "name_tables = list_data[0].split(os.sep)[-1].split('.')[0]\n",
    "name_tables = name_tables.split('.')[0]\n",
    "name_tables"
   ]
  },
  {
   "cell_type": "code",
   "execution_count": null,
   "metadata": {},
   "outputs": [],
   "source": []
  },
  {
   "cell_type": "markdown",
   "metadata": {},
   "source": [
    "### CHARGEMENT DE TOUS LES FICHIERS DANS LA BASE DE DONNEES"
   ]
  },
  {
   "cell_type": "code",
   "execution_count": 14,
   "metadata": {},
   "outputs": [
    {
     "name": "stderr",
     "output_type": "stream",
     "text": [
      "  0%|          | 0/6 [00:00<?, ?it/s]"
     ]
    },
    {
     "name": "stdout",
     "output_type": "stream",
     "text": [
      "alerts\n"
     ]
    },
    {
     "name": "stderr",
     "output_type": "stream",
     "text": [
      " 33%|███▎      | 2/6 [00:00<00:00,  6.32it/s]"
     ]
    },
    {
     "name": "stdout",
     "output_type": "stream",
     "text": [
      "customers\n"
     ]
    },
    {
     "name": "stderr",
     "output_type": "stream",
     "text": [
      " 50%|█████     | 3/6 [00:01<00:01,  1.74it/s]"
     ]
    },
    {
     "name": "stdout",
     "output_type": "stream",
     "text": [
      "devices\n"
     ]
    },
    {
     "name": "stderr",
     "output_type": "stream",
     "text": [
      " 67%|██████▋   | 4/6 [00:03<00:01,  1.07it/s]"
     ]
    },
    {
     "name": "stdout",
     "output_type": "stream",
     "text": [
      "transactions\n"
     ]
    },
    {
     "name": "stderr",
     "output_type": "stream",
     "text": [
      " 83%|████████▎ | 5/6 [00:04<00:01,  1.10s/it]"
     ]
    },
    {
     "name": "stdout",
     "output_type": "stream",
     "text": [
      "transaction_history\n"
     ]
    },
    {
     "name": "stderr",
     "output_type": "stream",
     "text": [
      "100%|██████████| 6/6 [00:05<00:00,  1.05it/s]"
     ]
    },
    {
     "name": "stdout",
     "output_type": "stream",
     "text": [
      "transaction_patterns\n"
     ]
    },
    {
     "name": "stderr",
     "output_type": "stream",
     "text": [
      "\n"
     ]
    }
   ],
   "source": [
    "for table in tqdm(list_data) : \n",
    "    name_tables = table.split(os.sep)[-1].split('.')[0]  # recuperation du nom de la table a partir du path \n",
    "    data_tmp =  pd.read_csv(table)  # chargement de la csv avec pandas \n",
    "    data_tmp.to_sql(name_tables , conn , if_exists='replace', index=False) # savegarde du csv dans le base de donnee \n",
    "    \n",
    "    print(name_tables)"
   ]
  },
  {
   "cell_type": "code",
   "execution_count": null,
   "metadata": {},
   "outputs": [],
   "source": []
  }
 ],
 "metadata": {
  "kernelspec": {
   "display_name": "Python 3 (ipykernel)",
   "language": "python",
   "name": "python3"
  },
  "language_info": {
   "codemirror_mode": {
    "name": "ipython",
    "version": 3
   },
   "file_extension": ".py",
   "mimetype": "text/x-python",
   "name": "python",
   "nbconvert_exporter": "python",
   "pygments_lexer": "ipython3",
   "version": "3.11.8"
  }
 },
 "nbformat": 4,
 "nbformat_minor": 4
}
