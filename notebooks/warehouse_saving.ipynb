{
 "cells": [
  {
   "cell_type": "code",
   "execution_count": 16,
   "metadata": {},
   "outputs": [],
   "source": [
    "import pandas as pd \n",
    "from tqdm import tqdm \n",
    "import sqlite3 \n",
    "import os \n",
    "from glob import glob "
   ]
  },
  {
   "cell_type": "code",
   "execution_count": 17,
   "metadata": {},
   "outputs": [],
   "source": [
    "# ! pip install sqlite"
   ]
  },
  {
   "cell_type": "code",
   "execution_count": 18,
   "metadata": {},
   "outputs": [
    {
     "data": {
      "text/html": [
       "<div>\n",
       "<style scoped>\n",
       "    .dataframe tbody tr th:only-of-type {\n",
       "        vertical-align: middle;\n",
       "    }\n",
       "\n",
       "    .dataframe tbody tr th {\n",
       "        vertical-align: top;\n",
       "    }\n",
       "\n",
       "    .dataframe thead th {\n",
       "        text-align: right;\n",
       "    }\n",
       "</style>\n",
       "<table border=\"1\" class=\"dataframe\">\n",
       "  <thead>\n",
       "    <tr style=\"text-align: right;\">\n",
       "      <th></th>\n",
       "      <th>device_id</th>\n",
       "      <th>device_type</th>\n",
       "      <th>os</th>\n",
       "      <th>manufacturer</th>\n",
       "      <th>model</th>\n",
       "      <th>last_used</th>\n",
       "    </tr>\n",
       "  </thead>\n",
       "  <tbody>\n",
       "    <tr>\n",
       "      <th>0</th>\n",
       "      <td>8a96984e-d3db-4e31-82d6-e1b50852f68b</td>\n",
       "      <td>mobile</td>\n",
       "      <td>mac</td>\n",
       "      <td>Sharp</td>\n",
       "      <td>aquos sense 5g</td>\n",
       "      <td>2022-04-02 11:11:44</td>\n",
       "    </tr>\n",
       "    <tr>\n",
       "      <th>1</th>\n",
       "      <td>0d829365-a658-4d98-8156-6b21c057ac5a</td>\n",
       "      <td>mobile</td>\n",
       "      <td>windows</td>\n",
       "      <td>Sharp</td>\n",
       "      <td>dynabook v8</td>\n",
       "      <td>2022-05-22 13:06:08</td>\n",
       "    </tr>\n",
       "    <tr>\n",
       "      <th>2</th>\n",
       "      <td>c05527c1-cbee-4b9e-aff3-eb461d9fb87f</td>\n",
       "      <td>mobile</td>\n",
       "      <td>mac</td>\n",
       "      <td>LG</td>\n",
       "      <td>spectre x3670</td>\n",
       "      <td>2023-10-23 13:21:55</td>\n",
       "    </tr>\n",
       "    <tr>\n",
       "      <th>3</th>\n",
       "      <td>f49fc408-5019-46c7-a43c-3df59c971b19</td>\n",
       "      <td>mobile</td>\n",
       "      <td>linux</td>\n",
       "      <td>SONY</td>\n",
       "      <td>VAIO SX14</td>\n",
       "      <td>2020-09-20 21:11:07</td>\n",
       "    </tr>\n",
       "    <tr>\n",
       "      <th>4</th>\n",
       "      <td>d92e2266-7ab1-469b-ac2b-78d3e7c81d61</td>\n",
       "      <td>mobile</td>\n",
       "      <td>windows</td>\n",
       "      <td>Sharp</td>\n",
       "      <td>Aquos R6</td>\n",
       "      <td>2021-06-20 09:08:54</td>\n",
       "    </tr>\n",
       "    <tr>\n",
       "      <th>...</th>\n",
       "      <td>...</td>\n",
       "      <td>...</td>\n",
       "      <td>...</td>\n",
       "      <td>...</td>\n",
       "      <td>...</td>\n",
       "      <td>...</td>\n",
       "    </tr>\n",
       "    <tr>\n",
       "      <th>99995</th>\n",
       "      <td>8a6a96d6-7f4d-4b17-8c1f-fa880f3a913e</td>\n",
       "      <td>tablette</td>\n",
       "      <td>android</td>\n",
       "      <td>Sharp</td>\n",
       "      <td>dynabook v8</td>\n",
       "      <td>2020-03-07 17:28:44</td>\n",
       "    </tr>\n",
       "    <tr>\n",
       "      <th>99996</th>\n",
       "      <td>5397bf66-b72f-4058-aa8d-6bcdc2aabbce</td>\n",
       "      <td>mobile</td>\n",
       "      <td>windows</td>\n",
       "      <td>HP</td>\n",
       "      <td>spectre x360</td>\n",
       "      <td>2024-06-27 18:27:15</td>\n",
       "    </tr>\n",
       "    <tr>\n",
       "      <th>99997</th>\n",
       "      <td>d9d0dd8b-e658-4169-9d55-c5a4e4793cfe</td>\n",
       "      <td>mobile</td>\n",
       "      <td>ios</td>\n",
       "      <td>Sharp</td>\n",
       "      <td>Aquos R6</td>\n",
       "      <td>2023-02-06 00:55:06</td>\n",
       "    </tr>\n",
       "    <tr>\n",
       "      <th>99998</th>\n",
       "      <td>218a546b-9dce-494a-b23d-218685c6c024</td>\n",
       "      <td>tablette</td>\n",
       "      <td>mac</td>\n",
       "      <td>LG</td>\n",
       "      <td>spectre x3670</td>\n",
       "      <td>2022-03-04 13:51:39</td>\n",
       "    </tr>\n",
       "    <tr>\n",
       "      <th>99999</th>\n",
       "      <td>8bbb19c1-8279-4e70-beed-131ef0d32684</td>\n",
       "      <td>mobile</td>\n",
       "      <td>mac</td>\n",
       "      <td>Sharp</td>\n",
       "      <td>dynabook v8</td>\n",
       "      <td>2021-11-22 12:48:32</td>\n",
       "    </tr>\n",
       "  </tbody>\n",
       "</table>\n",
       "<p>100000 rows × 6 columns</p>\n",
       "</div>"
      ],
      "text/plain": [
       "                                  device_id device_type       os manufacturer  \\\n",
       "0      8a96984e-d3db-4e31-82d6-e1b50852f68b      mobile      mac        Sharp   \n",
       "1      0d829365-a658-4d98-8156-6b21c057ac5a      mobile  windows        Sharp   \n",
       "2      c05527c1-cbee-4b9e-aff3-eb461d9fb87f      mobile      mac           LG   \n",
       "3      f49fc408-5019-46c7-a43c-3df59c971b19      mobile    linux         SONY   \n",
       "4      d92e2266-7ab1-469b-ac2b-78d3e7c81d61      mobile  windows        Sharp   \n",
       "...                                     ...         ...      ...          ...   \n",
       "99995  8a6a96d6-7f4d-4b17-8c1f-fa880f3a913e    tablette  android        Sharp   \n",
       "99996  5397bf66-b72f-4058-aa8d-6bcdc2aabbce      mobile  windows           HP   \n",
       "99997  d9d0dd8b-e658-4169-9d55-c5a4e4793cfe      mobile      ios        Sharp   \n",
       "99998  218a546b-9dce-494a-b23d-218685c6c024    tablette      mac           LG   \n",
       "99999  8bbb19c1-8279-4e70-beed-131ef0d32684      mobile      mac        Sharp   \n",
       "\n",
       "                model            last_used  \n",
       "0      aquos sense 5g  2022-04-02 11:11:44  \n",
       "1         dynabook v8  2022-05-22 13:06:08  \n",
       "2       spectre x3670  2023-10-23 13:21:55  \n",
       "3           VAIO SX14  2020-09-20 21:11:07  \n",
       "4            Aquos R6  2021-06-20 09:08:54  \n",
       "...               ...                  ...  \n",
       "99995     dynabook v8  2020-03-07 17:28:44  \n",
       "99996    spectre x360  2024-06-27 18:27:15  \n",
       "99997        Aquos R6  2023-02-06 00:55:06  \n",
       "99998   spectre x3670  2022-03-04 13:51:39  \n",
       "99999     dynabook v8  2021-11-22 12:48:32  \n",
       "\n",
       "[100000 rows x 6 columns]"
      ]
     },
     "execution_count": 18,
     "metadata": {},
     "output_type": "execute_result"
    }
   ],
   "source": [
    "# charger mes donnees\n",
    "\n",
    "data = pd.read_csv('../Data/Train/devices.csv')\n",
    "data"
   ]
  },
  {
   "cell_type": "markdown",
   "metadata": {},
   "source": [
    "# creation de la  connection avec  la base de donnee sqlite"
   ]
  },
  {
   "cell_type": "markdown",
   "metadata": {},
   "source": [
    "#####  IL EST IMPORTANT D'AVOIR LA BASE DE DONNE  fraude_detection_warehouse.db OU D'EN CREE UNE AVEC CE NOM \n"
   ]
  },
  {
   "cell_type": "code",
   "execution_count": 19,
   "metadata": {},
   "outputs": [
    {
     "data": {
      "text/plain": [
       "<sqlite3.Connection at 0x2de6691bd30>"
      ]
     },
     "execution_count": 19,
     "metadata": {},
     "output_type": "execute_result"
    }
   ],
   "source": [
    "conn = sqlite3.connect('../Data/db/fraude_detection_warehouse.db')\n",
    "conn"
   ]
  },
  {
   "cell_type": "code",
   "execution_count": 20,
   "metadata": {},
   "outputs": [
    {
     "data": {
      "text/html": [
       "<div>\n",
       "<style scoped>\n",
       "    .dataframe tbody tr th:only-of-type {\n",
       "        vertical-align: middle;\n",
       "    }\n",
       "\n",
       "    .dataframe tbody tr th {\n",
       "        vertical-align: top;\n",
       "    }\n",
       "\n",
       "    .dataframe thead th {\n",
       "        text-align: right;\n",
       "    }\n",
       "</style>\n",
       "<table border=\"1\" class=\"dataframe\">\n",
       "  <thead>\n",
       "    <tr style=\"text-align: right;\">\n",
       "      <th></th>\n",
       "      <th>device_id</th>\n",
       "      <th>device_type</th>\n",
       "      <th>os</th>\n",
       "      <th>manufacturer</th>\n",
       "      <th>model</th>\n",
       "      <th>last_used</th>\n",
       "    </tr>\n",
       "  </thead>\n",
       "  <tbody>\n",
       "    <tr>\n",
       "      <th>0</th>\n",
       "      <td>8a96984e-d3db-4e31-82d6-e1b50852f68b</td>\n",
       "      <td>mobile</td>\n",
       "      <td>mac</td>\n",
       "      <td>Sharp</td>\n",
       "      <td>aquos sense 5g</td>\n",
       "      <td>2022-04-02 11:11:44</td>\n",
       "    </tr>\n",
       "    <tr>\n",
       "      <th>1</th>\n",
       "      <td>0d829365-a658-4d98-8156-6b21c057ac5a</td>\n",
       "      <td>mobile</td>\n",
       "      <td>windows</td>\n",
       "      <td>Sharp</td>\n",
       "      <td>dynabook v8</td>\n",
       "      <td>2022-05-22 13:06:08</td>\n",
       "    </tr>\n",
       "    <tr>\n",
       "      <th>2</th>\n",
       "      <td>c05527c1-cbee-4b9e-aff3-eb461d9fb87f</td>\n",
       "      <td>mobile</td>\n",
       "      <td>mac</td>\n",
       "      <td>LG</td>\n",
       "      <td>spectre x3670</td>\n",
       "      <td>2023-10-23 13:21:55</td>\n",
       "    </tr>\n",
       "    <tr>\n",
       "      <th>3</th>\n",
       "      <td>f49fc408-5019-46c7-a43c-3df59c971b19</td>\n",
       "      <td>mobile</td>\n",
       "      <td>linux</td>\n",
       "      <td>SONY</td>\n",
       "      <td>VAIO SX14</td>\n",
       "      <td>2020-09-20 21:11:07</td>\n",
       "    </tr>\n",
       "    <tr>\n",
       "      <th>4</th>\n",
       "      <td>d92e2266-7ab1-469b-ac2b-78d3e7c81d61</td>\n",
       "      <td>mobile</td>\n",
       "      <td>windows</td>\n",
       "      <td>Sharp</td>\n",
       "      <td>Aquos R6</td>\n",
       "      <td>2021-06-20 09:08:54</td>\n",
       "    </tr>\n",
       "    <tr>\n",
       "      <th>...</th>\n",
       "      <td>...</td>\n",
       "      <td>...</td>\n",
       "      <td>...</td>\n",
       "      <td>...</td>\n",
       "      <td>...</td>\n",
       "      <td>...</td>\n",
       "    </tr>\n",
       "    <tr>\n",
       "      <th>99995</th>\n",
       "      <td>8a6a96d6-7f4d-4b17-8c1f-fa880f3a913e</td>\n",
       "      <td>tablette</td>\n",
       "      <td>android</td>\n",
       "      <td>Sharp</td>\n",
       "      <td>dynabook v8</td>\n",
       "      <td>2020-03-07 17:28:44</td>\n",
       "    </tr>\n",
       "    <tr>\n",
       "      <th>99996</th>\n",
       "      <td>5397bf66-b72f-4058-aa8d-6bcdc2aabbce</td>\n",
       "      <td>mobile</td>\n",
       "      <td>windows</td>\n",
       "      <td>HP</td>\n",
       "      <td>spectre x360</td>\n",
       "      <td>2024-06-27 18:27:15</td>\n",
       "    </tr>\n",
       "    <tr>\n",
       "      <th>99997</th>\n",
       "      <td>d9d0dd8b-e658-4169-9d55-c5a4e4793cfe</td>\n",
       "      <td>mobile</td>\n",
       "      <td>ios</td>\n",
       "      <td>Sharp</td>\n",
       "      <td>Aquos R6</td>\n",
       "      <td>2023-02-06 00:55:06</td>\n",
       "    </tr>\n",
       "    <tr>\n",
       "      <th>99998</th>\n",
       "      <td>218a546b-9dce-494a-b23d-218685c6c024</td>\n",
       "      <td>tablette</td>\n",
       "      <td>mac</td>\n",
       "      <td>LG</td>\n",
       "      <td>spectre x3670</td>\n",
       "      <td>2022-03-04 13:51:39</td>\n",
       "    </tr>\n",
       "    <tr>\n",
       "      <th>99999</th>\n",
       "      <td>8bbb19c1-8279-4e70-beed-131ef0d32684</td>\n",
       "      <td>mobile</td>\n",
       "      <td>mac</td>\n",
       "      <td>Sharp</td>\n",
       "      <td>dynabook v8</td>\n",
       "      <td>2021-11-22 12:48:32</td>\n",
       "    </tr>\n",
       "  </tbody>\n",
       "</table>\n",
       "<p>100000 rows × 6 columns</p>\n",
       "</div>"
      ],
      "text/plain": [
       "                                  device_id device_type       os manufacturer  \\\n",
       "0      8a96984e-d3db-4e31-82d6-e1b50852f68b      mobile      mac        Sharp   \n",
       "1      0d829365-a658-4d98-8156-6b21c057ac5a      mobile  windows        Sharp   \n",
       "2      c05527c1-cbee-4b9e-aff3-eb461d9fb87f      mobile      mac           LG   \n",
       "3      f49fc408-5019-46c7-a43c-3df59c971b19      mobile    linux         SONY   \n",
       "4      d92e2266-7ab1-469b-ac2b-78d3e7c81d61      mobile  windows        Sharp   \n",
       "...                                     ...         ...      ...          ...   \n",
       "99995  8a6a96d6-7f4d-4b17-8c1f-fa880f3a913e    tablette  android        Sharp   \n",
       "99996  5397bf66-b72f-4058-aa8d-6bcdc2aabbce      mobile  windows           HP   \n",
       "99997  d9d0dd8b-e658-4169-9d55-c5a4e4793cfe      mobile      ios        Sharp   \n",
       "99998  218a546b-9dce-494a-b23d-218685c6c024    tablette      mac           LG   \n",
       "99999  8bbb19c1-8279-4e70-beed-131ef0d32684      mobile      mac        Sharp   \n",
       "\n",
       "                model            last_used  \n",
       "0      aquos sense 5g  2022-04-02 11:11:44  \n",
       "1         dynabook v8  2022-05-22 13:06:08  \n",
       "2       spectre x3670  2023-10-23 13:21:55  \n",
       "3           VAIO SX14  2020-09-20 21:11:07  \n",
       "4            Aquos R6  2021-06-20 09:08:54  \n",
       "...               ...                  ...  \n",
       "99995     dynabook v8  2020-03-07 17:28:44  \n",
       "99996    spectre x360  2024-06-27 18:27:15  \n",
       "99997        Aquos R6  2023-02-06 00:55:06  \n",
       "99998   spectre x3670  2022-03-04 13:51:39  \n",
       "99999     dynabook v8  2021-11-22 12:48:32  \n",
       "\n",
       "[100000 rows x 6 columns]"
      ]
     },
     "execution_count": 20,
     "metadata": {},
     "output_type": "execute_result"
    }
   ],
   "source": [
    "data"
   ]
  },
  {
   "cell_type": "code",
   "execution_count": null,
   "metadata": {},
   "outputs": [],
   "source": []
  },
  {
   "cell_type": "code",
   "execution_count": 21,
   "metadata": {},
   "outputs": [
    {
     "data": {
      "text/plain": [
       "100000"
      ]
     },
     "execution_count": 21,
     "metadata": {},
     "output_type": "execute_result"
    }
   ],
   "source": [
    "#savegarde des data dans la base de donnee\n",
    "data.to_sql('devices',conn, if_exists='replace', index=False )"
   ]
  },
  {
   "cell_type": "code",
   "execution_count": 22,
   "metadata": {},
   "outputs": [
    {
     "data": {
      "text/html": [
       "<div>\n",
       "<style scoped>\n",
       "    .dataframe tbody tr th:only-of-type {\n",
       "        vertical-align: middle;\n",
       "    }\n",
       "\n",
       "    .dataframe tbody tr th {\n",
       "        vertical-align: top;\n",
       "    }\n",
       "\n",
       "    .dataframe thead th {\n",
       "        text-align: right;\n",
       "    }\n",
       "</style>\n",
       "<table border=\"1\" class=\"dataframe\">\n",
       "  <thead>\n",
       "    <tr style=\"text-align: right;\">\n",
       "      <th></th>\n",
       "      <th>device_id</th>\n",
       "      <th>device_type</th>\n",
       "      <th>os</th>\n",
       "      <th>manufacturer</th>\n",
       "      <th>model</th>\n",
       "      <th>last_used</th>\n",
       "    </tr>\n",
       "  </thead>\n",
       "  <tbody>\n",
       "    <tr>\n",
       "      <th>0</th>\n",
       "      <td>8a96984e-d3db-4e31-82d6-e1b50852f68b</td>\n",
       "      <td>mobile</td>\n",
       "      <td>mac</td>\n",
       "      <td>Sharp</td>\n",
       "      <td>aquos sense 5g</td>\n",
       "      <td>2022-04-02 11:11:44</td>\n",
       "    </tr>\n",
       "    <tr>\n",
       "      <th>1</th>\n",
       "      <td>0d829365-a658-4d98-8156-6b21c057ac5a</td>\n",
       "      <td>mobile</td>\n",
       "      <td>windows</td>\n",
       "      <td>Sharp</td>\n",
       "      <td>dynabook v8</td>\n",
       "      <td>2022-05-22 13:06:08</td>\n",
       "    </tr>\n",
       "    <tr>\n",
       "      <th>2</th>\n",
       "      <td>c05527c1-cbee-4b9e-aff3-eb461d9fb87f</td>\n",
       "      <td>mobile</td>\n",
       "      <td>mac</td>\n",
       "      <td>LG</td>\n",
       "      <td>spectre x3670</td>\n",
       "      <td>2023-10-23 13:21:55</td>\n",
       "    </tr>\n",
       "    <tr>\n",
       "      <th>3</th>\n",
       "      <td>f49fc408-5019-46c7-a43c-3df59c971b19</td>\n",
       "      <td>mobile</td>\n",
       "      <td>linux</td>\n",
       "      <td>SONY</td>\n",
       "      <td>VAIO SX14</td>\n",
       "      <td>2020-09-20 21:11:07</td>\n",
       "    </tr>\n",
       "    <tr>\n",
       "      <th>4</th>\n",
       "      <td>d92e2266-7ab1-469b-ac2b-78d3e7c81d61</td>\n",
       "      <td>mobile</td>\n",
       "      <td>windows</td>\n",
       "      <td>Sharp</td>\n",
       "      <td>Aquos R6</td>\n",
       "      <td>2021-06-20 09:08:54</td>\n",
       "    </tr>\n",
       "    <tr>\n",
       "      <th>...</th>\n",
       "      <td>...</td>\n",
       "      <td>...</td>\n",
       "      <td>...</td>\n",
       "      <td>...</td>\n",
       "      <td>...</td>\n",
       "      <td>...</td>\n",
       "    </tr>\n",
       "    <tr>\n",
       "      <th>99991</th>\n",
       "      <td>b1674412-db57-4f2f-ab36-a6214246ec26</td>\n",
       "      <td>mobile</td>\n",
       "      <td>linux</td>\n",
       "      <td>Sharp</td>\n",
       "      <td>aquos sense 5g</td>\n",
       "      <td>2021-03-24 20:21:55</td>\n",
       "    </tr>\n",
       "    <tr>\n",
       "      <th>99994</th>\n",
       "      <td>8bba9752-0022-489c-b0b9-a31d044ba7e2</td>\n",
       "      <td>mobile</td>\n",
       "      <td>linux</td>\n",
       "      <td>Sharp</td>\n",
       "      <td>aquos sense 5g</td>\n",
       "      <td>2021-04-06 07:13:07</td>\n",
       "    </tr>\n",
       "    <tr>\n",
       "      <th>99996</th>\n",
       "      <td>5397bf66-b72f-4058-aa8d-6bcdc2aabbce</td>\n",
       "      <td>mobile</td>\n",
       "      <td>windows</td>\n",
       "      <td>HP</td>\n",
       "      <td>spectre x360</td>\n",
       "      <td>2024-06-27 18:27:15</td>\n",
       "    </tr>\n",
       "    <tr>\n",
       "      <th>99997</th>\n",
       "      <td>d9d0dd8b-e658-4169-9d55-c5a4e4793cfe</td>\n",
       "      <td>mobile</td>\n",
       "      <td>ios</td>\n",
       "      <td>Sharp</td>\n",
       "      <td>Aquos R6</td>\n",
       "      <td>2023-02-06 00:55:06</td>\n",
       "    </tr>\n",
       "    <tr>\n",
       "      <th>99999</th>\n",
       "      <td>8bbb19c1-8279-4e70-beed-131ef0d32684</td>\n",
       "      <td>mobile</td>\n",
       "      <td>mac</td>\n",
       "      <td>Sharp</td>\n",
       "      <td>dynabook v8</td>\n",
       "      <td>2021-11-22 12:48:32</td>\n",
       "    </tr>\n",
       "  </tbody>\n",
       "</table>\n",
       "<p>49802 rows × 6 columns</p>\n",
       "</div>"
      ],
      "text/plain": [
       "                                  device_id device_type       os manufacturer  \\\n",
       "0      8a96984e-d3db-4e31-82d6-e1b50852f68b      mobile      mac        Sharp   \n",
       "1      0d829365-a658-4d98-8156-6b21c057ac5a      mobile  windows        Sharp   \n",
       "2      c05527c1-cbee-4b9e-aff3-eb461d9fb87f      mobile      mac           LG   \n",
       "3      f49fc408-5019-46c7-a43c-3df59c971b19      mobile    linux         SONY   \n",
       "4      d92e2266-7ab1-469b-ac2b-78d3e7c81d61      mobile  windows        Sharp   \n",
       "...                                     ...         ...      ...          ...   \n",
       "99991  b1674412-db57-4f2f-ab36-a6214246ec26      mobile    linux        Sharp   \n",
       "99994  8bba9752-0022-489c-b0b9-a31d044ba7e2      mobile    linux        Sharp   \n",
       "99996  5397bf66-b72f-4058-aa8d-6bcdc2aabbce      mobile  windows           HP   \n",
       "99997  d9d0dd8b-e658-4169-9d55-c5a4e4793cfe      mobile      ios        Sharp   \n",
       "99999  8bbb19c1-8279-4e70-beed-131ef0d32684      mobile      mac        Sharp   \n",
       "\n",
       "                model            last_used  \n",
       "0      aquos sense 5g  2022-04-02 11:11:44  \n",
       "1         dynabook v8  2022-05-22 13:06:08  \n",
       "2       spectre x3670  2023-10-23 13:21:55  \n",
       "3           VAIO SX14  2020-09-20 21:11:07  \n",
       "4            Aquos R6  2021-06-20 09:08:54  \n",
       "...               ...                  ...  \n",
       "99991  aquos sense 5g  2021-03-24 20:21:55  \n",
       "99994  aquos sense 5g  2021-04-06 07:13:07  \n",
       "99996    spectre x360  2024-06-27 18:27:15  \n",
       "99997        Aquos R6  2023-02-06 00:55:06  \n",
       "99999     dynabook v8  2021-11-22 12:48:32  \n",
       "\n",
       "[49802 rows x 6 columns]"
      ]
     },
     "execution_count": 22,
     "metadata": {},
     "output_type": "execute_result"
    }
   ],
   "source": [
    "\n",
    "# filtrage en pandas  pour afficher tous les devices de type mobile \n",
    "data[data.device_type=='mobile']"
   ]
  },
  {
   "cell_type": "code",
   "execution_count": null,
   "metadata": {},
   "outputs": [],
   "source": []
  },
  {
   "cell_type": "code",
   "execution_count": 23,
   "metadata": {},
   "outputs": [],
   "source": [
    "# filtrage en SQL  pour afficher tous les devices de type mobile \n",
    "query = \"\"\" \n",
    "SELECT * FROM  devices\n",
    "WHERE device_type= 'mobile'\n",
    "\n",
    "\"\"\""
   ]
  },
  {
   "cell_type": "code",
   "execution_count": 24,
   "metadata": {},
   "outputs": [],
   "source": [
    "# excution du filtrage \n",
    "\n",
    "query_data = pd.read_sql(query , conn )"
   ]
  },
  {
   "cell_type": "code",
   "execution_count": 25,
   "metadata": {},
   "outputs": [
    {
     "data": {
      "text/html": [
       "<div>\n",
       "<style scoped>\n",
       "    .dataframe tbody tr th:only-of-type {\n",
       "        vertical-align: middle;\n",
       "    }\n",
       "\n",
       "    .dataframe tbody tr th {\n",
       "        vertical-align: top;\n",
       "    }\n",
       "\n",
       "    .dataframe thead th {\n",
       "        text-align: right;\n",
       "    }\n",
       "</style>\n",
       "<table border=\"1\" class=\"dataframe\">\n",
       "  <thead>\n",
       "    <tr style=\"text-align: right;\">\n",
       "      <th></th>\n",
       "      <th>device_id</th>\n",
       "      <th>device_type</th>\n",
       "      <th>os</th>\n",
       "      <th>manufacturer</th>\n",
       "      <th>model</th>\n",
       "      <th>last_used</th>\n",
       "    </tr>\n",
       "  </thead>\n",
       "  <tbody>\n",
       "    <tr>\n",
       "      <th>0</th>\n",
       "      <td>8a96984e-d3db-4e31-82d6-e1b50852f68b</td>\n",
       "      <td>mobile</td>\n",
       "      <td>mac</td>\n",
       "      <td>Sharp</td>\n",
       "      <td>aquos sense 5g</td>\n",
       "      <td>2022-04-02 11:11:44</td>\n",
       "    </tr>\n",
       "    <tr>\n",
       "      <th>1</th>\n",
       "      <td>0d829365-a658-4d98-8156-6b21c057ac5a</td>\n",
       "      <td>mobile</td>\n",
       "      <td>windows</td>\n",
       "      <td>Sharp</td>\n",
       "      <td>dynabook v8</td>\n",
       "      <td>2022-05-22 13:06:08</td>\n",
       "    </tr>\n",
       "    <tr>\n",
       "      <th>2</th>\n",
       "      <td>c05527c1-cbee-4b9e-aff3-eb461d9fb87f</td>\n",
       "      <td>mobile</td>\n",
       "      <td>mac</td>\n",
       "      <td>LG</td>\n",
       "      <td>spectre x3670</td>\n",
       "      <td>2023-10-23 13:21:55</td>\n",
       "    </tr>\n",
       "    <tr>\n",
       "      <th>3</th>\n",
       "      <td>f49fc408-5019-46c7-a43c-3df59c971b19</td>\n",
       "      <td>mobile</td>\n",
       "      <td>linux</td>\n",
       "      <td>SONY</td>\n",
       "      <td>VAIO SX14</td>\n",
       "      <td>2020-09-20 21:11:07</td>\n",
       "    </tr>\n",
       "    <tr>\n",
       "      <th>4</th>\n",
       "      <td>d92e2266-7ab1-469b-ac2b-78d3e7c81d61</td>\n",
       "      <td>mobile</td>\n",
       "      <td>windows</td>\n",
       "      <td>Sharp</td>\n",
       "      <td>Aquos R6</td>\n",
       "      <td>2021-06-20 09:08:54</td>\n",
       "    </tr>\n",
       "    <tr>\n",
       "      <th>...</th>\n",
       "      <td>...</td>\n",
       "      <td>...</td>\n",
       "      <td>...</td>\n",
       "      <td>...</td>\n",
       "      <td>...</td>\n",
       "      <td>...</td>\n",
       "    </tr>\n",
       "    <tr>\n",
       "      <th>49797</th>\n",
       "      <td>b1674412-db57-4f2f-ab36-a6214246ec26</td>\n",
       "      <td>mobile</td>\n",
       "      <td>linux</td>\n",
       "      <td>Sharp</td>\n",
       "      <td>aquos sense 5g</td>\n",
       "      <td>2021-03-24 20:21:55</td>\n",
       "    </tr>\n",
       "    <tr>\n",
       "      <th>49798</th>\n",
       "      <td>8bba9752-0022-489c-b0b9-a31d044ba7e2</td>\n",
       "      <td>mobile</td>\n",
       "      <td>linux</td>\n",
       "      <td>Sharp</td>\n",
       "      <td>aquos sense 5g</td>\n",
       "      <td>2021-04-06 07:13:07</td>\n",
       "    </tr>\n",
       "    <tr>\n",
       "      <th>49799</th>\n",
       "      <td>5397bf66-b72f-4058-aa8d-6bcdc2aabbce</td>\n",
       "      <td>mobile</td>\n",
       "      <td>windows</td>\n",
       "      <td>HP</td>\n",
       "      <td>spectre x360</td>\n",
       "      <td>2024-06-27 18:27:15</td>\n",
       "    </tr>\n",
       "    <tr>\n",
       "      <th>49800</th>\n",
       "      <td>d9d0dd8b-e658-4169-9d55-c5a4e4793cfe</td>\n",
       "      <td>mobile</td>\n",
       "      <td>ios</td>\n",
       "      <td>Sharp</td>\n",
       "      <td>Aquos R6</td>\n",
       "      <td>2023-02-06 00:55:06</td>\n",
       "    </tr>\n",
       "    <tr>\n",
       "      <th>49801</th>\n",
       "      <td>8bbb19c1-8279-4e70-beed-131ef0d32684</td>\n",
       "      <td>mobile</td>\n",
       "      <td>mac</td>\n",
       "      <td>Sharp</td>\n",
       "      <td>dynabook v8</td>\n",
       "      <td>2021-11-22 12:48:32</td>\n",
       "    </tr>\n",
       "  </tbody>\n",
       "</table>\n",
       "<p>49802 rows × 6 columns</p>\n",
       "</div>"
      ],
      "text/plain": [
       "                                  device_id device_type       os manufacturer  \\\n",
       "0      8a96984e-d3db-4e31-82d6-e1b50852f68b      mobile      mac        Sharp   \n",
       "1      0d829365-a658-4d98-8156-6b21c057ac5a      mobile  windows        Sharp   \n",
       "2      c05527c1-cbee-4b9e-aff3-eb461d9fb87f      mobile      mac           LG   \n",
       "3      f49fc408-5019-46c7-a43c-3df59c971b19      mobile    linux         SONY   \n",
       "4      d92e2266-7ab1-469b-ac2b-78d3e7c81d61      mobile  windows        Sharp   \n",
       "...                                     ...         ...      ...          ...   \n",
       "49797  b1674412-db57-4f2f-ab36-a6214246ec26      mobile    linux        Sharp   \n",
       "49798  8bba9752-0022-489c-b0b9-a31d044ba7e2      mobile    linux        Sharp   \n",
       "49799  5397bf66-b72f-4058-aa8d-6bcdc2aabbce      mobile  windows           HP   \n",
       "49800  d9d0dd8b-e658-4169-9d55-c5a4e4793cfe      mobile      ios        Sharp   \n",
       "49801  8bbb19c1-8279-4e70-beed-131ef0d32684      mobile      mac        Sharp   \n",
       "\n",
       "                model            last_used  \n",
       "0      aquos sense 5g  2022-04-02 11:11:44  \n",
       "1         dynabook v8  2022-05-22 13:06:08  \n",
       "2       spectre x3670  2023-10-23 13:21:55  \n",
       "3           VAIO SX14  2020-09-20 21:11:07  \n",
       "4            Aquos R6  2021-06-20 09:08:54  \n",
       "...               ...                  ...  \n",
       "49797  aquos sense 5g  2021-03-24 20:21:55  \n",
       "49798  aquos sense 5g  2021-04-06 07:13:07  \n",
       "49799    spectre x360  2024-06-27 18:27:15  \n",
       "49800        Aquos R6  2023-02-06 00:55:06  \n",
       "49801     dynabook v8  2021-11-22 12:48:32  \n",
       "\n",
       "[49802 rows x 6 columns]"
      ]
     },
     "execution_count": 25,
     "metadata": {},
     "output_type": "execute_result"
    }
   ],
   "source": [
    "# affichage du filtrage \n",
    "\n",
    "query_data"
   ]
  },
  {
   "cell_type": "code",
   "execution_count": null,
   "metadata": {},
   "outputs": [],
   "source": []
  },
  {
   "cell_type": "code",
   "execution_count": null,
   "metadata": {},
   "outputs": [],
   "source": []
  },
  {
   "cell_type": "markdown",
   "metadata": {},
   "source": [
    "### SAVE ALL DATA "
   ]
  },
  {
   "cell_type": "code",
   "execution_count": 26,
   "metadata": {},
   "outputs": [],
   "source": [
    "## LISTER TOUS LES FICHIERS DATA DISPONIBLE "
   ]
  },
  {
   "cell_type": "code",
   "execution_count": 27,
   "metadata": {},
   "outputs": [
    {
     "data": {
      "text/plain": [
       "['../Data/Train\\\\alerts.csv',\n",
       " '../Data/Train\\\\customers.csv',\n",
       " '../Data/Train\\\\devices.csv',\n",
       " '../Data/Train\\\\transactions.csv',\n",
       " '../Data/Train\\\\transaction_history.csv',\n",
       " '../Data/Train\\\\transaction_patterns.csv']"
      ]
     },
     "execution_count": 27,
     "metadata": {},
     "output_type": "execute_result"
    }
   ],
   "source": [
    "list_data = glob('../Data/Train/*')\n",
    "list_data"
   ]
  },
  {
   "cell_type": "code",
   "execution_count": null,
   "metadata": {},
   "outputs": [],
   "source": []
  },
  {
   "cell_type": "code",
   "execution_count": 28,
   "metadata": {},
   "outputs": [
    {
     "data": {
      "text/plain": [
       "'alerts'"
      ]
     },
     "execution_count": 28,
     "metadata": {},
     "output_type": "execute_result"
    }
   ],
   "source": [
    "## separation du nom du fichier\n",
    "name_tables = list_data[0].split(os.sep)[-1].split('.')[0]\n",
    "name_tables = name_tables.split('.')[0]\n",
    "name_tables"
   ]
  },
  {
   "cell_type": "code",
   "execution_count": null,
   "metadata": {},
   "outputs": [],
   "source": []
  },
  {
   "cell_type": "markdown",
   "metadata": {},
   "source": [
    "### CHARGEMENT DE TOUS LES FICHIERS DANS LA BASE DE DONNEES"
   ]
  },
  {
   "cell_type": "code",
   "execution_count": 29,
   "metadata": {},
   "outputs": [
    {
     "name": "stderr",
     "output_type": "stream",
     "text": [
      " 17%|█▋        | 1/6 [00:00<00:00,  7.81it/s]"
     ]
    },
    {
     "name": "stdout",
     "output_type": "stream",
     "text": [
      "alerts\n"
     ]
    },
    {
     "name": "stderr",
     "output_type": "stream",
     "text": [
      " 33%|███▎      | 2/6 [00:00<00:01,  3.92it/s]"
     ]
    },
    {
     "name": "stdout",
     "output_type": "stream",
     "text": [
      "customers\n"
     ]
    },
    {
     "name": "stderr",
     "output_type": "stream",
     "text": [
      " 50%|█████     | 3/6 [00:01<00:01,  1.73it/s]"
     ]
    },
    {
     "name": "stdout",
     "output_type": "stream",
     "text": [
      "devices\n"
     ]
    },
    {
     "name": "stderr",
     "output_type": "stream",
     "text": [
      " 67%|██████▋   | 4/6 [00:02<00:01,  1.19it/s]"
     ]
    },
    {
     "name": "stdout",
     "output_type": "stream",
     "text": [
      "transactions\n"
     ]
    },
    {
     "name": "stderr",
     "output_type": "stream",
     "text": [
      " 83%|████████▎ | 5/6 [00:03<00:00,  1.07it/s]"
     ]
    },
    {
     "name": "stdout",
     "output_type": "stream",
     "text": [
      "transaction_history\n"
     ]
    },
    {
     "name": "stderr",
     "output_type": "stream",
     "text": [
      "100%|██████████| 6/6 [00:04<00:00,  1.21it/s]"
     ]
    },
    {
     "name": "stdout",
     "output_type": "stream",
     "text": [
      "transaction_patterns\n"
     ]
    },
    {
     "name": "stderr",
     "output_type": "stream",
     "text": [
      "\n"
     ]
    }
   ],
   "source": [
    "for table in tqdm(list_data) : \n",
    "    name_tables = table.split(os.sep)[-1].split('.')[0]  # recuperation du nom de la table a partir du path \n",
    "    data_tmp =  pd.read_csv(table)  # chargement de la csv avec pandas \n",
    "    data_tmp.to_sql(name_tables , conn , if_exists='replace', index=False) # savegarde du csv dans le base de donnee \n",
    "    \n",
    "    print(name_tables)"
   ]
  },
  {
   "cell_type": "code",
   "execution_count": null,
   "metadata": {},
   "outputs": [],
   "source": []
  }
 ],
 "metadata": {
  "kernelspec": {
   "display_name": "Python 3 (ipykernel)",
   "language": "python",
   "name": "python3"
  },
  "language_info": {
   "codemirror_mode": {
    "name": "ipython",
    "version": 3
   },
   "file_extension": ".py",
   "mimetype": "text/x-python",
   "name": "python",
   "nbconvert_exporter": "python",
   "pygments_lexer": "ipython3",
   "version": "3.11.8"
  }
 },
 "nbformat": 4,
 "nbformat_minor": 4
}
