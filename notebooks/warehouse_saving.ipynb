{
 "cells": [
  {
   "cell_type": "code",
   "execution_count": 18,
   "metadata": {},
   "outputs": [],
   "source": [
    "import pandas as pd \n",
    "from tqdm import tqdm \n",
    "import sqlite3 \n",
    "import os \n",
    "from glob import glob "
   ]
  },
  {
   "cell_type": "code",
   "execution_count": 19,
   "metadata": {},
   "outputs": [],
   "source": [
    "# ! pip install sqlite"
   ]
  },
  {
   "cell_type": "code",
   "execution_count": 20,
   "metadata": {},
   "outputs": [
    {
     "data": {
      "text/html": [
       "<div>\n",
       "<style scoped>\n",
       "    .dataframe tbody tr th:only-of-type {\n",
       "        vertical-align: middle;\n",
       "    }\n",
       "\n",
       "    .dataframe tbody tr th {\n",
       "        vertical-align: top;\n",
       "    }\n",
       "\n",
       "    .dataframe thead th {\n",
       "        text-align: right;\n",
       "    }\n",
       "</style>\n",
       "<table border=\"1\" class=\"dataframe\">\n",
       "  <thead>\n",
       "    <tr style=\"text-align: right;\">\n",
       "      <th></th>\n",
       "      <th>device_id</th>\n",
       "      <th>device_type</th>\n",
       "      <th>os</th>\n",
       "      <th>manufacturer</th>\n",
       "      <th>model</th>\n",
       "      <th>last_used</th>\n",
       "    </tr>\n",
       "  </thead>\n",
       "  <tbody>\n",
       "    <tr>\n",
       "      <th>0</th>\n",
       "      <td>06541b61-b69c-4cb5-97d9-7f06ac10f5d7</td>\n",
       "      <td>mobile</td>\n",
       "      <td>linux</td>\n",
       "      <td>LG</td>\n",
       "      <td>Gram 17</td>\n",
       "      <td>2020-10-24 01:22:19</td>\n",
       "    </tr>\n",
       "    <tr>\n",
       "      <th>1</th>\n",
       "      <td>776ca6be-bc20-4ac6-af4c-4fe0c4b26a86</td>\n",
       "      <td>tablette</td>\n",
       "      <td>ios</td>\n",
       "      <td>Sharp</td>\n",
       "      <td>Aquos R6</td>\n",
       "      <td>2020-07-22 10:19:26</td>\n",
       "    </tr>\n",
       "    <tr>\n",
       "      <th>2</th>\n",
       "      <td>e6d85865-1263-45a9-86f4-82e8bda35dee</td>\n",
       "      <td>mobile</td>\n",
       "      <td>windows</td>\n",
       "      <td>LG</td>\n",
       "      <td>NanoCell TV</td>\n",
       "      <td>2022-07-24 00:39:22</td>\n",
       "    </tr>\n",
       "    <tr>\n",
       "      <th>3</th>\n",
       "      <td>70b34b3f-3c55-4e17-9bf1-549219cea31f</td>\n",
       "      <td>tablette</td>\n",
       "      <td>windows</td>\n",
       "      <td>Apple</td>\n",
       "      <td>iphone Xr</td>\n",
       "      <td>2020-03-02 13:32:33</td>\n",
       "    </tr>\n",
       "    <tr>\n",
       "      <th>4</th>\n",
       "      <td>94e8a482-c971-47f3-8b3c-711968667b1e</td>\n",
       "      <td>tablette</td>\n",
       "      <td>mac</td>\n",
       "      <td>Sharp</td>\n",
       "      <td>aquos sense 5g</td>\n",
       "      <td>2024-07-11 03:15:40</td>\n",
       "    </tr>\n",
       "    <tr>\n",
       "      <th>...</th>\n",
       "      <td>...</td>\n",
       "      <td>...</td>\n",
       "      <td>...</td>\n",
       "      <td>...</td>\n",
       "      <td>...</td>\n",
       "      <td>...</td>\n",
       "    </tr>\n",
       "    <tr>\n",
       "      <th>99995</th>\n",
       "      <td>9769403b-2acb-4034-aaa5-2663d5a12c9c</td>\n",
       "      <td>mobile</td>\n",
       "      <td>windows</td>\n",
       "      <td>dell</td>\n",
       "      <td>XPS 13</td>\n",
       "      <td>2021-08-08 15:46:34</td>\n",
       "    </tr>\n",
       "    <tr>\n",
       "      <th>99996</th>\n",
       "      <td>d1015eca-9364-452c-983e-355aac7734bf</td>\n",
       "      <td>mobile</td>\n",
       "      <td>windows</td>\n",
       "      <td>dell</td>\n",
       "      <td>LATITUDE 7410</td>\n",
       "      <td>2021-05-13 01:01:10</td>\n",
       "    </tr>\n",
       "    <tr>\n",
       "      <th>99997</th>\n",
       "      <td>f6a2a675-c5b2-4a89-8a79-7e3da9c81b5f</td>\n",
       "      <td>tablette</td>\n",
       "      <td>windows</td>\n",
       "      <td>LG</td>\n",
       "      <td>envy45</td>\n",
       "      <td>2023-05-13 00:06:33</td>\n",
       "    </tr>\n",
       "    <tr>\n",
       "      <th>99998</th>\n",
       "      <td>b8e87053-8102-47d2-bcf0-cac0311ff819</td>\n",
       "      <td>mobile</td>\n",
       "      <td>mac</td>\n",
       "      <td>LG</td>\n",
       "      <td>NanoCell TV</td>\n",
       "      <td>2020-06-29 09:59:20</td>\n",
       "    </tr>\n",
       "    <tr>\n",
       "      <th>99999</th>\n",
       "      <td>dbb9cbb3-0450-4848-88d9-646a186d2558</td>\n",
       "      <td>mobile</td>\n",
       "      <td>mac</td>\n",
       "      <td>HP</td>\n",
       "      <td>envy 13</td>\n",
       "      <td>2022-06-03 05:18:30</td>\n",
       "    </tr>\n",
       "  </tbody>\n",
       "</table>\n",
       "<p>100000 rows × 6 columns</p>\n",
       "</div>"
      ],
      "text/plain": [
       "                                  device_id device_type       os manufacturer  \\\n",
       "0      06541b61-b69c-4cb5-97d9-7f06ac10f5d7      mobile    linux           LG   \n",
       "1      776ca6be-bc20-4ac6-af4c-4fe0c4b26a86    tablette      ios        Sharp   \n",
       "2      e6d85865-1263-45a9-86f4-82e8bda35dee      mobile  windows           LG   \n",
       "3      70b34b3f-3c55-4e17-9bf1-549219cea31f    tablette  windows        Apple   \n",
       "4      94e8a482-c971-47f3-8b3c-711968667b1e    tablette      mac        Sharp   \n",
       "...                                     ...         ...      ...          ...   \n",
       "99995  9769403b-2acb-4034-aaa5-2663d5a12c9c      mobile  windows         dell   \n",
       "99996  d1015eca-9364-452c-983e-355aac7734bf      mobile  windows         dell   \n",
       "99997  f6a2a675-c5b2-4a89-8a79-7e3da9c81b5f    tablette  windows           LG   \n",
       "99998  b8e87053-8102-47d2-bcf0-cac0311ff819      mobile      mac           LG   \n",
       "99999  dbb9cbb3-0450-4848-88d9-646a186d2558      mobile      mac           HP   \n",
       "\n",
       "                model            last_used  \n",
       "0             Gram 17  2020-10-24 01:22:19  \n",
       "1            Aquos R6  2020-07-22 10:19:26  \n",
       "2         NanoCell TV  2022-07-24 00:39:22  \n",
       "3           iphone Xr  2020-03-02 13:32:33  \n",
       "4      aquos sense 5g  2024-07-11 03:15:40  \n",
       "...               ...                  ...  \n",
       "99995          XPS 13  2021-08-08 15:46:34  \n",
       "99996   LATITUDE 7410  2021-05-13 01:01:10  \n",
       "99997          envy45  2023-05-13 00:06:33  \n",
       "99998     NanoCell TV  2020-06-29 09:59:20  \n",
       "99999         envy 13  2022-06-03 05:18:30  \n",
       "\n",
       "[100000 rows x 6 columns]"
      ]
     },
     "execution_count": 20,
     "metadata": {},
     "output_type": "execute_result"
    }
   ],
   "source": [
    "# charger mes donnees\n",
    "\n",
    "data = pd.read_csv('../Data/Train/devices.csv')\n",
    "data"
   ]
  },
  {
   "cell_type": "markdown",
   "metadata": {},
   "source": [
    "# creation de la  connection avec  la base de donnee sqlite"
   ]
  },
  {
   "cell_type": "markdown",
   "metadata": {},
   "source": [
    "#####  IL EST IMPORTANT D'AVOIR LA BASE DE DONNE  fraude_detection_warehouse.db OU D'EN CREE UNE AVEC CE NOM \n"
   ]
  },
  {
   "cell_type": "code",
   "execution_count": 21,
   "metadata": {},
   "outputs": [
    {
     "data": {
      "text/plain": [
       "<sqlite3.Connection at 0x1d98d146e30>"
      ]
     },
     "execution_count": 21,
     "metadata": {},
     "output_type": "execute_result"
    }
   ],
   "source": [
    "conn = sqlite3.connect('../Data/db/fraude_detection_warehouse.db')\n",
    "conn"
   ]
  },
  {
   "cell_type": "code",
   "execution_count": 22,
   "metadata": {},
   "outputs": [
    {
     "data": {
      "text/html": [
       "<div>\n",
       "<style scoped>\n",
       "    .dataframe tbody tr th:only-of-type {\n",
       "        vertical-align: middle;\n",
       "    }\n",
       "\n",
       "    .dataframe tbody tr th {\n",
       "        vertical-align: top;\n",
       "    }\n",
       "\n",
       "    .dataframe thead th {\n",
       "        text-align: right;\n",
       "    }\n",
       "</style>\n",
       "<table border=\"1\" class=\"dataframe\">\n",
       "  <thead>\n",
       "    <tr style=\"text-align: right;\">\n",
       "      <th></th>\n",
       "      <th>device_id</th>\n",
       "      <th>device_type</th>\n",
       "      <th>os</th>\n",
       "      <th>manufacturer</th>\n",
       "      <th>model</th>\n",
       "      <th>last_used</th>\n",
       "    </tr>\n",
       "  </thead>\n",
       "  <tbody>\n",
       "    <tr>\n",
       "      <th>0</th>\n",
       "      <td>06541b61-b69c-4cb5-97d9-7f06ac10f5d7</td>\n",
       "      <td>mobile</td>\n",
       "      <td>linux</td>\n",
       "      <td>LG</td>\n",
       "      <td>Gram 17</td>\n",
       "      <td>2020-10-24 01:22:19</td>\n",
       "    </tr>\n",
       "    <tr>\n",
       "      <th>1</th>\n",
       "      <td>776ca6be-bc20-4ac6-af4c-4fe0c4b26a86</td>\n",
       "      <td>tablette</td>\n",
       "      <td>ios</td>\n",
       "      <td>Sharp</td>\n",
       "      <td>Aquos R6</td>\n",
       "      <td>2020-07-22 10:19:26</td>\n",
       "    </tr>\n",
       "    <tr>\n",
       "      <th>2</th>\n",
       "      <td>e6d85865-1263-45a9-86f4-82e8bda35dee</td>\n",
       "      <td>mobile</td>\n",
       "      <td>windows</td>\n",
       "      <td>LG</td>\n",
       "      <td>NanoCell TV</td>\n",
       "      <td>2022-07-24 00:39:22</td>\n",
       "    </tr>\n",
       "    <tr>\n",
       "      <th>3</th>\n",
       "      <td>70b34b3f-3c55-4e17-9bf1-549219cea31f</td>\n",
       "      <td>tablette</td>\n",
       "      <td>windows</td>\n",
       "      <td>Apple</td>\n",
       "      <td>iphone Xr</td>\n",
       "      <td>2020-03-02 13:32:33</td>\n",
       "    </tr>\n",
       "    <tr>\n",
       "      <th>4</th>\n",
       "      <td>94e8a482-c971-47f3-8b3c-711968667b1e</td>\n",
       "      <td>tablette</td>\n",
       "      <td>mac</td>\n",
       "      <td>Sharp</td>\n",
       "      <td>aquos sense 5g</td>\n",
       "      <td>2024-07-11 03:15:40</td>\n",
       "    </tr>\n",
       "    <tr>\n",
       "      <th>...</th>\n",
       "      <td>...</td>\n",
       "      <td>...</td>\n",
       "      <td>...</td>\n",
       "      <td>...</td>\n",
       "      <td>...</td>\n",
       "      <td>...</td>\n",
       "    </tr>\n",
       "    <tr>\n",
       "      <th>99995</th>\n",
       "      <td>9769403b-2acb-4034-aaa5-2663d5a12c9c</td>\n",
       "      <td>mobile</td>\n",
       "      <td>windows</td>\n",
       "      <td>dell</td>\n",
       "      <td>XPS 13</td>\n",
       "      <td>2021-08-08 15:46:34</td>\n",
       "    </tr>\n",
       "    <tr>\n",
       "      <th>99996</th>\n",
       "      <td>d1015eca-9364-452c-983e-355aac7734bf</td>\n",
       "      <td>mobile</td>\n",
       "      <td>windows</td>\n",
       "      <td>dell</td>\n",
       "      <td>LATITUDE 7410</td>\n",
       "      <td>2021-05-13 01:01:10</td>\n",
       "    </tr>\n",
       "    <tr>\n",
       "      <th>99997</th>\n",
       "      <td>f6a2a675-c5b2-4a89-8a79-7e3da9c81b5f</td>\n",
       "      <td>tablette</td>\n",
       "      <td>windows</td>\n",
       "      <td>LG</td>\n",
       "      <td>envy45</td>\n",
       "      <td>2023-05-13 00:06:33</td>\n",
       "    </tr>\n",
       "    <tr>\n",
       "      <th>99998</th>\n",
       "      <td>b8e87053-8102-47d2-bcf0-cac0311ff819</td>\n",
       "      <td>mobile</td>\n",
       "      <td>mac</td>\n",
       "      <td>LG</td>\n",
       "      <td>NanoCell TV</td>\n",
       "      <td>2020-06-29 09:59:20</td>\n",
       "    </tr>\n",
       "    <tr>\n",
       "      <th>99999</th>\n",
       "      <td>dbb9cbb3-0450-4848-88d9-646a186d2558</td>\n",
       "      <td>mobile</td>\n",
       "      <td>mac</td>\n",
       "      <td>HP</td>\n",
       "      <td>envy 13</td>\n",
       "      <td>2022-06-03 05:18:30</td>\n",
       "    </tr>\n",
       "  </tbody>\n",
       "</table>\n",
       "<p>100000 rows × 6 columns</p>\n",
       "</div>"
      ],
      "text/plain": [
       "                                  device_id device_type       os manufacturer  \\\n",
       "0      06541b61-b69c-4cb5-97d9-7f06ac10f5d7      mobile    linux           LG   \n",
       "1      776ca6be-bc20-4ac6-af4c-4fe0c4b26a86    tablette      ios        Sharp   \n",
       "2      e6d85865-1263-45a9-86f4-82e8bda35dee      mobile  windows           LG   \n",
       "3      70b34b3f-3c55-4e17-9bf1-549219cea31f    tablette  windows        Apple   \n",
       "4      94e8a482-c971-47f3-8b3c-711968667b1e    tablette      mac        Sharp   \n",
       "...                                     ...         ...      ...          ...   \n",
       "99995  9769403b-2acb-4034-aaa5-2663d5a12c9c      mobile  windows         dell   \n",
       "99996  d1015eca-9364-452c-983e-355aac7734bf      mobile  windows         dell   \n",
       "99997  f6a2a675-c5b2-4a89-8a79-7e3da9c81b5f    tablette  windows           LG   \n",
       "99998  b8e87053-8102-47d2-bcf0-cac0311ff819      mobile      mac           LG   \n",
       "99999  dbb9cbb3-0450-4848-88d9-646a186d2558      mobile      mac           HP   \n",
       "\n",
       "                model            last_used  \n",
       "0             Gram 17  2020-10-24 01:22:19  \n",
       "1            Aquos R6  2020-07-22 10:19:26  \n",
       "2         NanoCell TV  2022-07-24 00:39:22  \n",
       "3           iphone Xr  2020-03-02 13:32:33  \n",
       "4      aquos sense 5g  2024-07-11 03:15:40  \n",
       "...               ...                  ...  \n",
       "99995          XPS 13  2021-08-08 15:46:34  \n",
       "99996   LATITUDE 7410  2021-05-13 01:01:10  \n",
       "99997          envy45  2023-05-13 00:06:33  \n",
       "99998     NanoCell TV  2020-06-29 09:59:20  \n",
       "99999         envy 13  2022-06-03 05:18:30  \n",
       "\n",
       "[100000 rows x 6 columns]"
      ]
     },
     "execution_count": 22,
     "metadata": {},
     "output_type": "execute_result"
    }
   ],
   "source": [
    "data"
   ]
  },
  {
   "cell_type": "code",
   "execution_count": null,
   "metadata": {},
   "outputs": [],
   "source": []
  },
  {
   "cell_type": "code",
   "execution_count": 23,
   "metadata": {},
   "outputs": [
    {
     "data": {
      "text/plain": [
       "100000"
      ]
     },
     "execution_count": 23,
     "metadata": {},
     "output_type": "execute_result"
    }
   ],
   "source": [
    "#savegarde des data dans la base de donnee\n",
    "data.to_sql('devices',conn, if_exists='replace', index=False )"
   ]
  },
  {
   "cell_type": "code",
   "execution_count": 24,
   "metadata": {},
   "outputs": [
    {
     "data": {
      "text/html": [
       "<div>\n",
       "<style scoped>\n",
       "    .dataframe tbody tr th:only-of-type {\n",
       "        vertical-align: middle;\n",
       "    }\n",
       "\n",
       "    .dataframe tbody tr th {\n",
       "        vertical-align: top;\n",
       "    }\n",
       "\n",
       "    .dataframe thead th {\n",
       "        text-align: right;\n",
       "    }\n",
       "</style>\n",
       "<table border=\"1\" class=\"dataframe\">\n",
       "  <thead>\n",
       "    <tr style=\"text-align: right;\">\n",
       "      <th></th>\n",
       "      <th>device_id</th>\n",
       "      <th>device_type</th>\n",
       "      <th>os</th>\n",
       "      <th>manufacturer</th>\n",
       "      <th>model</th>\n",
       "      <th>last_used</th>\n",
       "    </tr>\n",
       "  </thead>\n",
       "  <tbody>\n",
       "    <tr>\n",
       "      <th>0</th>\n",
       "      <td>06541b61-b69c-4cb5-97d9-7f06ac10f5d7</td>\n",
       "      <td>mobile</td>\n",
       "      <td>linux</td>\n",
       "      <td>LG</td>\n",
       "      <td>Gram 17</td>\n",
       "      <td>2020-10-24 01:22:19</td>\n",
       "    </tr>\n",
       "    <tr>\n",
       "      <th>2</th>\n",
       "      <td>e6d85865-1263-45a9-86f4-82e8bda35dee</td>\n",
       "      <td>mobile</td>\n",
       "      <td>windows</td>\n",
       "      <td>LG</td>\n",
       "      <td>NanoCell TV</td>\n",
       "      <td>2022-07-24 00:39:22</td>\n",
       "    </tr>\n",
       "    <tr>\n",
       "      <th>8</th>\n",
       "      <td>6ca46c90-6774-4bae-ac3f-65412b7abe6e</td>\n",
       "      <td>mobile</td>\n",
       "      <td>android</td>\n",
       "      <td>Apple</td>\n",
       "      <td>iphone Xr</td>\n",
       "      <td>2020-05-01 13:29:32</td>\n",
       "    </tr>\n",
       "    <tr>\n",
       "      <th>9</th>\n",
       "      <td>32ec98f0-381a-4e89-acbf-bca90a41f4d2</td>\n",
       "      <td>mobile</td>\n",
       "      <td>windows</td>\n",
       "      <td>Sharp</td>\n",
       "      <td>dynabook v8</td>\n",
       "      <td>2021-02-25 22:42:09</td>\n",
       "    </tr>\n",
       "    <tr>\n",
       "      <th>12</th>\n",
       "      <td>cc350c0c-6820-46f7-ae21-3d1242fe1e7e</td>\n",
       "      <td>mobile</td>\n",
       "      <td>mac</td>\n",
       "      <td>dell</td>\n",
       "      <td>LATITUDE 7410</td>\n",
       "      <td>2023-03-17 03:32:14</td>\n",
       "    </tr>\n",
       "    <tr>\n",
       "      <th>...</th>\n",
       "      <td>...</td>\n",
       "      <td>...</td>\n",
       "      <td>...</td>\n",
       "      <td>...</td>\n",
       "      <td>...</td>\n",
       "      <td>...</td>\n",
       "    </tr>\n",
       "    <tr>\n",
       "      <th>99994</th>\n",
       "      <td>eeeff264-f0bc-4895-b674-364713d52c09</td>\n",
       "      <td>mobile</td>\n",
       "      <td>windows</td>\n",
       "      <td>Apple</td>\n",
       "      <td>iphone 13</td>\n",
       "      <td>2021-08-26 05:52:02</td>\n",
       "    </tr>\n",
       "    <tr>\n",
       "      <th>99995</th>\n",
       "      <td>9769403b-2acb-4034-aaa5-2663d5a12c9c</td>\n",
       "      <td>mobile</td>\n",
       "      <td>windows</td>\n",
       "      <td>dell</td>\n",
       "      <td>XPS 13</td>\n",
       "      <td>2021-08-08 15:46:34</td>\n",
       "    </tr>\n",
       "    <tr>\n",
       "      <th>99996</th>\n",
       "      <td>d1015eca-9364-452c-983e-355aac7734bf</td>\n",
       "      <td>mobile</td>\n",
       "      <td>windows</td>\n",
       "      <td>dell</td>\n",
       "      <td>LATITUDE 7410</td>\n",
       "      <td>2021-05-13 01:01:10</td>\n",
       "    </tr>\n",
       "    <tr>\n",
       "      <th>99998</th>\n",
       "      <td>b8e87053-8102-47d2-bcf0-cac0311ff819</td>\n",
       "      <td>mobile</td>\n",
       "      <td>mac</td>\n",
       "      <td>LG</td>\n",
       "      <td>NanoCell TV</td>\n",
       "      <td>2020-06-29 09:59:20</td>\n",
       "    </tr>\n",
       "    <tr>\n",
       "      <th>99999</th>\n",
       "      <td>dbb9cbb3-0450-4848-88d9-646a186d2558</td>\n",
       "      <td>mobile</td>\n",
       "      <td>mac</td>\n",
       "      <td>HP</td>\n",
       "      <td>envy 13</td>\n",
       "      <td>2022-06-03 05:18:30</td>\n",
       "    </tr>\n",
       "  </tbody>\n",
       "</table>\n",
       "<p>49769 rows × 6 columns</p>\n",
       "</div>"
      ],
      "text/plain": [
       "                                  device_id device_type       os manufacturer  \\\n",
       "0      06541b61-b69c-4cb5-97d9-7f06ac10f5d7      mobile    linux           LG   \n",
       "2      e6d85865-1263-45a9-86f4-82e8bda35dee      mobile  windows           LG   \n",
       "8      6ca46c90-6774-4bae-ac3f-65412b7abe6e      mobile  android        Apple   \n",
       "9      32ec98f0-381a-4e89-acbf-bca90a41f4d2      mobile  windows        Sharp   \n",
       "12     cc350c0c-6820-46f7-ae21-3d1242fe1e7e      mobile      mac         dell   \n",
       "...                                     ...         ...      ...          ...   \n",
       "99994  eeeff264-f0bc-4895-b674-364713d52c09      mobile  windows        Apple   \n",
       "99995  9769403b-2acb-4034-aaa5-2663d5a12c9c      mobile  windows         dell   \n",
       "99996  d1015eca-9364-452c-983e-355aac7734bf      mobile  windows         dell   \n",
       "99998  b8e87053-8102-47d2-bcf0-cac0311ff819      mobile      mac           LG   \n",
       "99999  dbb9cbb3-0450-4848-88d9-646a186d2558      mobile      mac           HP   \n",
       "\n",
       "               model            last_used  \n",
       "0            Gram 17  2020-10-24 01:22:19  \n",
       "2        NanoCell TV  2022-07-24 00:39:22  \n",
       "8          iphone Xr  2020-05-01 13:29:32  \n",
       "9        dynabook v8  2021-02-25 22:42:09  \n",
       "12     LATITUDE 7410  2023-03-17 03:32:14  \n",
       "...              ...                  ...  \n",
       "99994      iphone 13  2021-08-26 05:52:02  \n",
       "99995         XPS 13  2021-08-08 15:46:34  \n",
       "99996  LATITUDE 7410  2021-05-13 01:01:10  \n",
       "99998    NanoCell TV  2020-06-29 09:59:20  \n",
       "99999        envy 13  2022-06-03 05:18:30  \n",
       "\n",
       "[49769 rows x 6 columns]"
      ]
     },
     "execution_count": 24,
     "metadata": {},
     "output_type": "execute_result"
    }
   ],
   "source": [
    "\n",
    "# filtrage en pandas  pour afficher tous les devices de type mobile \n",
    "data[data.device_type=='mobile']"
   ]
  },
  {
   "cell_type": "code",
   "execution_count": null,
   "metadata": {},
   "outputs": [],
   "source": []
  },
  {
   "cell_type": "code",
   "execution_count": 25,
   "metadata": {},
   "outputs": [],
   "source": [
    "# filtrage en SQL  pour afficher tous les devices de type mobile \n",
    "query = \"\"\" \n",
    "SELECT * FROM  devices\n",
    "WHERE device_type= 'mobile'\n",
    "\n",
    "\"\"\""
   ]
  },
  {
   "cell_type": "code",
   "execution_count": 26,
   "metadata": {},
   "outputs": [],
   "source": [
    "# excution du filtrage \n",
    "\n",
    "query_data = pd.read_sql(query , conn )"
   ]
  },
  {
   "cell_type": "code",
   "execution_count": 27,
   "metadata": {},
   "outputs": [
    {
     "data": {
      "text/html": [
       "<div>\n",
       "<style scoped>\n",
       "    .dataframe tbody tr th:only-of-type {\n",
       "        vertical-align: middle;\n",
       "    }\n",
       "\n",
       "    .dataframe tbody tr th {\n",
       "        vertical-align: top;\n",
       "    }\n",
       "\n",
       "    .dataframe thead th {\n",
       "        text-align: right;\n",
       "    }\n",
       "</style>\n",
       "<table border=\"1\" class=\"dataframe\">\n",
       "  <thead>\n",
       "    <tr style=\"text-align: right;\">\n",
       "      <th></th>\n",
       "      <th>device_id</th>\n",
       "      <th>device_type</th>\n",
       "      <th>os</th>\n",
       "      <th>manufacturer</th>\n",
       "      <th>model</th>\n",
       "      <th>last_used</th>\n",
       "    </tr>\n",
       "  </thead>\n",
       "  <tbody>\n",
       "    <tr>\n",
       "      <th>0</th>\n",
       "      <td>06541b61-b69c-4cb5-97d9-7f06ac10f5d7</td>\n",
       "      <td>mobile</td>\n",
       "      <td>linux</td>\n",
       "      <td>LG</td>\n",
       "      <td>Gram 17</td>\n",
       "      <td>2020-10-24 01:22:19</td>\n",
       "    </tr>\n",
       "    <tr>\n",
       "      <th>1</th>\n",
       "      <td>e6d85865-1263-45a9-86f4-82e8bda35dee</td>\n",
       "      <td>mobile</td>\n",
       "      <td>windows</td>\n",
       "      <td>LG</td>\n",
       "      <td>NanoCell TV</td>\n",
       "      <td>2022-07-24 00:39:22</td>\n",
       "    </tr>\n",
       "    <tr>\n",
       "      <th>2</th>\n",
       "      <td>6ca46c90-6774-4bae-ac3f-65412b7abe6e</td>\n",
       "      <td>mobile</td>\n",
       "      <td>android</td>\n",
       "      <td>Apple</td>\n",
       "      <td>iphone Xr</td>\n",
       "      <td>2020-05-01 13:29:32</td>\n",
       "    </tr>\n",
       "    <tr>\n",
       "      <th>3</th>\n",
       "      <td>32ec98f0-381a-4e89-acbf-bca90a41f4d2</td>\n",
       "      <td>mobile</td>\n",
       "      <td>windows</td>\n",
       "      <td>Sharp</td>\n",
       "      <td>dynabook v8</td>\n",
       "      <td>2021-02-25 22:42:09</td>\n",
       "    </tr>\n",
       "    <tr>\n",
       "      <th>4</th>\n",
       "      <td>cc350c0c-6820-46f7-ae21-3d1242fe1e7e</td>\n",
       "      <td>mobile</td>\n",
       "      <td>mac</td>\n",
       "      <td>dell</td>\n",
       "      <td>LATITUDE 7410</td>\n",
       "      <td>2023-03-17 03:32:14</td>\n",
       "    </tr>\n",
       "    <tr>\n",
       "      <th>...</th>\n",
       "      <td>...</td>\n",
       "      <td>...</td>\n",
       "      <td>...</td>\n",
       "      <td>...</td>\n",
       "      <td>...</td>\n",
       "      <td>...</td>\n",
       "    </tr>\n",
       "    <tr>\n",
       "      <th>49764</th>\n",
       "      <td>eeeff264-f0bc-4895-b674-364713d52c09</td>\n",
       "      <td>mobile</td>\n",
       "      <td>windows</td>\n",
       "      <td>Apple</td>\n",
       "      <td>iphone 13</td>\n",
       "      <td>2021-08-26 05:52:02</td>\n",
       "    </tr>\n",
       "    <tr>\n",
       "      <th>49765</th>\n",
       "      <td>9769403b-2acb-4034-aaa5-2663d5a12c9c</td>\n",
       "      <td>mobile</td>\n",
       "      <td>windows</td>\n",
       "      <td>dell</td>\n",
       "      <td>XPS 13</td>\n",
       "      <td>2021-08-08 15:46:34</td>\n",
       "    </tr>\n",
       "    <tr>\n",
       "      <th>49766</th>\n",
       "      <td>d1015eca-9364-452c-983e-355aac7734bf</td>\n",
       "      <td>mobile</td>\n",
       "      <td>windows</td>\n",
       "      <td>dell</td>\n",
       "      <td>LATITUDE 7410</td>\n",
       "      <td>2021-05-13 01:01:10</td>\n",
       "    </tr>\n",
       "    <tr>\n",
       "      <th>49767</th>\n",
       "      <td>b8e87053-8102-47d2-bcf0-cac0311ff819</td>\n",
       "      <td>mobile</td>\n",
       "      <td>mac</td>\n",
       "      <td>LG</td>\n",
       "      <td>NanoCell TV</td>\n",
       "      <td>2020-06-29 09:59:20</td>\n",
       "    </tr>\n",
       "    <tr>\n",
       "      <th>49768</th>\n",
       "      <td>dbb9cbb3-0450-4848-88d9-646a186d2558</td>\n",
       "      <td>mobile</td>\n",
       "      <td>mac</td>\n",
       "      <td>HP</td>\n",
       "      <td>envy 13</td>\n",
       "      <td>2022-06-03 05:18:30</td>\n",
       "    </tr>\n",
       "  </tbody>\n",
       "</table>\n",
       "<p>49769 rows × 6 columns</p>\n",
       "</div>"
      ],
      "text/plain": [
       "                                  device_id device_type       os manufacturer  \\\n",
       "0      06541b61-b69c-4cb5-97d9-7f06ac10f5d7      mobile    linux           LG   \n",
       "1      e6d85865-1263-45a9-86f4-82e8bda35dee      mobile  windows           LG   \n",
       "2      6ca46c90-6774-4bae-ac3f-65412b7abe6e      mobile  android        Apple   \n",
       "3      32ec98f0-381a-4e89-acbf-bca90a41f4d2      mobile  windows        Sharp   \n",
       "4      cc350c0c-6820-46f7-ae21-3d1242fe1e7e      mobile      mac         dell   \n",
       "...                                     ...         ...      ...          ...   \n",
       "49764  eeeff264-f0bc-4895-b674-364713d52c09      mobile  windows        Apple   \n",
       "49765  9769403b-2acb-4034-aaa5-2663d5a12c9c      mobile  windows         dell   \n",
       "49766  d1015eca-9364-452c-983e-355aac7734bf      mobile  windows         dell   \n",
       "49767  b8e87053-8102-47d2-bcf0-cac0311ff819      mobile      mac           LG   \n",
       "49768  dbb9cbb3-0450-4848-88d9-646a186d2558      mobile      mac           HP   \n",
       "\n",
       "               model            last_used  \n",
       "0            Gram 17  2020-10-24 01:22:19  \n",
       "1        NanoCell TV  2022-07-24 00:39:22  \n",
       "2          iphone Xr  2020-05-01 13:29:32  \n",
       "3        dynabook v8  2021-02-25 22:42:09  \n",
       "4      LATITUDE 7410  2023-03-17 03:32:14  \n",
       "...              ...                  ...  \n",
       "49764      iphone 13  2021-08-26 05:52:02  \n",
       "49765         XPS 13  2021-08-08 15:46:34  \n",
       "49766  LATITUDE 7410  2021-05-13 01:01:10  \n",
       "49767    NanoCell TV  2020-06-29 09:59:20  \n",
       "49768        envy 13  2022-06-03 05:18:30  \n",
       "\n",
       "[49769 rows x 6 columns]"
      ]
     },
     "execution_count": 27,
     "metadata": {},
     "output_type": "execute_result"
    }
   ],
   "source": [
    "# affichage du filtrage \n",
    "\n",
    "query_data"
   ]
  },
  {
   "cell_type": "markdown",
   "metadata": {},
   "source": [
    "### SAVE ALL DATA "
   ]
  },
  {
   "cell_type": "code",
   "execution_count": 28,
   "metadata": {},
   "outputs": [],
   "source": [
    "## LISTER TOUS LES FICHIERS DATA DISPONIBLE "
   ]
  },
  {
   "cell_type": "code",
   "execution_count": 29,
   "metadata": {},
   "outputs": [
    {
     "data": {
      "text/plain": [
       "['../Data/Train\\\\alerts.csv',\n",
       " '../Data/Train\\\\customers.csv',\n",
       " '../Data/Train\\\\devices.csv',\n",
       " '../Data/Train\\\\transactions.csv',\n",
       " '../Data/Train\\\\transaction_history.csv',\n",
       " '../Data/Train\\\\transaction_patterns.csv']"
      ]
     },
     "execution_count": 29,
     "metadata": {},
     "output_type": "execute_result"
    }
   ],
   "source": [
    "list_data = glob('../Data/Train/*')\n",
    "list_data"
   ]
  },
  {
   "cell_type": "code",
   "execution_count": null,
   "metadata": {},
   "outputs": [],
   "source": []
  },
  {
   "cell_type": "code",
   "execution_count": 30,
   "metadata": {},
   "outputs": [
    {
     "data": {
      "text/plain": [
       "'alerts'"
      ]
     },
     "execution_count": 30,
     "metadata": {},
     "output_type": "execute_result"
    }
   ],
   "source": [
    "## separation du nom du fichier\n",
    "name_tables = list_data[0].split(os.sep)[-1].split('.')[0]\n",
    "name_tables = name_tables.split('.')[0]\n",
    "name_tables"
   ]
  },
  {
   "cell_type": "code",
   "execution_count": null,
   "metadata": {},
   "outputs": [],
   "source": []
  },
  {
   "cell_type": "markdown",
   "metadata": {},
   "source": [
    "### CHARGEMENT DE TOUS LES FICHIERS DANS LA BASE DE DONNEES"
   ]
  },
  {
   "cell_type": "code",
   "execution_count": 31,
   "metadata": {},
   "outputs": [
    {
     "name": "stderr",
     "output_type": "stream",
     "text": [
      " 17%|█▋        | 1/6 [00:00<00:00,  6.34it/s]"
     ]
    },
    {
     "name": "stdout",
     "output_type": "stream",
     "text": [
      "alerts\n"
     ]
    },
    {
     "name": "stderr",
     "output_type": "stream",
     "text": [
      " 33%|███▎      | 2/6 [00:00<00:01,  2.85it/s]"
     ]
    },
    {
     "name": "stdout",
     "output_type": "stream",
     "text": [
      "customers\n"
     ]
    },
    {
     "name": "stderr",
     "output_type": "stream",
     "text": [
      " 50%|█████     | 3/6 [00:03<00:04,  1.42s/it]"
     ]
    },
    {
     "name": "stdout",
     "output_type": "stream",
     "text": [
      "devices\n"
     ]
    },
    {
     "name": "stderr",
     "output_type": "stream",
     "text": [
      " 67%|██████▋   | 4/6 [00:07<00:05,  2.61s/it]"
     ]
    },
    {
     "name": "stdout",
     "output_type": "stream",
     "text": [
      "transactions\n"
     ]
    },
    {
     "name": "stderr",
     "output_type": "stream",
     "text": [
      " 83%|████████▎ | 5/6 [00:09<00:02,  2.33s/it]"
     ]
    },
    {
     "name": "stdout",
     "output_type": "stream",
     "text": [
      "transaction_history\n"
     ]
    },
    {
     "name": "stderr",
     "output_type": "stream",
     "text": [
      "100%|██████████| 6/6 [00:11<00:00,  1.84s/it]"
     ]
    },
    {
     "name": "stdout",
     "output_type": "stream",
     "text": [
      "transaction_patterns\n"
     ]
    },
    {
     "name": "stderr",
     "output_type": "stream",
     "text": [
      "\n"
     ]
    }
   ],
   "source": [
    "for table in tqdm(list_data) : \n",
    "    name_tables = table.split(os.sep)[-1].split('.')[0]  # recuperation du nom de la table a partir du path \n",
    "    data_tmp =  pd.read_csv(table)  # chargement de la csv avec pandas \n",
    "    data_tmp.to_sql(name_tables , conn , if_exists='replace', index=False) # savegarde du csv dans le base de donnee \n",
    "    \n",
    "    print(name_tables)"
   ]
  },
  {
   "cell_type": "code",
   "execution_count": null,
   "metadata": {},
   "outputs": [],
   "source": []
  }
 ],
 "metadata": {
  "kernelspec": {
   "display_name": "Python 3 (ipykernel)",
   "language": "python",
   "name": "python3"
  },
  "language_info": {
   "codemirror_mode": {
    "name": "ipython",
    "version": 3
   },
   "file_extension": ".py",
   "mimetype": "text/x-python",
   "name": "python",
   "nbconvert_exporter": "python",
   "pygments_lexer": "ipython3",
   "version": "3.11.8"
  }
 },
 "nbformat": 4,
 "nbformat_minor": 4
}
