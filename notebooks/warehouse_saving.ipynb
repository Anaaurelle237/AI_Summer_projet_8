{
 "cells": [
  {
   "cell_type": "code",
   "execution_count": 1,
   "metadata": {},
   "outputs": [],
   "source": [
    "import pandas as pd \n",
    "from tqdm import tqdm \n",
    "import sqlite3 \n",
    "import os \n",
    "from glob import glob "
   ]
  },
  {
   "cell_type": "code",
   "execution_count": 2,
   "metadata": {},
   "outputs": [],
   "source": [
    "# ! pip install sqlite"
   ]
  },
  {
   "cell_type": "code",
   "execution_count": 3,
   "metadata": {},
   "outputs": [
    {
     "data": {
      "text/html": [
       "<div>\n",
       "<style scoped>\n",
       "    .dataframe tbody tr th:only-of-type {\n",
       "        vertical-align: middle;\n",
       "    }\n",
       "\n",
       "    .dataframe tbody tr th {\n",
       "        vertical-align: top;\n",
       "    }\n",
       "\n",
       "    .dataframe thead th {\n",
       "        text-align: right;\n",
       "    }\n",
       "</style>\n",
       "<table border=\"1\" class=\"dataframe\">\n",
       "  <thead>\n",
       "    <tr style=\"text-align: right;\">\n",
       "      <th></th>\n",
       "      <th>device_id</th>\n",
       "      <th>device_type</th>\n",
       "      <th>os</th>\n",
       "      <th>manufacturer</th>\n",
       "      <th>model</th>\n",
       "      <th>last_used</th>\n",
       "    </tr>\n",
       "  </thead>\n",
       "  <tbody>\n",
       "    <tr>\n",
       "      <th>0</th>\n",
       "      <td>338b9ba5-2500-4d91-8171-13feb49f925b</td>\n",
       "      <td>cellulaire</td>\n",
       "      <td>windows</td>\n",
       "      <td>SONY</td>\n",
       "      <td>VAIO SX14</td>\n",
       "      <td>2020-10-26 15:33:19</td>\n",
       "    </tr>\n",
       "    <tr>\n",
       "      <th>1</th>\n",
       "      <td>2e505732-7459-436b-82af-ea911c689ac7</td>\n",
       "      <td>tablette</td>\n",
       "      <td>mac</td>\n",
       "      <td>Apple</td>\n",
       "      <td>ipad pro</td>\n",
       "      <td>2019-12-09 04:05:25</td>\n",
       "    </tr>\n",
       "    <tr>\n",
       "      <th>2</th>\n",
       "      <td>3a59c678-195c-4322-abec-e760909cdb11</td>\n",
       "      <td>cellulaire</td>\n",
       "      <td>mac</td>\n",
       "      <td>HP</td>\n",
       "      <td>OMEN 15</td>\n",
       "      <td>2020-12-23 18:56:50</td>\n",
       "    </tr>\n",
       "    <tr>\n",
       "      <th>3</th>\n",
       "      <td>72581ed9-3932-4393-9857-36c4ebef9955</td>\n",
       "      <td>mobile</td>\n",
       "      <td>ios</td>\n",
       "      <td>dell</td>\n",
       "      <td>LATITUDE 7410</td>\n",
       "      <td>2019-11-12 17:59:06</td>\n",
       "    </tr>\n",
       "    <tr>\n",
       "      <th>4</th>\n",
       "      <td>a77d2605-6b8f-4dba-8d0b-7b493f799e1d</td>\n",
       "      <td>cellulaire</td>\n",
       "      <td>linux</td>\n",
       "      <td>LG</td>\n",
       "      <td>NanoCell TV</td>\n",
       "      <td>2021-12-25 04:44:46</td>\n",
       "    </tr>\n",
       "    <tr>\n",
       "      <th>...</th>\n",
       "      <td>...</td>\n",
       "      <td>...</td>\n",
       "      <td>...</td>\n",
       "      <td>...</td>\n",
       "      <td>...</td>\n",
       "      <td>...</td>\n",
       "    </tr>\n",
       "    <tr>\n",
       "      <th>99995</th>\n",
       "      <td>c255b3b5-0bd7-439d-864b-a862764be428</td>\n",
       "      <td>tablette</td>\n",
       "      <td>android</td>\n",
       "      <td>SONY</td>\n",
       "      <td>Xperia 1 III</td>\n",
       "      <td>2021-12-09 18:46:38</td>\n",
       "    </tr>\n",
       "    <tr>\n",
       "      <th>99996</th>\n",
       "      <td>c40801d3-2405-465d-bd30-0fd52afce35f</td>\n",
       "      <td>mobile</td>\n",
       "      <td>mac</td>\n",
       "      <td>Apple</td>\n",
       "      <td>iphone 13</td>\n",
       "      <td>2022-02-12 03:54:13</td>\n",
       "    </tr>\n",
       "    <tr>\n",
       "      <th>99997</th>\n",
       "      <td>b57aa519-9549-475c-9bcf-a9460f3b620c</td>\n",
       "      <td>mobile</td>\n",
       "      <td>windows</td>\n",
       "      <td>HP</td>\n",
       "      <td>pavillon 15</td>\n",
       "      <td>2022-12-10 06:48:31</td>\n",
       "    </tr>\n",
       "    <tr>\n",
       "      <th>99998</th>\n",
       "      <td>99f92dd4-8122-459c-ac04-5208adb4215c</td>\n",
       "      <td>cellulaire</td>\n",
       "      <td>windows</td>\n",
       "      <td>SONY</td>\n",
       "      <td>Bravia OLDE</td>\n",
       "      <td>2022-10-05 17:33:47</td>\n",
       "    </tr>\n",
       "    <tr>\n",
       "      <th>99999</th>\n",
       "      <td>a4795e87-29e4-4153-915a-574cc4a7f8e8</td>\n",
       "      <td>cellulaire</td>\n",
       "      <td>linux</td>\n",
       "      <td>dell</td>\n",
       "      <td>XPS 13</td>\n",
       "      <td>2022-11-07 19:14:26</td>\n",
       "    </tr>\n",
       "  </tbody>\n",
       "</table>\n",
       "<p>100000 rows × 6 columns</p>\n",
       "</div>"
      ],
      "text/plain": [
       "                                  device_id device_type       os manufacturer  \\\n",
       "0      338b9ba5-2500-4d91-8171-13feb49f925b  cellulaire  windows         SONY   \n",
       "1      2e505732-7459-436b-82af-ea911c689ac7    tablette      mac        Apple   \n",
       "2      3a59c678-195c-4322-abec-e760909cdb11  cellulaire      mac           HP   \n",
       "3      72581ed9-3932-4393-9857-36c4ebef9955      mobile      ios         dell   \n",
       "4      a77d2605-6b8f-4dba-8d0b-7b493f799e1d  cellulaire    linux           LG   \n",
       "...                                     ...         ...      ...          ...   \n",
       "99995  c255b3b5-0bd7-439d-864b-a862764be428    tablette  android         SONY   \n",
       "99996  c40801d3-2405-465d-bd30-0fd52afce35f      mobile      mac        Apple   \n",
       "99997  b57aa519-9549-475c-9bcf-a9460f3b620c      mobile  windows           HP   \n",
       "99998  99f92dd4-8122-459c-ac04-5208adb4215c  cellulaire  windows         SONY   \n",
       "99999  a4795e87-29e4-4153-915a-574cc4a7f8e8  cellulaire    linux         dell   \n",
       "\n",
       "               model            last_used  \n",
       "0          VAIO SX14  2020-10-26 15:33:19  \n",
       "1           ipad pro  2019-12-09 04:05:25  \n",
       "2            OMEN 15  2020-12-23 18:56:50  \n",
       "3      LATITUDE 7410  2019-11-12 17:59:06  \n",
       "4        NanoCell TV  2021-12-25 04:44:46  \n",
       "...              ...                  ...  \n",
       "99995   Xperia 1 III  2021-12-09 18:46:38  \n",
       "99996      iphone 13  2022-02-12 03:54:13  \n",
       "99997    pavillon 15  2022-12-10 06:48:31  \n",
       "99998    Bravia OLDE  2022-10-05 17:33:47  \n",
       "99999         XPS 13  2022-11-07 19:14:26  \n",
       "\n",
       "[100000 rows x 6 columns]"
      ]
     },
     "execution_count": 3,
     "metadata": {},
     "output_type": "execute_result"
    }
   ],
   "source": [
    "# charger mes donnees\n",
    "\n",
    "data = pd.read_csv('../Data/Train/devices.csv')\n",
    "data"
   ]
  },
  {
   "cell_type": "markdown",
   "metadata": {},
   "source": [
    "# creation de la  connection avec  la base de donnee sqlite"
   ]
  },
  {
   "cell_type": "markdown",
   "metadata": {},
   "source": [
    "#####  IL EST IMPORTANT D'AVOIR LA BASE DE DONNE  fraude_detection_warehouse.db OU D'EN CREE UNE AVEC CE NOM \n"
   ]
  },
  {
   "cell_type": "code",
   "execution_count": 4,
   "metadata": {},
   "outputs": [
    {
     "data": {
      "text/plain": [
       "<sqlite3.Connection at 0x28428ed47c0>"
      ]
     },
     "execution_count": 4,
     "metadata": {},
     "output_type": "execute_result"
    }
   ],
   "source": [
    "conn = sqlite3.connect('../Data/db/fraude_detection_warehouse.db')\n",
    "conn"
   ]
  },
  {
   "cell_type": "code",
   "execution_count": 5,
   "metadata": {},
   "outputs": [
    {
     "data": {
      "text/html": [
       "<div>\n",
       "<style scoped>\n",
       "    .dataframe tbody tr th:only-of-type {\n",
       "        vertical-align: middle;\n",
       "    }\n",
       "\n",
       "    .dataframe tbody tr th {\n",
       "        vertical-align: top;\n",
       "    }\n",
       "\n",
       "    .dataframe thead th {\n",
       "        text-align: right;\n",
       "    }\n",
       "</style>\n",
       "<table border=\"1\" class=\"dataframe\">\n",
       "  <thead>\n",
       "    <tr style=\"text-align: right;\">\n",
       "      <th></th>\n",
       "      <th>device_id</th>\n",
       "      <th>device_type</th>\n",
       "      <th>os</th>\n",
       "      <th>manufacturer</th>\n",
       "      <th>model</th>\n",
       "      <th>last_used</th>\n",
       "    </tr>\n",
       "  </thead>\n",
       "  <tbody>\n",
       "    <tr>\n",
       "      <th>0</th>\n",
       "      <td>338b9ba5-2500-4d91-8171-13feb49f925b</td>\n",
       "      <td>cellulaire</td>\n",
       "      <td>windows</td>\n",
       "      <td>SONY</td>\n",
       "      <td>VAIO SX14</td>\n",
       "      <td>2020-10-26 15:33:19</td>\n",
       "    </tr>\n",
       "    <tr>\n",
       "      <th>1</th>\n",
       "      <td>2e505732-7459-436b-82af-ea911c689ac7</td>\n",
       "      <td>tablette</td>\n",
       "      <td>mac</td>\n",
       "      <td>Apple</td>\n",
       "      <td>ipad pro</td>\n",
       "      <td>2019-12-09 04:05:25</td>\n",
       "    </tr>\n",
       "    <tr>\n",
       "      <th>2</th>\n",
       "      <td>3a59c678-195c-4322-abec-e760909cdb11</td>\n",
       "      <td>cellulaire</td>\n",
       "      <td>mac</td>\n",
       "      <td>HP</td>\n",
       "      <td>OMEN 15</td>\n",
       "      <td>2020-12-23 18:56:50</td>\n",
       "    </tr>\n",
       "    <tr>\n",
       "      <th>3</th>\n",
       "      <td>72581ed9-3932-4393-9857-36c4ebef9955</td>\n",
       "      <td>mobile</td>\n",
       "      <td>ios</td>\n",
       "      <td>dell</td>\n",
       "      <td>LATITUDE 7410</td>\n",
       "      <td>2019-11-12 17:59:06</td>\n",
       "    </tr>\n",
       "    <tr>\n",
       "      <th>4</th>\n",
       "      <td>a77d2605-6b8f-4dba-8d0b-7b493f799e1d</td>\n",
       "      <td>cellulaire</td>\n",
       "      <td>linux</td>\n",
       "      <td>LG</td>\n",
       "      <td>NanoCell TV</td>\n",
       "      <td>2021-12-25 04:44:46</td>\n",
       "    </tr>\n",
       "    <tr>\n",
       "      <th>...</th>\n",
       "      <td>...</td>\n",
       "      <td>...</td>\n",
       "      <td>...</td>\n",
       "      <td>...</td>\n",
       "      <td>...</td>\n",
       "      <td>...</td>\n",
       "    </tr>\n",
       "    <tr>\n",
       "      <th>99995</th>\n",
       "      <td>c255b3b5-0bd7-439d-864b-a862764be428</td>\n",
       "      <td>tablette</td>\n",
       "      <td>android</td>\n",
       "      <td>SONY</td>\n",
       "      <td>Xperia 1 III</td>\n",
       "      <td>2021-12-09 18:46:38</td>\n",
       "    </tr>\n",
       "    <tr>\n",
       "      <th>99996</th>\n",
       "      <td>c40801d3-2405-465d-bd30-0fd52afce35f</td>\n",
       "      <td>mobile</td>\n",
       "      <td>mac</td>\n",
       "      <td>Apple</td>\n",
       "      <td>iphone 13</td>\n",
       "      <td>2022-02-12 03:54:13</td>\n",
       "    </tr>\n",
       "    <tr>\n",
       "      <th>99997</th>\n",
       "      <td>b57aa519-9549-475c-9bcf-a9460f3b620c</td>\n",
       "      <td>mobile</td>\n",
       "      <td>windows</td>\n",
       "      <td>HP</td>\n",
       "      <td>pavillon 15</td>\n",
       "      <td>2022-12-10 06:48:31</td>\n",
       "    </tr>\n",
       "    <tr>\n",
       "      <th>99998</th>\n",
       "      <td>99f92dd4-8122-459c-ac04-5208adb4215c</td>\n",
       "      <td>cellulaire</td>\n",
       "      <td>windows</td>\n",
       "      <td>SONY</td>\n",
       "      <td>Bravia OLDE</td>\n",
       "      <td>2022-10-05 17:33:47</td>\n",
       "    </tr>\n",
       "    <tr>\n",
       "      <th>99999</th>\n",
       "      <td>a4795e87-29e4-4153-915a-574cc4a7f8e8</td>\n",
       "      <td>cellulaire</td>\n",
       "      <td>linux</td>\n",
       "      <td>dell</td>\n",
       "      <td>XPS 13</td>\n",
       "      <td>2022-11-07 19:14:26</td>\n",
       "    </tr>\n",
       "  </tbody>\n",
       "</table>\n",
       "<p>100000 rows × 6 columns</p>\n",
       "</div>"
      ],
      "text/plain": [
       "                                  device_id device_type       os manufacturer  \\\n",
       "0      338b9ba5-2500-4d91-8171-13feb49f925b  cellulaire  windows         SONY   \n",
       "1      2e505732-7459-436b-82af-ea911c689ac7    tablette      mac        Apple   \n",
       "2      3a59c678-195c-4322-abec-e760909cdb11  cellulaire      mac           HP   \n",
       "3      72581ed9-3932-4393-9857-36c4ebef9955      mobile      ios         dell   \n",
       "4      a77d2605-6b8f-4dba-8d0b-7b493f799e1d  cellulaire    linux           LG   \n",
       "...                                     ...         ...      ...          ...   \n",
       "99995  c255b3b5-0bd7-439d-864b-a862764be428    tablette  android         SONY   \n",
       "99996  c40801d3-2405-465d-bd30-0fd52afce35f      mobile      mac        Apple   \n",
       "99997  b57aa519-9549-475c-9bcf-a9460f3b620c      mobile  windows           HP   \n",
       "99998  99f92dd4-8122-459c-ac04-5208adb4215c  cellulaire  windows         SONY   \n",
       "99999  a4795e87-29e4-4153-915a-574cc4a7f8e8  cellulaire    linux         dell   \n",
       "\n",
       "               model            last_used  \n",
       "0          VAIO SX14  2020-10-26 15:33:19  \n",
       "1           ipad pro  2019-12-09 04:05:25  \n",
       "2            OMEN 15  2020-12-23 18:56:50  \n",
       "3      LATITUDE 7410  2019-11-12 17:59:06  \n",
       "4        NanoCell TV  2021-12-25 04:44:46  \n",
       "...              ...                  ...  \n",
       "99995   Xperia 1 III  2021-12-09 18:46:38  \n",
       "99996      iphone 13  2022-02-12 03:54:13  \n",
       "99997    pavillon 15  2022-12-10 06:48:31  \n",
       "99998    Bravia OLDE  2022-10-05 17:33:47  \n",
       "99999         XPS 13  2022-11-07 19:14:26  \n",
       "\n",
       "[100000 rows x 6 columns]"
      ]
     },
     "execution_count": 5,
     "metadata": {},
     "output_type": "execute_result"
    }
   ],
   "source": [
    "data"
   ]
  },
  {
   "cell_type": "code",
   "execution_count": null,
   "metadata": {},
   "outputs": [],
   "source": []
  },
  {
   "cell_type": "code",
   "execution_count": 6,
   "metadata": {},
   "outputs": [
    {
     "data": {
      "text/plain": [
       "100000"
      ]
     },
     "execution_count": 6,
     "metadata": {},
     "output_type": "execute_result"
    }
   ],
   "source": [
    "#savegarde des data dans la base de donnee\n",
    "data.to_sql('devices',conn, if_exists='replace', index=False )"
   ]
  },
  {
   "cell_type": "code",
   "execution_count": 7,
   "metadata": {},
   "outputs": [
    {
     "data": {
      "text/html": [
       "<div>\n",
       "<style scoped>\n",
       "    .dataframe tbody tr th:only-of-type {\n",
       "        vertical-align: middle;\n",
       "    }\n",
       "\n",
       "    .dataframe tbody tr th {\n",
       "        vertical-align: top;\n",
       "    }\n",
       "\n",
       "    .dataframe thead th {\n",
       "        text-align: right;\n",
       "    }\n",
       "</style>\n",
       "<table border=\"1\" class=\"dataframe\">\n",
       "  <thead>\n",
       "    <tr style=\"text-align: right;\">\n",
       "      <th></th>\n",
       "      <th>device_id</th>\n",
       "      <th>device_type</th>\n",
       "      <th>os</th>\n",
       "      <th>manufacturer</th>\n",
       "      <th>model</th>\n",
       "      <th>last_used</th>\n",
       "    </tr>\n",
       "  </thead>\n",
       "  <tbody>\n",
       "    <tr>\n",
       "      <th>3</th>\n",
       "      <td>72581ed9-3932-4393-9857-36c4ebef9955</td>\n",
       "      <td>mobile</td>\n",
       "      <td>ios</td>\n",
       "      <td>dell</td>\n",
       "      <td>LATITUDE 7410</td>\n",
       "      <td>2019-11-12 17:59:06</td>\n",
       "    </tr>\n",
       "    <tr>\n",
       "      <th>7</th>\n",
       "      <td>83019cb5-9883-4f50-ac67-e62a658d9c3c</td>\n",
       "      <td>mobile</td>\n",
       "      <td>android</td>\n",
       "      <td>Apple</td>\n",
       "      <td>iphone Xr</td>\n",
       "      <td>2022-04-06 20:55:02</td>\n",
       "    </tr>\n",
       "    <tr>\n",
       "      <th>8</th>\n",
       "      <td>712e47d1-3486-470e-9b2b-5c781535aa19</td>\n",
       "      <td>mobile</td>\n",
       "      <td>ios</td>\n",
       "      <td>Apple</td>\n",
       "      <td>ipad pro</td>\n",
       "      <td>2022-02-26 22:57:55</td>\n",
       "    </tr>\n",
       "    <tr>\n",
       "      <th>14</th>\n",
       "      <td>e8d97093-2653-4726-80e0-db31efae00d1</td>\n",
       "      <td>mobile</td>\n",
       "      <td>linux</td>\n",
       "      <td>SONY</td>\n",
       "      <td>Xperia 1 III</td>\n",
       "      <td>2023-10-16 17:36:12</td>\n",
       "    </tr>\n",
       "    <tr>\n",
       "      <th>16</th>\n",
       "      <td>0c39c6d7-8bf4-44c2-b95f-c9105708b54c</td>\n",
       "      <td>mobile</td>\n",
       "      <td>ios</td>\n",
       "      <td>SONY</td>\n",
       "      <td>Bravia OLDE</td>\n",
       "      <td>2023-01-24 07:00:03</td>\n",
       "    </tr>\n",
       "    <tr>\n",
       "      <th>...</th>\n",
       "      <td>...</td>\n",
       "      <td>...</td>\n",
       "      <td>...</td>\n",
       "      <td>...</td>\n",
       "      <td>...</td>\n",
       "      <td>...</td>\n",
       "    </tr>\n",
       "    <tr>\n",
       "      <th>99986</th>\n",
       "      <td>42a5bc8d-7f28-476d-b659-97daaa70091f</td>\n",
       "      <td>mobile</td>\n",
       "      <td>windows</td>\n",
       "      <td>SONY</td>\n",
       "      <td>Xperia 5 II</td>\n",
       "      <td>2021-02-05 16:31:08</td>\n",
       "    </tr>\n",
       "    <tr>\n",
       "      <th>99989</th>\n",
       "      <td>9476affa-e11e-4155-a4a5-a9190d34877c</td>\n",
       "      <td>mobile</td>\n",
       "      <td>android</td>\n",
       "      <td>LG</td>\n",
       "      <td>Gram 17</td>\n",
       "      <td>2023-07-31 10:18:08</td>\n",
       "    </tr>\n",
       "    <tr>\n",
       "      <th>99991</th>\n",
       "      <td>af04c388-4de9-4099-a6d6-57dbd37e8211</td>\n",
       "      <td>mobile</td>\n",
       "      <td>windows</td>\n",
       "      <td>HP</td>\n",
       "      <td>OMEN 15</td>\n",
       "      <td>2024-07-27 10:17:28</td>\n",
       "    </tr>\n",
       "    <tr>\n",
       "      <th>99996</th>\n",
       "      <td>c40801d3-2405-465d-bd30-0fd52afce35f</td>\n",
       "      <td>mobile</td>\n",
       "      <td>mac</td>\n",
       "      <td>Apple</td>\n",
       "      <td>iphone 13</td>\n",
       "      <td>2022-02-12 03:54:13</td>\n",
       "    </tr>\n",
       "    <tr>\n",
       "      <th>99997</th>\n",
       "      <td>b57aa519-9549-475c-9bcf-a9460f3b620c</td>\n",
       "      <td>mobile</td>\n",
       "      <td>windows</td>\n",
       "      <td>HP</td>\n",
       "      <td>pavillon 15</td>\n",
       "      <td>2022-12-10 06:48:31</td>\n",
       "    </tr>\n",
       "  </tbody>\n",
       "</table>\n",
       "<p>33345 rows × 6 columns</p>\n",
       "</div>"
      ],
      "text/plain": [
       "                                  device_id device_type       os manufacturer  \\\n",
       "3      72581ed9-3932-4393-9857-36c4ebef9955      mobile      ios         dell   \n",
       "7      83019cb5-9883-4f50-ac67-e62a658d9c3c      mobile  android        Apple   \n",
       "8      712e47d1-3486-470e-9b2b-5c781535aa19      mobile      ios        Apple   \n",
       "14     e8d97093-2653-4726-80e0-db31efae00d1      mobile    linux         SONY   \n",
       "16     0c39c6d7-8bf4-44c2-b95f-c9105708b54c      mobile      ios         SONY   \n",
       "...                                     ...         ...      ...          ...   \n",
       "99986  42a5bc8d-7f28-476d-b659-97daaa70091f      mobile  windows         SONY   \n",
       "99989  9476affa-e11e-4155-a4a5-a9190d34877c      mobile  android           LG   \n",
       "99991  af04c388-4de9-4099-a6d6-57dbd37e8211      mobile  windows           HP   \n",
       "99996  c40801d3-2405-465d-bd30-0fd52afce35f      mobile      mac        Apple   \n",
       "99997  b57aa519-9549-475c-9bcf-a9460f3b620c      mobile  windows           HP   \n",
       "\n",
       "               model            last_used  \n",
       "3      LATITUDE 7410  2019-11-12 17:59:06  \n",
       "7          iphone Xr  2022-04-06 20:55:02  \n",
       "8           ipad pro  2022-02-26 22:57:55  \n",
       "14      Xperia 1 III  2023-10-16 17:36:12  \n",
       "16       Bravia OLDE  2023-01-24 07:00:03  \n",
       "...              ...                  ...  \n",
       "99986    Xperia 5 II  2021-02-05 16:31:08  \n",
       "99989        Gram 17  2023-07-31 10:18:08  \n",
       "99991        OMEN 15  2024-07-27 10:17:28  \n",
       "99996      iphone 13  2022-02-12 03:54:13  \n",
       "99997    pavillon 15  2022-12-10 06:48:31  \n",
       "\n",
       "[33345 rows x 6 columns]"
      ]
     },
     "execution_count": 7,
     "metadata": {},
     "output_type": "execute_result"
    }
   ],
   "source": [
    "\n",
    "# filtrage en pandas  pour afficher tous les devices de type mobile \n",
    "data[data.device_type=='mobile']"
   ]
  },
  {
   "cell_type": "code",
   "execution_count": null,
   "metadata": {},
   "outputs": [],
   "source": []
  },
  {
   "cell_type": "code",
   "execution_count": 8,
   "metadata": {},
   "outputs": [],
   "source": [
    "# filtrage en SQL  pour afficher tous les devices de type mobile \n",
    "query = \"\"\" \n",
    "SELECT * FROM  devices\n",
    "WHERE device_type= 'mobile'\n",
    "\n",
    "\"\"\""
   ]
  },
  {
   "cell_type": "code",
   "execution_count": 9,
   "metadata": {},
   "outputs": [],
   "source": [
    "# excution du filtrage \n",
    "\n",
    "query_data = pd.read_sql(query , conn )"
   ]
  },
  {
   "cell_type": "code",
   "execution_count": 10,
   "metadata": {},
   "outputs": [
    {
     "data": {
      "text/html": [
       "<div>\n",
       "<style scoped>\n",
       "    .dataframe tbody tr th:only-of-type {\n",
       "        vertical-align: middle;\n",
       "    }\n",
       "\n",
       "    .dataframe tbody tr th {\n",
       "        vertical-align: top;\n",
       "    }\n",
       "\n",
       "    .dataframe thead th {\n",
       "        text-align: right;\n",
       "    }\n",
       "</style>\n",
       "<table border=\"1\" class=\"dataframe\">\n",
       "  <thead>\n",
       "    <tr style=\"text-align: right;\">\n",
       "      <th></th>\n",
       "      <th>device_id</th>\n",
       "      <th>device_type</th>\n",
       "      <th>os</th>\n",
       "      <th>manufacturer</th>\n",
       "      <th>model</th>\n",
       "      <th>last_used</th>\n",
       "    </tr>\n",
       "  </thead>\n",
       "  <tbody>\n",
       "    <tr>\n",
       "      <th>0</th>\n",
       "      <td>72581ed9-3932-4393-9857-36c4ebef9955</td>\n",
       "      <td>mobile</td>\n",
       "      <td>ios</td>\n",
       "      <td>dell</td>\n",
       "      <td>LATITUDE 7410</td>\n",
       "      <td>2019-11-12 17:59:06</td>\n",
       "    </tr>\n",
       "    <tr>\n",
       "      <th>1</th>\n",
       "      <td>83019cb5-9883-4f50-ac67-e62a658d9c3c</td>\n",
       "      <td>mobile</td>\n",
       "      <td>android</td>\n",
       "      <td>Apple</td>\n",
       "      <td>iphone Xr</td>\n",
       "      <td>2022-04-06 20:55:02</td>\n",
       "    </tr>\n",
       "    <tr>\n",
       "      <th>2</th>\n",
       "      <td>712e47d1-3486-470e-9b2b-5c781535aa19</td>\n",
       "      <td>mobile</td>\n",
       "      <td>ios</td>\n",
       "      <td>Apple</td>\n",
       "      <td>ipad pro</td>\n",
       "      <td>2022-02-26 22:57:55</td>\n",
       "    </tr>\n",
       "    <tr>\n",
       "      <th>3</th>\n",
       "      <td>e8d97093-2653-4726-80e0-db31efae00d1</td>\n",
       "      <td>mobile</td>\n",
       "      <td>linux</td>\n",
       "      <td>SONY</td>\n",
       "      <td>Xperia 1 III</td>\n",
       "      <td>2023-10-16 17:36:12</td>\n",
       "    </tr>\n",
       "    <tr>\n",
       "      <th>4</th>\n",
       "      <td>0c39c6d7-8bf4-44c2-b95f-c9105708b54c</td>\n",
       "      <td>mobile</td>\n",
       "      <td>ios</td>\n",
       "      <td>SONY</td>\n",
       "      <td>Bravia OLDE</td>\n",
       "      <td>2023-01-24 07:00:03</td>\n",
       "    </tr>\n",
       "    <tr>\n",
       "      <th>...</th>\n",
       "      <td>...</td>\n",
       "      <td>...</td>\n",
       "      <td>...</td>\n",
       "      <td>...</td>\n",
       "      <td>...</td>\n",
       "      <td>...</td>\n",
       "    </tr>\n",
       "    <tr>\n",
       "      <th>33340</th>\n",
       "      <td>42a5bc8d-7f28-476d-b659-97daaa70091f</td>\n",
       "      <td>mobile</td>\n",
       "      <td>windows</td>\n",
       "      <td>SONY</td>\n",
       "      <td>Xperia 5 II</td>\n",
       "      <td>2021-02-05 16:31:08</td>\n",
       "    </tr>\n",
       "    <tr>\n",
       "      <th>33341</th>\n",
       "      <td>9476affa-e11e-4155-a4a5-a9190d34877c</td>\n",
       "      <td>mobile</td>\n",
       "      <td>android</td>\n",
       "      <td>LG</td>\n",
       "      <td>Gram 17</td>\n",
       "      <td>2023-07-31 10:18:08</td>\n",
       "    </tr>\n",
       "    <tr>\n",
       "      <th>33342</th>\n",
       "      <td>af04c388-4de9-4099-a6d6-57dbd37e8211</td>\n",
       "      <td>mobile</td>\n",
       "      <td>windows</td>\n",
       "      <td>HP</td>\n",
       "      <td>OMEN 15</td>\n",
       "      <td>2024-07-27 10:17:28</td>\n",
       "    </tr>\n",
       "    <tr>\n",
       "      <th>33343</th>\n",
       "      <td>c40801d3-2405-465d-bd30-0fd52afce35f</td>\n",
       "      <td>mobile</td>\n",
       "      <td>mac</td>\n",
       "      <td>Apple</td>\n",
       "      <td>iphone 13</td>\n",
       "      <td>2022-02-12 03:54:13</td>\n",
       "    </tr>\n",
       "    <tr>\n",
       "      <th>33344</th>\n",
       "      <td>b57aa519-9549-475c-9bcf-a9460f3b620c</td>\n",
       "      <td>mobile</td>\n",
       "      <td>windows</td>\n",
       "      <td>HP</td>\n",
       "      <td>pavillon 15</td>\n",
       "      <td>2022-12-10 06:48:31</td>\n",
       "    </tr>\n",
       "  </tbody>\n",
       "</table>\n",
       "<p>33345 rows × 6 columns</p>\n",
       "</div>"
      ],
      "text/plain": [
       "                                  device_id device_type       os manufacturer  \\\n",
       "0      72581ed9-3932-4393-9857-36c4ebef9955      mobile      ios         dell   \n",
       "1      83019cb5-9883-4f50-ac67-e62a658d9c3c      mobile  android        Apple   \n",
       "2      712e47d1-3486-470e-9b2b-5c781535aa19      mobile      ios        Apple   \n",
       "3      e8d97093-2653-4726-80e0-db31efae00d1      mobile    linux         SONY   \n",
       "4      0c39c6d7-8bf4-44c2-b95f-c9105708b54c      mobile      ios         SONY   \n",
       "...                                     ...         ...      ...          ...   \n",
       "33340  42a5bc8d-7f28-476d-b659-97daaa70091f      mobile  windows         SONY   \n",
       "33341  9476affa-e11e-4155-a4a5-a9190d34877c      mobile  android           LG   \n",
       "33342  af04c388-4de9-4099-a6d6-57dbd37e8211      mobile  windows           HP   \n",
       "33343  c40801d3-2405-465d-bd30-0fd52afce35f      mobile      mac        Apple   \n",
       "33344  b57aa519-9549-475c-9bcf-a9460f3b620c      mobile  windows           HP   \n",
       "\n",
       "               model            last_used  \n",
       "0      LATITUDE 7410  2019-11-12 17:59:06  \n",
       "1          iphone Xr  2022-04-06 20:55:02  \n",
       "2           ipad pro  2022-02-26 22:57:55  \n",
       "3       Xperia 1 III  2023-10-16 17:36:12  \n",
       "4        Bravia OLDE  2023-01-24 07:00:03  \n",
       "...              ...                  ...  \n",
       "33340    Xperia 5 II  2021-02-05 16:31:08  \n",
       "33341        Gram 17  2023-07-31 10:18:08  \n",
       "33342        OMEN 15  2024-07-27 10:17:28  \n",
       "33343      iphone 13  2022-02-12 03:54:13  \n",
       "33344    pavillon 15  2022-12-10 06:48:31  \n",
       "\n",
       "[33345 rows x 6 columns]"
      ]
     },
     "execution_count": 10,
     "metadata": {},
     "output_type": "execute_result"
    }
   ],
   "source": [
    "# affichage du filtrage \n",
    "\n",
    "query_data"
   ]
  },
  {
   "cell_type": "code",
   "execution_count": null,
   "metadata": {},
   "outputs": [],
   "source": []
  },
  {
   "cell_type": "code",
   "execution_count": null,
   "metadata": {},
   "outputs": [],
   "source": []
  },
  {
   "cell_type": "markdown",
   "metadata": {},
   "source": [
    "### SAVE ALL DATA "
   ]
  },
  {
   "cell_type": "code",
   "execution_count": 11,
   "metadata": {},
   "outputs": [],
   "source": [
    "## LISTER TOUS LES FICHIERS DATA DISPONIBLE "
   ]
  },
  {
   "cell_type": "code",
   "execution_count": 12,
   "metadata": {},
   "outputs": [
    {
     "data": {
      "text/plain": [
       "['../Data/Train\\\\alerts.csv',\n",
       " '../Data/Train\\\\customers.csv',\n",
       " '../Data/Train\\\\devices.csv',\n",
       " '../Data/Train\\\\fraud_cases.csv',\n",
       " '../Data/Train\\\\regions.csv',\n",
       " '../Data/Train\\\\transactions.csv',\n",
       " '../Data/Train\\\\transaction_history.csv',\n",
       " '../Data/Train\\\\transaction_patterns.csv']"
      ]
     },
     "execution_count": 12,
     "metadata": {},
     "output_type": "execute_result"
    }
   ],
   "source": [
    "list_data = glob('../Data/Train/*')\n",
    "list_data"
   ]
  },
  {
   "cell_type": "code",
   "execution_count": null,
   "metadata": {},
   "outputs": [],
   "source": []
  },
  {
   "cell_type": "code",
   "execution_count": 13,
   "metadata": {},
   "outputs": [
    {
     "data": {
      "text/plain": [
       "'alerts'"
      ]
     },
     "execution_count": 13,
     "metadata": {},
     "output_type": "execute_result"
    }
   ],
   "source": [
    "## separation du nom du fichier\n",
    "name_tables = list_data[0].split(os.sep)[-1].split('.')[0]\n",
    "name_tables = name_tables.split('.')[0]\n",
    "name_tables"
   ]
  },
  {
   "cell_type": "code",
   "execution_count": null,
   "metadata": {},
   "outputs": [],
   "source": []
  },
  {
   "cell_type": "markdown",
   "metadata": {},
   "source": [
    "### CHARGEMENT DE TOUS LES FICHIERS DANS LA BASE DE DONNEES"
   ]
  },
  {
   "cell_type": "code",
   "execution_count": 14,
   "metadata": {},
   "outputs": [
    {
     "name": "stderr",
     "output_type": "stream",
     "text": [
      " 12%|█▎        | 1/8 [00:00<00:02,  2.90it/s]"
     ]
    },
    {
     "name": "stdout",
     "output_type": "stream",
     "text": [
      "alerts\n"
     ]
    },
    {
     "name": "stderr",
     "output_type": "stream",
     "text": [
      " 25%|██▌       | 2/8 [00:00<00:02,  2.03it/s]"
     ]
    },
    {
     "name": "stdout",
     "output_type": "stream",
     "text": [
      "customers\n"
     ]
    },
    {
     "name": "stderr",
     "output_type": "stream",
     "text": [
      " 38%|███▊      | 3/8 [00:03<00:06,  1.40s/it]"
     ]
    },
    {
     "name": "stdout",
     "output_type": "stream",
     "text": [
      "devices\n"
     ]
    },
    {
     "name": "stderr",
     "output_type": "stream",
     "text": [
      " 50%|█████     | 4/8 [00:03<00:03,  1.02it/s]"
     ]
    },
    {
     "name": "stdout",
     "output_type": "stream",
     "text": [
      "fraud_cases\n",
      "regions\n"
     ]
    },
    {
     "name": "stderr",
     "output_type": "stream",
     "text": [
      " 75%|███████▌  | 6/8 [00:06<00:02,  1.33s/it]"
     ]
    },
    {
     "name": "stdout",
     "output_type": "stream",
     "text": [
      "transactions\n"
     ]
    },
    {
     "name": "stderr",
     "output_type": "stream",
     "text": [
      " 88%|████████▊ | 7/8 [00:08<00:01,  1.48s/it]"
     ]
    },
    {
     "name": "stdout",
     "output_type": "stream",
     "text": [
      "transaction_history\n"
     ]
    },
    {
     "name": "stderr",
     "output_type": "stream",
     "text": [
      "100%|██████████| 8/8 [00:09<00:00,  1.21s/it]"
     ]
    },
    {
     "name": "stdout",
     "output_type": "stream",
     "text": [
      "transaction_patterns\n"
     ]
    },
    {
     "name": "stderr",
     "output_type": "stream",
     "text": [
      "\n"
     ]
    }
   ],
   "source": [
    "for table in tqdm(list_data) : \n",
    "    name_tables = table.split(os.sep)[-1].split('.')[0]  # recuperation du nom de la table a partir du path \n",
    "    data_tmp =  pd.read_csv(table)  # chargement de la csv avec pandas \n",
    "    data_tmp.to_sql(name_tables , conn , if_exists='replace', index=False) # savegarde du csv dans le base de donnee \n",
    "    \n",
    "    print(name_tables)"
   ]
  },
  {
   "cell_type": "code",
   "execution_count": null,
   "metadata": {},
   "outputs": [],
   "source": []
  }
 ],
 "metadata": {
  "kernelspec": {
   "display_name": "Python 3 (ipykernel)",
   "language": "python",
   "name": "python3"
  },
  "language_info": {
   "codemirror_mode": {
    "name": "ipython",
    "version": 3
   },
   "file_extension": ".py",
   "mimetype": "text/x-python",
   "name": "python",
   "nbconvert_exporter": "python",
   "pygments_lexer": "ipython3",
   "version": "3.11.0"
  }
 },
 "nbformat": 4,
 "nbformat_minor": 4
}
