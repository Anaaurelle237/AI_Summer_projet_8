{
 "cells": [
  {
   "cell_type": "code",
   "execution_count": 1,
   "metadata": {},
   "outputs": [],
   "source": [
    "import pandas as pd \n",
    "from tqdm import tqdm \n",
    "import sqlite3 \n",
    "import os \n",
    "from glob import glob "
   ]
  },
  {
   "cell_type": "code",
   "execution_count": 2,
   "metadata": {},
   "outputs": [],
   "source": [
    "# ! pip install sqlite"
   ]
  },
  {
   "cell_type": "code",
   "execution_count": 3,
   "metadata": {},
   "outputs": [
    {
     "data": {
      "text/html": [
       "<div>\n",
       "<style scoped>\n",
       "    .dataframe tbody tr th:only-of-type {\n",
       "        vertical-align: middle;\n",
       "    }\n",
       "\n",
       "    .dataframe tbody tr th {\n",
       "        vertical-align: top;\n",
       "    }\n",
       "\n",
       "    .dataframe thead th {\n",
       "        text-align: right;\n",
       "    }\n",
       "</style>\n",
       "<table border=\"1\" class=\"dataframe\">\n",
       "  <thead>\n",
       "    <tr style=\"text-align: right;\">\n",
       "      <th></th>\n",
       "      <th>device_id</th>\n",
       "      <th>device_type</th>\n",
       "      <th>os</th>\n",
       "      <th>manufacturer</th>\n",
       "      <th>model</th>\n",
       "      <th>last_used</th>\n",
       "    </tr>\n",
       "  </thead>\n",
       "  <tbody>\n",
       "    <tr>\n",
       "      <th>0</th>\n",
       "      <td>653bf724-8e76-4cf2-a8d7-c763a5aac2d5</td>\n",
       "      <td>mobile</td>\n",
       "      <td>windows</td>\n",
       "      <td>LG</td>\n",
       "      <td>spectre x3670</td>\n",
       "      <td>2019-09-01 14:30:59</td>\n",
       "    </tr>\n",
       "    <tr>\n",
       "      <th>1</th>\n",
       "      <td>716ab4b8-9c72-4000-acbb-cafed381dbca</td>\n",
       "      <td>mobile</td>\n",
       "      <td>ios</td>\n",
       "      <td>Apple</td>\n",
       "      <td>ipad pro</td>\n",
       "      <td>2023-06-26 11:16:18</td>\n",
       "    </tr>\n",
       "    <tr>\n",
       "      <th>2</th>\n",
       "      <td>e89b69f1-a731-40ef-bc34-a637d35971e0</td>\n",
       "      <td>tablette</td>\n",
       "      <td>android</td>\n",
       "      <td>Apple</td>\n",
       "      <td>ipad pro</td>\n",
       "      <td>2019-12-28 03:12:36</td>\n",
       "    </tr>\n",
       "    <tr>\n",
       "      <th>3</th>\n",
       "      <td>91f7b851-0831-402b-8559-e4b46b91da97</td>\n",
       "      <td>tablette</td>\n",
       "      <td>linux</td>\n",
       "      <td>HP</td>\n",
       "      <td>spectre x360</td>\n",
       "      <td>2020-10-10 06:37:07</td>\n",
       "    </tr>\n",
       "    <tr>\n",
       "      <th>4</th>\n",
       "      <td>f0cc91e9-e697-431b-bdc7-9de6b51c4488</td>\n",
       "      <td>tablette</td>\n",
       "      <td>linux</td>\n",
       "      <td>HP</td>\n",
       "      <td>OMEN 15</td>\n",
       "      <td>2023-11-14 22:45:26</td>\n",
       "    </tr>\n",
       "    <tr>\n",
       "      <th>...</th>\n",
       "      <td>...</td>\n",
       "      <td>...</td>\n",
       "      <td>...</td>\n",
       "      <td>...</td>\n",
       "      <td>...</td>\n",
       "      <td>...</td>\n",
       "    </tr>\n",
       "    <tr>\n",
       "      <th>99995</th>\n",
       "      <td>62a6ecb8-d1f2-425b-95c9-2e998eae4e78</td>\n",
       "      <td>tablette</td>\n",
       "      <td>linux</td>\n",
       "      <td>SONY</td>\n",
       "      <td>VAIO SX14</td>\n",
       "      <td>2024-02-20 03:32:16</td>\n",
       "    </tr>\n",
       "    <tr>\n",
       "      <th>99996</th>\n",
       "      <td>c7285755-0e0a-4963-8414-a25148742fc6</td>\n",
       "      <td>tablette</td>\n",
       "      <td>windows</td>\n",
       "      <td>SONY</td>\n",
       "      <td>Xperia 5 II</td>\n",
       "      <td>2021-08-25 03:29:11</td>\n",
       "    </tr>\n",
       "    <tr>\n",
       "      <th>99997</th>\n",
       "      <td>d6a964a0-72e5-4058-a984-228abb5974a9</td>\n",
       "      <td>tablette</td>\n",
       "      <td>android</td>\n",
       "      <td>LG</td>\n",
       "      <td>spectre x3670</td>\n",
       "      <td>2019-08-29 04:46:52</td>\n",
       "    </tr>\n",
       "    <tr>\n",
       "      <th>99998</th>\n",
       "      <td>d90f2298-4890-4301-b90f-52488b98893a</td>\n",
       "      <td>mobile</td>\n",
       "      <td>windows</td>\n",
       "      <td>SONY</td>\n",
       "      <td>Xperia 5 II</td>\n",
       "      <td>2023-03-15 11:15:58</td>\n",
       "    </tr>\n",
       "    <tr>\n",
       "      <th>99999</th>\n",
       "      <td>9426ce20-154b-4536-bb12-88fb4f4fa338</td>\n",
       "      <td>tablette</td>\n",
       "      <td>ios</td>\n",
       "      <td>Apple</td>\n",
       "      <td>iphone 13</td>\n",
       "      <td>2022-02-10 18:16:13</td>\n",
       "    </tr>\n",
       "  </tbody>\n",
       "</table>\n",
       "<p>100000 rows × 6 columns</p>\n",
       "</div>"
      ],
      "text/plain": [
       "                                  device_id device_type       os manufacturer  \\\n",
       "0      653bf724-8e76-4cf2-a8d7-c763a5aac2d5      mobile  windows           LG   \n",
       "1      716ab4b8-9c72-4000-acbb-cafed381dbca      mobile      ios        Apple   \n",
       "2      e89b69f1-a731-40ef-bc34-a637d35971e0    tablette  android        Apple   \n",
       "3      91f7b851-0831-402b-8559-e4b46b91da97    tablette    linux           HP   \n",
       "4      f0cc91e9-e697-431b-bdc7-9de6b51c4488    tablette    linux           HP   \n",
       "...                                     ...         ...      ...          ...   \n",
       "99995  62a6ecb8-d1f2-425b-95c9-2e998eae4e78    tablette    linux         SONY   \n",
       "99996  c7285755-0e0a-4963-8414-a25148742fc6    tablette  windows         SONY   \n",
       "99997  d6a964a0-72e5-4058-a984-228abb5974a9    tablette  android           LG   \n",
       "99998  d90f2298-4890-4301-b90f-52488b98893a      mobile  windows         SONY   \n",
       "99999  9426ce20-154b-4536-bb12-88fb4f4fa338    tablette      ios        Apple   \n",
       "\n",
       "               model            last_used  \n",
       "0      spectre x3670  2019-09-01 14:30:59  \n",
       "1           ipad pro  2023-06-26 11:16:18  \n",
       "2           ipad pro  2019-12-28 03:12:36  \n",
       "3       spectre x360  2020-10-10 06:37:07  \n",
       "4            OMEN 15  2023-11-14 22:45:26  \n",
       "...              ...                  ...  \n",
       "99995      VAIO SX14  2024-02-20 03:32:16  \n",
       "99996    Xperia 5 II  2021-08-25 03:29:11  \n",
       "99997  spectre x3670  2019-08-29 04:46:52  \n",
       "99998    Xperia 5 II  2023-03-15 11:15:58  \n",
       "99999      iphone 13  2022-02-10 18:16:13  \n",
       "\n",
       "[100000 rows x 6 columns]"
      ]
     },
     "execution_count": 3,
     "metadata": {},
     "output_type": "execute_result"
    }
   ],
   "source": [
    "# charger mes donnees\n",
    "\n",
    "data = pd.read_csv('../Data/Train/devices.csv')\n",
    "data"
   ]
  },
  {
   "cell_type": "markdown",
   "metadata": {},
   "source": [
    "# creation de la  connection avec  la base de donnee sqlite"
   ]
  },
  {
   "cell_type": "markdown",
   "metadata": {},
   "source": [
    "#####  IL EST IMPORTANT D'AVOIR LA BASE DE DONNE  fraude_detection_warehouse.db OU D'EN CREE UNE AVEC CE NOM \n"
   ]
  },
  {
   "cell_type": "code",
   "execution_count": 4,
   "metadata": {},
   "outputs": [
    {
     "data": {
      "text/plain": [
       "<sqlite3.Connection at 0x20ba40dc6d0>"
      ]
     },
     "execution_count": 4,
     "metadata": {},
     "output_type": "execute_result"
    }
   ],
   "source": [
    "conn = sqlite3.connect('../Data/db/fraude_detection_warehouse.db')\n",
    "conn"
   ]
  },
  {
   "cell_type": "code",
   "execution_count": 5,
   "metadata": {},
   "outputs": [
    {
     "data": {
      "text/html": [
       "<div>\n",
       "<style scoped>\n",
       "    .dataframe tbody tr th:only-of-type {\n",
       "        vertical-align: middle;\n",
       "    }\n",
       "\n",
       "    .dataframe tbody tr th {\n",
       "        vertical-align: top;\n",
       "    }\n",
       "\n",
       "    .dataframe thead th {\n",
       "        text-align: right;\n",
       "    }\n",
       "</style>\n",
       "<table border=\"1\" class=\"dataframe\">\n",
       "  <thead>\n",
       "    <tr style=\"text-align: right;\">\n",
       "      <th></th>\n",
       "      <th>device_id</th>\n",
       "      <th>device_type</th>\n",
       "      <th>os</th>\n",
       "      <th>manufacturer</th>\n",
       "      <th>model</th>\n",
       "      <th>last_used</th>\n",
       "    </tr>\n",
       "  </thead>\n",
       "  <tbody>\n",
       "    <tr>\n",
       "      <th>0</th>\n",
       "      <td>653bf724-8e76-4cf2-a8d7-c763a5aac2d5</td>\n",
       "      <td>mobile</td>\n",
       "      <td>windows</td>\n",
       "      <td>LG</td>\n",
       "      <td>spectre x3670</td>\n",
       "      <td>2019-09-01 14:30:59</td>\n",
       "    </tr>\n",
       "    <tr>\n",
       "      <th>1</th>\n",
       "      <td>716ab4b8-9c72-4000-acbb-cafed381dbca</td>\n",
       "      <td>mobile</td>\n",
       "      <td>ios</td>\n",
       "      <td>Apple</td>\n",
       "      <td>ipad pro</td>\n",
       "      <td>2023-06-26 11:16:18</td>\n",
       "    </tr>\n",
       "    <tr>\n",
       "      <th>2</th>\n",
       "      <td>e89b69f1-a731-40ef-bc34-a637d35971e0</td>\n",
       "      <td>tablette</td>\n",
       "      <td>android</td>\n",
       "      <td>Apple</td>\n",
       "      <td>ipad pro</td>\n",
       "      <td>2019-12-28 03:12:36</td>\n",
       "    </tr>\n",
       "    <tr>\n",
       "      <th>3</th>\n",
       "      <td>91f7b851-0831-402b-8559-e4b46b91da97</td>\n",
       "      <td>tablette</td>\n",
       "      <td>linux</td>\n",
       "      <td>HP</td>\n",
       "      <td>spectre x360</td>\n",
       "      <td>2020-10-10 06:37:07</td>\n",
       "    </tr>\n",
       "    <tr>\n",
       "      <th>4</th>\n",
       "      <td>f0cc91e9-e697-431b-bdc7-9de6b51c4488</td>\n",
       "      <td>tablette</td>\n",
       "      <td>linux</td>\n",
       "      <td>HP</td>\n",
       "      <td>OMEN 15</td>\n",
       "      <td>2023-11-14 22:45:26</td>\n",
       "    </tr>\n",
       "    <tr>\n",
       "      <th>...</th>\n",
       "      <td>...</td>\n",
       "      <td>...</td>\n",
       "      <td>...</td>\n",
       "      <td>...</td>\n",
       "      <td>...</td>\n",
       "      <td>...</td>\n",
       "    </tr>\n",
       "    <tr>\n",
       "      <th>99995</th>\n",
       "      <td>62a6ecb8-d1f2-425b-95c9-2e998eae4e78</td>\n",
       "      <td>tablette</td>\n",
       "      <td>linux</td>\n",
       "      <td>SONY</td>\n",
       "      <td>VAIO SX14</td>\n",
       "      <td>2024-02-20 03:32:16</td>\n",
       "    </tr>\n",
       "    <tr>\n",
       "      <th>99996</th>\n",
       "      <td>c7285755-0e0a-4963-8414-a25148742fc6</td>\n",
       "      <td>tablette</td>\n",
       "      <td>windows</td>\n",
       "      <td>SONY</td>\n",
       "      <td>Xperia 5 II</td>\n",
       "      <td>2021-08-25 03:29:11</td>\n",
       "    </tr>\n",
       "    <tr>\n",
       "      <th>99997</th>\n",
       "      <td>d6a964a0-72e5-4058-a984-228abb5974a9</td>\n",
       "      <td>tablette</td>\n",
       "      <td>android</td>\n",
       "      <td>LG</td>\n",
       "      <td>spectre x3670</td>\n",
       "      <td>2019-08-29 04:46:52</td>\n",
       "    </tr>\n",
       "    <tr>\n",
       "      <th>99998</th>\n",
       "      <td>d90f2298-4890-4301-b90f-52488b98893a</td>\n",
       "      <td>mobile</td>\n",
       "      <td>windows</td>\n",
       "      <td>SONY</td>\n",
       "      <td>Xperia 5 II</td>\n",
       "      <td>2023-03-15 11:15:58</td>\n",
       "    </tr>\n",
       "    <tr>\n",
       "      <th>99999</th>\n",
       "      <td>9426ce20-154b-4536-bb12-88fb4f4fa338</td>\n",
       "      <td>tablette</td>\n",
       "      <td>ios</td>\n",
       "      <td>Apple</td>\n",
       "      <td>iphone 13</td>\n",
       "      <td>2022-02-10 18:16:13</td>\n",
       "    </tr>\n",
       "  </tbody>\n",
       "</table>\n",
       "<p>100000 rows × 6 columns</p>\n",
       "</div>"
      ],
      "text/plain": [
       "                                  device_id device_type       os manufacturer  \\\n",
       "0      653bf724-8e76-4cf2-a8d7-c763a5aac2d5      mobile  windows           LG   \n",
       "1      716ab4b8-9c72-4000-acbb-cafed381dbca      mobile      ios        Apple   \n",
       "2      e89b69f1-a731-40ef-bc34-a637d35971e0    tablette  android        Apple   \n",
       "3      91f7b851-0831-402b-8559-e4b46b91da97    tablette    linux           HP   \n",
       "4      f0cc91e9-e697-431b-bdc7-9de6b51c4488    tablette    linux           HP   \n",
       "...                                     ...         ...      ...          ...   \n",
       "99995  62a6ecb8-d1f2-425b-95c9-2e998eae4e78    tablette    linux         SONY   \n",
       "99996  c7285755-0e0a-4963-8414-a25148742fc6    tablette  windows         SONY   \n",
       "99997  d6a964a0-72e5-4058-a984-228abb5974a9    tablette  android           LG   \n",
       "99998  d90f2298-4890-4301-b90f-52488b98893a      mobile  windows         SONY   \n",
       "99999  9426ce20-154b-4536-bb12-88fb4f4fa338    tablette      ios        Apple   \n",
       "\n",
       "               model            last_used  \n",
       "0      spectre x3670  2019-09-01 14:30:59  \n",
       "1           ipad pro  2023-06-26 11:16:18  \n",
       "2           ipad pro  2019-12-28 03:12:36  \n",
       "3       spectre x360  2020-10-10 06:37:07  \n",
       "4            OMEN 15  2023-11-14 22:45:26  \n",
       "...              ...                  ...  \n",
       "99995      VAIO SX14  2024-02-20 03:32:16  \n",
       "99996    Xperia 5 II  2021-08-25 03:29:11  \n",
       "99997  spectre x3670  2019-08-29 04:46:52  \n",
       "99998    Xperia 5 II  2023-03-15 11:15:58  \n",
       "99999      iphone 13  2022-02-10 18:16:13  \n",
       "\n",
       "[100000 rows x 6 columns]"
      ]
     },
     "execution_count": 5,
     "metadata": {},
     "output_type": "execute_result"
    }
   ],
   "source": [
    "data"
   ]
  },
  {
   "cell_type": "code",
   "execution_count": null,
   "metadata": {},
   "outputs": [],
   "source": []
  },
  {
   "cell_type": "code",
   "execution_count": 6,
   "metadata": {},
   "outputs": [
    {
     "data": {
      "text/plain": [
       "100000"
      ]
     },
     "execution_count": 6,
     "metadata": {},
     "output_type": "execute_result"
    }
   ],
   "source": [
    "#savegarde des data dans la base de donnee\n",
    "data.to_sql('devices',conn, if_exists='replace', index=False )"
   ]
  },
  {
   "cell_type": "code",
   "execution_count": 7,
   "metadata": {},
   "outputs": [
    {
     "data": {
      "text/html": [
       "<div>\n",
       "<style scoped>\n",
       "    .dataframe tbody tr th:only-of-type {\n",
       "        vertical-align: middle;\n",
       "    }\n",
       "\n",
       "    .dataframe tbody tr th {\n",
       "        vertical-align: top;\n",
       "    }\n",
       "\n",
       "    .dataframe thead th {\n",
       "        text-align: right;\n",
       "    }\n",
       "</style>\n",
       "<table border=\"1\" class=\"dataframe\">\n",
       "  <thead>\n",
       "    <tr style=\"text-align: right;\">\n",
       "      <th></th>\n",
       "      <th>device_id</th>\n",
       "      <th>device_type</th>\n",
       "      <th>os</th>\n",
       "      <th>manufacturer</th>\n",
       "      <th>model</th>\n",
       "      <th>last_used</th>\n",
       "    </tr>\n",
       "  </thead>\n",
       "  <tbody>\n",
       "    <tr>\n",
       "      <th>0</th>\n",
       "      <td>653bf724-8e76-4cf2-a8d7-c763a5aac2d5</td>\n",
       "      <td>mobile</td>\n",
       "      <td>windows</td>\n",
       "      <td>LG</td>\n",
       "      <td>spectre x3670</td>\n",
       "      <td>2019-09-01 14:30:59</td>\n",
       "    </tr>\n",
       "    <tr>\n",
       "      <th>1</th>\n",
       "      <td>716ab4b8-9c72-4000-acbb-cafed381dbca</td>\n",
       "      <td>mobile</td>\n",
       "      <td>ios</td>\n",
       "      <td>Apple</td>\n",
       "      <td>ipad pro</td>\n",
       "      <td>2023-06-26 11:16:18</td>\n",
       "    </tr>\n",
       "    <tr>\n",
       "      <th>5</th>\n",
       "      <td>17651d50-0371-4490-b532-c067edc965be</td>\n",
       "      <td>mobile</td>\n",
       "      <td>linux</td>\n",
       "      <td>LG</td>\n",
       "      <td>envy45</td>\n",
       "      <td>2019-09-23 18:39:29</td>\n",
       "    </tr>\n",
       "    <tr>\n",
       "      <th>8</th>\n",
       "      <td>49698cbd-0856-4e69-9a43-caf74b7e51ad</td>\n",
       "      <td>mobile</td>\n",
       "      <td>android</td>\n",
       "      <td>HP</td>\n",
       "      <td>envy 13</td>\n",
       "      <td>2021-06-08 23:53:01</td>\n",
       "    </tr>\n",
       "    <tr>\n",
       "      <th>11</th>\n",
       "      <td>463bdf01-0b31-4e1d-aff0-03c88415a3c2</td>\n",
       "      <td>mobile</td>\n",
       "      <td>android</td>\n",
       "      <td>Sharp</td>\n",
       "      <td>dynabook v8</td>\n",
       "      <td>2023-05-20 04:17:03</td>\n",
       "    </tr>\n",
       "    <tr>\n",
       "      <th>...</th>\n",
       "      <td>...</td>\n",
       "      <td>...</td>\n",
       "      <td>...</td>\n",
       "      <td>...</td>\n",
       "      <td>...</td>\n",
       "      <td>...</td>\n",
       "    </tr>\n",
       "    <tr>\n",
       "      <th>99989</th>\n",
       "      <td>4a42ba59-62ce-470b-9acb-c6801e1e101b</td>\n",
       "      <td>mobile</td>\n",
       "      <td>android</td>\n",
       "      <td>Apple</td>\n",
       "      <td>iphone 13</td>\n",
       "      <td>2020-12-21 16:26:40</td>\n",
       "    </tr>\n",
       "    <tr>\n",
       "      <th>99991</th>\n",
       "      <td>4abc7549-6fc7-4a67-9941-a87cc0c06ec0</td>\n",
       "      <td>mobile</td>\n",
       "      <td>mac</td>\n",
       "      <td>SONY</td>\n",
       "      <td>Xperia 5 II</td>\n",
       "      <td>2020-01-31 17:48:34</td>\n",
       "    </tr>\n",
       "    <tr>\n",
       "      <th>99993</th>\n",
       "      <td>0843b844-cce6-4752-b8d0-ba03d7cb0d48</td>\n",
       "      <td>mobile</td>\n",
       "      <td>windows</td>\n",
       "      <td>SONY</td>\n",
       "      <td>Xperia 5 II</td>\n",
       "      <td>2022-03-14 09:50:19</td>\n",
       "    </tr>\n",
       "    <tr>\n",
       "      <th>99994</th>\n",
       "      <td>93a8f965-68aa-4630-9611-938856b18eae</td>\n",
       "      <td>mobile</td>\n",
       "      <td>ios</td>\n",
       "      <td>Sharp</td>\n",
       "      <td>Aquos R6</td>\n",
       "      <td>2021-04-18 15:20:29</td>\n",
       "    </tr>\n",
       "    <tr>\n",
       "      <th>99998</th>\n",
       "      <td>d90f2298-4890-4301-b90f-52488b98893a</td>\n",
       "      <td>mobile</td>\n",
       "      <td>windows</td>\n",
       "      <td>SONY</td>\n",
       "      <td>Xperia 5 II</td>\n",
       "      <td>2023-03-15 11:15:58</td>\n",
       "    </tr>\n",
       "  </tbody>\n",
       "</table>\n",
       "<p>49882 rows × 6 columns</p>\n",
       "</div>"
      ],
      "text/plain": [
       "                                  device_id device_type       os manufacturer  \\\n",
       "0      653bf724-8e76-4cf2-a8d7-c763a5aac2d5      mobile  windows           LG   \n",
       "1      716ab4b8-9c72-4000-acbb-cafed381dbca      mobile      ios        Apple   \n",
       "5      17651d50-0371-4490-b532-c067edc965be      mobile    linux           LG   \n",
       "8      49698cbd-0856-4e69-9a43-caf74b7e51ad      mobile  android           HP   \n",
       "11     463bdf01-0b31-4e1d-aff0-03c88415a3c2      mobile  android        Sharp   \n",
       "...                                     ...         ...      ...          ...   \n",
       "99989  4a42ba59-62ce-470b-9acb-c6801e1e101b      mobile  android        Apple   \n",
       "99991  4abc7549-6fc7-4a67-9941-a87cc0c06ec0      mobile      mac         SONY   \n",
       "99993  0843b844-cce6-4752-b8d0-ba03d7cb0d48      mobile  windows         SONY   \n",
       "99994  93a8f965-68aa-4630-9611-938856b18eae      mobile      ios        Sharp   \n",
       "99998  d90f2298-4890-4301-b90f-52488b98893a      mobile  windows         SONY   \n",
       "\n",
       "               model            last_used  \n",
       "0      spectre x3670  2019-09-01 14:30:59  \n",
       "1           ipad pro  2023-06-26 11:16:18  \n",
       "5             envy45  2019-09-23 18:39:29  \n",
       "8            envy 13  2021-06-08 23:53:01  \n",
       "11       dynabook v8  2023-05-20 04:17:03  \n",
       "...              ...                  ...  \n",
       "99989      iphone 13  2020-12-21 16:26:40  \n",
       "99991    Xperia 5 II  2020-01-31 17:48:34  \n",
       "99993    Xperia 5 II  2022-03-14 09:50:19  \n",
       "99994       Aquos R6  2021-04-18 15:20:29  \n",
       "99998    Xperia 5 II  2023-03-15 11:15:58  \n",
       "\n",
       "[49882 rows x 6 columns]"
      ]
     },
     "execution_count": 7,
     "metadata": {},
     "output_type": "execute_result"
    }
   ],
   "source": [
    "\n",
    "# filtrage en pandas  pour afficher tous les devices de type mobile \n",
    "data[data.device_type=='mobile']"
   ]
  },
  {
   "cell_type": "code",
   "execution_count": null,
   "metadata": {},
   "outputs": [],
   "source": []
  },
  {
   "cell_type": "code",
   "execution_count": 8,
   "metadata": {},
   "outputs": [],
   "source": [
    "# filtrage en SQL  pour afficher tous les devices de type mobile \n",
    "query = \"\"\" \n",
    "SELECT * FROM  devices\n",
    "WHERE device_type= 'mobile'\n",
    "\n",
    "\"\"\""
   ]
  },
  {
   "cell_type": "code",
   "execution_count": 9,
   "metadata": {},
   "outputs": [],
   "source": [
    "# excution du filtrage \n",
    "\n",
    "query_data = pd.read_sql(query , conn )"
   ]
  },
  {
   "cell_type": "code",
   "execution_count": 10,
   "metadata": {},
   "outputs": [
    {
     "data": {
      "text/html": [
       "<div>\n",
       "<style scoped>\n",
       "    .dataframe tbody tr th:only-of-type {\n",
       "        vertical-align: middle;\n",
       "    }\n",
       "\n",
       "    .dataframe tbody tr th {\n",
       "        vertical-align: top;\n",
       "    }\n",
       "\n",
       "    .dataframe thead th {\n",
       "        text-align: right;\n",
       "    }\n",
       "</style>\n",
       "<table border=\"1\" class=\"dataframe\">\n",
       "  <thead>\n",
       "    <tr style=\"text-align: right;\">\n",
       "      <th></th>\n",
       "      <th>device_id</th>\n",
       "      <th>device_type</th>\n",
       "      <th>os</th>\n",
       "      <th>manufacturer</th>\n",
       "      <th>model</th>\n",
       "      <th>last_used</th>\n",
       "    </tr>\n",
       "  </thead>\n",
       "  <tbody>\n",
       "    <tr>\n",
       "      <th>0</th>\n",
       "      <td>653bf724-8e76-4cf2-a8d7-c763a5aac2d5</td>\n",
       "      <td>mobile</td>\n",
       "      <td>windows</td>\n",
       "      <td>LG</td>\n",
       "      <td>spectre x3670</td>\n",
       "      <td>2019-09-01 14:30:59</td>\n",
       "    </tr>\n",
       "    <tr>\n",
       "      <th>1</th>\n",
       "      <td>716ab4b8-9c72-4000-acbb-cafed381dbca</td>\n",
       "      <td>mobile</td>\n",
       "      <td>ios</td>\n",
       "      <td>Apple</td>\n",
       "      <td>ipad pro</td>\n",
       "      <td>2023-06-26 11:16:18</td>\n",
       "    </tr>\n",
       "    <tr>\n",
       "      <th>2</th>\n",
       "      <td>17651d50-0371-4490-b532-c067edc965be</td>\n",
       "      <td>mobile</td>\n",
       "      <td>linux</td>\n",
       "      <td>LG</td>\n",
       "      <td>envy45</td>\n",
       "      <td>2019-09-23 18:39:29</td>\n",
       "    </tr>\n",
       "    <tr>\n",
       "      <th>3</th>\n",
       "      <td>49698cbd-0856-4e69-9a43-caf74b7e51ad</td>\n",
       "      <td>mobile</td>\n",
       "      <td>android</td>\n",
       "      <td>HP</td>\n",
       "      <td>envy 13</td>\n",
       "      <td>2021-06-08 23:53:01</td>\n",
       "    </tr>\n",
       "    <tr>\n",
       "      <th>4</th>\n",
       "      <td>463bdf01-0b31-4e1d-aff0-03c88415a3c2</td>\n",
       "      <td>mobile</td>\n",
       "      <td>android</td>\n",
       "      <td>Sharp</td>\n",
       "      <td>dynabook v8</td>\n",
       "      <td>2023-05-20 04:17:03</td>\n",
       "    </tr>\n",
       "    <tr>\n",
       "      <th>...</th>\n",
       "      <td>...</td>\n",
       "      <td>...</td>\n",
       "      <td>...</td>\n",
       "      <td>...</td>\n",
       "      <td>...</td>\n",
       "      <td>...</td>\n",
       "    </tr>\n",
       "    <tr>\n",
       "      <th>49877</th>\n",
       "      <td>4a42ba59-62ce-470b-9acb-c6801e1e101b</td>\n",
       "      <td>mobile</td>\n",
       "      <td>android</td>\n",
       "      <td>Apple</td>\n",
       "      <td>iphone 13</td>\n",
       "      <td>2020-12-21 16:26:40</td>\n",
       "    </tr>\n",
       "    <tr>\n",
       "      <th>49878</th>\n",
       "      <td>4abc7549-6fc7-4a67-9941-a87cc0c06ec0</td>\n",
       "      <td>mobile</td>\n",
       "      <td>mac</td>\n",
       "      <td>SONY</td>\n",
       "      <td>Xperia 5 II</td>\n",
       "      <td>2020-01-31 17:48:34</td>\n",
       "    </tr>\n",
       "    <tr>\n",
       "      <th>49879</th>\n",
       "      <td>0843b844-cce6-4752-b8d0-ba03d7cb0d48</td>\n",
       "      <td>mobile</td>\n",
       "      <td>windows</td>\n",
       "      <td>SONY</td>\n",
       "      <td>Xperia 5 II</td>\n",
       "      <td>2022-03-14 09:50:19</td>\n",
       "    </tr>\n",
       "    <tr>\n",
       "      <th>49880</th>\n",
       "      <td>93a8f965-68aa-4630-9611-938856b18eae</td>\n",
       "      <td>mobile</td>\n",
       "      <td>ios</td>\n",
       "      <td>Sharp</td>\n",
       "      <td>Aquos R6</td>\n",
       "      <td>2021-04-18 15:20:29</td>\n",
       "    </tr>\n",
       "    <tr>\n",
       "      <th>49881</th>\n",
       "      <td>d90f2298-4890-4301-b90f-52488b98893a</td>\n",
       "      <td>mobile</td>\n",
       "      <td>windows</td>\n",
       "      <td>SONY</td>\n",
       "      <td>Xperia 5 II</td>\n",
       "      <td>2023-03-15 11:15:58</td>\n",
       "    </tr>\n",
       "  </tbody>\n",
       "</table>\n",
       "<p>49882 rows × 6 columns</p>\n",
       "</div>"
      ],
      "text/plain": [
       "                                  device_id device_type       os manufacturer  \\\n",
       "0      653bf724-8e76-4cf2-a8d7-c763a5aac2d5      mobile  windows           LG   \n",
       "1      716ab4b8-9c72-4000-acbb-cafed381dbca      mobile      ios        Apple   \n",
       "2      17651d50-0371-4490-b532-c067edc965be      mobile    linux           LG   \n",
       "3      49698cbd-0856-4e69-9a43-caf74b7e51ad      mobile  android           HP   \n",
       "4      463bdf01-0b31-4e1d-aff0-03c88415a3c2      mobile  android        Sharp   \n",
       "...                                     ...         ...      ...          ...   \n",
       "49877  4a42ba59-62ce-470b-9acb-c6801e1e101b      mobile  android        Apple   \n",
       "49878  4abc7549-6fc7-4a67-9941-a87cc0c06ec0      mobile      mac         SONY   \n",
       "49879  0843b844-cce6-4752-b8d0-ba03d7cb0d48      mobile  windows         SONY   \n",
       "49880  93a8f965-68aa-4630-9611-938856b18eae      mobile      ios        Sharp   \n",
       "49881  d90f2298-4890-4301-b90f-52488b98893a      mobile  windows         SONY   \n",
       "\n",
       "               model            last_used  \n",
       "0      spectre x3670  2019-09-01 14:30:59  \n",
       "1           ipad pro  2023-06-26 11:16:18  \n",
       "2             envy45  2019-09-23 18:39:29  \n",
       "3            envy 13  2021-06-08 23:53:01  \n",
       "4        dynabook v8  2023-05-20 04:17:03  \n",
       "...              ...                  ...  \n",
       "49877      iphone 13  2020-12-21 16:26:40  \n",
       "49878    Xperia 5 II  2020-01-31 17:48:34  \n",
       "49879    Xperia 5 II  2022-03-14 09:50:19  \n",
       "49880       Aquos R6  2021-04-18 15:20:29  \n",
       "49881    Xperia 5 II  2023-03-15 11:15:58  \n",
       "\n",
       "[49882 rows x 6 columns]"
      ]
     },
     "execution_count": 10,
     "metadata": {},
     "output_type": "execute_result"
    }
   ],
   "source": [
    "# affichage du filtrage \n",
    "\n",
    "query_data"
   ]
  },
  {
   "cell_type": "code",
   "execution_count": null,
   "metadata": {},
   "outputs": [],
   "source": []
  },
  {
   "cell_type": "code",
   "execution_count": null,
   "metadata": {},
   "outputs": [],
   "source": []
  },
  {
   "cell_type": "markdown",
   "metadata": {},
   "source": [
    "### SAVE ALL DATA "
   ]
  },
  {
   "cell_type": "code",
   "execution_count": 11,
   "metadata": {},
   "outputs": [],
   "source": [
    "## LISTER TOUS LES FICHIERS DATA DISPONIBLE "
   ]
  },
  {
   "cell_type": "code",
   "execution_count": 12,
   "metadata": {},
   "outputs": [
    {
     "data": {
      "text/plain": [
       "['../Data/Train\\\\alerts.csv',\n",
       " '../Data/Train\\\\customers.csv',\n",
       " '../Data/Train\\\\devices.csv',\n",
       " '../Data/Train\\\\transactions.csv',\n",
       " '../Data/Train\\\\transaction_history.csv',\n",
       " '../Data/Train\\\\transaction_patterns.csv']"
      ]
     },
     "execution_count": 12,
     "metadata": {},
     "output_type": "execute_result"
    }
   ],
   "source": [
    "list_data = glob('../Data/Train/*')\n",
    "list_data"
   ]
  },
  {
   "cell_type": "code",
   "execution_count": null,
   "metadata": {},
   "outputs": [],
   "source": []
  },
  {
   "cell_type": "code",
   "execution_count": 13,
   "metadata": {},
   "outputs": [
    {
     "data": {
      "text/plain": [
       "'alerts'"
      ]
     },
     "execution_count": 13,
     "metadata": {},
     "output_type": "execute_result"
    }
   ],
   "source": [
    "## separation du nom du fichier\n",
    "name_tables = list_data[0].split(os.sep)[-1].split('.')[0]\n",
    "name_tables = name_tables.split('.')[0]\n",
    "name_tables"
   ]
  },
  {
   "cell_type": "code",
   "execution_count": null,
   "metadata": {},
   "outputs": [],
   "source": []
  },
  {
   "cell_type": "markdown",
   "metadata": {},
   "source": [
    "### CHARGEMENT DE TOUS LES FICHIERS DANS LA BASE DE DONNEES"
   ]
  },
  {
   "cell_type": "code",
   "execution_count": 14,
   "metadata": {},
   "outputs": [
    {
     "name": "stderr",
     "output_type": "stream",
     "text": [
      "  0%|          | 0/6 [00:00<?, ?it/s]"
     ]
    },
    {
     "name": "stdout",
     "output_type": "stream",
     "text": [
      "alerts\n"
     ]
    },
    {
     "name": "stderr",
     "output_type": "stream",
     "text": [
      " 33%|███▎      | 2/6 [00:00<00:01,  3.95it/s]"
     ]
    },
    {
     "name": "stdout",
     "output_type": "stream",
     "text": [
      "customers\n"
     ]
    },
    {
     "name": "stderr",
     "output_type": "stream",
     "text": [
      " 50%|█████     | 3/6 [00:01<00:02,  1.48it/s]"
     ]
    },
    {
     "name": "stdout",
     "output_type": "stream",
     "text": [
      "devices\n"
     ]
    },
    {
     "name": "stderr",
     "output_type": "stream",
     "text": [
      " 67%|██████▋   | 4/6 [00:03<00:01,  1.02it/s]"
     ]
    },
    {
     "name": "stdout",
     "output_type": "stream",
     "text": [
      "transactions\n"
     ]
    },
    {
     "name": "stderr",
     "output_type": "stream",
     "text": [
      " 83%|████████▎ | 5/6 [00:05<00:01,  1.30s/it]"
     ]
    },
    {
     "name": "stdout",
     "output_type": "stream",
     "text": [
      "transaction_history\n"
     ]
    },
    {
     "name": "stderr",
     "output_type": "stream",
     "text": [
      "100%|██████████| 6/6 [00:07<00:00,  1.17s/it]"
     ]
    },
    {
     "name": "stdout",
     "output_type": "stream",
     "text": [
      "transaction_patterns\n"
     ]
    },
    {
     "name": "stderr",
     "output_type": "stream",
     "text": [
      "\n"
     ]
    }
   ],
   "source": [
    "for table in tqdm(list_data) : \n",
    "    name_tables = table.split(os.sep)[-1].split('.')[0]  # recuperation du nom de la table a partir du path \n",
    "    data_tmp =  pd.read_csv(table)  # chargement de la csv avec pandas \n",
    "    data_tmp.to_sql(name_tables , conn , if_exists='replace', index=False) # savegarde du csv dans le base de donnee \n",
    "    \n",
    "    print(name_tables)"
   ]
  },
  {
   "cell_type": "code",
   "execution_count": null,
   "metadata": {},
   "outputs": [],
   "source": []
  }
 ],
 "metadata": {
  "kernelspec": {
   "display_name": "Python 3 (ipykernel)",
   "language": "python",
   "name": "python3"
  },
  "language_info": {
   "codemirror_mode": {
    "name": "ipython",
    "version": 3
   },
   "file_extension": ".py",
   "mimetype": "text/x-python",
   "name": "python",
   "nbconvert_exporter": "python",
   "pygments_lexer": "ipython3",
   "version": "3.11.8"
  }
 },
 "nbformat": 4,
 "nbformat_minor": 4
}
