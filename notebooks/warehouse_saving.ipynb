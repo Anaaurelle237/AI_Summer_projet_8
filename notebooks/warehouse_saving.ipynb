{
 "cells": [
  {
   "cell_type": "code",
   "execution_count": 1,
   "metadata": {},
   "outputs": [],
   "source": [
    "import pandas as pd \n",
    "from tqdm import tqdm \n",
    "import sqlite3 \n",
    "import os \n",
    "from glob import glob "
   ]
  },
  {
   "cell_type": "code",
   "execution_count": 2,
   "metadata": {},
   "outputs": [],
   "source": [
    "# ! pip install sqlite"
   ]
  },
  {
   "cell_type": "code",
   "execution_count": 12,
   "metadata": {},
   "outputs": [
    {
     "data": {
      "text/html": [
       "<div>\n",
       "<style scoped>\n",
       "    .dataframe tbody tr th:only-of-type {\n",
       "        vertical-align: middle;\n",
       "    }\n",
       "\n",
       "    .dataframe tbody tr th {\n",
       "        vertical-align: top;\n",
       "    }\n",
       "\n",
       "    .dataframe thead th {\n",
       "        text-align: right;\n",
       "    }\n",
       "</style>\n",
       "<table border=\"1\" class=\"dataframe\">\n",
       "  <thead>\n",
       "    <tr style=\"text-align: right;\">\n",
       "      <th></th>\n",
       "      <th>device_id</th>\n",
       "      <th>device_type</th>\n",
       "      <th>os</th>\n",
       "      <th>manufacturer</th>\n",
       "      <th>model</th>\n",
       "      <th>last_used</th>\n",
       "    </tr>\n",
       "  </thead>\n",
       "  <tbody>\n",
       "    <tr>\n",
       "      <th>0</th>\n",
       "      <td>2bbc4d13-af28-4bcf-a704-71c954c37e53</td>\n",
       "      <td>tablette</td>\n",
       "      <td>windows</td>\n",
       "      <td>HP</td>\n",
       "      <td>OMEN 15</td>\n",
       "      <td>2023-10-18 17:28:27</td>\n",
       "    </tr>\n",
       "    <tr>\n",
       "      <th>1</th>\n",
       "      <td>9abcf743-c4d6-4961-979b-128f51f9220d</td>\n",
       "      <td>mobile</td>\n",
       "      <td>windows</td>\n",
       "      <td>LG</td>\n",
       "      <td>NanoCell TV</td>\n",
       "      <td>2023-02-20 19:53:58</td>\n",
       "    </tr>\n",
       "    <tr>\n",
       "      <th>2</th>\n",
       "      <td>992c1261-0216-4333-ab81-e77715579b21</td>\n",
       "      <td>mobile</td>\n",
       "      <td>windows</td>\n",
       "      <td>LG</td>\n",
       "      <td>Wing 5G</td>\n",
       "      <td>2021-06-12 13:19:46</td>\n",
       "    </tr>\n",
       "    <tr>\n",
       "      <th>3</th>\n",
       "      <td>1ca1dfa6-c318-45ae-a7f7-02596aecb78c</td>\n",
       "      <td>mobile</td>\n",
       "      <td>android</td>\n",
       "      <td>Apple</td>\n",
       "      <td>iphone Xr</td>\n",
       "      <td>2020-08-13 11:05:56</td>\n",
       "    </tr>\n",
       "    <tr>\n",
       "      <th>4</th>\n",
       "      <td>b3e0ca71-2212-48b2-a601-ce37dfc574e1</td>\n",
       "      <td>mobile</td>\n",
       "      <td>ios</td>\n",
       "      <td>Sharp</td>\n",
       "      <td>Aquos R6</td>\n",
       "      <td>2024-01-03 10:13:59</td>\n",
       "    </tr>\n",
       "    <tr>\n",
       "      <th>...</th>\n",
       "      <td>...</td>\n",
       "      <td>...</td>\n",
       "      <td>...</td>\n",
       "      <td>...</td>\n",
       "      <td>...</td>\n",
       "      <td>...</td>\n",
       "    </tr>\n",
       "    <tr>\n",
       "      <th>99995</th>\n",
       "      <td>3c3db361-85e7-4e23-983e-b76985aa790a</td>\n",
       "      <td>mobile</td>\n",
       "      <td>windows</td>\n",
       "      <td>LG</td>\n",
       "      <td>NanoCell TV</td>\n",
       "      <td>2020-05-19 11:09:28</td>\n",
       "    </tr>\n",
       "    <tr>\n",
       "      <th>99996</th>\n",
       "      <td>f5e69f8d-cc0d-465a-bae7-5b97c61b1b71</td>\n",
       "      <td>tablette</td>\n",
       "      <td>android</td>\n",
       "      <td>SONY</td>\n",
       "      <td>Xperia 1 III</td>\n",
       "      <td>2024-01-07 23:32:04</td>\n",
       "    </tr>\n",
       "    <tr>\n",
       "      <th>99997</th>\n",
       "      <td>fea87837-b90f-4d7b-b465-0ff2663d1de4</td>\n",
       "      <td>mobile</td>\n",
       "      <td>ios</td>\n",
       "      <td>dell</td>\n",
       "      <td>LATITUDE 7410</td>\n",
       "      <td>2020-07-25 23:21:23</td>\n",
       "    </tr>\n",
       "    <tr>\n",
       "      <th>99998</th>\n",
       "      <td>370913e6-6211-4359-8f12-ae2f927eb36b</td>\n",
       "      <td>mobile</td>\n",
       "      <td>mac</td>\n",
       "      <td>HP</td>\n",
       "      <td>envy 13</td>\n",
       "      <td>2023-04-05 06:29:16</td>\n",
       "    </tr>\n",
       "    <tr>\n",
       "      <th>99999</th>\n",
       "      <td>295226b0-b0f5-4736-9367-7c9a8c57c4b9</td>\n",
       "      <td>tablette</td>\n",
       "      <td>ios</td>\n",
       "      <td>dell</td>\n",
       "      <td>XPS 13</td>\n",
       "      <td>2019-08-19 05:59:59</td>\n",
       "    </tr>\n",
       "  </tbody>\n",
       "</table>\n",
       "<p>100000 rows × 6 columns</p>\n",
       "</div>"
      ],
      "text/plain": [
       "                                  device_id device_type       os manufacturer  \\\n",
       "0      2bbc4d13-af28-4bcf-a704-71c954c37e53    tablette  windows           HP   \n",
       "1      9abcf743-c4d6-4961-979b-128f51f9220d      mobile  windows           LG   \n",
       "2      992c1261-0216-4333-ab81-e77715579b21      mobile  windows           LG   \n",
       "3      1ca1dfa6-c318-45ae-a7f7-02596aecb78c      mobile  android        Apple   \n",
       "4      b3e0ca71-2212-48b2-a601-ce37dfc574e1      mobile      ios        Sharp   \n",
       "...                                     ...         ...      ...          ...   \n",
       "99995  3c3db361-85e7-4e23-983e-b76985aa790a      mobile  windows           LG   \n",
       "99996  f5e69f8d-cc0d-465a-bae7-5b97c61b1b71    tablette  android         SONY   \n",
       "99997  fea87837-b90f-4d7b-b465-0ff2663d1de4      mobile      ios         dell   \n",
       "99998  370913e6-6211-4359-8f12-ae2f927eb36b      mobile      mac           HP   \n",
       "99999  295226b0-b0f5-4736-9367-7c9a8c57c4b9    tablette      ios         dell   \n",
       "\n",
       "               model            last_used  \n",
       "0            OMEN 15  2023-10-18 17:28:27  \n",
       "1        NanoCell TV  2023-02-20 19:53:58  \n",
       "2            Wing 5G  2021-06-12 13:19:46  \n",
       "3          iphone Xr  2020-08-13 11:05:56  \n",
       "4           Aquos R6  2024-01-03 10:13:59  \n",
       "...              ...                  ...  \n",
       "99995    NanoCell TV  2020-05-19 11:09:28  \n",
       "99996   Xperia 1 III  2024-01-07 23:32:04  \n",
       "99997  LATITUDE 7410  2020-07-25 23:21:23  \n",
       "99998        envy 13  2023-04-05 06:29:16  \n",
       "99999         XPS 13  2019-08-19 05:59:59  \n",
       "\n",
       "[100000 rows x 6 columns]"
      ]
     },
     "execution_count": 12,
     "metadata": {},
     "output_type": "execute_result"
    }
   ],
   "source": [
    "# charger mes donnees\n",
    "\n",
    "data = pd.read_csv('../Data/Train/devices.csv')\n",
    "data"
   ]
  },
  {
   "cell_type": "markdown",
   "metadata": {},
   "source": [
    "# creation de la  connection avec  la base de donnee sqlite"
   ]
  },
  {
   "cell_type": "markdown",
   "metadata": {},
   "source": [
    "#####  IL EST IMPORTANT D'AVOIR LA BASE DE DONNE  fraude_detection_warehouse.db OU D'EN CREE UNE AVEC CE NOM \n"
   ]
  },
  {
   "cell_type": "code",
   "execution_count": 13,
   "metadata": {},
   "outputs": [
    {
     "data": {
      "text/plain": [
       "<sqlite3.Connection at 0x1f57cbbb4c0>"
      ]
     },
     "execution_count": 13,
     "metadata": {},
     "output_type": "execute_result"
    }
   ],
   "source": [
    "conn = sqlite3.connect('../Data/db/fraude_detection_warehouse.db')\n",
    "conn"
   ]
  },
  {
   "cell_type": "code",
   "execution_count": 6,
   "metadata": {},
   "outputs": [],
   "source": [
    "# supprimer la columns  Unnamed: 0 dans le csv \n",
    "data = data.drop(columns=['Unnamed: 0'])"
   ]
  },
  {
   "cell_type": "code",
   "execution_count": 14,
   "metadata": {},
   "outputs": [
    {
     "data": {
      "text/html": [
       "<div>\n",
       "<style scoped>\n",
       "    .dataframe tbody tr th:only-of-type {\n",
       "        vertical-align: middle;\n",
       "    }\n",
       "\n",
       "    .dataframe tbody tr th {\n",
       "        vertical-align: top;\n",
       "    }\n",
       "\n",
       "    .dataframe thead th {\n",
       "        text-align: right;\n",
       "    }\n",
       "</style>\n",
       "<table border=\"1\" class=\"dataframe\">\n",
       "  <thead>\n",
       "    <tr style=\"text-align: right;\">\n",
       "      <th></th>\n",
       "      <th>device_id</th>\n",
       "      <th>device_type</th>\n",
       "      <th>os</th>\n",
       "      <th>manufacturer</th>\n",
       "      <th>model</th>\n",
       "      <th>last_used</th>\n",
       "    </tr>\n",
       "  </thead>\n",
       "  <tbody>\n",
       "    <tr>\n",
       "      <th>0</th>\n",
       "      <td>2bbc4d13-af28-4bcf-a704-71c954c37e53</td>\n",
       "      <td>tablette</td>\n",
       "      <td>windows</td>\n",
       "      <td>HP</td>\n",
       "      <td>OMEN 15</td>\n",
       "      <td>2023-10-18 17:28:27</td>\n",
       "    </tr>\n",
       "    <tr>\n",
       "      <th>1</th>\n",
       "      <td>9abcf743-c4d6-4961-979b-128f51f9220d</td>\n",
       "      <td>mobile</td>\n",
       "      <td>windows</td>\n",
       "      <td>LG</td>\n",
       "      <td>NanoCell TV</td>\n",
       "      <td>2023-02-20 19:53:58</td>\n",
       "    </tr>\n",
       "    <tr>\n",
       "      <th>2</th>\n",
       "      <td>992c1261-0216-4333-ab81-e77715579b21</td>\n",
       "      <td>mobile</td>\n",
       "      <td>windows</td>\n",
       "      <td>LG</td>\n",
       "      <td>Wing 5G</td>\n",
       "      <td>2021-06-12 13:19:46</td>\n",
       "    </tr>\n",
       "    <tr>\n",
       "      <th>3</th>\n",
       "      <td>1ca1dfa6-c318-45ae-a7f7-02596aecb78c</td>\n",
       "      <td>mobile</td>\n",
       "      <td>android</td>\n",
       "      <td>Apple</td>\n",
       "      <td>iphone Xr</td>\n",
       "      <td>2020-08-13 11:05:56</td>\n",
       "    </tr>\n",
       "    <tr>\n",
       "      <th>4</th>\n",
       "      <td>b3e0ca71-2212-48b2-a601-ce37dfc574e1</td>\n",
       "      <td>mobile</td>\n",
       "      <td>ios</td>\n",
       "      <td>Sharp</td>\n",
       "      <td>Aquos R6</td>\n",
       "      <td>2024-01-03 10:13:59</td>\n",
       "    </tr>\n",
       "    <tr>\n",
       "      <th>...</th>\n",
       "      <td>...</td>\n",
       "      <td>...</td>\n",
       "      <td>...</td>\n",
       "      <td>...</td>\n",
       "      <td>...</td>\n",
       "      <td>...</td>\n",
       "    </tr>\n",
       "    <tr>\n",
       "      <th>99995</th>\n",
       "      <td>3c3db361-85e7-4e23-983e-b76985aa790a</td>\n",
       "      <td>mobile</td>\n",
       "      <td>windows</td>\n",
       "      <td>LG</td>\n",
       "      <td>NanoCell TV</td>\n",
       "      <td>2020-05-19 11:09:28</td>\n",
       "    </tr>\n",
       "    <tr>\n",
       "      <th>99996</th>\n",
       "      <td>f5e69f8d-cc0d-465a-bae7-5b97c61b1b71</td>\n",
       "      <td>tablette</td>\n",
       "      <td>android</td>\n",
       "      <td>SONY</td>\n",
       "      <td>Xperia 1 III</td>\n",
       "      <td>2024-01-07 23:32:04</td>\n",
       "    </tr>\n",
       "    <tr>\n",
       "      <th>99997</th>\n",
       "      <td>fea87837-b90f-4d7b-b465-0ff2663d1de4</td>\n",
       "      <td>mobile</td>\n",
       "      <td>ios</td>\n",
       "      <td>dell</td>\n",
       "      <td>LATITUDE 7410</td>\n",
       "      <td>2020-07-25 23:21:23</td>\n",
       "    </tr>\n",
       "    <tr>\n",
       "      <th>99998</th>\n",
       "      <td>370913e6-6211-4359-8f12-ae2f927eb36b</td>\n",
       "      <td>mobile</td>\n",
       "      <td>mac</td>\n",
       "      <td>HP</td>\n",
       "      <td>envy 13</td>\n",
       "      <td>2023-04-05 06:29:16</td>\n",
       "    </tr>\n",
       "    <tr>\n",
       "      <th>99999</th>\n",
       "      <td>295226b0-b0f5-4736-9367-7c9a8c57c4b9</td>\n",
       "      <td>tablette</td>\n",
       "      <td>ios</td>\n",
       "      <td>dell</td>\n",
       "      <td>XPS 13</td>\n",
       "      <td>2019-08-19 05:59:59</td>\n",
       "    </tr>\n",
       "  </tbody>\n",
       "</table>\n",
       "<p>100000 rows × 6 columns</p>\n",
       "</div>"
      ],
      "text/plain": [
       "                                  device_id device_type       os manufacturer  \\\n",
       "0      2bbc4d13-af28-4bcf-a704-71c954c37e53    tablette  windows           HP   \n",
       "1      9abcf743-c4d6-4961-979b-128f51f9220d      mobile  windows           LG   \n",
       "2      992c1261-0216-4333-ab81-e77715579b21      mobile  windows           LG   \n",
       "3      1ca1dfa6-c318-45ae-a7f7-02596aecb78c      mobile  android        Apple   \n",
       "4      b3e0ca71-2212-48b2-a601-ce37dfc574e1      mobile      ios        Sharp   \n",
       "...                                     ...         ...      ...          ...   \n",
       "99995  3c3db361-85e7-4e23-983e-b76985aa790a      mobile  windows           LG   \n",
       "99996  f5e69f8d-cc0d-465a-bae7-5b97c61b1b71    tablette  android         SONY   \n",
       "99997  fea87837-b90f-4d7b-b465-0ff2663d1de4      mobile      ios         dell   \n",
       "99998  370913e6-6211-4359-8f12-ae2f927eb36b      mobile      mac           HP   \n",
       "99999  295226b0-b0f5-4736-9367-7c9a8c57c4b9    tablette      ios         dell   \n",
       "\n",
       "               model            last_used  \n",
       "0            OMEN 15  2023-10-18 17:28:27  \n",
       "1        NanoCell TV  2023-02-20 19:53:58  \n",
       "2            Wing 5G  2021-06-12 13:19:46  \n",
       "3          iphone Xr  2020-08-13 11:05:56  \n",
       "4           Aquos R6  2024-01-03 10:13:59  \n",
       "...              ...                  ...  \n",
       "99995    NanoCell TV  2020-05-19 11:09:28  \n",
       "99996   Xperia 1 III  2024-01-07 23:32:04  \n",
       "99997  LATITUDE 7410  2020-07-25 23:21:23  \n",
       "99998        envy 13  2023-04-05 06:29:16  \n",
       "99999         XPS 13  2019-08-19 05:59:59  \n",
       "\n",
       "[100000 rows x 6 columns]"
      ]
     },
     "execution_count": 14,
     "metadata": {},
     "output_type": "execute_result"
    }
   ],
   "source": [
    "data"
   ]
  },
  {
   "cell_type": "code",
   "execution_count": null,
   "metadata": {},
   "outputs": [],
   "source": []
  },
  {
   "cell_type": "code",
   "execution_count": 15,
   "metadata": {},
   "outputs": [
    {
     "data": {
      "text/plain": [
       "100000"
      ]
     },
     "execution_count": 15,
     "metadata": {},
     "output_type": "execute_result"
    }
   ],
   "source": [
    "#savegarde des data dans la base de donnee\n",
    "data.to_sql('devices',conn, if_exists='replace', index=False )"
   ]
  },
  {
   "cell_type": "code",
   "execution_count": 16,
   "metadata": {},
   "outputs": [
    {
     "data": {
      "text/html": [
       "<div>\n",
       "<style scoped>\n",
       "    .dataframe tbody tr th:only-of-type {\n",
       "        vertical-align: middle;\n",
       "    }\n",
       "\n",
       "    .dataframe tbody tr th {\n",
       "        vertical-align: top;\n",
       "    }\n",
       "\n",
       "    .dataframe thead th {\n",
       "        text-align: right;\n",
       "    }\n",
       "</style>\n",
       "<table border=\"1\" class=\"dataframe\">\n",
       "  <thead>\n",
       "    <tr style=\"text-align: right;\">\n",
       "      <th></th>\n",
       "      <th>device_id</th>\n",
       "      <th>device_type</th>\n",
       "      <th>os</th>\n",
       "      <th>manufacturer</th>\n",
       "      <th>model</th>\n",
       "      <th>last_used</th>\n",
       "    </tr>\n",
       "  </thead>\n",
       "  <tbody>\n",
       "    <tr>\n",
       "      <th>1</th>\n",
       "      <td>9abcf743-c4d6-4961-979b-128f51f9220d</td>\n",
       "      <td>mobile</td>\n",
       "      <td>windows</td>\n",
       "      <td>LG</td>\n",
       "      <td>NanoCell TV</td>\n",
       "      <td>2023-02-20 19:53:58</td>\n",
       "    </tr>\n",
       "    <tr>\n",
       "      <th>2</th>\n",
       "      <td>992c1261-0216-4333-ab81-e77715579b21</td>\n",
       "      <td>mobile</td>\n",
       "      <td>windows</td>\n",
       "      <td>LG</td>\n",
       "      <td>Wing 5G</td>\n",
       "      <td>2021-06-12 13:19:46</td>\n",
       "    </tr>\n",
       "    <tr>\n",
       "      <th>3</th>\n",
       "      <td>1ca1dfa6-c318-45ae-a7f7-02596aecb78c</td>\n",
       "      <td>mobile</td>\n",
       "      <td>android</td>\n",
       "      <td>Apple</td>\n",
       "      <td>iphone Xr</td>\n",
       "      <td>2020-08-13 11:05:56</td>\n",
       "    </tr>\n",
       "    <tr>\n",
       "      <th>4</th>\n",
       "      <td>b3e0ca71-2212-48b2-a601-ce37dfc574e1</td>\n",
       "      <td>mobile</td>\n",
       "      <td>ios</td>\n",
       "      <td>Sharp</td>\n",
       "      <td>Aquos R6</td>\n",
       "      <td>2024-01-03 10:13:59</td>\n",
       "    </tr>\n",
       "    <tr>\n",
       "      <th>5</th>\n",
       "      <td>a017031d-9f19-4092-a363-c20d879e95e9</td>\n",
       "      <td>mobile</td>\n",
       "      <td>mac</td>\n",
       "      <td>LG</td>\n",
       "      <td>Wing 5G</td>\n",
       "      <td>2023-05-16 21:42:26</td>\n",
       "    </tr>\n",
       "    <tr>\n",
       "      <th>...</th>\n",
       "      <td>...</td>\n",
       "      <td>...</td>\n",
       "      <td>...</td>\n",
       "      <td>...</td>\n",
       "      <td>...</td>\n",
       "      <td>...</td>\n",
       "    </tr>\n",
       "    <tr>\n",
       "      <th>99992</th>\n",
       "      <td>a9a5fe70-8092-4568-a3bb-e6dae429cafc</td>\n",
       "      <td>mobile</td>\n",
       "      <td>ios</td>\n",
       "      <td>Apple</td>\n",
       "      <td>ipad pro</td>\n",
       "      <td>2019-11-18 23:53:58</td>\n",
       "    </tr>\n",
       "    <tr>\n",
       "      <th>99993</th>\n",
       "      <td>69c9ec76-7ac2-4242-a70e-7647c0c5efcc</td>\n",
       "      <td>mobile</td>\n",
       "      <td>windows</td>\n",
       "      <td>HP</td>\n",
       "      <td>spectre x360</td>\n",
       "      <td>2020-02-11 12:26:57</td>\n",
       "    </tr>\n",
       "    <tr>\n",
       "      <th>99995</th>\n",
       "      <td>3c3db361-85e7-4e23-983e-b76985aa790a</td>\n",
       "      <td>mobile</td>\n",
       "      <td>windows</td>\n",
       "      <td>LG</td>\n",
       "      <td>NanoCell TV</td>\n",
       "      <td>2020-05-19 11:09:28</td>\n",
       "    </tr>\n",
       "    <tr>\n",
       "      <th>99997</th>\n",
       "      <td>fea87837-b90f-4d7b-b465-0ff2663d1de4</td>\n",
       "      <td>mobile</td>\n",
       "      <td>ios</td>\n",
       "      <td>dell</td>\n",
       "      <td>LATITUDE 7410</td>\n",
       "      <td>2020-07-25 23:21:23</td>\n",
       "    </tr>\n",
       "    <tr>\n",
       "      <th>99998</th>\n",
       "      <td>370913e6-6211-4359-8f12-ae2f927eb36b</td>\n",
       "      <td>mobile</td>\n",
       "      <td>mac</td>\n",
       "      <td>HP</td>\n",
       "      <td>envy 13</td>\n",
       "      <td>2023-04-05 06:29:16</td>\n",
       "    </tr>\n",
       "  </tbody>\n",
       "</table>\n",
       "<p>49751 rows × 6 columns</p>\n",
       "</div>"
      ],
      "text/plain": [
       "                                  device_id device_type       os manufacturer  \\\n",
       "1      9abcf743-c4d6-4961-979b-128f51f9220d      mobile  windows           LG   \n",
       "2      992c1261-0216-4333-ab81-e77715579b21      mobile  windows           LG   \n",
       "3      1ca1dfa6-c318-45ae-a7f7-02596aecb78c      mobile  android        Apple   \n",
       "4      b3e0ca71-2212-48b2-a601-ce37dfc574e1      mobile      ios        Sharp   \n",
       "5      a017031d-9f19-4092-a363-c20d879e95e9      mobile      mac           LG   \n",
       "...                                     ...         ...      ...          ...   \n",
       "99992  a9a5fe70-8092-4568-a3bb-e6dae429cafc      mobile      ios        Apple   \n",
       "99993  69c9ec76-7ac2-4242-a70e-7647c0c5efcc      mobile  windows           HP   \n",
       "99995  3c3db361-85e7-4e23-983e-b76985aa790a      mobile  windows           LG   \n",
       "99997  fea87837-b90f-4d7b-b465-0ff2663d1de4      mobile      ios         dell   \n",
       "99998  370913e6-6211-4359-8f12-ae2f927eb36b      mobile      mac           HP   \n",
       "\n",
       "               model            last_used  \n",
       "1        NanoCell TV  2023-02-20 19:53:58  \n",
       "2            Wing 5G  2021-06-12 13:19:46  \n",
       "3          iphone Xr  2020-08-13 11:05:56  \n",
       "4           Aquos R6  2024-01-03 10:13:59  \n",
       "5            Wing 5G  2023-05-16 21:42:26  \n",
       "...              ...                  ...  \n",
       "99992       ipad pro  2019-11-18 23:53:58  \n",
       "99993   spectre x360  2020-02-11 12:26:57  \n",
       "99995    NanoCell TV  2020-05-19 11:09:28  \n",
       "99997  LATITUDE 7410  2020-07-25 23:21:23  \n",
       "99998        envy 13  2023-04-05 06:29:16  \n",
       "\n",
       "[49751 rows x 6 columns]"
      ]
     },
     "execution_count": 16,
     "metadata": {},
     "output_type": "execute_result"
    }
   ],
   "source": [
    "\n",
    "# filtrage en pandas  pour afficher tous les devices de type mobile \n",
    "data[data.device_type=='mobile']"
   ]
  },
  {
   "cell_type": "code",
   "execution_count": null,
   "metadata": {},
   "outputs": [],
   "source": []
  },
  {
   "cell_type": "code",
   "execution_count": 17,
   "metadata": {},
   "outputs": [],
   "source": [
    "# filtrage en SQL  pour afficher tous les devices de type mobile \n",
    "query = \"\"\" \n",
    "SELECT * FROM  devices\n",
    "WHERE device_type= 'mobile'\n",
    "\n",
    "\"\"\""
   ]
  },
  {
   "cell_type": "code",
   "execution_count": 18,
   "metadata": {},
   "outputs": [],
   "source": [
    "# excution du filtrage \n",
    "\n",
    "query_data = pd.read_sql(query , conn )"
   ]
  },
  {
   "cell_type": "code",
   "execution_count": 19,
   "metadata": {},
   "outputs": [
    {
     "data": {
      "text/html": [
       "<div>\n",
       "<style scoped>\n",
       "    .dataframe tbody tr th:only-of-type {\n",
       "        vertical-align: middle;\n",
       "    }\n",
       "\n",
       "    .dataframe tbody tr th {\n",
       "        vertical-align: top;\n",
       "    }\n",
       "\n",
       "    .dataframe thead th {\n",
       "        text-align: right;\n",
       "    }\n",
       "</style>\n",
       "<table border=\"1\" class=\"dataframe\">\n",
       "  <thead>\n",
       "    <tr style=\"text-align: right;\">\n",
       "      <th></th>\n",
       "      <th>device_id</th>\n",
       "      <th>device_type</th>\n",
       "      <th>os</th>\n",
       "      <th>manufacturer</th>\n",
       "      <th>model</th>\n",
       "      <th>last_used</th>\n",
       "    </tr>\n",
       "  </thead>\n",
       "  <tbody>\n",
       "    <tr>\n",
       "      <th>0</th>\n",
       "      <td>9abcf743-c4d6-4961-979b-128f51f9220d</td>\n",
       "      <td>mobile</td>\n",
       "      <td>windows</td>\n",
       "      <td>LG</td>\n",
       "      <td>NanoCell TV</td>\n",
       "      <td>2023-02-20 19:53:58</td>\n",
       "    </tr>\n",
       "    <tr>\n",
       "      <th>1</th>\n",
       "      <td>992c1261-0216-4333-ab81-e77715579b21</td>\n",
       "      <td>mobile</td>\n",
       "      <td>windows</td>\n",
       "      <td>LG</td>\n",
       "      <td>Wing 5G</td>\n",
       "      <td>2021-06-12 13:19:46</td>\n",
       "    </tr>\n",
       "    <tr>\n",
       "      <th>2</th>\n",
       "      <td>1ca1dfa6-c318-45ae-a7f7-02596aecb78c</td>\n",
       "      <td>mobile</td>\n",
       "      <td>android</td>\n",
       "      <td>Apple</td>\n",
       "      <td>iphone Xr</td>\n",
       "      <td>2020-08-13 11:05:56</td>\n",
       "    </tr>\n",
       "    <tr>\n",
       "      <th>3</th>\n",
       "      <td>b3e0ca71-2212-48b2-a601-ce37dfc574e1</td>\n",
       "      <td>mobile</td>\n",
       "      <td>ios</td>\n",
       "      <td>Sharp</td>\n",
       "      <td>Aquos R6</td>\n",
       "      <td>2024-01-03 10:13:59</td>\n",
       "    </tr>\n",
       "    <tr>\n",
       "      <th>4</th>\n",
       "      <td>a017031d-9f19-4092-a363-c20d879e95e9</td>\n",
       "      <td>mobile</td>\n",
       "      <td>mac</td>\n",
       "      <td>LG</td>\n",
       "      <td>Wing 5G</td>\n",
       "      <td>2023-05-16 21:42:26</td>\n",
       "    </tr>\n",
       "    <tr>\n",
       "      <th>...</th>\n",
       "      <td>...</td>\n",
       "      <td>...</td>\n",
       "      <td>...</td>\n",
       "      <td>...</td>\n",
       "      <td>...</td>\n",
       "      <td>...</td>\n",
       "    </tr>\n",
       "    <tr>\n",
       "      <th>49746</th>\n",
       "      <td>a9a5fe70-8092-4568-a3bb-e6dae429cafc</td>\n",
       "      <td>mobile</td>\n",
       "      <td>ios</td>\n",
       "      <td>Apple</td>\n",
       "      <td>ipad pro</td>\n",
       "      <td>2019-11-18 23:53:58</td>\n",
       "    </tr>\n",
       "    <tr>\n",
       "      <th>49747</th>\n",
       "      <td>69c9ec76-7ac2-4242-a70e-7647c0c5efcc</td>\n",
       "      <td>mobile</td>\n",
       "      <td>windows</td>\n",
       "      <td>HP</td>\n",
       "      <td>spectre x360</td>\n",
       "      <td>2020-02-11 12:26:57</td>\n",
       "    </tr>\n",
       "    <tr>\n",
       "      <th>49748</th>\n",
       "      <td>3c3db361-85e7-4e23-983e-b76985aa790a</td>\n",
       "      <td>mobile</td>\n",
       "      <td>windows</td>\n",
       "      <td>LG</td>\n",
       "      <td>NanoCell TV</td>\n",
       "      <td>2020-05-19 11:09:28</td>\n",
       "    </tr>\n",
       "    <tr>\n",
       "      <th>49749</th>\n",
       "      <td>fea87837-b90f-4d7b-b465-0ff2663d1de4</td>\n",
       "      <td>mobile</td>\n",
       "      <td>ios</td>\n",
       "      <td>dell</td>\n",
       "      <td>LATITUDE 7410</td>\n",
       "      <td>2020-07-25 23:21:23</td>\n",
       "    </tr>\n",
       "    <tr>\n",
       "      <th>49750</th>\n",
       "      <td>370913e6-6211-4359-8f12-ae2f927eb36b</td>\n",
       "      <td>mobile</td>\n",
       "      <td>mac</td>\n",
       "      <td>HP</td>\n",
       "      <td>envy 13</td>\n",
       "      <td>2023-04-05 06:29:16</td>\n",
       "    </tr>\n",
       "  </tbody>\n",
       "</table>\n",
       "<p>49751 rows × 6 columns</p>\n",
       "</div>"
      ],
      "text/plain": [
       "                                  device_id device_type       os manufacturer  \\\n",
       "0      9abcf743-c4d6-4961-979b-128f51f9220d      mobile  windows           LG   \n",
       "1      992c1261-0216-4333-ab81-e77715579b21      mobile  windows           LG   \n",
       "2      1ca1dfa6-c318-45ae-a7f7-02596aecb78c      mobile  android        Apple   \n",
       "3      b3e0ca71-2212-48b2-a601-ce37dfc574e1      mobile      ios        Sharp   \n",
       "4      a017031d-9f19-4092-a363-c20d879e95e9      mobile      mac           LG   \n",
       "...                                     ...         ...      ...          ...   \n",
       "49746  a9a5fe70-8092-4568-a3bb-e6dae429cafc      mobile      ios        Apple   \n",
       "49747  69c9ec76-7ac2-4242-a70e-7647c0c5efcc      mobile  windows           HP   \n",
       "49748  3c3db361-85e7-4e23-983e-b76985aa790a      mobile  windows           LG   \n",
       "49749  fea87837-b90f-4d7b-b465-0ff2663d1de4      mobile      ios         dell   \n",
       "49750  370913e6-6211-4359-8f12-ae2f927eb36b      mobile      mac           HP   \n",
       "\n",
       "               model            last_used  \n",
       "0        NanoCell TV  2023-02-20 19:53:58  \n",
       "1            Wing 5G  2021-06-12 13:19:46  \n",
       "2          iphone Xr  2020-08-13 11:05:56  \n",
       "3           Aquos R6  2024-01-03 10:13:59  \n",
       "4            Wing 5G  2023-05-16 21:42:26  \n",
       "...              ...                  ...  \n",
       "49746       ipad pro  2019-11-18 23:53:58  \n",
       "49747   spectre x360  2020-02-11 12:26:57  \n",
       "49748    NanoCell TV  2020-05-19 11:09:28  \n",
       "49749  LATITUDE 7410  2020-07-25 23:21:23  \n",
       "49750        envy 13  2023-04-05 06:29:16  \n",
       "\n",
       "[49751 rows x 6 columns]"
      ]
     },
     "execution_count": 19,
     "metadata": {},
     "output_type": "execute_result"
    }
   ],
   "source": [
    "# affichage du filtrage \n",
    "\n",
    "query_data"
   ]
  },
  {
   "cell_type": "code",
   "execution_count": null,
   "metadata": {},
   "outputs": [],
   "source": []
  },
  {
   "cell_type": "code",
   "execution_count": null,
   "metadata": {},
   "outputs": [],
   "source": []
  },
  {
   "cell_type": "markdown",
   "metadata": {},
   "source": [
    "### SAVE ALL DATA "
   ]
  },
  {
   "cell_type": "code",
   "execution_count": null,
   "metadata": {},
   "outputs": [],
   "source": [
    "## LISTER TOUS LES FICHIERS DATA DISPONIBLE "
   ]
  },
  {
   "cell_type": "code",
   "execution_count": 20,
   "metadata": {},
   "outputs": [
    {
     "data": {
      "text/plain": [
       "['../Data/Train\\\\alerts.csv',\n",
       " '../Data/Train\\\\customers.csv',\n",
       " '../Data/Train\\\\devices.csv',\n",
       " '../Data/Train\\\\transactions.csv',\n",
       " '../Data/Train\\\\transaction_history.csv',\n",
       " '../Data/Train\\\\transaction_patterns.csv']"
      ]
     },
     "execution_count": 20,
     "metadata": {},
     "output_type": "execute_result"
    }
   ],
   "source": [
    "list_data = glob('../Data/Train/*')\n",
    "list_data"
   ]
  },
  {
   "cell_type": "code",
   "execution_count": null,
   "metadata": {},
   "outputs": [],
   "source": []
  },
  {
   "cell_type": "code",
   "execution_count": 21,
   "metadata": {},
   "outputs": [
    {
     "data": {
      "text/plain": [
       "'alerts'"
      ]
     },
     "execution_count": 21,
     "metadata": {},
     "output_type": "execute_result"
    }
   ],
   "source": [
    "## separation du nom du fichier\n",
    "name_tables = list_data[0].split(os.sep)[-1].split('.')[0]\n",
    "name_tables = name_tables.split('.')[0]\n",
    "name_tables"
   ]
  },
  {
   "cell_type": "code",
   "execution_count": null,
   "metadata": {},
   "outputs": [],
   "source": []
  },
  {
   "cell_type": "markdown",
   "metadata": {},
   "source": [
    "### CHARGEMENT DE TOUS LES FICHIERS DANS LA BASE DE DONNEES"
   ]
  },
  {
   "cell_type": "code",
   "execution_count": 23,
   "metadata": {},
   "outputs": [
    {
     "name": "stderr",
     "output_type": "stream",
     "text": [
      " 17%|█▋        | 1/6 [00:00<00:01,  4.37it/s]"
     ]
    },
    {
     "name": "stdout",
     "output_type": "stream",
     "text": [
      "alerts\n"
     ]
    },
    {
     "name": "stderr",
     "output_type": "stream",
     "text": [
      " 33%|███▎      | 2/6 [00:00<00:00,  4.28it/s]"
     ]
    },
    {
     "name": "stdout",
     "output_type": "stream",
     "text": [
      "customers\n"
     ]
    },
    {
     "name": "stderr",
     "output_type": "stream",
     "text": [
      " 50%|█████     | 3/6 [00:01<00:02,  1.22it/s]"
     ]
    },
    {
     "name": "stdout",
     "output_type": "stream",
     "text": [
      "devices\n"
     ]
    },
    {
     "name": "stderr",
     "output_type": "stream",
     "text": [
      " 67%|██████▋   | 4/6 [00:05<00:03,  1.88s/it]"
     ]
    },
    {
     "name": "stdout",
     "output_type": "stream",
     "text": [
      "transactions\n"
     ]
    },
    {
     "name": "stderr",
     "output_type": "stream",
     "text": [
      " 83%|████████▎ | 5/6 [00:08<00:02,  2.34s/it]"
     ]
    },
    {
     "name": "stdout",
     "output_type": "stream",
     "text": [
      "transaction_history\n"
     ]
    },
    {
     "name": "stderr",
     "output_type": "stream",
     "text": [
      "100%|██████████| 6/6 [00:10<00:00,  1.81s/it]"
     ]
    },
    {
     "name": "stdout",
     "output_type": "stream",
     "text": [
      "transaction_patterns\n"
     ]
    },
    {
     "name": "stderr",
     "output_type": "stream",
     "text": [
      "\n"
     ]
    }
   ],
   "source": [
    "for table in tqdm(list_data) : \n",
    "    name_tables = table.split(os.sep)[-1].split('.')[0]  # recuperation du nom de la table a partir du path \n",
    "    data_tmp =  pd.read_csv(table)  # chargement de la csv avec pandas \n",
    "    data_tmp.to_sql(name_tables , conn , if_exists='replace', index=False) # savegarde du csv dans le base de donnee \n",
    "    \n",
    "    print(name_tables)"
   ]
  },
  {
   "cell_type": "code",
   "execution_count": null,
   "metadata": {},
   "outputs": [],
   "source": []
  }
 ],
 "metadata": {
  "kernelspec": {
   "display_name": "Python 3",
   "language": "python",
   "name": "python3"
  },
  "language_info": {
   "codemirror_mode": {
    "name": "ipython",
    "version": 3
   },
   "file_extension": ".py",
   "mimetype": "text/x-python",
   "name": "python",
   "nbconvert_exporter": "python",
   "pygments_lexer": "ipython3",
   "version": "3.11.8"
  }
 },
 "nbformat": 4,
 "nbformat_minor": 2
}
