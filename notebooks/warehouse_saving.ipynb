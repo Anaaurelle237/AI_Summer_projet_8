{
 "cells": [
  {
   "cell_type": "code",
   "execution_count": 15,
   "metadata": {},
   "outputs": [],
   "source": [
    "import pandas as pd \n",
    "from tqdm import tqdm \n",
    "import sqlite3 \n",
    "import os \n",
    "from glob import glob "
   ]
  },
  {
   "cell_type": "code",
   "execution_count": 16,
   "metadata": {},
   "outputs": [],
   "source": [
    "# ! pip install sqlite"
   ]
  },
  {
   "cell_type": "code",
   "execution_count": 17,
   "metadata": {},
   "outputs": [
    {
     "data": {
      "text/html": [
       "<div>\n",
       "<style scoped>\n",
       "    .dataframe tbody tr th:only-of-type {\n",
       "        vertical-align: middle;\n",
       "    }\n",
       "\n",
       "    .dataframe tbody tr th {\n",
       "        vertical-align: top;\n",
       "    }\n",
       "\n",
       "    .dataframe thead th {\n",
       "        text-align: right;\n",
       "    }\n",
       "</style>\n",
       "<table border=\"1\" class=\"dataframe\">\n",
       "  <thead>\n",
       "    <tr style=\"text-align: right;\">\n",
       "      <th></th>\n",
       "      <th>device_id</th>\n",
       "      <th>device_type</th>\n",
       "      <th>os</th>\n",
       "      <th>manufacturer</th>\n",
       "      <th>model</th>\n",
       "      <th>last_used</th>\n",
       "    </tr>\n",
       "  </thead>\n",
       "  <tbody>\n",
       "    <tr>\n",
       "      <th>0</th>\n",
       "      <td>4bba132e-1cfb-459a-8f4d-ae5ece3470aa</td>\n",
       "      <td>mobile</td>\n",
       "      <td>linux</td>\n",
       "      <td>Sharp</td>\n",
       "      <td>dynabook v8</td>\n",
       "      <td>2024-03-14 09:11:01</td>\n",
       "    </tr>\n",
       "    <tr>\n",
       "      <th>1</th>\n",
       "      <td>6a632d3b-6ff2-427e-9672-827cbe2bf46f</td>\n",
       "      <td>mobile</td>\n",
       "      <td>android</td>\n",
       "      <td>Apple</td>\n",
       "      <td>ipad pro</td>\n",
       "      <td>2021-01-19 15:30:00</td>\n",
       "    </tr>\n",
       "    <tr>\n",
       "      <th>2</th>\n",
       "      <td>39f6c884-4cdf-4fbb-b6aa-8a886775959b</td>\n",
       "      <td>mobile</td>\n",
       "      <td>ios</td>\n",
       "      <td>LG</td>\n",
       "      <td>NanoCell TV</td>\n",
       "      <td>2023-03-18 11:55:07</td>\n",
       "    </tr>\n",
       "    <tr>\n",
       "      <th>3</th>\n",
       "      <td>ce978d44-5774-4e3f-ba3b-e16359ed1f4c</td>\n",
       "      <td>mobile</td>\n",
       "      <td>android</td>\n",
       "      <td>HP</td>\n",
       "      <td>pavillon 15</td>\n",
       "      <td>2021-08-01 07:47:21</td>\n",
       "    </tr>\n",
       "    <tr>\n",
       "      <th>4</th>\n",
       "      <td>6353e85a-84c4-477e-aa95-071b235b4f98</td>\n",
       "      <td>tablette</td>\n",
       "      <td>windows</td>\n",
       "      <td>dell</td>\n",
       "      <td>LATITUDE 7410</td>\n",
       "      <td>2023-12-02 02:30:09</td>\n",
       "    </tr>\n",
       "    <tr>\n",
       "      <th>...</th>\n",
       "      <td>...</td>\n",
       "      <td>...</td>\n",
       "      <td>...</td>\n",
       "      <td>...</td>\n",
       "      <td>...</td>\n",
       "      <td>...</td>\n",
       "    </tr>\n",
       "    <tr>\n",
       "      <th>99995</th>\n",
       "      <td>522422c6-e3f2-46e2-9255-bba6b022f724</td>\n",
       "      <td>tablette</td>\n",
       "      <td>ios</td>\n",
       "      <td>Sharp</td>\n",
       "      <td>dynabook v8</td>\n",
       "      <td>2022-07-11 23:19:16</td>\n",
       "    </tr>\n",
       "    <tr>\n",
       "      <th>99996</th>\n",
       "      <td>12e441c0-03ca-48bf-b70a-b5c995cb66d9</td>\n",
       "      <td>tablette</td>\n",
       "      <td>android</td>\n",
       "      <td>SONY</td>\n",
       "      <td>Xperia 1 III</td>\n",
       "      <td>2024-02-28 22:36:44</td>\n",
       "    </tr>\n",
       "    <tr>\n",
       "      <th>99997</th>\n",
       "      <td>ca92617e-3dfc-4990-8a95-b0eb3c5914ce</td>\n",
       "      <td>tablette</td>\n",
       "      <td>linux</td>\n",
       "      <td>HP</td>\n",
       "      <td>envy 13</td>\n",
       "      <td>2020-11-27 01:49:05</td>\n",
       "    </tr>\n",
       "    <tr>\n",
       "      <th>99998</th>\n",
       "      <td>4d487980-2189-4edd-bbab-8312e641ae41</td>\n",
       "      <td>tablette</td>\n",
       "      <td>mac</td>\n",
       "      <td>Sharp</td>\n",
       "      <td>aquos sense 5g</td>\n",
       "      <td>2023-12-28 22:59:40</td>\n",
       "    </tr>\n",
       "    <tr>\n",
       "      <th>99999</th>\n",
       "      <td>4a665de4-9a9a-4920-a21b-5ec069a224cc</td>\n",
       "      <td>mobile</td>\n",
       "      <td>windows</td>\n",
       "      <td>Sharp</td>\n",
       "      <td>aquos sense 5g</td>\n",
       "      <td>2021-08-12 15:29:23</td>\n",
       "    </tr>\n",
       "  </tbody>\n",
       "</table>\n",
       "<p>100000 rows × 6 columns</p>\n",
       "</div>"
      ],
      "text/plain": [
       "                                  device_id device_type       os manufacturer  \\\n",
       "0      4bba132e-1cfb-459a-8f4d-ae5ece3470aa      mobile    linux        Sharp   \n",
       "1      6a632d3b-6ff2-427e-9672-827cbe2bf46f      mobile  android        Apple   \n",
       "2      39f6c884-4cdf-4fbb-b6aa-8a886775959b      mobile      ios           LG   \n",
       "3      ce978d44-5774-4e3f-ba3b-e16359ed1f4c      mobile  android           HP   \n",
       "4      6353e85a-84c4-477e-aa95-071b235b4f98    tablette  windows         dell   \n",
       "...                                     ...         ...      ...          ...   \n",
       "99995  522422c6-e3f2-46e2-9255-bba6b022f724    tablette      ios        Sharp   \n",
       "99996  12e441c0-03ca-48bf-b70a-b5c995cb66d9    tablette  android         SONY   \n",
       "99997  ca92617e-3dfc-4990-8a95-b0eb3c5914ce    tablette    linux           HP   \n",
       "99998  4d487980-2189-4edd-bbab-8312e641ae41    tablette      mac        Sharp   \n",
       "99999  4a665de4-9a9a-4920-a21b-5ec069a224cc      mobile  windows        Sharp   \n",
       "\n",
       "                model            last_used  \n",
       "0         dynabook v8  2024-03-14 09:11:01  \n",
       "1            ipad pro  2021-01-19 15:30:00  \n",
       "2         NanoCell TV  2023-03-18 11:55:07  \n",
       "3         pavillon 15  2021-08-01 07:47:21  \n",
       "4       LATITUDE 7410  2023-12-02 02:30:09  \n",
       "...               ...                  ...  \n",
       "99995     dynabook v8  2022-07-11 23:19:16  \n",
       "99996    Xperia 1 III  2024-02-28 22:36:44  \n",
       "99997         envy 13  2020-11-27 01:49:05  \n",
       "99998  aquos sense 5g  2023-12-28 22:59:40  \n",
       "99999  aquos sense 5g  2021-08-12 15:29:23  \n",
       "\n",
       "[100000 rows x 6 columns]"
      ]
     },
     "execution_count": 17,
     "metadata": {},
     "output_type": "execute_result"
    }
   ],
   "source": [
    "# charger mes donnees\n",
    "\n",
    "data = pd.read_csv('../Data/Train/devices.csv')\n",
    "data"
   ]
  },
  {
   "cell_type": "markdown",
   "metadata": {},
   "source": [
    "# creation de la  connection avec  la base de donnee sqlite"
   ]
  },
  {
   "cell_type": "markdown",
   "metadata": {},
   "source": [
    "#####  IL EST IMPORTANT D'AVOIR LA BASE DE DONNE  fraude_detection_warehouse.db OU D'EN CREE UNE AVEC CE NOM \n"
   ]
  },
  {
   "cell_type": "code",
   "execution_count": 18,
   "metadata": {},
   "outputs": [
    {
     "data": {
      "text/plain": [
       "<sqlite3.Connection at 0x20bab5bf3d0>"
      ]
     },
     "execution_count": 18,
     "metadata": {},
     "output_type": "execute_result"
    }
   ],
   "source": [
    "conn = sqlite3.connect('../Data/db/fraude_detection_warehouse.db')\n",
    "conn"
   ]
  },
  {
   "cell_type": "code",
   "execution_count": 19,
   "metadata": {},
   "outputs": [
    {
     "data": {
      "text/html": [
       "<div>\n",
       "<style scoped>\n",
       "    .dataframe tbody tr th:only-of-type {\n",
       "        vertical-align: middle;\n",
       "    }\n",
       "\n",
       "    .dataframe tbody tr th {\n",
       "        vertical-align: top;\n",
       "    }\n",
       "\n",
       "    .dataframe thead th {\n",
       "        text-align: right;\n",
       "    }\n",
       "</style>\n",
       "<table border=\"1\" class=\"dataframe\">\n",
       "  <thead>\n",
       "    <tr style=\"text-align: right;\">\n",
       "      <th></th>\n",
       "      <th>device_id</th>\n",
       "      <th>device_type</th>\n",
       "      <th>os</th>\n",
       "      <th>manufacturer</th>\n",
       "      <th>model</th>\n",
       "      <th>last_used</th>\n",
       "    </tr>\n",
       "  </thead>\n",
       "  <tbody>\n",
       "    <tr>\n",
       "      <th>0</th>\n",
       "      <td>4bba132e-1cfb-459a-8f4d-ae5ece3470aa</td>\n",
       "      <td>mobile</td>\n",
       "      <td>linux</td>\n",
       "      <td>Sharp</td>\n",
       "      <td>dynabook v8</td>\n",
       "      <td>2024-03-14 09:11:01</td>\n",
       "    </tr>\n",
       "    <tr>\n",
       "      <th>1</th>\n",
       "      <td>6a632d3b-6ff2-427e-9672-827cbe2bf46f</td>\n",
       "      <td>mobile</td>\n",
       "      <td>android</td>\n",
       "      <td>Apple</td>\n",
       "      <td>ipad pro</td>\n",
       "      <td>2021-01-19 15:30:00</td>\n",
       "    </tr>\n",
       "    <tr>\n",
       "      <th>2</th>\n",
       "      <td>39f6c884-4cdf-4fbb-b6aa-8a886775959b</td>\n",
       "      <td>mobile</td>\n",
       "      <td>ios</td>\n",
       "      <td>LG</td>\n",
       "      <td>NanoCell TV</td>\n",
       "      <td>2023-03-18 11:55:07</td>\n",
       "    </tr>\n",
       "    <tr>\n",
       "      <th>3</th>\n",
       "      <td>ce978d44-5774-4e3f-ba3b-e16359ed1f4c</td>\n",
       "      <td>mobile</td>\n",
       "      <td>android</td>\n",
       "      <td>HP</td>\n",
       "      <td>pavillon 15</td>\n",
       "      <td>2021-08-01 07:47:21</td>\n",
       "    </tr>\n",
       "    <tr>\n",
       "      <th>4</th>\n",
       "      <td>6353e85a-84c4-477e-aa95-071b235b4f98</td>\n",
       "      <td>tablette</td>\n",
       "      <td>windows</td>\n",
       "      <td>dell</td>\n",
       "      <td>LATITUDE 7410</td>\n",
       "      <td>2023-12-02 02:30:09</td>\n",
       "    </tr>\n",
       "    <tr>\n",
       "      <th>...</th>\n",
       "      <td>...</td>\n",
       "      <td>...</td>\n",
       "      <td>...</td>\n",
       "      <td>...</td>\n",
       "      <td>...</td>\n",
       "      <td>...</td>\n",
       "    </tr>\n",
       "    <tr>\n",
       "      <th>99995</th>\n",
       "      <td>522422c6-e3f2-46e2-9255-bba6b022f724</td>\n",
       "      <td>tablette</td>\n",
       "      <td>ios</td>\n",
       "      <td>Sharp</td>\n",
       "      <td>dynabook v8</td>\n",
       "      <td>2022-07-11 23:19:16</td>\n",
       "    </tr>\n",
       "    <tr>\n",
       "      <th>99996</th>\n",
       "      <td>12e441c0-03ca-48bf-b70a-b5c995cb66d9</td>\n",
       "      <td>tablette</td>\n",
       "      <td>android</td>\n",
       "      <td>SONY</td>\n",
       "      <td>Xperia 1 III</td>\n",
       "      <td>2024-02-28 22:36:44</td>\n",
       "    </tr>\n",
       "    <tr>\n",
       "      <th>99997</th>\n",
       "      <td>ca92617e-3dfc-4990-8a95-b0eb3c5914ce</td>\n",
       "      <td>tablette</td>\n",
       "      <td>linux</td>\n",
       "      <td>HP</td>\n",
       "      <td>envy 13</td>\n",
       "      <td>2020-11-27 01:49:05</td>\n",
       "    </tr>\n",
       "    <tr>\n",
       "      <th>99998</th>\n",
       "      <td>4d487980-2189-4edd-bbab-8312e641ae41</td>\n",
       "      <td>tablette</td>\n",
       "      <td>mac</td>\n",
       "      <td>Sharp</td>\n",
       "      <td>aquos sense 5g</td>\n",
       "      <td>2023-12-28 22:59:40</td>\n",
       "    </tr>\n",
       "    <tr>\n",
       "      <th>99999</th>\n",
       "      <td>4a665de4-9a9a-4920-a21b-5ec069a224cc</td>\n",
       "      <td>mobile</td>\n",
       "      <td>windows</td>\n",
       "      <td>Sharp</td>\n",
       "      <td>aquos sense 5g</td>\n",
       "      <td>2021-08-12 15:29:23</td>\n",
       "    </tr>\n",
       "  </tbody>\n",
       "</table>\n",
       "<p>100000 rows × 6 columns</p>\n",
       "</div>"
      ],
      "text/plain": [
       "                                  device_id device_type       os manufacturer  \\\n",
       "0      4bba132e-1cfb-459a-8f4d-ae5ece3470aa      mobile    linux        Sharp   \n",
       "1      6a632d3b-6ff2-427e-9672-827cbe2bf46f      mobile  android        Apple   \n",
       "2      39f6c884-4cdf-4fbb-b6aa-8a886775959b      mobile      ios           LG   \n",
       "3      ce978d44-5774-4e3f-ba3b-e16359ed1f4c      mobile  android           HP   \n",
       "4      6353e85a-84c4-477e-aa95-071b235b4f98    tablette  windows         dell   \n",
       "...                                     ...         ...      ...          ...   \n",
       "99995  522422c6-e3f2-46e2-9255-bba6b022f724    tablette      ios        Sharp   \n",
       "99996  12e441c0-03ca-48bf-b70a-b5c995cb66d9    tablette  android         SONY   \n",
       "99997  ca92617e-3dfc-4990-8a95-b0eb3c5914ce    tablette    linux           HP   \n",
       "99998  4d487980-2189-4edd-bbab-8312e641ae41    tablette      mac        Sharp   \n",
       "99999  4a665de4-9a9a-4920-a21b-5ec069a224cc      mobile  windows        Sharp   \n",
       "\n",
       "                model            last_used  \n",
       "0         dynabook v8  2024-03-14 09:11:01  \n",
       "1            ipad pro  2021-01-19 15:30:00  \n",
       "2         NanoCell TV  2023-03-18 11:55:07  \n",
       "3         pavillon 15  2021-08-01 07:47:21  \n",
       "4       LATITUDE 7410  2023-12-02 02:30:09  \n",
       "...               ...                  ...  \n",
       "99995     dynabook v8  2022-07-11 23:19:16  \n",
       "99996    Xperia 1 III  2024-02-28 22:36:44  \n",
       "99997         envy 13  2020-11-27 01:49:05  \n",
       "99998  aquos sense 5g  2023-12-28 22:59:40  \n",
       "99999  aquos sense 5g  2021-08-12 15:29:23  \n",
       "\n",
       "[100000 rows x 6 columns]"
      ]
     },
     "execution_count": 19,
     "metadata": {},
     "output_type": "execute_result"
    }
   ],
   "source": [
    "data"
   ]
  },
  {
   "cell_type": "code",
   "execution_count": null,
   "metadata": {},
   "outputs": [],
   "source": []
  },
  {
   "cell_type": "code",
   "execution_count": 20,
   "metadata": {},
   "outputs": [
    {
     "data": {
      "text/plain": [
       "100000"
      ]
     },
     "execution_count": 20,
     "metadata": {},
     "output_type": "execute_result"
    }
   ],
   "source": [
    "#savegarde des data dans la base de donnee\n",
    "data.to_sql('devices',conn, if_exists='replace', index=False )"
   ]
  },
  {
   "cell_type": "code",
   "execution_count": 21,
   "metadata": {},
   "outputs": [
    {
     "data": {
      "text/html": [
       "<div>\n",
       "<style scoped>\n",
       "    .dataframe tbody tr th:only-of-type {\n",
       "        vertical-align: middle;\n",
       "    }\n",
       "\n",
       "    .dataframe tbody tr th {\n",
       "        vertical-align: top;\n",
       "    }\n",
       "\n",
       "    .dataframe thead th {\n",
       "        text-align: right;\n",
       "    }\n",
       "</style>\n",
       "<table border=\"1\" class=\"dataframe\">\n",
       "  <thead>\n",
       "    <tr style=\"text-align: right;\">\n",
       "      <th></th>\n",
       "      <th>device_id</th>\n",
       "      <th>device_type</th>\n",
       "      <th>os</th>\n",
       "      <th>manufacturer</th>\n",
       "      <th>model</th>\n",
       "      <th>last_used</th>\n",
       "    </tr>\n",
       "  </thead>\n",
       "  <tbody>\n",
       "    <tr>\n",
       "      <th>0</th>\n",
       "      <td>4bba132e-1cfb-459a-8f4d-ae5ece3470aa</td>\n",
       "      <td>mobile</td>\n",
       "      <td>linux</td>\n",
       "      <td>Sharp</td>\n",
       "      <td>dynabook v8</td>\n",
       "      <td>2024-03-14 09:11:01</td>\n",
       "    </tr>\n",
       "    <tr>\n",
       "      <th>1</th>\n",
       "      <td>6a632d3b-6ff2-427e-9672-827cbe2bf46f</td>\n",
       "      <td>mobile</td>\n",
       "      <td>android</td>\n",
       "      <td>Apple</td>\n",
       "      <td>ipad pro</td>\n",
       "      <td>2021-01-19 15:30:00</td>\n",
       "    </tr>\n",
       "    <tr>\n",
       "      <th>2</th>\n",
       "      <td>39f6c884-4cdf-4fbb-b6aa-8a886775959b</td>\n",
       "      <td>mobile</td>\n",
       "      <td>ios</td>\n",
       "      <td>LG</td>\n",
       "      <td>NanoCell TV</td>\n",
       "      <td>2023-03-18 11:55:07</td>\n",
       "    </tr>\n",
       "    <tr>\n",
       "      <th>3</th>\n",
       "      <td>ce978d44-5774-4e3f-ba3b-e16359ed1f4c</td>\n",
       "      <td>mobile</td>\n",
       "      <td>android</td>\n",
       "      <td>HP</td>\n",
       "      <td>pavillon 15</td>\n",
       "      <td>2021-08-01 07:47:21</td>\n",
       "    </tr>\n",
       "    <tr>\n",
       "      <th>8</th>\n",
       "      <td>ad1d7ce7-59e3-454b-83ea-a85d15d9cd56</td>\n",
       "      <td>mobile</td>\n",
       "      <td>android</td>\n",
       "      <td>LG</td>\n",
       "      <td>NanoCell TV</td>\n",
       "      <td>2019-11-11 19:40:30</td>\n",
       "    </tr>\n",
       "    <tr>\n",
       "      <th>...</th>\n",
       "      <td>...</td>\n",
       "      <td>...</td>\n",
       "      <td>...</td>\n",
       "      <td>...</td>\n",
       "      <td>...</td>\n",
       "      <td>...</td>\n",
       "    </tr>\n",
       "    <tr>\n",
       "      <th>99990</th>\n",
       "      <td>ed09cd98-e87b-4351-8133-176d529f279f</td>\n",
       "      <td>mobile</td>\n",
       "      <td>android</td>\n",
       "      <td>LG</td>\n",
       "      <td>envy45</td>\n",
       "      <td>2020-08-14 07:55:21</td>\n",
       "    </tr>\n",
       "    <tr>\n",
       "      <th>99991</th>\n",
       "      <td>3d07a63f-1f44-4980-90cf-2cb124e662e8</td>\n",
       "      <td>mobile</td>\n",
       "      <td>linux</td>\n",
       "      <td>Sharp</td>\n",
       "      <td>aquos sense 5g</td>\n",
       "      <td>2021-05-28 17:54:23</td>\n",
       "    </tr>\n",
       "    <tr>\n",
       "      <th>99992</th>\n",
       "      <td>6f73efd7-d532-4ed0-87cd-47bdf592b33b</td>\n",
       "      <td>mobile</td>\n",
       "      <td>android</td>\n",
       "      <td>HP</td>\n",
       "      <td>spectre x360</td>\n",
       "      <td>2020-06-14 20:49:34</td>\n",
       "    </tr>\n",
       "    <tr>\n",
       "      <th>99994</th>\n",
       "      <td>6a5a2599-487a-4640-992e-488ccb4f2c85</td>\n",
       "      <td>mobile</td>\n",
       "      <td>mac</td>\n",
       "      <td>Apple</td>\n",
       "      <td>iphone 13</td>\n",
       "      <td>2021-01-02 09:33:09</td>\n",
       "    </tr>\n",
       "    <tr>\n",
       "      <th>99999</th>\n",
       "      <td>4a665de4-9a9a-4920-a21b-5ec069a224cc</td>\n",
       "      <td>mobile</td>\n",
       "      <td>windows</td>\n",
       "      <td>Sharp</td>\n",
       "      <td>aquos sense 5g</td>\n",
       "      <td>2021-08-12 15:29:23</td>\n",
       "    </tr>\n",
       "  </tbody>\n",
       "</table>\n",
       "<p>49699 rows × 6 columns</p>\n",
       "</div>"
      ],
      "text/plain": [
       "                                  device_id device_type       os manufacturer  \\\n",
       "0      4bba132e-1cfb-459a-8f4d-ae5ece3470aa      mobile    linux        Sharp   \n",
       "1      6a632d3b-6ff2-427e-9672-827cbe2bf46f      mobile  android        Apple   \n",
       "2      39f6c884-4cdf-4fbb-b6aa-8a886775959b      mobile      ios           LG   \n",
       "3      ce978d44-5774-4e3f-ba3b-e16359ed1f4c      mobile  android           HP   \n",
       "8      ad1d7ce7-59e3-454b-83ea-a85d15d9cd56      mobile  android           LG   \n",
       "...                                     ...         ...      ...          ...   \n",
       "99990  ed09cd98-e87b-4351-8133-176d529f279f      mobile  android           LG   \n",
       "99991  3d07a63f-1f44-4980-90cf-2cb124e662e8      mobile    linux        Sharp   \n",
       "99992  6f73efd7-d532-4ed0-87cd-47bdf592b33b      mobile  android           HP   \n",
       "99994  6a5a2599-487a-4640-992e-488ccb4f2c85      mobile      mac        Apple   \n",
       "99999  4a665de4-9a9a-4920-a21b-5ec069a224cc      mobile  windows        Sharp   \n",
       "\n",
       "                model            last_used  \n",
       "0         dynabook v8  2024-03-14 09:11:01  \n",
       "1            ipad pro  2021-01-19 15:30:00  \n",
       "2         NanoCell TV  2023-03-18 11:55:07  \n",
       "3         pavillon 15  2021-08-01 07:47:21  \n",
       "8         NanoCell TV  2019-11-11 19:40:30  \n",
       "...               ...                  ...  \n",
       "99990          envy45  2020-08-14 07:55:21  \n",
       "99991  aquos sense 5g  2021-05-28 17:54:23  \n",
       "99992    spectre x360  2020-06-14 20:49:34  \n",
       "99994       iphone 13  2021-01-02 09:33:09  \n",
       "99999  aquos sense 5g  2021-08-12 15:29:23  \n",
       "\n",
       "[49699 rows x 6 columns]"
      ]
     },
     "execution_count": 21,
     "metadata": {},
     "output_type": "execute_result"
    }
   ],
   "source": [
    "\n",
    "# filtrage en pandas  pour afficher tous les devices de type mobile \n",
    "data[data.device_type=='mobile']"
   ]
  },
  {
   "cell_type": "code",
   "execution_count": null,
   "metadata": {},
   "outputs": [],
   "source": []
  },
  {
   "cell_type": "code",
   "execution_count": 22,
   "metadata": {},
   "outputs": [],
   "source": [
    "# filtrage en SQL  pour afficher tous les devices de type mobile \n",
    "query = \"\"\" \n",
    "SELECT * FROM  devices\n",
    "WHERE device_type= 'mobile'\n",
    "\n",
    "\"\"\""
   ]
  },
  {
   "cell_type": "code",
   "execution_count": 23,
   "metadata": {},
   "outputs": [],
   "source": [
    "# excution du filtrage \n",
    "\n",
    "query_data = pd.read_sql(query , conn )"
   ]
  },
  {
   "cell_type": "code",
   "execution_count": 24,
   "metadata": {},
   "outputs": [
    {
     "data": {
      "text/html": [
       "<div>\n",
       "<style scoped>\n",
       "    .dataframe tbody tr th:only-of-type {\n",
       "        vertical-align: middle;\n",
       "    }\n",
       "\n",
       "    .dataframe tbody tr th {\n",
       "        vertical-align: top;\n",
       "    }\n",
       "\n",
       "    .dataframe thead th {\n",
       "        text-align: right;\n",
       "    }\n",
       "</style>\n",
       "<table border=\"1\" class=\"dataframe\">\n",
       "  <thead>\n",
       "    <tr style=\"text-align: right;\">\n",
       "      <th></th>\n",
       "      <th>device_id</th>\n",
       "      <th>device_type</th>\n",
       "      <th>os</th>\n",
       "      <th>manufacturer</th>\n",
       "      <th>model</th>\n",
       "      <th>last_used</th>\n",
       "    </tr>\n",
       "  </thead>\n",
       "  <tbody>\n",
       "    <tr>\n",
       "      <th>0</th>\n",
       "      <td>4bba132e-1cfb-459a-8f4d-ae5ece3470aa</td>\n",
       "      <td>mobile</td>\n",
       "      <td>linux</td>\n",
       "      <td>Sharp</td>\n",
       "      <td>dynabook v8</td>\n",
       "      <td>2024-03-14 09:11:01</td>\n",
       "    </tr>\n",
       "    <tr>\n",
       "      <th>1</th>\n",
       "      <td>6a632d3b-6ff2-427e-9672-827cbe2bf46f</td>\n",
       "      <td>mobile</td>\n",
       "      <td>android</td>\n",
       "      <td>Apple</td>\n",
       "      <td>ipad pro</td>\n",
       "      <td>2021-01-19 15:30:00</td>\n",
       "    </tr>\n",
       "    <tr>\n",
       "      <th>2</th>\n",
       "      <td>39f6c884-4cdf-4fbb-b6aa-8a886775959b</td>\n",
       "      <td>mobile</td>\n",
       "      <td>ios</td>\n",
       "      <td>LG</td>\n",
       "      <td>NanoCell TV</td>\n",
       "      <td>2023-03-18 11:55:07</td>\n",
       "    </tr>\n",
       "    <tr>\n",
       "      <th>3</th>\n",
       "      <td>ce978d44-5774-4e3f-ba3b-e16359ed1f4c</td>\n",
       "      <td>mobile</td>\n",
       "      <td>android</td>\n",
       "      <td>HP</td>\n",
       "      <td>pavillon 15</td>\n",
       "      <td>2021-08-01 07:47:21</td>\n",
       "    </tr>\n",
       "    <tr>\n",
       "      <th>4</th>\n",
       "      <td>ad1d7ce7-59e3-454b-83ea-a85d15d9cd56</td>\n",
       "      <td>mobile</td>\n",
       "      <td>android</td>\n",
       "      <td>LG</td>\n",
       "      <td>NanoCell TV</td>\n",
       "      <td>2019-11-11 19:40:30</td>\n",
       "    </tr>\n",
       "    <tr>\n",
       "      <th>...</th>\n",
       "      <td>...</td>\n",
       "      <td>...</td>\n",
       "      <td>...</td>\n",
       "      <td>...</td>\n",
       "      <td>...</td>\n",
       "      <td>...</td>\n",
       "    </tr>\n",
       "    <tr>\n",
       "      <th>49694</th>\n",
       "      <td>ed09cd98-e87b-4351-8133-176d529f279f</td>\n",
       "      <td>mobile</td>\n",
       "      <td>android</td>\n",
       "      <td>LG</td>\n",
       "      <td>envy45</td>\n",
       "      <td>2020-08-14 07:55:21</td>\n",
       "    </tr>\n",
       "    <tr>\n",
       "      <th>49695</th>\n",
       "      <td>3d07a63f-1f44-4980-90cf-2cb124e662e8</td>\n",
       "      <td>mobile</td>\n",
       "      <td>linux</td>\n",
       "      <td>Sharp</td>\n",
       "      <td>aquos sense 5g</td>\n",
       "      <td>2021-05-28 17:54:23</td>\n",
       "    </tr>\n",
       "    <tr>\n",
       "      <th>49696</th>\n",
       "      <td>6f73efd7-d532-4ed0-87cd-47bdf592b33b</td>\n",
       "      <td>mobile</td>\n",
       "      <td>android</td>\n",
       "      <td>HP</td>\n",
       "      <td>spectre x360</td>\n",
       "      <td>2020-06-14 20:49:34</td>\n",
       "    </tr>\n",
       "    <tr>\n",
       "      <th>49697</th>\n",
       "      <td>6a5a2599-487a-4640-992e-488ccb4f2c85</td>\n",
       "      <td>mobile</td>\n",
       "      <td>mac</td>\n",
       "      <td>Apple</td>\n",
       "      <td>iphone 13</td>\n",
       "      <td>2021-01-02 09:33:09</td>\n",
       "    </tr>\n",
       "    <tr>\n",
       "      <th>49698</th>\n",
       "      <td>4a665de4-9a9a-4920-a21b-5ec069a224cc</td>\n",
       "      <td>mobile</td>\n",
       "      <td>windows</td>\n",
       "      <td>Sharp</td>\n",
       "      <td>aquos sense 5g</td>\n",
       "      <td>2021-08-12 15:29:23</td>\n",
       "    </tr>\n",
       "  </tbody>\n",
       "</table>\n",
       "<p>49699 rows × 6 columns</p>\n",
       "</div>"
      ],
      "text/plain": [
       "                                  device_id device_type       os manufacturer  \\\n",
       "0      4bba132e-1cfb-459a-8f4d-ae5ece3470aa      mobile    linux        Sharp   \n",
       "1      6a632d3b-6ff2-427e-9672-827cbe2bf46f      mobile  android        Apple   \n",
       "2      39f6c884-4cdf-4fbb-b6aa-8a886775959b      mobile      ios           LG   \n",
       "3      ce978d44-5774-4e3f-ba3b-e16359ed1f4c      mobile  android           HP   \n",
       "4      ad1d7ce7-59e3-454b-83ea-a85d15d9cd56      mobile  android           LG   \n",
       "...                                     ...         ...      ...          ...   \n",
       "49694  ed09cd98-e87b-4351-8133-176d529f279f      mobile  android           LG   \n",
       "49695  3d07a63f-1f44-4980-90cf-2cb124e662e8      mobile    linux        Sharp   \n",
       "49696  6f73efd7-d532-4ed0-87cd-47bdf592b33b      mobile  android           HP   \n",
       "49697  6a5a2599-487a-4640-992e-488ccb4f2c85      mobile      mac        Apple   \n",
       "49698  4a665de4-9a9a-4920-a21b-5ec069a224cc      mobile  windows        Sharp   \n",
       "\n",
       "                model            last_used  \n",
       "0         dynabook v8  2024-03-14 09:11:01  \n",
       "1            ipad pro  2021-01-19 15:30:00  \n",
       "2         NanoCell TV  2023-03-18 11:55:07  \n",
       "3         pavillon 15  2021-08-01 07:47:21  \n",
       "4         NanoCell TV  2019-11-11 19:40:30  \n",
       "...               ...                  ...  \n",
       "49694          envy45  2020-08-14 07:55:21  \n",
       "49695  aquos sense 5g  2021-05-28 17:54:23  \n",
       "49696    spectre x360  2020-06-14 20:49:34  \n",
       "49697       iphone 13  2021-01-02 09:33:09  \n",
       "49698  aquos sense 5g  2021-08-12 15:29:23  \n",
       "\n",
       "[49699 rows x 6 columns]"
      ]
     },
     "execution_count": 24,
     "metadata": {},
     "output_type": "execute_result"
    }
   ],
   "source": [
    "# affichage du filtrage \n",
    "\n",
    "query_data"
   ]
  },
  {
   "cell_type": "code",
   "execution_count": null,
   "metadata": {},
   "outputs": [],
   "source": []
  },
  {
   "cell_type": "code",
   "execution_count": null,
   "metadata": {},
   "outputs": [],
   "source": []
  },
  {
   "cell_type": "markdown",
   "metadata": {},
   "source": [
    "### SAVE ALL DATA "
   ]
  },
  {
   "cell_type": "code",
   "execution_count": 25,
   "metadata": {},
   "outputs": [],
   "source": [
    "## LISTER TOUS LES FICHIERS DATA DISPONIBLE "
   ]
  },
  {
   "cell_type": "code",
   "execution_count": 26,
   "metadata": {},
   "outputs": [
    {
     "data": {
      "text/plain": [
       "['../Data/Train\\\\alerts.csv',\n",
       " '../Data/Train\\\\customers.csv',\n",
       " '../Data/Train\\\\devices.csv',\n",
       " '../Data/Train\\\\transactions.csv',\n",
       " '../Data/Train\\\\transaction_history.csv',\n",
       " '../Data/Train\\\\transaction_patterns.csv']"
      ]
     },
     "execution_count": 26,
     "metadata": {},
     "output_type": "execute_result"
    }
   ],
   "source": [
    "list_data = glob('../Data/Train/*')\n",
    "list_data"
   ]
  },
  {
   "cell_type": "code",
   "execution_count": null,
   "metadata": {},
   "outputs": [],
   "source": []
  },
  {
   "cell_type": "code",
   "execution_count": 27,
   "metadata": {},
   "outputs": [
    {
     "data": {
      "text/plain": [
       "'alerts'"
      ]
     },
     "execution_count": 27,
     "metadata": {},
     "output_type": "execute_result"
    }
   ],
   "source": [
    "## separation du nom du fichier\n",
    "name_tables = list_data[0].split(os.sep)[-1].split('.')[0]\n",
    "name_tables = name_tables.split('.')[0]\n",
    "name_tables"
   ]
  },
  {
   "cell_type": "code",
   "execution_count": null,
   "metadata": {},
   "outputs": [],
   "source": []
  },
  {
   "cell_type": "markdown",
   "metadata": {},
   "source": [
    "### CHARGEMENT DE TOUS LES FICHIERS DANS LA BASE DE DONNEES"
   ]
  },
  {
   "cell_type": "code",
   "execution_count": 28,
   "metadata": {},
   "outputs": [
    {
     "name": "stderr",
     "output_type": "stream",
     "text": [
      " 33%|███▎      | 2/6 [00:00<00:00,  6.28it/s]"
     ]
    },
    {
     "name": "stdout",
     "output_type": "stream",
     "text": [
      "alerts\n",
      "customers\n"
     ]
    },
    {
     "name": "stderr",
     "output_type": "stream",
     "text": [
      " 50%|█████     | 3/6 [00:01<00:01,  2.17it/s]"
     ]
    },
    {
     "name": "stdout",
     "output_type": "stream",
     "text": [
      "devices\n"
     ]
    },
    {
     "name": "stderr",
     "output_type": "stream",
     "text": [
      " 67%|██████▋   | 4/6 [00:02<00:01,  1.21it/s]"
     ]
    },
    {
     "name": "stdout",
     "output_type": "stream",
     "text": [
      "transactions\n"
     ]
    },
    {
     "name": "stderr",
     "output_type": "stream",
     "text": [
      " 83%|████████▎ | 5/6 [00:03<00:00,  1.06it/s]"
     ]
    },
    {
     "name": "stdout",
     "output_type": "stream",
     "text": [
      "transaction_history\n"
     ]
    },
    {
     "name": "stderr",
     "output_type": "stream",
     "text": [
      "100%|██████████| 6/6 [00:04<00:00,  1.25it/s]"
     ]
    },
    {
     "name": "stdout",
     "output_type": "stream",
     "text": [
      "transaction_patterns\n"
     ]
    },
    {
     "name": "stderr",
     "output_type": "stream",
     "text": [
      "\n"
     ]
    }
   ],
   "source": [
    "for table in tqdm(list_data) : \n",
    "    name_tables = table.split(os.sep)[-1].split('.')[0]  # recuperation du nom de la table a partir du path \n",
    "    data_tmp =  pd.read_csv(table)  # chargement de la csv avec pandas \n",
    "    data_tmp.to_sql(name_tables , conn , if_exists='replace', index=False) # savegarde du csv dans le base de donnee \n",
    "    \n",
    "    print(name_tables)"
   ]
  },
  {
   "cell_type": "code",
   "execution_count": null,
   "metadata": {},
   "outputs": [],
   "source": []
  }
 ],
 "metadata": {
  "kernelspec": {
   "display_name": "Python 3 (ipykernel)",
   "language": "python",
   "name": "python3"
  },
  "language_info": {
   "codemirror_mode": {
    "name": "ipython",
    "version": 3
   },
   "file_extension": ".py",
   "mimetype": "text/x-python",
   "name": "python",
   "nbconvert_exporter": "python",
   "pygments_lexer": "ipython3",
   "version": "3.11.8"
  }
 },
 "nbformat": 4,
 "nbformat_minor": 4
}
