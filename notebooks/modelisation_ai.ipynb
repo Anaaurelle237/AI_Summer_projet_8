{
 "cells": [
  {
   "cell_type": "code",
   "execution_count": null,
   "metadata": {},
   "outputs": [],
   "source": [
    "from sklearn.ensemble import IsolationForest\n",
    "from sklearn.model_selection import train_test_split\n",
    "from sklearn.preprocessing import LabelEncoder, StandardScaler\n",
    "import pandas as pd\n",
    "import numpy as np\n",
    "import matplotlib.pyplot as plt\n",
    "import seaborn as sns\n",
    "import sqlite3\n",
    "from datetime import datetime, timedelta\n",
    "\n",
    "%matplotlib inline\n",
    "sns.set()"
   ]
  },
  {
   "cell_type": "code",
   "execution_count": null,
   "metadata": {},
   "outputs": [],
   "source": [
    "conn = sqlite3.connect('../Data/db/fraude_detection_warehouse_.db')\n",
    "transactions = pd.read_sql(\"SELECT * FROM transactions\", conn)\n",
    "transactions.head()"
   ]
  },
  {
   "cell_type": "code",
   "execution_count": null,
   "metadata": {},
   "outputs": [],
   "source": [
    "customers = pd.read_sql(\"SELECT * FROM customers\", conn)\n",
    "customers.head()"
   ]
  },
  {
   "cell_type": "code",
   "execution_count": null,
   "metadata": {},
   "outputs": [],
   "source": [
    "devices = pd.read_sql(\"SELECT * FROM devices\", conn)\n",
    "devices.head()"
   ]
  },
  {
   "cell_type": "code",
   "execution_count": null,
   "metadata": {},
   "outputs": [],
   "source": [
    "locations = pd.read_csv(\"../Data/worldcities.csv\")"
   ]
  },
  {
   "cell_type": "markdown",
   "metadata": {},
   "source": [
    "## Feature engineering"
   ]
  },
  {
   "cell_type": "code",
   "execution_count": null,
   "metadata": {},
   "outputs": [],
   "source": []
  },
  {
   "cell_type": "markdown",
   "metadata": {},
   "source": [
    "determination des features à utiliser"
   ]
  },
  {
   "cell_type": "code",
   "execution_count": null,
   "metadata": {},
   "outputs": [],
   "source": [
    "trans_features = [\"transaction_id\", \"device_id\", \"customer_id\", \"amount\", \"transaction_type\",\"status\", \"location\"]\n",
    "dev_features = [\"device_id\", \"device_type\", \"os\"]\n",
    "cust_features = [\"customer_id\", \"date_of_birth\", \"registration_date\", \"region\", \"email\", \"phone_number\"]"
   ]
  },
  {
   "cell_type": "markdown",
   "metadata": {},
   "source": [
    "extraire des différentes tables"
   ]
  },
  {
   "cell_type": "code",
   "execution_count": null,
   "metadata": {},
   "outputs": [],
   "source": [
    "transactions = transactions[trans_features]\n",
    "devices = devices[dev_features]\n",
    "customers = customers[cust_features]\n",
    "\n",
    "display(transactions.head())\n",
    "print(\"\\n\")\n",
    "display(devices.head())\n",
    "print(\"\\n\")\n",
    "display(customers.head())"
   ]
  },
  {
   "cell_type": "markdown",
   "metadata": {},
   "source": [
    "calcul de l'age des customers"
   ]
  },
  {
   "cell_type": "code",
   "execution_count": null,
   "metadata": {},
   "outputs": [],
   "source": [
    "date = datetime.strptime(\"2016-09-11\", \"%Y-%m-%d\") - datetime.strptime(\"2016-05-15\", \"%Y-%m-%d\")\n",
    "date"
   ]
  },
  {
   "cell_type": "code",
   "execution_count": null,
   "metadata": {},
   "outputs": [],
   "source": [
    "customers.date_of_birth = pd.to_datetime(customers.date_of_birth)"
   ]
  },
  {
   "cell_type": "code",
   "execution_count": null,
   "metadata": {},
   "outputs": [],
   "source": [
    "customers.registration_date = pd.to_datetime(customers.registration_date)"
   ]
  },
  {
   "cell_type": "code",
   "execution_count": null,
   "metadata": {},
   "outputs": [],
   "source": [
    "date_of_today = datetime.now()\n",
    "\n",
    "def calcul_date(registration_date, date_of_birth):\n",
    "    difference_registration = date_of_today - registration_date\n",
    "    difference_birth = date_of_today - date_of_birth\n",
    "    return int(difference_registration.days/360), int(difference_birth.days/360)"
   ]
  },
  {
   "cell_type": "code",
   "execution_count": null,
   "metadata": {},
   "outputs": [],
   "source": [
    "customers[['year_since_registration', 'year_since_birth']] = customers.apply(\n",
    "    lambda row: calcul_date(row['registration_date'], row['date_of_birth']), axis=1, result_type='expand'\n",
    ")"
   ]
  },
  {
   "cell_type": "code",
   "execution_count": null,
   "metadata": {},
   "outputs": [],
   "source": [
    "customers.drop(columns=[\"date_of_birth\", \"registration_date\"], inplace=True)\n",
    "customers.head()"
   ]
  },
  {
   "cell_type": "markdown",
   "metadata": {},
   "source": [
    "nous utiliserons les régions comme localisation par la suite"
   ]
  },
  {
   "cell_type": "code",
   "execution_count": null,
   "metadata": {},
   "outputs": [],
   "source": [
    "locations = locations[[\"city\", \"country\", \"admin_name\"]]\n",
    "locations = locations[locations.country.isin([\"Cameroon\", \"Nigeria\", \"Gabon\"])].drop(columns=[\"country\"]).rename(columns={\"city\":\"location\"})\n",
    "locations.head()"
   ]
  },
  {
   "cell_type": "code",
   "execution_count": null,
   "metadata": {},
   "outputs": [],
   "source": [
    "transactions_ = pd.merge(transactions, locations, on=\"location\")\n",
    "transactions_.head() "
   ]
  },
  {
   "cell_type": "markdown",
   "metadata": {},
   "source": [
    "fusionner les dataframes"
   ]
  },
  {
   "cell_type": "code",
   "execution_count": null,
   "metadata": {},
   "outputs": [],
   "source": [
    "data_1 = pd.merge(transactions_, customers, on=\"customer_id\")\n",
    "data_1.head()"
   ]
  },
  {
   "cell_type": "code",
   "execution_count": null,
   "metadata": {},
   "outputs": [],
   "source": [
    "data_2 = pd.merge(data_1, devices, on=\"device_id\").drop(columns=[\"device_id\", \"location\"])\n",
    "data_2.rename(columns={\"admin_name\":\"transaction_location\", \"region\" : \"region_customer\"}, inplace=True)\n",
    "data_2.head()"
   ]
  },
  {
   "cell_type": "code",
   "execution_count": null,
   "metadata": {},
   "outputs": [],
   "source": [
    "data = data_2.copy()"
   ]
  },
  {
   "cell_type": "markdown",
   "metadata": {},
   "source": [
    "## Data preprocessing"
   ]
  },
  {
   "cell_type": "code",
   "execution_count": null,
   "metadata": {},
   "outputs": [],
   "source": [
    "le = LabelEncoder()\n",
    "columns = [\"transaction_type\", \"status\", \"transaction_location\", \"region_customer\", \"device_type\", \"os\"]\n",
    "for column in columns:\n",
    "    data[f\"{column}_e\"] = le.fit_transform(data[column])\n",
    "data.head()"
   ]
  },
  {
   "cell_type": "code",
   "execution_count": null,
   "metadata": {},
   "outputs": [],
   "source": [
    "scaler = StandardScaler()\n",
    "data[\"amount_sc\"] = scaler.fit_transform(data[[\"amount\"]])\n",
    "data.head()"
   ]
  },
  {
   "cell_type": "code",
   "execution_count": null,
   "metadata": {},
   "outputs": [],
   "source": [
    "final_features =[\"transaction_type_e\", \"status_e\", \"transaction_location_e\", \"region_customer_e\", \"device_type_e\", \"os_e\", \"amount_sc\"]\n",
    "X  = data[final_features]\n",
    "\n",
    "model = IsolationForest(contamination=0.2, random_state=42)\n",
    "model.fit(X)"
   ]
  },
  {
   "cell_type": "code",
   "execution_count": null,
   "metadata": {},
   "outputs": [],
   "source": [
    "data[\"anomalie\"] = model.predict(X)\n",
    "anomalie = data[data.anomalie==-1]\n",
    "print(anomalie.shape)\n",
    "anomalie.head()"
   ]
  }
 ],
 "metadata": {
  "kernelspec": {
   "display_name": "pyther_env",
   "language": "python",
   "name": "python3"
  },
  "language_info": {
   "codemirror_mode": {
    "name": "ipython",
    "version": 3
   },
   "file_extension": ".py",
   "mimetype": "text/x-python",
   "name": "python",
   "nbconvert_exporter": "python",
   "pygments_lexer": "ipython3",
   "version": "3.11.8"
  }
 },
 "nbformat": 4,
 "nbformat_minor": 2
}
