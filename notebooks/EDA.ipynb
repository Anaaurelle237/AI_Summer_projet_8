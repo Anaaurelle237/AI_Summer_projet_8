{
 "cells": [
  {
   "cell_type": "code",
   "execution_count": 1,
   "metadata": {},
   "outputs": [],
   "source": [
    "import pandas as pd\n",
    "import numpy as np\n",
    "import matplotlib.pyplot as plt\n",
    "import plotly.express as ex\n",
    "import seaborn as sns\n",
    "%matplotlib inline"
   ]
  },
  {
   "cell_type": "code",
   "execution_count": 6,
   "metadata": {},
   "outputs": [
    {
     "data": {
      "text/html": [
       "<div>\n",
       "<style scoped>\n",
       "    .dataframe tbody tr th:only-of-type {\n",
       "        vertical-align: middle;\n",
       "    }\n",
       "\n",
       "    .dataframe tbody tr th {\n",
       "        vertical-align: top;\n",
       "    }\n",
       "\n",
       "    .dataframe thead th {\n",
       "        text-align: right;\n",
       "    }\n",
       "</style>\n",
       "<table border=\"1\" class=\"dataframe\">\n",
       "  <thead>\n",
       "    <tr style=\"text-align: right;\">\n",
       "      <th></th>\n",
       "      <th>transaction_id</th>\n",
       "      <th>customer_id</th>\n",
       "      <th>transaction_type</th>\n",
       "      <th>amount</th>\n",
       "      <th>transaction_date</th>\n",
       "      <th>location</th>\n",
       "      <th>device_id</th>\n",
       "      <th>status</th>\n",
       "      <th>is_fraud</th>\n",
       "    </tr>\n",
       "  </thead>\n",
       "  <tbody>\n",
       "    <tr>\n",
       "      <th>0</th>\n",
       "      <td>2251f220c98e4da1adf6b5997b5c5391</td>\n",
       "      <td>bbafa72861294cfb96dfed3aa956bfbf</td>\n",
       "      <td>depôt</td>\n",
       "      <td>8.617840e+05</td>\n",
       "      <td>2010-02-25</td>\n",
       "      <td>319 Galloway Dale Apt. 613\\nNew Kevinbury, IL ...</td>\n",
       "      <td>1d843fad-0117-41bc-8ff2-208cffbac314</td>\n",
       "      <td>échouée</td>\n",
       "      <td>0</td>\n",
       "    </tr>\n",
       "    <tr>\n",
       "      <th>1</th>\n",
       "      <td>cb3f318268c246a3b91c96347782aa4f</td>\n",
       "      <td>218ad29d48bf41c3a15aacd26ee19ac0</td>\n",
       "      <td>transfert</td>\n",
       "      <td>4.160409e+06</td>\n",
       "      <td>2007-12-27</td>\n",
       "      <td>9676 Hoffman Isle Apt. 254\\nDaniellechester, H...</td>\n",
       "      <td>a28baef9-1e33-490b-88a7-1b07c54ea485</td>\n",
       "      <td>réussie</td>\n",
       "      <td>0</td>\n",
       "    </tr>\n",
       "    <tr>\n",
       "      <th>2</th>\n",
       "      <td>535332f5dd334dc98d85a93bacb76f8c</td>\n",
       "      <td>8787ee3f44624cb7a4569f75c6cefac8</td>\n",
       "      <td>retrait</td>\n",
       "      <td>5.741303e+06</td>\n",
       "      <td>2007-05-17</td>\n",
       "      <td>096 Christopher Streets\\nLake Joshua, CO 60898</td>\n",
       "      <td>a69bbae7-0055-40b5-beff-4b0457f7b52a</td>\n",
       "      <td>réussie</td>\n",
       "      <td>0</td>\n",
       "    </tr>\n",
       "    <tr>\n",
       "      <th>3</th>\n",
       "      <td>167733ffec654549bc2f9477f8157b3d</td>\n",
       "      <td>ea0b6e39a32e44028a0e484dd7d5aaa6</td>\n",
       "      <td>retrait</td>\n",
       "      <td>7.992655e+06</td>\n",
       "      <td>2015-08-14</td>\n",
       "      <td>5496 Donald Roads\\nSouth Courtneystad, WY 51100</td>\n",
       "      <td>6ea33d0a-c3cc-411f-bb65-c0c38512867b</td>\n",
       "      <td>réussie</td>\n",
       "      <td>0</td>\n",
       "    </tr>\n",
       "    <tr>\n",
       "      <th>4</th>\n",
       "      <td>0b5d7bdeebf5417fb0c3cf54b3825a66</td>\n",
       "      <td>85e37d1bd10641e7b56df0f9fa870fa4</td>\n",
       "      <td>transfert</td>\n",
       "      <td>3.606987e+06</td>\n",
       "      <td>2008-08-30</td>\n",
       "      <td>66933 Smith Grove Suite 162\\nNew Stephaniemout...</td>\n",
       "      <td>d83a649c-41ea-4ed3-8038-38193c6308fe</td>\n",
       "      <td>échouée</td>\n",
       "      <td>0</td>\n",
       "    </tr>\n",
       "  </tbody>\n",
       "</table>\n",
       "</div>"
      ],
      "text/plain": [
       "                     transaction_id                       customer_id  \\\n",
       "0  2251f220c98e4da1adf6b5997b5c5391  bbafa72861294cfb96dfed3aa956bfbf   \n",
       "1  cb3f318268c246a3b91c96347782aa4f  218ad29d48bf41c3a15aacd26ee19ac0   \n",
       "2  535332f5dd334dc98d85a93bacb76f8c  8787ee3f44624cb7a4569f75c6cefac8   \n",
       "3  167733ffec654549bc2f9477f8157b3d  ea0b6e39a32e44028a0e484dd7d5aaa6   \n",
       "4  0b5d7bdeebf5417fb0c3cf54b3825a66  85e37d1bd10641e7b56df0f9fa870fa4   \n",
       "\n",
       "  transaction_type        amount transaction_date  \\\n",
       "0            depôt  8.617840e+05       2010-02-25   \n",
       "1        transfert  4.160409e+06       2007-12-27   \n",
       "2          retrait  5.741303e+06       2007-05-17   \n",
       "3          retrait  7.992655e+06       2015-08-14   \n",
       "4        transfert  3.606987e+06       2008-08-30   \n",
       "\n",
       "                                            location  \\\n",
       "0  319 Galloway Dale Apt. 613\\nNew Kevinbury, IL ...   \n",
       "1  9676 Hoffman Isle Apt. 254\\nDaniellechester, H...   \n",
       "2     096 Christopher Streets\\nLake Joshua, CO 60898   \n",
       "3    5496 Donald Roads\\nSouth Courtneystad, WY 51100   \n",
       "4  66933 Smith Grove Suite 162\\nNew Stephaniemout...   \n",
       "\n",
       "                              device_id   status  is_fraud  \n",
       "0  1d843fad-0117-41bc-8ff2-208cffbac314  échouée         0  \n",
       "1  a28baef9-1e33-490b-88a7-1b07c54ea485  réussie         0  \n",
       "2  a69bbae7-0055-40b5-beff-4b0457f7b52a  réussie         0  \n",
       "3  6ea33d0a-c3cc-411f-bb65-c0c38512867b  réussie         0  \n",
       "4  d83a649c-41ea-4ed3-8038-38193c6308fe  échouée         0  "
      ]
     },
     "execution_count": 6,
     "metadata": {},
     "output_type": "execute_result"
    }
   ],
   "source": [
    "transactions = pd.read_csv('../Data/Train/transactions.csv')\n",
    "transactions.head()"
   ]
  },
  {
   "cell_type": "code",
   "execution_count": 7,
   "metadata": {},
   "outputs": [
    {
     "name": "stdout",
     "output_type": "stream",
     "text": [
      "<class 'pandas.core.frame.DataFrame'>\n",
      "RangeIndex: 100000 entries, 0 to 99999\n",
      "Data columns (total 9 columns):\n",
      " #   Column            Non-Null Count   Dtype  \n",
      "---  ------            --------------   -----  \n",
      " 0   transaction_id    100000 non-null  object \n",
      " 1   customer_id       100000 non-null  object \n",
      " 2   transaction_type  100000 non-null  object \n",
      " 3   amount            100000 non-null  float64\n",
      " 4   transaction_date  100000 non-null  object \n",
      " 5   location          100000 non-null  object \n",
      " 6   device_id         100000 non-null  object \n",
      " 7   status            100000 non-null  object \n",
      " 8   is_fraud          100000 non-null  int64  \n",
      "dtypes: float64(1), int64(1), object(7)\n",
      "memory usage: 6.9+ MB\n"
     ]
    }
   ],
   "source": [
    "transactions.info()"
   ]
  },
  {
   "cell_type": "code",
   "execution_count": 8,
   "metadata": {},
   "outputs": [
    {
     "data": {
      "text/html": [
       "<div>\n",
       "<style scoped>\n",
       "    .dataframe tbody tr th:only-of-type {\n",
       "        vertical-align: middle;\n",
       "    }\n",
       "\n",
       "    .dataframe tbody tr th {\n",
       "        vertical-align: top;\n",
       "    }\n",
       "\n",
       "    .dataframe thead th {\n",
       "        text-align: right;\n",
       "    }\n",
       "</style>\n",
       "<table border=\"1\" class=\"dataframe\">\n",
       "  <thead>\n",
       "    <tr style=\"text-align: right;\">\n",
       "      <th></th>\n",
       "      <th>transaction_id</th>\n",
       "      <th>customer_id</th>\n",
       "      <th>transaction_type</th>\n",
       "      <th>amount</th>\n",
       "      <th>transaction_date</th>\n",
       "      <th>location</th>\n",
       "      <th>device_id</th>\n",
       "      <th>status</th>\n",
       "      <th>is_fraud</th>\n",
       "    </tr>\n",
       "  </thead>\n",
       "  <tbody>\n",
       "    <tr>\n",
       "      <th>count</th>\n",
       "      <td>100000</td>\n",
       "      <td>100000</td>\n",
       "      <td>100000</td>\n",
       "      <td>1.000000e+05</td>\n",
       "      <td>100000</td>\n",
       "      <td>100000</td>\n",
       "      <td>100000</td>\n",
       "      <td>100000</td>\n",
       "      <td>100000.000000</td>\n",
       "    </tr>\n",
       "    <tr>\n",
       "      <th>unique</th>\n",
       "      <td>100000</td>\n",
       "      <td>10000</td>\n",
       "      <td>3</td>\n",
       "      <td>NaN</td>\n",
       "      <td>6938</td>\n",
       "      <td>1000</td>\n",
       "      <td>63225</td>\n",
       "      <td>2</td>\n",
       "      <td>NaN</td>\n",
       "    </tr>\n",
       "    <tr>\n",
       "      <th>top</th>\n",
       "      <td>2251f220c98e4da1adf6b5997b5c5391</td>\n",
       "      <td>63feade088264debab33ddc73f1e2b17</td>\n",
       "      <td>depôt</td>\n",
       "      <td>NaN</td>\n",
       "      <td>2017-04-26</td>\n",
       "      <td>0899 Dickson Port\\nJenningsborough, NJ 06306</td>\n",
       "      <td>6bcb8891-72f5-4494-8d61-184f776c0ab7</td>\n",
       "      <td>échouée</td>\n",
       "      <td>NaN</td>\n",
       "    </tr>\n",
       "    <tr>\n",
       "      <th>freq</th>\n",
       "      <td>1</td>\n",
       "      <td>24</td>\n",
       "      <td>33492</td>\n",
       "      <td>NaN</td>\n",
       "      <td>33</td>\n",
       "      <td>132</td>\n",
       "      <td>8</td>\n",
       "      <td>50033</td>\n",
       "      <td>NaN</td>\n",
       "    </tr>\n",
       "    <tr>\n",
       "      <th>mean</th>\n",
       "      <td>NaN</td>\n",
       "      <td>NaN</td>\n",
       "      <td>NaN</td>\n",
       "      <td>4.997003e+06</td>\n",
       "      <td>NaN</td>\n",
       "      <td>NaN</td>\n",
       "      <td>NaN</td>\n",
       "      <td>NaN</td>\n",
       "      <td>0.503880</td>\n",
       "    </tr>\n",
       "    <tr>\n",
       "      <th>std</th>\n",
       "      <td>NaN</td>\n",
       "      <td>NaN</td>\n",
       "      <td>NaN</td>\n",
       "      <td>2.887396e+06</td>\n",
       "      <td>NaN</td>\n",
       "      <td>NaN</td>\n",
       "      <td>NaN</td>\n",
       "      <td>NaN</td>\n",
       "      <td>0.499987</td>\n",
       "    </tr>\n",
       "    <tr>\n",
       "      <th>min</th>\n",
       "      <td>NaN</td>\n",
       "      <td>NaN</td>\n",
       "      <td>NaN</td>\n",
       "      <td>2.646072e+02</td>\n",
       "      <td>NaN</td>\n",
       "      <td>NaN</td>\n",
       "      <td>NaN</td>\n",
       "      <td>NaN</td>\n",
       "      <td>0.000000</td>\n",
       "    </tr>\n",
       "    <tr>\n",
       "      <th>25%</th>\n",
       "      <td>NaN</td>\n",
       "      <td>NaN</td>\n",
       "      <td>NaN</td>\n",
       "      <td>2.501177e+06</td>\n",
       "      <td>NaN</td>\n",
       "      <td>NaN</td>\n",
       "      <td>NaN</td>\n",
       "      <td>NaN</td>\n",
       "      <td>0.000000</td>\n",
       "    </tr>\n",
       "    <tr>\n",
       "      <th>50%</th>\n",
       "      <td>NaN</td>\n",
       "      <td>NaN</td>\n",
       "      <td>NaN</td>\n",
       "      <td>5.004852e+06</td>\n",
       "      <td>NaN</td>\n",
       "      <td>NaN</td>\n",
       "      <td>NaN</td>\n",
       "      <td>NaN</td>\n",
       "      <td>1.000000</td>\n",
       "    </tr>\n",
       "    <tr>\n",
       "      <th>75%</th>\n",
       "      <td>NaN</td>\n",
       "      <td>NaN</td>\n",
       "      <td>NaN</td>\n",
       "      <td>7.496297e+06</td>\n",
       "      <td>NaN</td>\n",
       "      <td>NaN</td>\n",
       "      <td>NaN</td>\n",
       "      <td>NaN</td>\n",
       "      <td>1.000000</td>\n",
       "    </tr>\n",
       "    <tr>\n",
       "      <th>max</th>\n",
       "      <td>NaN</td>\n",
       "      <td>NaN</td>\n",
       "      <td>NaN</td>\n",
       "      <td>9.999956e+06</td>\n",
       "      <td>NaN</td>\n",
       "      <td>NaN</td>\n",
       "      <td>NaN</td>\n",
       "      <td>NaN</td>\n",
       "      <td>1.000000</td>\n",
       "    </tr>\n",
       "  </tbody>\n",
       "</table>\n",
       "</div>"
      ],
      "text/plain": [
       "                          transaction_id                       customer_id  \\\n",
       "count                             100000                            100000   \n",
       "unique                            100000                             10000   \n",
       "top     2251f220c98e4da1adf6b5997b5c5391  63feade088264debab33ddc73f1e2b17   \n",
       "freq                                   1                                24   \n",
       "mean                                 NaN                               NaN   \n",
       "std                                  NaN                               NaN   \n",
       "min                                  NaN                               NaN   \n",
       "25%                                  NaN                               NaN   \n",
       "50%                                  NaN                               NaN   \n",
       "75%                                  NaN                               NaN   \n",
       "max                                  NaN                               NaN   \n",
       "\n",
       "       transaction_type        amount transaction_date  \\\n",
       "count            100000  1.000000e+05           100000   \n",
       "unique                3           NaN             6938   \n",
       "top               depôt           NaN       2017-04-26   \n",
       "freq              33492           NaN               33   \n",
       "mean                NaN  4.997003e+06              NaN   \n",
       "std                 NaN  2.887396e+06              NaN   \n",
       "min                 NaN  2.646072e+02              NaN   \n",
       "25%                 NaN  2.501177e+06              NaN   \n",
       "50%                 NaN  5.004852e+06              NaN   \n",
       "75%                 NaN  7.496297e+06              NaN   \n",
       "max                 NaN  9.999956e+06              NaN   \n",
       "\n",
       "                                            location  \\\n",
       "count                                         100000   \n",
       "unique                                          1000   \n",
       "top     0899 Dickson Port\\nJenningsborough, NJ 06306   \n",
       "freq                                             132   \n",
       "mean                                             NaN   \n",
       "std                                              NaN   \n",
       "min                                              NaN   \n",
       "25%                                              NaN   \n",
       "50%                                              NaN   \n",
       "75%                                              NaN   \n",
       "max                                              NaN   \n",
       "\n",
       "                                   device_id   status       is_fraud  \n",
       "count                                 100000   100000  100000.000000  \n",
       "unique                                 63225        2            NaN  \n",
       "top     6bcb8891-72f5-4494-8d61-184f776c0ab7  échouée            NaN  \n",
       "freq                                       8    50033            NaN  \n",
       "mean                                     NaN      NaN       0.503880  \n",
       "std                                      NaN      NaN       0.499987  \n",
       "min                                      NaN      NaN       0.000000  \n",
       "25%                                      NaN      NaN       0.000000  \n",
       "50%                                      NaN      NaN       1.000000  \n",
       "75%                                      NaN      NaN       1.000000  \n",
       "max                                      NaN      NaN       1.000000  "
      ]
     },
     "execution_count": 8,
     "metadata": {},
     "output_type": "execute_result"
    }
   ],
   "source": [
    "transactions.describe(include=\"all\")"
   ]
  },
  {
   "cell_type": "markdown",
   "metadata": {},
   "source": [
    "changing date type"
   ]
  },
  {
   "cell_type": "code",
   "execution_count": 9,
   "metadata": {},
   "outputs": [
    {
     "name": "stdout",
     "output_type": "stream",
     "text": [
      "<class 'pandas.core.frame.DataFrame'>\n",
      "RangeIndex: 100000 entries, 0 to 99999\n",
      "Data columns (total 9 columns):\n",
      " #   Column            Non-Null Count   Dtype         \n",
      "---  ------            --------------   -----         \n",
      " 0   transaction_id    100000 non-null  object        \n",
      " 1   customer_id       100000 non-null  object        \n",
      " 2   transaction_type  100000 non-null  object        \n",
      " 3   amount            100000 non-null  float64       \n",
      " 4   transaction_date  100000 non-null  datetime64[ns]\n",
      " 5   location          100000 non-null  object        \n",
      " 6   device_id         100000 non-null  object        \n",
      " 7   status            100000 non-null  object        \n",
      " 8   is_fraud          100000 non-null  int64         \n",
      "dtypes: datetime64[ns](1), float64(1), int64(1), object(6)\n",
      "memory usage: 6.9+ MB\n"
     ]
    }
   ],
   "source": [
    "transactions.transaction_date = pd.to_datetime(transactions.transaction_date)\n",
    "transactions.info()"
   ]
  },
  {
   "cell_type": "markdown",
   "metadata": {},
   "source": [
    "### transaction_type"
   ]
  },
  {
   "cell_type": "code",
   "execution_count": 16,
   "metadata": {},
   "outputs": [
    {
     "data": {
      "text/plain": [
       "<Axes: xlabel='transaction_type', ylabel='count'>"
      ]
     },
     "execution_count": 16,
     "metadata": {},
     "output_type": "execute_result"
    },
    {
     "data": {
      "image/png": "[encoded data removed]",
      "text/plain": [
       "<Figure size 640x480 with 1 Axes>"
      ]
     },
     "metadata": {},
     "output_type": "display_data"
    }
   ],
   "source": [
    "sns.countplot(transactions, x=\"transaction_type\", hue='transaction_type')"
   ]
  },
  {
   "cell_type": "code",
   "execution_count": 12,
   "metadata": {},
   "outputs": [
    {
     "data": {
      "text/plain": [
       "transaction_type\n",
       "retrait      33031\n",
       "transfert    33477\n",
       "depôt        33492\n",
       "Name: count, dtype: int64"
      ]
     },
     "execution_count": 12,
     "metadata": {},
     "output_type": "execute_result"
    }
   ],
   "source": [
    "transactions.transaction_type.value_counts().sort_values()"
   ]
  },
  {
   "cell_type": "code",
   "execution_count": 26,
   "metadata": {},
   "outputs": [
    {
     "data": {
      "text/html": [
       "<div>\n",
       "<style scoped>\n",
       "    .dataframe tbody tr th:only-of-type {\n",
       "        vertical-align: middle;\n",
       "    }\n",
       "\n",
       "    .dataframe tbody tr th {\n",
       "        vertical-align: top;\n",
       "    }\n",
       "\n",
       "    .dataframe thead th {\n",
       "        text-align: right;\n",
       "    }\n",
       "</style>\n",
       "<table border=\"1\" class=\"dataframe\">\n",
       "  <thead>\n",
       "    <tr style=\"text-align: right;\">\n",
       "      <th></th>\n",
       "      <th>proportion</th>\n",
       "    </tr>\n",
       "    <tr>\n",
       "      <th>transaction_type</th>\n",
       "      <th></th>\n",
       "    </tr>\n",
       "  </thead>\n",
       "  <tbody>\n",
       "    <tr>\n",
       "      <th>depôt</th>\n",
       "      <td>33.492</td>\n",
       "    </tr>\n",
       "    <tr>\n",
       "      <th>transfert</th>\n",
       "      <td>33.477</td>\n",
       "    </tr>\n",
       "    <tr>\n",
       "      <th>retrait</th>\n",
       "      <td>33.031</td>\n",
       "    </tr>\n",
       "  </tbody>\n",
       "</table>\n",
       "</div>"
      ],
      "text/plain": [
       "                  proportion\n",
       "transaction_type            \n",
       "depôt                 33.492\n",
       "transfert             33.477\n",
       "retrait               33.031"
      ]
     },
     "execution_count": 26,
     "metadata": {},
     "output_type": "execute_result"
    }
   ],
   "source": [
    "length = transactions.shape[0]\n",
    "# create dataframe percentage of transaction type\n",
    "proportion = pd.DataFrame(transactions['transaction_type'].value_counts(normalize=True)*100)\n",
    "proportion"
   ]
  },
  {
   "cell_type": "markdown",
   "metadata": {},
   "source": [
    "### transaction amount"
   ]
  },
  {
   "cell_type": "code",
   "execution_count": 35,
   "metadata": {},
   "outputs": [
    {
     "data": {
      "text/html": [
       "<div>\n",
       "<style scoped>\n",
       "    .dataframe tbody tr th:only-of-type {\n",
       "        vertical-align: middle;\n",
       "    }\n",
       "\n",
       "    .dataframe tbody tr th {\n",
       "        vertical-align: top;\n",
       "    }\n",
       "\n",
       "    .dataframe thead th {\n",
       "        text-align: right;\n",
       "    }\n",
       "</style>\n",
       "<table border=\"1\" class=\"dataframe\">\n",
       "  <thead>\n",
       "    <tr style=\"text-align: right;\">\n",
       "      <th></th>\n",
       "      <th>mean</th>\n",
       "      <th>median</th>\n",
       "    </tr>\n",
       "    <tr>\n",
       "      <th>transaction_type</th>\n",
       "      <th></th>\n",
       "      <th></th>\n",
       "    </tr>\n",
       "  </thead>\n",
       "  <tbody>\n",
       "    <tr>\n",
       "      <th>depôt</th>\n",
       "      <td>5.011515e+06</td>\n",
       "      <td>5.042304e+06</td>\n",
       "    </tr>\n",
       "    <tr>\n",
       "      <th>retrait</th>\n",
       "      <td>5.014341e+06</td>\n",
       "      <td>5.027240e+06</td>\n",
       "    </tr>\n",
       "    <tr>\n",
       "      <th>transfert</th>\n",
       "      <td>4.965379e+06</td>\n",
       "      <td>4.948051e+06</td>\n",
       "    </tr>\n",
       "  </tbody>\n",
       "</table>\n",
       "</div>"
      ],
      "text/plain": [
       "                          mean        median\n",
       "transaction_type                            \n",
       "depôt             5.011515e+06  5.042304e+06\n",
       "retrait           5.014341e+06  5.027240e+06\n",
       "transfert         4.965379e+06  4.948051e+06"
      ]
     },
     "execution_count": 35,
     "metadata": {},
     "output_type": "execute_result"
    }
   ],
   "source": [
    "# transaction amount by transaction type\n",
    "pd.DataFrame(transactions.groupby('transaction_type').amount.aggregate(['mean', 'median']))"
   ]
  },
  {
   "cell_type": "code",
   "execution_count": 73,
   "metadata": {},
   "outputs": [],
   "source": [
    "transfert = transactions[transactions.transaction_type == 'transfert']\n",
    "depot = transactions[transactions.transaction_type == 'depôt']\n",
    "retrait = transactions[transactions.transaction_type == 'retrait']\n",
    "type_list = [transfert, depot, retrait]\n"
   ]
  },
  {
   "cell_type": "code",
   "execution_count": 83,
   "metadata": {},
   "outputs": [
    {
     "data": {
      "image/png": "[encoded data removed]",
      "text/plain": [
       "<Figure size 1500x700 with 3 Axes>"
      ]
     },
     "metadata": {},
     "output_type": "display_data"
    }
   ],
   "source": [
    "plt.figure(figsize=(15,7))\n",
    "for i, value in enumerate(type_list, 1):\n",
    "    plt.subplot(2,2,i)\n",
    "    sns.histplot(value, x='amount', kde=True)\n",
    "    plt.tight_layout()\n",
    "    plt.title(value.transaction_type.iloc[0])\n",
    "    plt.plot()"
   ]
  },
  {
   "cell_type": "code",
   "execution_count": 88,
   "metadata": {},
   "outputs": [
    {
     "data": {
      "image/png": "[encoded data removed]",
      "text/plain": [
       "<Figure size 1500x400 with 3 Axes>"
      ]
     },
     "metadata": {},
     "output_type": "display_data"
    }
   ],
   "source": [
    "plt.figure(figsize=(15,4))\n",
    "for i, value in enumerate(type_list, 1):\n",
    "    plt.subplot(2,2,i)\n",
    "    sns.boxplot(value, x='amount')\n",
    "    plt.title(value.transaction_type.iloc[0])\n",
    "    plt.tight_layout()\n",
    "    plt.plot()"
   ]
  },
  {
   "cell_type": "markdown",
   "metadata": {},
   "source": [
    "### Analyse temporelle"
   ]
  },
  {
   "cell_type": "code",
   "execution_count": null,
   "metadata": {},
   "outputs": [],
   "source": []
  }
 ],
 "metadata": {
  "kernelspec": {
   "display_name": "pyther_env",
   "language": "python",
   "name": "python3"
  },
  "language_info": {
   "codemirror_mode": {
    "name": "ipython",
    "version": 3
   },
   "file_extension": ".py",
   "mimetype": "text/x-python",
   "name": "python",
   "nbconvert_exporter": "python",
   "pygments_lexer": "ipython3",
   "version": "3.11.8"
  }
 },
 "nbformat": 4,
 "nbformat_minor": 2
}
