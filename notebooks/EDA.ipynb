{
 "cells": [
  {
   "cell_type": "code",
   "execution_count": null,
   "metadata": {},
   "outputs": [],
   "source": [
    "import pandas as pd\n",
    "import numpy as np\n",
    "import matplotlib.pyplot as plt\n",
    "import plotly.express as px\n",
    "import seaborn as sns\n",
    "import sqlite3\n",
    "\n",
    "%matplotlib inline"
   ]
  },
  {
   "cell_type": "code",
   "execution_count": null,
   "metadata": {},
   "outputs": [],
   "source": [
    "# Create a connection to the SQLite database\n",
    "conn = sqlite3.connect('../Data/db/fraude_detection_warehouse_.db')"
   ]
  },
  {
   "cell_type": "code",
   "execution_count": null,
   "metadata": {},
   "outputs": [],
   "source": [
    "transactions = pd.read_sql('SELECT * FROM transactions', conn)\n",
    "transactions.head()"
   ]
  },
  {
   "cell_type": "code",
   "execution_count": null,
   "metadata": {},
   "outputs": [],
   "source": [
    "transactions.info()"
   ]
  },
  {
   "cell_type": "code",
   "execution_count": null,
   "metadata": {},
   "outputs": [],
   "source": [
    "transactions.describe(include=\"all\")"
   ]
  },
  {
   "cell_type": "markdown",
   "metadata": {},
   "source": [
    "changing date type"
   ]
  },
  {
   "cell_type": "code",
   "execution_count": null,
   "metadata": {},
   "outputs": [],
   "source": [
    "transactions.transaction_date = pd.to_datetime(transactions.transaction_date)\n",
    "transactions.info()"
   ]
  },
  {
   "cell_type": "markdown",
   "metadata": {},
   "source": [
    "### transaction_type"
   ]
  },
  {
   "cell_type": "code",
   "execution_count": null,
   "metadata": {},
   "outputs": [],
   "source": [
    "list(transactions.transaction_type.value_counts())"
   ]
  },
  {
   "cell_type": "code",
   "execution_count": null,
   "metadata": {},
   "outputs": [],
   "source": [
    "labels = list(transactions.transaction_type.unique())\n",
    "sizes = list(transactions.transaction_type.value_counts())\n",
    "colors = ['green', 'red', 'orange']\n",
    "explode = (0.1, 0, 0)  # explode 1st slice"
   ]
  },
  {
   "cell_type": "code",
   "execution_count": null,
   "metadata": {},
   "outputs": [],
   "source": [
    "nbre_trans = transactions.transaction_type.value_counts()\n",
    "plt.pie(sizes, explode=explode, labels=labels, colors=colors,\n",
    "autopct='%1.1f%%', shadow=True, startangle=140)\n",
    "\n",
    "plt.axis('equal')\n",
    "plt.show()"
   ]
  },
  {
   "cell_type": "code",
   "execution_count": null,
   "metadata": {},
   "outputs": [],
   "source": [
    "transactions.transaction_type.value_counts().sort_values()"
   ]
  },
  {
   "cell_type": "code",
   "execution_count": null,
   "metadata": {},
   "outputs": [],
   "source": [
    "length = transactions.shape[0]\n",
    "# create dataframe percentage of transaction type\n",
    "proportion = pd.DataFrame(transactions['transaction_type'].value_counts(normalize=True)*100)\n",
    "proportion"
   ]
  },
  {
   "cell_type": "markdown",
   "metadata": {},
   "source": [
    "### Répartition des types de transaction par localisation"
   ]
  },
  {
   "cell_type": "code",
   "execution_count": null,
   "metadata": {},
   "outputs": [],
   "source": [
    "localisation_repart = pd.crosstab(transactions[\"location\"],transactions[\"transaction_type\"])"
   ]
  },
  {
   "cell_type": "code",
   "execution_count": null,
   "metadata": {},
   "outputs": [],
   "source": [
    "localisation_repart = localisation_repart[(localisation_repart[\"depôt\"] >= 800) | (localisation_repart[\"retrait\"] >= 800) | (localisation_repart[\"transfert\"] >= 800)]\n"
   ]
  },
  {
   "cell_type": "code",
   "execution_count": null,
   "metadata": {},
   "outputs": [],
   "source": [
    "localisation_repart.plot.bar()"
   ]
  },
  {
   "cell_type": "markdown",
   "metadata": {},
   "source": [
    "### Répartition des types de transaction sujet aux fraudes"
   ]
  },
  {
   "cell_type": "code",
   "execution_count": null,
   "metadata": {},
   "outputs": [],
   "source": [
    "localisation_fraud = pd.crosstab(transactions[\"transaction_type\"],transactions[\"is_fraud\"])"
   ]
  },
  {
   "cell_type": "code",
   "execution_count": null,
   "metadata": {},
   "outputs": [],
   "source": [
    "localisation_fraud.plot.bar()"
   ]
  },
  {
   "cell_type": "markdown",
   "metadata": {},
   "source": [
    "### transaction amount"
   ]
  },
  {
   "cell_type": "code",
   "execution_count": null,
   "metadata": {},
   "outputs": [],
   "source": [
    "# transaction amount by transaction type\n",
    "amount_mean = pd.DataFrame(transactions.groupby('transaction_type').amount.aggregate(['mean', 'median']))\n",
    "amount_mean.head()"
   ]
  },
  {
   "cell_type": "code",
   "execution_count": null,
   "metadata": {},
   "outputs": [],
   "source": [
    "amount_mean.plot.bar()"
   ]
  },
  {
   "cell_type": "code",
   "execution_count": null,
   "metadata": {},
   "outputs": [],
   "source": [
    "transfert = transactions[transactions.transaction_type == 'transfert']\n",
    "depot = transactions[transactions.transaction_type == 'depôt']\n",
    "retrait = transactions[transactions.transaction_type == 'retrait']\n",
    "type_list = [transfert, depot, retrait]\n"
   ]
  },
  {
   "cell_type": "code",
   "execution_count": null,
   "metadata": {},
   "outputs": [],
   "source": [
    "sns.histplot(transactions, x=\"amount\", kde=True)"
   ]
  },
  {
   "cell_type": "code",
   "execution_count": null,
   "metadata": {},
   "outputs": [],
   "source": [
    "plt.figure(figsize=(15,7))\n",
    "for i, value in enumerate(type_list, 1):\n",
    "    plt.subplot(2,2,i)\n",
    "    sns.histplot(value, x='amount', kde=True)\n",
    "    plt.title(value.transaction_type.iloc[0])\n",
    "    plt.tight_layout()\n",
    "    plt.plot()"
   ]
  },
  {
   "cell_type": "code",
   "execution_count": null,
   "metadata": {},
   "outputs": [],
   "source": [
    "plt.figure(figsize=(15,4))\n",
    "for i, value in enumerate(type_list, 1):\n",
    "    plt.subplot(2,2,i)\n",
    "    sns.boxplot(value, x='amount')\n",
    "    plt.title(value.transaction_type.iloc[0])\n",
    "    plt.tight_layout()\n",
    "    plt.plot()"
   ]
  },
  {
   "cell_type": "markdown",
   "metadata": {},
   "source": [
    "### Analyse temporelle"
   ]
  },
  {
   "cell_type": "code",
   "execution_count": null,
   "metadata": {},
   "outputs": [],
   "source": [
    "transactions['month'] = pd.to_datetime(transactions['transaction_date'].dt.strftime('%Y-%m'))\n",
    "transactions['week'] = transactions['transaction_date'].dt.isocalendar().week\n",
    "transactions['month_number'] = transactions['transaction_date'].dt.month\n",
    "transactions['year'] = transactions['transaction_date'].dt.year"
   ]
  },
  {
   "cell_type": "code",
   "execution_count": null,
   "metadata": {},
   "outputs": [],
   "source": [
    "transactions_copy = transactions.set_index('transaction_date')\n",
    "transactions_copy.head()"
   ]
  },
  {
   "cell_type": "markdown",
   "metadata": {},
   "source": [
    "Montant de transaction par jour"
   ]
  },
  {
   "cell_type": "code",
   "execution_count": null,
   "metadata": {},
   "outputs": [],
   "source": [
    "transactions_per_day = pd.DataFrame(transactions_copy.groupby('transaction_date').amount.aggregate(\"mean\")).reset_index()\n",
    "fig = px.line(transactions_per_day, x='transaction_date', y='amount', title='transactions_per_day amount')\n",
    "\n",
    "fig.update_xaxes(rangeslider_visible=True)\n",
    "fig.show()"
   ]
  },
  {
   "cell_type": "markdown",
   "metadata": {},
   "source": [
    "Montant de transaction par mois"
   ]
  },
  {
   "cell_type": "code",
   "execution_count": null,
   "metadata": {},
   "outputs": [],
   "source": [
    "transactions_per_month = pd.DataFrame(transactions_copy.groupby(\"month\").amount.aggregate('mean')).reset_index()\n",
    "fig = px.line(transactions_per_month, x='month', y='amount', title='transactions_per_month amount')\n",
    "\n",
    "fig.update_xaxes(rangeslider_visible=True)\n",
    "fig.show()"
   ]
  },
  {
   "cell_type": "markdown",
   "metadata": {},
   "source": [
    "Montant de transaction par an"
   ]
  },
  {
   "cell_type": "code",
   "execution_count": null,
   "metadata": {},
   "outputs": [],
   "source": [
    "transactions_per_year = pd.DataFrame(transactions_copy.groupby(\"year\").amount.aggregate('mean')).reset_index()\n",
    "fig = px.line(transactions_per_year, x='year', y='amount', title='transactions_per_year amount')\n",
    "\n",
    "fig.update_xaxes(rangeslider_visible=True)\n",
    "fig.show()"
   ]
  },
  {
   "cell_type": "markdown",
   "metadata": {},
   "source": [
    "Nombre de transaction par jour"
   ]
  },
  {
   "cell_type": "code",
   "execution_count": null,
   "metadata": {},
   "outputs": [],
   "source": [
    "transactions_per_day_nbr = pd.DataFrame(transactions_copy.groupby(\"transaction_date\").transaction_id.count()).reset_index()\n",
    "fig = px.line(transactions_per_day_nbr, x='transaction_date', y='transaction_id', title='transactions_per_day_nbr')\n",
    "\n",
    "fig.update_xaxes(rangeslider_visible=True)\n",
    "fig.show()"
   ]
  },
  {
   "cell_type": "markdown",
   "metadata": {},
   "source": [
    "Nombre de transaction par mois"
   ]
  },
  {
   "cell_type": "code",
   "execution_count": null,
   "metadata": {},
   "outputs": [],
   "source": [
    "transactions_per_month_nbr = pd.DataFrame(transactions_copy.groupby(\"month\").transaction_id.count()).reset_index()\n",
    "fig = px.line(transactions_per_month_nbr, x='month', y='transaction_id', title='transactions_per_month_nbr').update_layout(xaxis_title=\"Date\", yaxis_title=\"transactions\")\n",
    "\n",
    "fig.update_xaxes(rangeslider_visible=True)\n",
    "fig.update_yaxes(rangemode='normal')\n",
    "fig.show()"
   ]
  },
  {
   "cell_type": "markdown",
   "metadata": {},
   "source": [
    "Nombre de transaction par an"
   ]
  },
  {
   "cell_type": "code",
   "execution_count": null,
   "metadata": {},
   "outputs": [],
   "source": [
    "transactions_per_month_nbr = pd.DataFrame(transactions_copy.groupby(\"year\").transaction_id.count()).reset_index()\n",
    "fig = px.line(transactions_per_month_nbr, x='year', y='transaction_id', title='transactions_per_month_nbr')\n",
    "\n",
    "fig.update_xaxes(rangeslider_visible=True)"
   ]
  },
  {
   "cell_type": "code",
   "execution_count": null,
   "metadata": {},
   "outputs": [],
   "source": [
    "devices = pd.read_sql(\"SELECT * FROM devices\", conn)\n",
    "devices.head()"
   ]
  },
  {
   "cell_type": "code",
   "execution_count": null,
   "metadata": {},
   "outputs": [],
   "source": [
    "# nbr de transaction par type d'appareil\n",
    "\n",
    "transactions.head()\n",
    "\n",
    "\n",
    "merge_device = pd.merge(transactions, devices, on='device_id')[[\"device_id\", \"device_type\", \"transaction_id\", \"amount\"]]\n",
    "merge_device.head()"
   ]
  },
  {
   "cell_type": "code",
   "execution_count": null,
   "metadata": {},
   "outputs": [],
   "source": [
    "# with sql\n",
    "merge_device_sql = pd.read_sql_query(\"\"\"SELECT t.device_id, device_type, transaction_id, amount\n",
    "                                     FROM transactions as t\n",
    "                                     JOIN devices as d\n",
    "                                     ON t.device_id = d.device_id\n",
    "                                     \"\"\", conn)\n",
    "merge_device_sql.head()"
   ]
  },
  {
   "cell_type": "code",
   "execution_count": null,
   "metadata": {},
   "outputs": [],
   "source": [
    "merge_device.nunique()"
   ]
  },
  {
   "cell_type": "code",
   "execution_count": null,
   "metadata": {},
   "outputs": [],
   "source": [
    "transaction_amount_per_device_type = merge_device.groupby('device_type').amount.aggregate(\"sum\")\n",
    "transaction_amount_per_device_type.plot.bar()"
   ]
  },
  {
   "cell_type": "code",
   "execution_count": null,
   "metadata": {},
   "outputs": [],
   "source": [
    "transaction_nbr_per_device_type = merge_device.groupby('device_type').transaction_id.count()\n",
    "transaction_nbr_per_device_type.plot.bar()"
   ]
  },
  {
   "cell_type": "code",
   "execution_count": null,
   "metadata": {},
   "outputs": [],
   "source": [
    "# Répartition de transaction par territoire à partir d'un map\n",
    "\n",
    "world_cities = pd.read_csv(\"../Data/worldcities.csv\")[[\"city\", \"country\"]]\n",
    "world_cities.head()\n"
   ]
  },
  {
   "cell_type": "code",
   "execution_count": null,
   "metadata": {},
   "outputs": [],
   "source": [
    "locations_out = world_cities[world_cities.country.isin([\"Nigeria\", \"Gabon\"])]"
   ]
  },
  {
   "cell_type": "code",
   "execution_count": null,
   "metadata": {},
   "outputs": [],
   "source": [
    "import geopandas as gpd"
   ]
  },
  {
   "cell_type": "code",
   "execution_count": null,
   "metadata": {},
   "outputs": [],
   "source": [
    "gdf = gpd.read_file(\"../Data/Afrique_Centrale.geojson\")\n",
    "gdf.rename(columns={\"nom_pays\": \"country\"}, inplace=True)\n",
    "gdf.head()"
   ]
  },
  {
   "cell_type": "code",
   "execution_count": null,
   "metadata": {},
   "outputs": [],
   "source": [
    "gdf.plot()"
   ]
  },
  {
   "cell_type": "markdown",
   "metadata": {},
   "source": []
  },
  {
   "cell_type": "code",
   "execution_count": null,
   "metadata": {},
   "outputs": [],
   "source": [
    "# nbre de transaction par client par jour / semaine / mois"
   ]
  },
  {
   "cell_type": "code",
   "execution_count": null,
   "metadata": {},
   "outputs": [],
   "source": [
    "locations_out"
   ]
  },
  {
   "cell_type": "code",
   "execution_count": null,
   "metadata": {},
   "outputs": [],
   "source": [
    "# nbre de transaction dans les villes hors du territoire\n",
    "out_of_territory = transactions[transactions.location.isin(list(locations_out.city))]\n",
    "out_of_territory.count()"
   ]
  },
  {
   "cell_type": "code",
   "execution_count": null,
   "metadata": {},
   "outputs": [],
   "source": [
    "# minimun / maximum "
   ]
  },
  {
   "cell_type": "markdown",
   "metadata": {},
   "source": [
    "### Analyse des historiques de transaction\n",
    "Nombre moyen de transactions passées par client"
   ]
  },
  {
   "cell_type": "code",
   "execution_count": null,
   "metadata": {},
   "outputs": [],
   "source": [
    "transaction_history = pd.read_sql('SELECT * FROM transaction_history', conn)\n",
    "transaction_history.head()"
   ]
  },
  {
   "cell_type": "code",
   "execution_count": null,
   "metadata": {},
   "outputs": [],
   "source": [
    "mean_trans_per_client = transaction_history.customer_id.value_counts().mean()\n",
    "print(f\"la moyenne de transaction par client est de {mean_trans_per_client}\")"
   ]
  },
  {
   "cell_type": "code",
   "execution_count": null,
   "metadata": {},
   "outputs": [],
   "source": [
    "devices = pd.read_sql(\" SELECT * FROM DEVICES \", conn)\n",
    "devices.info()"
   ]
  },
  {
   "cell_type": "code",
   "execution_count": null,
   "metadata": {},
   "outputs": [],
   "source": [
    "plt.figure(figsize=(6,4))\n",
    "devices['device_type'].value_counts().plot(kind='bar',color= 'green')\n",
    "\n",
    "plt.title('DISTRIBUTION DES TYPES D\\'APPAREILS UTILISES')\n",
    "plt.xlabel('type d\\'appareils')\n",
    "plt.ylabel('nombre d\\'appareils')\n",
    "plt.show()"
   ]
  },
  {
   "cell_type": "markdown",
   "metadata": {},
   "source": [
    "# Distribution des Systèmes d'exploitation"
   ]
  },
  {
   "cell_type": "code",
   "execution_count": null,
   "metadata": {},
   "outputs": [],
   "source": [
    "df=devices['os']\n",
    "df"
   ]
  },
  {
   "cell_type": "code",
   "execution_count": null,
   "metadata": {},
   "outputs": [],
   "source": [
    "plt.figure(figsize=(5,4))\n",
    "devices['os'].value_counts().plot(kind='pie', autopct='%1.1f%%')\n",
    "\n",
    "plt.title('Distribution des systèmes d\\'exploitation')\n",
    "#plt.xlabel('type d\\'os')\n",
    "#plt.ylabel('nombre d\\'os')\n",
    "plt.show()"
   ]
  },
  {
   "cell_type": "markdown",
   "metadata": {},
   "source": [
    "## Nombre de transaction par appareil"
   ]
  },
  {
   "cell_type": "code",
   "execution_count": null,
   "metadata": {},
   "outputs": [],
   "source": [
    "data= pd.read_sql(\"SELECT device_id, COUNT(transaction_id) as total_transactions FROM transactions GROUP BY device_id\", conn)\n",
    "data.info()\n",
    "data.head()"
   ]
  },
  {
   "cell_type": "code",
   "execution_count": null,
   "metadata": {},
   "outputs": [],
   "source": [
    "data_limited = data.head(10)  #limiter les donnees aux 20 premieres lignes de la table\n",
    "plt.figure(figsize=(10,6))\n",
    "\n",
    "plt.bar(data_limited['device_id'], data_limited['total_transactions'], color='orange')\n",
    "\n",
    "plt.title('Nombre de transactions par appareil')\n",
    "plt.xlabel(' ID appareils')\n",
    "plt.ylabel('nombre de  transactions')\n",
    "plt.xticks(rotation=90)\n",
    "plt.show()"
   ]
  },
  {
   "cell_type": "markdown",
   "metadata": {},
   "source": [
    "## Montant total des transactions par appareil\n"
   ]
  },
  {
   "cell_type": "code",
   "execution_count": null,
   "metadata": {},
   "outputs": [],
   "source": [
    "Total_transaction= pd.read_sql(\"SELECT device_id, SUM(amount) as total_amount FROM transactions GROUP BY device_id\", conn)\n",
    "\n",
    "Total_transaction.head()"
   ]
  },
  {
   "cell_type": "code",
   "execution_count": null,
   "metadata": {},
   "outputs": [],
   "source": [
    "data_limited = Total_transaction.head(10)  #limiter les donnees aux 20 premieres lignes de la table\n",
    "plt.figure(figsize=(10,6))\n",
    "\n",
    "plt.bar(data_limited['device_id'], data_limited['total_amount'], color='orange')\n",
    "\n",
    "plt.title('Nombre de transactions par appareil')\n",
    "plt.xlabel(' ID appareils')\n",
    "plt.ylabel('nombre de  transactions')\n",
    "plt.xticks(rotation=90)\n",
    "plt.show()"
   ]
  },
  {
   "cell_type": "markdown",
   "metadata": {},
   "source": [
    "# ANALYSE DES CLIENTS"
   ]
  },
  {
   "cell_type": "markdown",
   "metadata": {},
   "source": [
    "## Nombre total de clients actifs (client actif= plus de 3 transactions)"
   ]
  },
  {
   "cell_type": "code",
   "execution_count": null,
   "metadata": {},
   "outputs": [],
   "source": [
    "Total_clients= pd.read_sql(\"SELECT  COUNT (*) as active_clients_count FROM (SELECT customer_id FROM transactions GROUP BY customer_id HAVING COUNT(transaction_id) >= 3) as total_customers \", conn)\n",
    "Total_clients.head()"
   ]
  },
  {
   "cell_type": "code",
   "execution_count": null,
   "metadata": {},
   "outputs": [],
   "source": [
    "clients= pd.read_sql(\"SELECT * from customers\", conn)\n",
    "clients.head()"
   ]
  },
  {
   "cell_type": "markdown",
   "metadata": {},
   "source": [
    "## Distribution des âges des clients"
   ]
  },
  {
   "cell_type": "code",
   "execution_count": null,
   "metadata": {},
   "outputs": [],
   "source": [
    "# ajout de la colone age\n",
    "cursor=conn.cursor()\n",
    "cursor.execute(\"ALTER TABLE customers ADD COLUMN age \")\n",
    "\n",
    "#calcul des ages\n",
    "cursor.execute(\"\"\"\n",
    "               UPDATE customers  SET age= (strftime('%Y' , 'now')- strftime('%Y' , date_of_birth ))- \n",
    "                                        (strftime('%m-%d', 'now')< strftime('%m-%d', date_of_birth));\n",
    "               \"\"\")\n",
    "conn.commit()"
   ]
  },
  {
   "cell_type": "code",
   "execution_count": null,
   "metadata": {},
   "outputs": [],
   "source": [
    "age= pd.read_sql(\"SELECT * FROM customers\", conn)\n",
    "age.head()"
   ]
  },
  {
   "cell_type": "code",
   "execution_count": null,
   "metadata": {},
   "outputs": [],
   "source": [
    "age= pd.read_sql(\"SELECT age, COUNT(*) as age_count FROM customers GROUP BY age \", conn)\n",
    "age.head(10)"
   ]
  },
  {
   "cell_type": "code",
   "execution_count": null,
   "metadata": {},
   "outputs": [],
   "source": [
    "age_limited= age.head(20)\n",
    "plt.figure(figsize=(10,6))\n",
    "\n",
    "plt.bar(age_limited['age'], age_limited['age_count'], color='orange')\n",
    "\n",
    "plt.title('Nombre de transactions par appareil')\n",
    "plt.xlabel(' age')\n",
    "plt.ylabel('nombre ')\n",
    "plt.xticks(rotation=90)\n",
    "plt.show()"
   ]
  },
  {
   "cell_type": "markdown",
   "metadata": {},
   "source": [
    "## Nombre moyen de transactions par client"
   ]
  },
  {
   "cell_type": "code",
   "execution_count": null,
   "metadata": {},
   "outputs": [],
   "source": [
    "moyenne_transaction= pd.read_sql(\"SELECT customer_id, COUNT(transaction_id) AS num_transaction FROM transactions GROUP BY customer_id\", conn)\n",
    "moyenne_transaction.head()"
   ]
  },
  {
   "cell_type": "code",
   "execution_count": null,
   "metadata": {},
   "outputs": [],
   "source": [
    "moyenne_transaction_limited= moyenne_transaction.head(20)\n",
    "plt.figure(figsize=(10,6))\n",
    "\n",
    "plt.bar(moyenne_transaction_limited['customer_id'], moyenne_transaction_limited['num_transaction'], color='orange')\n",
    "\n",
    "plt.title('Nombre moyen de transactions par client')\n",
    "plt.xlabel(' ID client')\n",
    "plt.ylabel('nombre moyen  de  transactions')\n",
    "plt.xticks(rotation=90)\n",
    "plt.show()"
   ]
  },
  {
   "cell_type": "code",
   "execution_count": null,
   "metadata": {},
   "outputs": [],
   "source": [
    "# Étape 2: Trouver le nombre maximum de transactions\n",
    "max_transactions = moyenne_transaction['num_transaction'].max()"
   ]
  },
  {
   "cell_type": "code",
   "execution_count": null,
   "metadata": {},
   "outputs": [],
   "source": [
    "# Étape 3: Trouver les clients ayant le maximum de transactions\n",
    "clients_max_transactions = pd.read_sql(f\"\"\"\n",
    "    SELECT c.customer_id, c.age\n",
    "    FROM customers c\n",
    "    JOIN (\n",
    "        SELECT customer_id \n",
    "        FROM transactions \n",
    "        GROUP BY customer_id  \n",
    "        HAVING COUNT(transaction_id) = {max_transactions}\n",
    "    ) t ON c.customer_id = t.customer_id\n",
    "\"\"\", conn)\n",
    "\n",
    "clients_max_transactions"
   ]
  },
  {
   "cell_type": "markdown",
   "metadata": {},
   "source": [
    "## Montant moyen des transactions par client.\n"
   ]
  },
  {
   "cell_type": "code",
   "execution_count": null,
   "metadata": {},
   "outputs": [],
   "source": [
    "montant_moyen= pd.read_sql(\"SELECT customer_id, AVG(amount) AS avg_amount FROM transactions GROUP BY customer_id\", conn)\n",
    "montant_moyen.head()"
   ]
  },
  {
   "cell_type": "code",
   "execution_count": null,
   "metadata": {},
   "outputs": [],
   "source": [
    "montant_moyen_limited=montant_moyen.head(20)\n",
    "plt.figure(figsize=(10,6))\n",
    "\n",
    "plt.bar(montant_moyen_limited['customer_id'], montant_moyen_limited['avg_amount'], color=plt.cm.Paired(range(len(montant_moyen_limited))))\n",
    "\n",
    "plt.title('montant moyen des transactions par client')\n",
    "plt.xlabel('id clients')\n",
    "plt.ylabel('avg_amount')\n",
    "plt.xticks(rotation=90)\n",
    "plt.show()"
   ]
  },
  {
   "cell_type": "markdown",
   "metadata": {},
   "source": [
    "## Alertes de Fraude"
   ]
  },
  {
   "cell_type": "markdown",
   "metadata": {},
   "source": [
    "### Nombre total d'alertes générées"
   ]
  },
  {
   "cell_type": "code",
   "execution_count": null,
   "metadata": {},
   "outputs": [],
   "source": [
    "alertes= pd.read_sql(\"SELECT COUNT(alert_id) as alert FROM alerts\", conn)\n",
    "alertes"
   ]
  },
  {
   "cell_type": "markdown",
   "metadata": {},
   "source": [
    "### Distribution des types d'alertes\n"
   ]
  },
  {
   "cell_type": "code",
   "execution_count": null,
   "metadata": {},
   "outputs": [],
   "source": [
    "distribution_alert= pd.read_sql(\"SELECT alert_type, COUNT(*) as nbre_alerte FROM alerts GROUP BY alert_type\", conn )\n",
    "distribution_alert.head()"
   ]
  },
  {
   "cell_type": "code",
   "execution_count": null,
   "metadata": {},
   "outputs": [],
   "source": [
    "plt.figure(figsize=(10,6))\n",
    "\n",
    "plt.bar(distribution_alert['alert_type'], distribution_alert['nbre_alerte'], color=plt.cm.Paired(range(len(distribution_alert))))\n",
    "\n",
    "plt.title('Distribution des types d\\'alertes ')\n",
    "plt.xlabel('type alerte')\n",
    "plt.ylabel('nombre')"
   ]
  },
  {
   "cell_type": "markdown",
   "metadata": {},
   "source": [
    "### Taux de résolution des alertes(nombre d'alertes fermées divisé par le nombre total d'alertes)."
   ]
  },
  {
   "cell_type": "code",
   "execution_count": null,
   "metadata": {},
   "outputs": [],
   "source": [
    "alerte_fermee=   pd.read_sql(\"SELECT COUNT(alert_status)  FROM alerts WHERE alert_status='closed' \", conn )\n",
    "alerte_fermee"
   ]
  },
  {
   "cell_type": "code",
   "execution_count": null,
   "metadata": {},
   "outputs": [],
   "source": [
    "total_alerte= pd.read_sql(\"SELECT COUNT(alert_id)  FROM alerts \", conn)\n",
    "total_alerte"
   ]
  },
  {
   "cell_type": "code",
   "execution_count": null,
   "metadata": {},
   "outputs": [],
   "source": [
    "taux_resolution= (alerte_fermee['COUNT(alert_status)'][0] / total_alerte['COUNT(alert_id)'][0])*100\n",
    "print(taux_resolution)"
   ]
  }
 ],
 "metadata": {
  "kernelspec": {
   "display_name": "pyther_env",
   "language": "python",
   "name": "python3"
  },
  "language_info": {
   "codemirror_mode": {
    "name": "ipython",
    "version": 3
   },
   "file_extension": ".py",
   "mimetype": "text/x-python",
   "name": "python",
   "nbconvert_exporter": "python",
   "pygments_lexer": "ipython3",
   "version": "3.11.8"
  }
 },
 "nbformat": 4,
 "nbformat_minor": 2
}
