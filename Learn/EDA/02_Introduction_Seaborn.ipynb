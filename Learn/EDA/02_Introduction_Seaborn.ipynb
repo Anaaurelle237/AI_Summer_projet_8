{
 "cells": [
  {
   "cell_type": "markdown",
   "id": "8554efce-9520-4c89-83e9-20067f2d6082",
   "metadata": {
    "id": "8554efce-9520-4c89-83e9-20067f2d6082"
   },
   "source": [
    "# AI SUMMER 2023 YDOBON AI  Python Tutorial With Google Colab\n"
   ]
  },
  {
   "cell_type": "markdown",
   "id": "bb622929-d55d-4a64-bfef-d40addd0bbb6",
   "metadata": {
    "id": "bb622929-d55d-4a64-bfef-d40addd0bbb6"
   },
   "source": [
    "This tutorial was originally written by [Aurelien mbelle bono](https://aurelienbono.github.io/portefolio/) for AI SUMMER 2023 YDOBON ai ."
   ]
  },
  {
   "cell_type": "markdown",
   "id": "1d10a012-1e5d-4866-8b6e-3d7495284d38",
   "metadata": {
    "id": "1d10a012-1e5d-4866-8b6e-3d7495284d38"
   },
   "source": [
    "<div class=\"alert alert-info\" role=\"alert\">\n",
    "  <p>\n",
    "    <b>Usage Guidelines</b>\n",
    "  </p>\n",
    "\n",
    "  <p>\n",
    "    This lesson is part of the <b>AI SUMMER YDOBON core curriculum</b>. For that reason, this notebook can only be used as part of this project.\n",
    "  </p>\n",
    "\n",
    "  <p>\n",
    "    This means:\n",
    "    <ul>\n",
    "      <li><span style=\"color: red\">ⓧ</span> No downloading this notebook.</li>\n",
    "      <li><span style=\"color: red\">ⓧ</span> No re-sharing of this notebook with friends or colleagues.</li>\n",
    "      <li><span style=\"color: red\">ⓧ</span>  Do not download projects embedded in this notebook.</li>\n",
    "      <li hidden='hidden'><span style=\"color: red\">ⓧ</span></li>\n",
    "      <li><span style=\"color: red\">ⓧ</span> No adding this notebook to public or private repositories.</li>\n",
    "      <li><span style=\"color: red\">ⓧ</span> No uploading this notebook (or screenshots of it) to other websites, including websites for study resources.</li>\n",
    "    </ul>\n",
    "\n",
    "  </p>\n",
    "</div>\n"
   ]
  },
  {
   "cell_type": "markdown",
   "id": "eleven-clearing",
   "metadata": {
    "id": "eleven-clearing"
   },
   "source": [
    "# Data Visualization with Pandas & Seaborn"
   ]
  },
  {
   "cell_type": "code",
   "execution_count": null,
   "id": "084b7c37-7611-463a-8864-1f2362e3a9ad",
   "metadata": {
    "id": "084b7c37-7611-463a-8864-1f2362e3a9ad"
   },
   "outputs": [],
   "source": []
  },
  {
   "cell_type": "code",
   "execution_count": null,
   "id": "neither-backup",
   "metadata": {
    "id": "neither-backup"
   },
   "outputs": [],
   "source": [
    "import matplotlib.pyplot as plt\n",
    "import numpy as np\n",
    "import pandas as pd\n",
    "import seaborn as sns"
   ]
  },
  {
   "cell_type": "code",
   "execution_count": null,
   "id": "fitted-album",
   "metadata": {
    "id": "fitted-album"
   },
   "outputs": [],
   "source": [
    "%matplotlib inline\n",
    "sns.set()"
   ]
  },
  {
   "cell_type": "markdown",
   "id": "statistical-power",
   "metadata": {
    "id": "statistical-power"
   },
   "source": [
    "## Line Plots"
   ]
  },
  {
   "cell_type": "code",
   "execution_count": null,
   "id": "possible-samuel",
   "metadata": {
    "id": "possible-samuel"
   },
   "outputs": [],
   "source": [
    "iris = sns.load_dataset(\"iris\")"
   ]
  },
  {
   "cell_type": "code",
   "execution_count": null,
   "id": "e7f61995-5597-4237-900c-a9871c8217b8",
   "metadata": {},
   "outputs": [],
   "source": [
    "iris"
   ]
  },
  {
   "cell_type": "code",
   "execution_count": null,
   "id": "reduced-context",
   "metadata": {
    "id": "reduced-context",
    "outputId": "3a315384-e6da-4b04-9c23-3edba57f7127"
   },
   "outputs": [],
   "source": [
    "iris.tail(10)"
   ]
  },
  {
   "cell_type": "code",
   "execution_count": null,
   "id": "0659511d-1215-482b-bc69-d739cf95fca5",
   "metadata": {},
   "outputs": [],
   "source": [
    "type(iris)"
   ]
  },
  {
   "cell_type": "code",
   "execution_count": null,
   "id": "plain-resource",
   "metadata": {
    "id": "plain-resource",
    "outputId": "fef9ae83-23f6-496a-abff-250fe3c5b8ba"
   },
   "outputs": [],
   "source": [
    "iris.petal_length.plot()"
   ]
  },
  {
   "cell_type": "code",
   "execution_count": null,
   "id": "fixed-vietnamese",
   "metadata": {
    "id": "fixed-vietnamese",
    "outputId": "9b320931-caaa-4d75-be21-c8e577bc4a4c"
   },
   "outputs": [],
   "source": [
    "iris.plot()"
   ]
  },
  {
   "cell_type": "markdown",
   "id": "global-turkey",
   "metadata": {
    "id": "global-turkey"
   },
   "source": [
    "## Bar Plots"
   ]
  },
  {
   "cell_type": "code",
   "execution_count": null,
   "id": "piano-intermediate",
   "metadata": {
    "id": "piano-intermediate"
   },
   "outputs": [],
   "source": [
    "data = pd.Series(np.random.rand(5), index=list('abcde'))"
   ]
  },
  {
   "cell_type": "code",
   "execution_count": null,
   "id": "recreational-input",
   "metadata": {
    "id": "recreational-input",
    "outputId": "56903558-1635-4c13-8674-b1e0f7aa3d21"
   },
   "outputs": [],
   "source": [
    "data"
   ]
  },
  {
   "cell_type": "code",
   "execution_count": null,
   "id": "numeric-pollution",
   "metadata": {
    "id": "numeric-pollution",
    "outputId": "4747f348-d912-4660-a5d1-3ae9447bade0"
   },
   "outputs": [],
   "source": [
    "data.plot.bar(color='b', alpha=1)"
   ]
  },
  {
   "cell_type": "code",
   "execution_count": null,
   "id": "oriented-processing",
   "metadata": {
    "id": "oriented-processing",
    "outputId": "750c4fd1-0b8d-4a4b-ce36-3b8f0b1f3639"
   },
   "outputs": [],
   "source": [
    "data.plot.barh(color='r', alpha=0.5)"
   ]
  },
  {
   "cell_type": "code",
   "execution_count": null,
   "id": "unlike-minority",
   "metadata": {
    "id": "unlike-minority"
   },
   "outputs": [],
   "source": [
    "df =pd.DataFrame(np.random.rand(5, 3),index=['one', 'two', 'three', 'four', 'five'],\n",
    "                 columns=pd.Index(list(\"ABC\")))"
   ]
  },
  {
   "cell_type": "code",
   "execution_count": null,
   "id": "valuable-wayne",
   "metadata": {
    "id": "valuable-wayne",
    "outputId": "bef8d766-089f-4c72-c9f5-9089b74f52b6"
   },
   "outputs": [],
   "source": [
    "df.head()"
   ]
  },
  {
   "cell_type": "code",
   "execution_count": null,
   "id": "sweet-concord",
   "metadata": {
    "id": "sweet-concord",
    "outputId": "a8b4da4b-cb9f-4d25-a5b4-3fe8cacba03b"
   },
   "outputs": [],
   "source": [
    "df.plot.bar()"
   ]
  },
  {
   "cell_type": "code",
   "execution_count": null,
   "id": "intense-zimbabwe",
   "metadata": {
    "id": "intense-zimbabwe",
    "outputId": "397867f6-73be-4026-eaa9-7e8f8dfede3f"
   },
   "outputs": [],
   "source": [
    "df.plot.barh(stacked=True, alpha=1)"
   ]
  },
  {
   "cell_type": "code",
   "execution_count": null,
   "id": "covered-device",
   "metadata": {
    "id": "covered-device"
   },
   "outputs": [],
   "source": [
    "tips=sns.load_dataset('tips')"
   ]
  },
  {
   "cell_type": "code",
   "execution_count": null,
   "id": "civil-circular",
   "metadata": {
    "id": "civil-circular",
    "outputId": "6e7f7252-1043-4464-9125-e0272d41f4f7"
   },
   "outputs": [],
   "source": [
    "tips.head()"
   ]
  },
  {
   "cell_type": "code",
   "execution_count": null,
   "id": "separate-caribbean",
   "metadata": {
    "id": "separate-caribbean"
   },
   "outputs": [],
   "source": [
    "day_size=pd.crosstab(tips[\"day\"],tips[\"size\"])"
   ]
  },
  {
   "cell_type": "code",
   "execution_count": null,
   "id": "advance-candle",
   "metadata": {
    "id": "advance-candle",
    "outputId": "4f2a2e00-ed53-49dc-d224-7b69ea52c4f5"
   },
   "outputs": [],
   "source": [
    "day_size"
   ]
  },
  {
   "cell_type": "code",
   "execution_count": null,
   "id": "faced-heart",
   "metadata": {
    "id": "faced-heart",
    "outputId": "13772398-7566-4d39-b2a0-0f23f3ef61bf"
   },
   "outputs": [],
   "source": [
    "day_size.plot.bar()"
   ]
  },
  {
   "cell_type": "code",
   "execution_count": null,
   "id": "abstract-prophet",
   "metadata": {
    "id": "abstract-prophet"
   },
   "outputs": [],
   "source": [
    "tips['tips_perc'] = tips['tip'] / (tips['total_bill'] - tips['tip'])"
   ]
  },
  {
   "cell_type": "code",
   "execution_count": null,
   "id": "extended-difference",
   "metadata": {
    "id": "extended-difference",
    "outputId": "405c70ff-f0c9-4796-c9c6-1c93d0ae4903"
   },
   "outputs": [],
   "source": [
    "tips.head()"
   ]
  },
  {
   "cell_type": "code",
   "execution_count": null,
   "id": "f681414e-29cd-4ea4-8b60-cc681c6281b9",
   "metadata": {},
   "outputs": [],
   "source": [
    "plt.bar(tips['day'] , tips['tips_perc'] )"
   ]
  },
  {
   "cell_type": "code",
   "execution_count": null,
   "id": "durable-probability",
   "metadata": {
    "id": "durable-probability",
    "outputId": "c45cc267-f54d-45a2-ad5f-6336333befc1"
   },
   "outputs": [],
   "source": [
    "sns.barplot(x='day', y='tips_perc', data=tips)"
   ]
  },
  {
   "cell_type": "code",
   "execution_count": null,
   "id": "narrative-center",
   "metadata": {
    "id": "narrative-center",
    "outputId": "f6cac80f-f459-4217-c45a-fe8e1b5f8d96"
   },
   "outputs": [],
   "source": [
    "sns.barplot(x='day', y='tips_perc', hue='time', data=tips, orient='v')"
   ]
  },
  {
   "cell_type": "markdown",
   "id": "allied-doctor",
   "metadata": {
    "id": "allied-doctor"
   },
   "source": [
    "## Histograms and Density Plots"
   ]
  },
  {
   "cell_type": "code",
   "execution_count": null,
   "id": "eight-mouse",
   "metadata": {
    "id": "eight-mouse",
    "outputId": "1de623e4-3eff-4e2f-ca35-d905b27224b8"
   },
   "outputs": [],
   "source": [
    "tips['tips_perc'].plot.hist(bins=70)"
   ]
  },
  {
   "cell_type": "code",
   "execution_count": null,
   "id": "e386de7b-d006-48c5-9460-994205bba532",
   "metadata": {
    "id": "e386de7b-d006-48c5-9460-994205bba532"
   },
   "outputs": [],
   "source": [
    "iris = sns.load_dataset(\"iris\")"
   ]
  },
  {
   "cell_type": "code",
   "execution_count": null,
   "id": "a96ef585-e949-44a8-b5df-968f5acd4e66",
   "metadata": {
    "id": "a96ef585-e949-44a8-b5df-968f5acd4e66"
   },
   "outputs": [],
   "source": [
    "iris.head()"
   ]
  },
  {
   "cell_type": "code",
   "execution_count": null,
   "id": "b996ba1e-4693-4079-94c5-97379c5b8b0b",
   "metadata": {
    "id": "b996ba1e-4693-4079-94c5-97379c5b8b0b"
   },
   "outputs": [],
   "source": [
    "setosa=iris.loc[iris.species== \"setosa\"]\n",
    "virginica = iris.loc[iris.species == \"virginica\"]"
   ]
  },
  {
   "cell_type": "code",
   "execution_count": null,
   "id": "cd0dd07a-8f50-4870-8494-0e886cccbb96",
   "metadata": {
    "id": "cd0dd07a-8f50-4870-8494-0e886cccbb96"
   },
   "outputs": [],
   "source": [
    "setosa.sepal_length.plot.hist()"
   ]
  },
  {
   "cell_type": "code",
   "execution_count": null,
   "id": "sitting-amazon",
   "metadata": {
    "id": "sitting-amazon",
    "outputId": "75baf638-cd93-4975-852e-27eb1cb6f79e"
   },
   "outputs": [],
   "source": [
    "sns.histplot(tips['tips_perc'], kde=True, bins=50, color=\"r\")"
   ]
  },
  {
   "cell_type": "code",
   "execution_count": null,
   "id": "de4cc22b-c7fd-48ad-9ebb-3c6b1a7b94a2",
   "metadata": {},
   "outputs": [],
   "source": [
    "max(tips['tips_perc'].value_counts()"
   ]
  },
  {
   "cell_type": "code",
   "execution_count": null,
   "id": "26718873-9117-4ad6-9a5b-20fd292b3ac6",
   "metadata": {
    "id": "26718873-9117-4ad6-9a5b-20fd292b3ac6"
   },
   "outputs": [],
   "source": [
    "tips['tips_perc'].plot()"
   ]
  },
  {
   "cell_type": "code",
   "execution_count": null,
   "id": "4365fc5a-7a1a-4500-937b-a4bbaab2718b",
   "metadata": {
    "id": "4365fc5a-7a1a-4500-937b-a4bbaab2718b"
   },
   "outputs": [],
   "source": []
  },
  {
   "cell_type": "markdown",
   "id": "320300a0-2223-406f-b0c2-65da21877740",
   "metadata": {
    "id": "98052a97-95cf-4c9a-b3e0-f6488423b78b"
   },
   "source": [
    "## sns.kdeplot(\n",
    "    setosa.sepal_length, shade=True, color=\"r\")"
   ]
  },
  {
   "cell_type": "code",
   "execution_count": null,
   "id": "08149446-9920-459b-8a36-63a91d645caf",
   "metadata": {
    "id": "08149446-9920-459b-8a36-63a91d645caf"
   },
   "outputs": [],
   "source": []
  },
  {
   "cell_type": "code",
   "execution_count": null,
   "id": "5a37fa44-5b58-4cad-b2ad-47ced632f845",
   "metadata": {
    "id": "5a37fa44-5b58-4cad-b2ad-47ced632f845"
   },
   "outputs": [],
   "source": [
    "sns.histplot(iris.sepal_length, kde=True)"
   ]
  },
  {
   "cell_type": "code",
   "execution_count": null,
   "id": "50792c52-e804-47ca-b5f2-567f6a821335",
   "metadata": {
    "id": "50792c52-e804-47ca-b5f2-567f6a821335"
   },
   "outputs": [],
   "source": []
  },
  {
   "cell_type": "code",
   "execution_count": null,
   "id": "43326f2f-ec32-4caa-8d53-5563b953ccdf",
   "metadata": {
    "id": "43326f2f-ec32-4caa-8d53-5563b953ccdf"
   },
   "outputs": [],
   "source": [
    "sns.histplot(\n",
    "    iris.sepal_length, kde=True, color=\"r\")\n",
    "sns.histplot(\n",
    "    iris.sepal_width, kde=True,color=\"b\")"
   ]
  },
  {
   "cell_type": "code",
   "execution_count": null,
   "id": "8476760f-3711-45b9-bd98-bd539e6bee8c",
   "metadata": {
    "id": "8476760f-3711-45b9-bd98-bd539e6bee8c"
   },
   "outputs": [],
   "source": []
  },
  {
   "cell_type": "markdown",
   "id": "5d79f2d4-0ca4-4e80-99a3-ebf232cb24f3",
   "metadata": {
    "id": "5d79f2d4-0ca4-4e80-99a3-ebf232cb24f3"
   },
   "source": [
    "## Two-Dimensional Graphics"
   ]
  },
  {
   "cell_type": "code",
   "execution_count": null,
   "id": "dd6a011f-402f-4b78-bbf5-0dcef6d76d82",
   "metadata": {
    "id": "dd6a011f-402f-4b78-bbf5-0dcef6d76d82"
   },
   "outputs": [],
   "source": []
  },
  {
   "cell_type": "code",
   "execution_count": null,
   "id": "f83f0f46-2e5e-4444-9f4e-4a7ef7d7aa2a",
   "metadata": {
    "id": "f83f0f46-2e5e-4444-9f4e-4a7ef7d7aa2a"
   },
   "outputs": [],
   "source": [
    "sns.kdeplot(\n",
    "    data=iris, x=\"sepal_length\", y=\"sepal_width\")"
   ]
  },
  {
   "cell_type": "code",
   "execution_count": null,
   "id": "8881886b-7f8d-4c5b-afc5-a1da88e54848",
   "metadata": {
    "id": "8881886b-7f8d-4c5b-afc5-a1da88e54848"
   },
   "outputs": [],
   "source": []
  },
  {
   "cell_type": "code",
   "execution_count": null,
   "id": "b7ea1c00-f992-43ec-a54d-50426c6c5904",
   "metadata": {
    "id": "b7ea1c00-f992-43ec-a54d-50426c6c5904"
   },
   "outputs": [],
   "source": [
    "sns.kdeplot(\n",
    "    data=iris, x=\"sepal_length\",\n",
    "    y=\"sepal_width\", shade=True)"
   ]
  },
  {
   "cell_type": "code",
   "execution_count": null,
   "id": "7a514d69-6186-4d63-9489-87a3c7f67273",
   "metadata": {
    "id": "7a514d69-6186-4d63-9489-87a3c7f67273"
   },
   "outputs": [],
   "source": [
    "with sns.axes_style('white'):\n",
    "    sns.jointplot(\n",
    "        data= iris, x=\"sepal_length\",\n",
    "        y=\"sepal_width\", kind='kde')"
   ]
  },
  {
   "cell_type": "code",
   "execution_count": null,
   "id": "22fa223a-5144-494f-8803-a95c5f3c5588",
   "metadata": {
    "id": "22fa223a-5144-494f-8803-a95c5f3c5588"
   },
   "outputs": [],
   "source": []
  },
  {
   "cell_type": "code",
   "execution_count": null,
   "id": "79014415-139f-40e8-b17b-01076d5ed1e3",
   "metadata": {
    "id": "79014415-139f-40e8-b17b-01076d5ed1e3"
   },
   "outputs": [],
   "source": [
    "with sns.axes_style('white'):\n",
    "    sns.jointplot(\n",
    "        data= iris, x=\"sepal_length\",\n",
    "        y=\"sepal_width\", kind='hex')"
   ]
  },
  {
   "cell_type": "code",
   "execution_count": null,
   "id": "366ce79b-28f5-4d45-a7eb-1141f9b1c42a",
   "metadata": {
    "id": "366ce79b-28f5-4d45-a7eb-1141f9b1c42a"
   },
   "outputs": [],
   "source": []
  },
  {
   "cell_type": "markdown",
   "id": "06eb97d1-de4e-457a-98f6-74a25e014a32",
   "metadata": {
    "id": "06eb97d1-de4e-457a-98f6-74a25e014a32"
   },
   "source": [
    "## Bar Plots"
   ]
  },
  {
   "cell_type": "code",
   "execution_count": null,
   "id": "8bbe6ca3-81ef-490c-9078-9c89a3a494b4",
   "metadata": {
    "id": "8bbe6ca3-81ef-490c-9078-9c89a3a494b4"
   },
   "outputs": [],
   "source": [
    "with sns.axes_style('white'):\n",
    "\tg = sns.catplot(x=\"size\", data=tips,\n",
    "                    aspect=2,kind=\"count\", color='steelblue')\n",
    "\tg.set_xticklabels(step=5)"
   ]
  },
  {
   "cell_type": "markdown",
   "id": "charged-shannon",
   "metadata": {
    "id": "charged-shannon"
   },
   "source": [
    "## Scatter or Point Plots"
   ]
  },
  {
   "cell_type": "code",
   "execution_count": null,
   "id": "crude-poland",
   "metadata": {
    "id": "crude-poland",
    "outputId": "fd6147ce-5dd4-4983-9cdd-dd8afd6cef08"
   },
   "outputs": [],
   "source": [
    "sns.regplot(x='sepal_length', y='petal_length', data=iris)"
   ]
  },
  {
   "cell_type": "code",
   "execution_count": null,
   "id": "expired-adapter",
   "metadata": {
    "id": "expired-adapter",
    "outputId": "10f2ed34-d0d9-4455-b90e-15d0a948a16c"
   },
   "outputs": [],
   "source": [
    "sns.pairplot(iris)-"
   ]
  },
  {
   "cell_type": "code",
   "execution_count": null,
   "id": "directed-jones",
   "metadata": {
    "id": "directed-jones",
    "outputId": "3f675760-45ee-4ce3-f883-55793ff12cd7"
   },
   "outputs": [],
   "source": [
    "sns.pairplot(iris,hue=\"species\")"
   ]
  },
  {
   "cell_type": "markdown",
   "id": "irish-colorado",
   "metadata": {
    "id": "irish-colorado"
   },
   "source": [
    "## Facet Grids and Categorical Data"
   ]
  },
  {
   "cell_type": "code",
   "execution_count": null,
   "id": "neither-recording",
   "metadata": {
    "id": "neither-recording",
    "outputId": "e0452196-51a3-4a4c-87a7-c4ac0e81c84a"
   },
   "outputs": [],
   "source": [
    "tips.head()"
   ]
  },
  {
   "cell_type": "code",
   "execution_count": null,
   "id": "dried-framework",
   "metadata": {
    "id": "dried-framework",
    "outputId": "6459ae68-45e0-4e20-b9af-b98c42fce64a"
   },
   "outputs": [],
   "source": [
    "sns.catplot(x='day', y='tips_perc', hue='time', col='smoker', kind='bar', data=tips)"
   ]
  },
  {
   "cell_type": "code",
   "execution_count": null,
   "id": "361db1aa-c220-46e4-aa29-273798965268",
   "metadata": {},
   "outputs": [],
   "source": [
    "iris"
   ]
  },
  {
   "cell_type": "code",
   "execution_count": null,
   "id": "2f07c282-ebd5-4908-9237-c20005ef4e5b",
   "metadata": {},
   "outputs": [],
   "source": [
    "sns.catplot(x='sepal_length', y='sepal_width', hue='species', col='species', data=iris)"
   ]
  },
  {
   "cell_type": "code",
   "execution_count": null,
   "id": "universal-multiple",
   "metadata": {
    "id": "universal-multiple",
    "outputId": "805518f9-6f1d-4b02-ae10-fbffd31ff382"
   },
   "outputs": [],
   "source": [
    "sns.catplot(x='day', y='tips_perc', row='time',col='smoker',kind='bar', data=tips)"
   ]
  },
  {
   "cell_type": "code",
   "execution_count": null,
   "id": "automotive-forest",
   "metadata": {
    "id": "automotive-forest",
    "outputId": "7944682a-9967-442d-f8b7-38a0b0944055"
   },
   "outputs": [],
   "source": [
    "sns.catplot(x='day', y='tips_perc', row='time',col='smoker',kind='box', data=tips)"
   ]
  },
  {
   "cell_type": "markdown",
   "id": "bacterial-communist",
   "metadata": {
    "id": "bacterial-communist"
   },
   "source": [
    "iris"
   ]
  },
  {
   "cell_type": "code",
   "execution_count": null,
   "id": "dea7c4c6-8c02-4aa0-8054-3a543b9689f0",
   "metadata": {},
   "outputs": [],
   "source": [
    "iris.head()"
   ]
  },
  {
   "cell_type": "code",
   "execution_count": null,
   "id": "a6e9ba45-6376-49c7-848f-823956478849",
   "metadata": {},
   "outputs": [],
   "source": [
    "iris.tail()"
   ]
  },
  {
   "cell_type": "code",
   "execution_count": null,
   "id": "18a7885f-7a75-410f-9c1d-37fbfd7949d5",
   "metadata": {},
   "outputs": [],
   "source": [
    "iris.info()"
   ]
  },
  {
   "cell_type": "code",
   "execution_count": null,
   "id": "8da9eced-2f58-457a-bec5-637884fc8562",
   "metadata": {},
   "outputs": [],
   "source": [
    "iris.describe()"
   ]
  },
  {
   "cell_type": "code",
   "execution_count": null,
   "id": "164cf44f-10fd-4084-8640-1649ad25636c",
   "metadata": {},
   "outputs": [],
   "source": [
    "sns.catplot(x='sepal_length', y='sepal_width', row='species',col='species',kind='box', data=iris)"
   ]
  },
  {
   "cell_type": "code",
   "execution_count": null,
   "id": "acf8d23f-340d-4434-ad38-425b41a82b33",
   "metadata": {},
   "outputs": [],
   "source": [
    "plt.boxplot(iris.sepal_width)"
   ]
  },
  {
   "cell_type": "code",
   "execution_count": null,
   "id": "59197042-4619-46a8-9d8a-39d9068cfdf7",
   "metadata": {},
   "outputs": [],
   "source": [
    "iris.sepal_width.describe()"
   ]
  },
  {
   "cell_type": "code",
   "execution_count": null,
   "id": "42c9f918-3778-4454-a58e-07f80d0d9819",
   "metadata": {},
   "outputs": [],
   "source": [
    "iris.info()"
   ]
  },
  {
   "cell_type": "code",
   "execution_count": null,
   "id": "a6da42af-1308-43fe-8bcf-2aee2aa8c0da",
   "metadata": {},
   "outputs": [],
   "source": []
  }
 ],
 "metadata": {
  "colab": {
   "provenance": []
  },
  "kernelspec": {
   "display_name": "Python 3 (ipykernel)",
   "language": "python",
   "name": "python3"
  },
  "language_info": {
   "codemirror_mode": {
    "name": "ipython",
    "version": 3
   },
   "file_extension": ".py",
   "mimetype": "text/x-python",
   "name": "python",
   "nbconvert_exporter": "python",
   "pygments_lexer": "ipython3",
   "version": "3.10.7"
  }
 },
 "nbformat": 4,
 "nbformat_minor": 5
}
