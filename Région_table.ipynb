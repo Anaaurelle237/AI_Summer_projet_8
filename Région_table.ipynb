{
 "cells": [
  {
   "cell_type": "code",
   "execution_count": null,
   "id": "63d51ade-ee78-43b5-9135-435ca0af46be",
   "metadata": {},
   "outputs": [],
   "source": [
    "import pandas as pd\n",
    "import numpy as np\n",
    "import random\n",
    "from faker import Faker"
   ]
  },
  {
   "cell_type": "code",
   "execution_count": null,
   "id": "8742e68d-112f-48c0-adb9-2d57c5d21842",
   "metadata": {},
   "outputs": [],
   "source": [
    "#initialisation de faker \n",
    "fake = Faker()\n",
    "fake = Faker(\"fr_FR\")"
   ]
  },
  {
   "cell_type": "code",
   "execution_count": null,
   "id": "33ca9e96-0abd-49d9-9801-5bce5855ae5e",
   "metadata": {},
   "outputs": [],
   "source": [
    "#génération des données \n",
    "nb= 1000 # nombres de données à générer\n",
    "\n",
    "Data = { \n",
    "    \"Id_Region\":[fake.random_int(min=1 , max=10) for i in range(nb)],\n",
    "    \"Name_Region\":[fake.random_element([\"Adamaoua\",\"Centre\",\"Est\",\"Sud\",\"Littoral\",\"Nord\",\"Sud-Ouest\",\"Ouest\",\"Extreme_Nord\",\"Nord_Ouest\"]) for i in range(nb)],\n",
    "    \"Country\":[fake.country() for i in range(nb)],\n",
    "    }"
   ]
  },
  {
   "cell_type": "code",
   "execution_count": null,
   "id": "c9a56707-3e55-42b0-a07b-b66b9bcce70f",
   "metadata": {},
   "outputs": [],
   "source": [
    "#impression du DataFrame\n",
    "Df = pd.DataFrame(Data)\n",
    "Df     "
   ]
  }
 ],
 "metadata": {
  "kernelspec": {
   "display_name": "Python 3 (ipykernel)",
   "language": "python",
   "name": "python3"
  },
  "language_info": {
   "codemirror_mode": {
    "name": "ipython",
    "version": 3
   },
   "file_extension": ".py",
   "mimetype": "text/x-python",
   "name": "python",
   "nbconvert_exporter": "python",
   "pygments_lexer": "ipython3",
   "version": "3.12.4"
  }
 },
 "nbformat": 4,
 "nbformat_minor": 5
}
